{
 "cells": [
  {
   "attachments": {},
   "cell_type": "markdown",
   "metadata": {},
   "source": [
    "### Notebook to reformat the Human Lung Cell Atlas Healthy object prior label transfer with `scANVI`\n",
    "\n",
    "- **Developed by:** Carlos Talavera-López Ph.D\n",
    "- **Institute of Computational Biology - Computational Health Department - Helmholtz Munich**\n",
    "- v230511"
   ]
  },
  {
   "attachments": {},
   "cell_type": "markdown",
   "metadata": {},
   "source": [
    "### Import required modules"
   ]
  },
  {
   "cell_type": "code",
   "execution_count": 1,
   "metadata": {},
   "outputs": [],
   "source": [
    "import anndata\n",
    "import numpy as np\n",
    "import scanpy as sc\n",
    "import pandas as pd\n",
    "import matplotlib.pyplot as plt"
   ]
  },
  {
   "attachments": {},
   "cell_type": "markdown",
   "metadata": {},
   "source": [
    "### Set up working environment"
   ]
  },
  {
   "cell_type": "code",
   "execution_count": 2,
   "metadata": {},
   "outputs": [
    {
     "name": "stdout",
     "output_type": "stream",
     "text": [
      "-----\n",
      "anndata     0.8.0\n",
      "scanpy      1.9.2\n",
      "-----\n",
      "PIL                 9.4.0\n",
      "appnope             0.1.3\n",
      "asttokens           NA\n",
      "backcall            0.2.0\n",
      "cffi                1.15.1\n",
      "colorama            0.4.6\n",
      "comm                0.1.2\n",
      "cycler              0.10.0\n",
      "cython_runtime      NA\n",
      "dateutil            2.8.2\n",
      "debugpy             1.6.6\n",
      "decorator           5.1.1\n",
      "executing           1.2.0\n",
      "h5py                3.8.0\n",
      "igraph              0.10.4\n",
      "importlib_resources NA\n",
      "ipykernel           6.21.2\n",
      "jedi                0.18.2\n",
      "joblib              1.2.0\n",
      "kiwisolver          1.4.4\n",
      "leidenalg           0.9.1\n",
      "llvmlite            0.39.1\n",
      "louvain             0.8.0\n",
      "matplotlib          3.7.0\n",
      "mpl_toolkits        NA\n",
      "natsort             8.2.0\n",
      "numba               0.56.4\n",
      "numexpr             2.8.4\n",
      "numpy               1.23.5\n",
      "packaging           23.0\n",
      "pandas              1.5.3\n",
      "parso               0.8.3\n",
      "pexpect             4.8.0\n",
      "pickleshare         0.7.5\n",
      "pkg_resources       NA\n",
      "platformdirs        3.0.0\n",
      "prompt_toolkit      3.0.36\n",
      "psutil              5.9.4\n",
      "ptyprocess          0.7.0\n",
      "pure_eval           0.2.2\n",
      "pydev_ipython       NA\n",
      "pydevconsole        NA\n",
      "pydevd              2.9.5\n",
      "pydevd_file_utils   NA\n",
      "pydevd_plugins      NA\n",
      "pydevd_tracing      NA\n",
      "pygments            2.14.0\n",
      "pyparsing           3.0.9\n",
      "pytz                2022.7.1\n",
      "scipy               1.10.0\n",
      "session_info        1.0.0\n",
      "setuptools          67.3.3\n",
      "setuptools_scm      NA\n",
      "six                 1.16.0\n",
      "sklearn             1.2.1\n",
      "stack_data          0.6.2\n",
      "texttable           1.6.7\n",
      "threadpoolctl       3.1.0\n",
      "tornado             6.2\n",
      "traitlets           5.9.0\n",
      "typing_extensions   NA\n",
      "wcwidth             0.2.6\n",
      "zipp                NA\n",
      "zmq                 25.0.0\n",
      "zoneinfo            NA\n",
      "-----\n",
      "IPython             8.10.0\n",
      "jupyter_client      8.0.3\n",
      "jupyter_core        5.2.0\n",
      "-----\n",
      "Python 3.9.16 | packaged by conda-forge | (main, Feb  1 2023, 21:42:20) [Clang 14.0.6 ]\n",
      "macOS-13.3.1-x86_64-i386-64bit\n",
      "-----\n",
      "Session information updated at 2023-05-11 09:56\n"
     ]
    }
   ],
   "source": [
    "sc.settings.verbosity = 3\n",
    "sc.logging.print_versions()\n",
    "sc.settings.set_figure_params(dpi = 180, color_map = 'magma_r', dpi_save = 300, vector_friendly = True, format = 'svg')"
   ]
  },
  {
   "attachments": {},
   "cell_type": "markdown",
   "metadata": {},
   "source": [
    "### Read in Healthy data"
   ]
  },
  {
   "cell_type": "code",
   "execution_count": 3,
   "metadata": {},
   "outputs": [
    {
     "data": {
      "text/plain": [
       "AnnData object with n_obs × n_vars = 584944 × 28024\n",
       "    obs: 'suspension_type', 'donor_id', 'is_primary_data', 'assay_ontology_term_id', 'cell_type_ontology_term_id', 'development_stage_ontology_term_id', 'disease_ontology_term_id', 'self_reported_ethnicity_ontology_term_id', 'tissue_ontology_term_id', 'organism_ontology_term_id', 'sex_ontology_term_id', 'BMI', 'age_or_mean_of_age_range', 'age_range', 'anatomical_region_ccf_score', 'ann_coarse_for_GWAS_and_modeling', 'ann_finest_level', 'ann_level_1', 'ann_level_2', 'ann_level_3', 'ann_level_4', 'ann_level_5', 'cause_of_death', 'dataset', 'entropy_dataset_leiden_3', 'entropy_original_ann_level_1_leiden_3', 'entropy_original_ann_level_2_clean_leiden_3', 'entropy_original_ann_level_3_clean_leiden_3', 'entropy_subject_ID_leiden_3', 'fresh_or_frozen', 'leiden_1', 'leiden_2', 'leiden_3', 'leiden_4', 'leiden_5', 'log10_total_counts', 'lung_condition', 'mixed_ancestry', 'n_genes_detected', 'original_ann_highest_res', 'original_ann_level_1', 'original_ann_level_2', 'original_ann_level_3', 'original_ann_level_4', 'original_ann_level_5', 'original_ann_nonharmonized', 'reannotation_type', 'reference_genome', 'sample', 'scanvi_label', 'sequencing_platform', 'size_factors', 'smoking_status', 'study', 'subject_type', 'tissue_dissociation_protocol', 'tissue_level_2', 'tissue_level_3', 'tissue_sampling_method', 'cell_type', 'assay', 'disease', 'organism', 'sex', 'tissue', 'self_reported_ethnicity', 'development_stage'\n",
       "    var: 'feature_is_filtered', 'feature_name', 'feature_reference', 'feature_biotype'\n",
       "    uns: 'batch_condition', 'default_embedding', 'schema_version', 'title'\n",
       "    obsm: 'X_scanvi_emb', 'X_umap'\n",
       "    obsp: 'connectivities', 'distances'"
      ]
     },
     "execution_count": 3,
     "metadata": {},
     "output_type": "execute_result"
    }
   ],
   "source": [
    "hlca_healthy = sc.read_h5ad('../data/HLCA_Healthy_v1.1.h5ad')\n",
    "hlca_healthy"
   ]
  },
  {
   "cell_type": "code",
   "execution_count": 4,
   "metadata": {},
   "outputs": [
    {
     "data": {
      "text/plain": [
       "Index(['Basal resting', 'Suprabasal', 'Hillock-like', 'Deuterosomal',\n",
       "       'Multiciliated (nasal)', 'Multiciliated (non-nasal)',\n",
       "       'Club (non-nasal)', 'Club (nasal)', 'Goblet (nasal)',\n",
       "       'Goblet (bronchial)', 'Goblet (subsegmental)', 'AT0',\n",
       "       'pre-TB secretory', 'Ionocyte', 'Tuft', 'Neuroendocrine',\n",
       "       'SMG serous (nasal)', 'SMG serous (bronchial)', 'SMG mucous',\n",
       "       'SMG duct', 'AT1', 'AT2', 'AT2 proliferating', 'EC arterial',\n",
       "       'EC aerocyte capillary', 'EC general capillary', 'EC venous systemic',\n",
       "       'EC venous pulmonary', 'Lymphatic EC mature',\n",
       "       'Lymphatic EC proliferating', 'Lymphatic EC differentiating',\n",
       "       'Peribronchial fibroblasts', 'Adventitial fibroblasts',\n",
       "       'Alveolar fibroblasts', 'Pericytes', 'Subpleural fibroblasts',\n",
       "       'Myofibroblasts', 'Smooth muscle', 'Smooth muscle FAM83D+',\n",
       "       'SM activated stress response', 'Mesothelium',\n",
       "       'Hematopoietic stem cells', 'B cells', 'Plasma cells', 'CD4 T cells',\n",
       "       'CD8 T cells', 'T cells proliferating', 'NK cells', 'DC1', 'DC2',\n",
       "       'Migratory DCs', 'Plasmacytoid DCs', 'Alveolar macrophages',\n",
       "       'Alveolar Mph CCL3+', 'Alveolar Mph MT-positive',\n",
       "       'Alveolar Mph proliferating', 'Monocyte-derived Mph',\n",
       "       'Interstitial Mph perivascular', 'Classical monocytes',\n",
       "       'Non-classical monocytes', 'Mast cells'],\n",
       "      dtype='object')"
      ]
     },
     "execution_count": 4,
     "metadata": {},
     "output_type": "execute_result"
    }
   ],
   "source": [
    "hlca_healthy.obs['ann_finest_level'].cat.categories"
   ]
  },
  {
   "attachments": {},
   "cell_type": "markdown",
   "metadata": {},
   "source": [
    "### Check if data is raw"
   ]
  },
  {
   "cell_type": "code",
   "execution_count": 5,
   "metadata": {},
   "outputs": [],
   "source": [
    "def X_is_raw(adata):\n",
    "    return np.array_equal(adata.X.sum(axis=0).astype(int), adata.X.sum(axis = 0))"
   ]
  },
  {
   "cell_type": "code",
   "execution_count": 6,
   "metadata": {},
   "outputs": [
    {
     "data": {
      "text/plain": [
       "True"
      ]
     },
     "execution_count": 6,
     "metadata": {},
     "output_type": "execute_result"
    }
   ],
   "source": [
    "X_is_raw(hlca_healthy.raw)"
   ]
  },
  {
   "cell_type": "code",
   "execution_count": 8,
   "metadata": {},
   "outputs": [
    {
     "data": {
      "text/plain": [
       "AnnData object with n_obs × n_vars = 584944 × 28024\n",
       "    obs: 'suspension_type', 'donor_id', 'is_primary_data', 'assay_ontology_term_id', 'cell_type_ontology_term_id', 'development_stage_ontology_term_id', 'disease_ontology_term_id', 'self_reported_ethnicity_ontology_term_id', 'tissue_ontology_term_id', 'organism_ontology_term_id', 'sex_ontology_term_id', 'BMI', 'age_or_mean_of_age_range', 'age_range', 'anatomical_region_ccf_score', 'ann_coarse_for_GWAS_and_modeling', 'ann_finest_level', 'ann_level_1', 'ann_level_2', 'ann_level_3', 'ann_level_4', 'ann_level_5', 'cause_of_death', 'dataset', 'entropy_dataset_leiden_3', 'entropy_original_ann_level_1_leiden_3', 'entropy_original_ann_level_2_clean_leiden_3', 'entropy_original_ann_level_3_clean_leiden_3', 'entropy_subject_ID_leiden_3', 'fresh_or_frozen', 'leiden_1', 'leiden_2', 'leiden_3', 'leiden_4', 'leiden_5', 'log10_total_counts', 'lung_condition', 'mixed_ancestry', 'n_genes_detected', 'original_ann_highest_res', 'original_ann_level_1', 'original_ann_level_2', 'original_ann_level_3', 'original_ann_level_4', 'original_ann_level_5', 'original_ann_nonharmonized', 'reannotation_type', 'reference_genome', 'sample', 'scanvi_label', 'sequencing_platform', 'size_factors', 'smoking_status', 'study', 'subject_type', 'tissue_dissociation_protocol', 'tissue_level_2', 'tissue_level_3', 'tissue_sampling_method', 'cell_type', 'assay', 'disease', 'organism', 'sex', 'tissue', 'self_reported_ethnicity', 'development_stage', 'seed_labels', 'donor'\n",
       "    var: 'feature_is_filtered', 'feature_name', 'feature_reference', 'feature_biotype'"
      ]
     },
     "execution_count": 8,
     "metadata": {},
     "output_type": "execute_result"
    }
   ],
   "source": [
    "hlca_healthy_raw = anndata.AnnData(X = hlca_healthy.raw.X, var = hlca_healthy.var, obs = hlca_healthy.obs)\n",
    "hlca_healthy_raw.obs['seed_labels'] = hlca_healthy_raw.obs['ann_finest_level'].copy()\n",
    "hlca_healthy_raw.obs['donor'] = hlca_healthy_raw.obs['donor_id'].copy()\n",
    "hlca_healthy_raw"
   ]
  },
  {
   "cell_type": "code",
   "execution_count": 11,
   "metadata": {},
   "outputs": [
    {
     "data": {
      "text/plain": [
       "Index(['Basal resting', 'Suprabasal', 'Hillock-like', 'Deuterosomal',\n",
       "       'Multiciliated (nasal)', 'Multiciliated (non-nasal)',\n",
       "       'Club (non-nasal)', 'Club (nasal)', 'Goblet (nasal)',\n",
       "       'Goblet (bronchial)', 'Goblet (subsegmental)', 'AT0',\n",
       "       'pre-TB secretory', 'Ionocyte', 'Tuft', 'Neuroendocrine',\n",
       "       'SMG serous (nasal)', 'SMG serous (bronchial)', 'SMG mucous',\n",
       "       'SMG duct', 'AT1', 'AT2', 'AT2 proliferating', 'EC arterial',\n",
       "       'EC aerocyte capillary', 'EC general capillary', 'EC venous systemic',\n",
       "       'EC venous pulmonary', 'Lymphatic EC mature',\n",
       "       'Lymphatic EC proliferating', 'Lymphatic EC differentiating',\n",
       "       'Peribronchial fibroblasts', 'Adventitial fibroblasts',\n",
       "       'Alveolar fibroblasts', 'Pericytes', 'Subpleural fibroblasts',\n",
       "       'Myofibroblasts', 'Smooth muscle', 'Smooth muscle FAM83D+',\n",
       "       'SM activated stress response', 'Mesothelium',\n",
       "       'Hematopoietic stem cells', 'B cells', 'Plasma cells', 'CD4 T cells',\n",
       "       'CD8 T cells', 'T cells proliferating', 'NK cells', 'DC1', 'DC2',\n",
       "       'Migratory DCs', 'Plasmacytoid DCs', 'Alveolar macrophages',\n",
       "       'Alveolar Mph CCL3+', 'Alveolar Mph MT-positive',\n",
       "       'Alveolar Mph proliferating', 'Monocyte-derived Mph',\n",
       "       'Interstitial Mph perivascular', 'Classical monocytes',\n",
       "       'Non-classical monocytes', 'Mast cells'],\n",
       "      dtype='object')"
      ]
     },
     "execution_count": 11,
     "metadata": {},
     "output_type": "execute_result"
    }
   ],
   "source": [
    "hlca_healthy_raw.obs['seed_labels'].cat.categories"
   ]
  },
  {
   "attachments": {},
   "cell_type": "markdown",
   "metadata": {},
   "source": [
    "### Subset Epithelial/Stromal cells"
   ]
  },
  {
   "cell_type": "code",
   "execution_count": 12,
   "metadata": {},
   "outputs": [
    {
     "data": {
      "text/plain": [
       "View of AnnData object with n_obs × n_vars = 278311 × 28024\n",
       "    obs: 'suspension_type', 'donor_id', 'is_primary_data', 'assay_ontology_term_id', 'cell_type_ontology_term_id', 'development_stage_ontology_term_id', 'disease_ontology_term_id', 'self_reported_ethnicity_ontology_term_id', 'tissue_ontology_term_id', 'organism_ontology_term_id', 'sex_ontology_term_id', 'BMI', 'age_or_mean_of_age_range', 'age_range', 'anatomical_region_ccf_score', 'ann_coarse_for_GWAS_and_modeling', 'ann_finest_level', 'ann_level_1', 'ann_level_2', 'ann_level_3', 'ann_level_4', 'ann_level_5', 'cause_of_death', 'dataset', 'entropy_dataset_leiden_3', 'entropy_original_ann_level_1_leiden_3', 'entropy_original_ann_level_2_clean_leiden_3', 'entropy_original_ann_level_3_clean_leiden_3', 'entropy_subject_ID_leiden_3', 'fresh_or_frozen', 'leiden_1', 'leiden_2', 'leiden_3', 'leiden_4', 'leiden_5', 'log10_total_counts', 'lung_condition', 'mixed_ancestry', 'n_genes_detected', 'original_ann_highest_res', 'original_ann_level_1', 'original_ann_level_2', 'original_ann_level_3', 'original_ann_level_4', 'original_ann_level_5', 'original_ann_nonharmonized', 'reannotation_type', 'reference_genome', 'sample', 'scanvi_label', 'sequencing_platform', 'size_factors', 'smoking_status', 'study', 'subject_type', 'tissue_dissociation_protocol', 'tissue_level_2', 'tissue_level_3', 'tissue_sampling_method', 'cell_type', 'assay', 'disease', 'organism', 'sex', 'tissue', 'self_reported_ethnicity', 'development_stage', 'seed_labels', 'donor'\n",
       "    var: 'feature_is_filtered', 'feature_name', 'feature_reference', 'feature_biotype'"
      ]
     },
     "execution_count": 12,
     "metadata": {},
     "output_type": "execute_result"
    }
   ],
   "source": [
    "hlca_epithelial_raw = hlca_healthy_raw[hlca_healthy_raw.obs['seed_labels'].isin(['Basal resting', 'Suprabasal', 'Hillock-like', 'Deuterosomal',\n",
    "       'Multiciliated (nasal)', 'Multiciliated (non-nasal)',\n",
    "       'Club (non-nasal)', 'Club (nasal)', 'Goblet (nasal)',\n",
    "       'Goblet (bronchial)', 'Goblet (subsegmental)', 'AT0',\n",
    "       'pre-TB secretory', 'Ionocyte', 'Tuft', 'Neuroendocrine', \n",
    "       'AT1', 'AT2', 'AT2 proliferating', 'Myofibroblasts', 'Mesothelium'])]\n",
    "hlca_epithelial_raw"
   ]
  },
  {
   "attachments": {},
   "cell_type": "markdown",
   "metadata": {},
   "source": [
    "- Remove cells with 'None' annotation"
   ]
  },
  {
   "cell_type": "code",
   "execution_count": 13,
   "metadata": {},
   "outputs": [
    {
     "name": "stdout",
     "output_type": "stream",
     "text": [
      "filtered out 405 genes that are detected in less than 3 cells\n"
     ]
    },
    {
     "name": "stderr",
     "output_type": "stream",
     "text": [
      "/Users/cartalop/mambaforge/envs/scanpy/lib/python3.9/site-packages/scanpy/preprocessing/_simple.py:251: ImplicitModificationWarning: Trying to modify attribute `.var` of view, initializing view as actual.\n",
      "  adata.var['n_cells'] = number\n"
     ]
    },
    {
     "data": {
      "text/plain": [
       "AT2                          61429\n",
       "Suprabasal                   41158\n",
       "Basal resting                38955\n",
       "Goblet (nasal)               35833\n",
       "Multiciliated (non-nasal)    35225\n",
       "Club (nasal)                 26068\n",
       "Club (non-nasal)              9955\n",
       "AT1                           7937\n",
       "Multiciliated (nasal)         4869\n",
       "Hillock-like                  4600\n",
       "pre-TB secretory              4393\n",
       "Goblet (bronchial)            1670\n",
       "AT0                           1440\n",
       "Deuterosomal                  1004\n",
       "AT2 proliferating              976\n",
       "Goblet (subsegmental)          968\n",
       "Myofibroblasts                 716\n",
       "Ionocyte                       561\n",
       "Mesothelium                    230\n",
       "Tuft                           165\n",
       "Neuroendocrine                 159\n",
       "Name: seed_labels, dtype: int64"
      ]
     },
     "execution_count": 13,
     "metadata": {},
     "output_type": "execute_result"
    }
   ],
   "source": [
    "hlca_epistr_clean = hlca_epithelial_raw[~hlca_epithelial_raw.obs['seed_labels'].isin(['None'])]\n",
    "\n",
    "sc.pp.filter_genes(hlca_epistr_clean, min_cells = 3)\n",
    "\n",
    "hlca_epistr_clean.obs['seed_labels'].value_counts()"
   ]
  },
  {
   "cell_type": "code",
   "execution_count": 14,
   "metadata": {},
   "outputs": [
    {
     "data": {
      "text/plain": [
       "Index(['Basal resting', 'Suprabasal', 'Hillock-like', 'Deuterosomal',\n",
       "       'Multiciliated (nasal)', 'Multiciliated (non-nasal)',\n",
       "       'Club (non-nasal)', 'Club (nasal)', 'Goblet (nasal)',\n",
       "       'Goblet (bronchial)', 'Goblet (subsegmental)', 'AT0',\n",
       "       'pre-TB secretory', 'Ionocyte', 'Tuft', 'Neuroendocrine', 'AT1', 'AT2',\n",
       "       'AT2 proliferating', 'Myofibroblasts', 'Mesothelium'],\n",
       "      dtype='object')"
      ]
     },
     "execution_count": 14,
     "metadata": {},
     "output_type": "execute_result"
    }
   ],
   "source": [
    "hlca_epistr_clean.obs['cell_states'] = hlca_epistr_clean.obs['seed_labels'].copy()\n",
    "hlca_epistr_clean.obs['cell_states'].cat.categories"
   ]
  },
  {
   "attachments": {},
   "cell_type": "markdown",
   "metadata": {},
   "source": [
    "### Clean unused `adata.obs`"
   ]
  },
  {
   "cell_type": "code",
   "execution_count": 15,
   "metadata": {},
   "outputs": [
    {
     "data": {
      "text/plain": [
       "AnnData object with n_obs × n_vars = 278311 × 27619\n",
       "    obs: 'suspension_type', 'donor_id', 'is_primary_data', 'assay_ontology_term_id', 'cell_type_ontology_term_id', 'development_stage_ontology_term_id', 'disease_ontology_term_id', 'self_reported_ethnicity_ontology_term_id', 'tissue_ontology_term_id', 'organism_ontology_term_id', 'sex_ontology_term_id', 'BMI', 'age_or_mean_of_age_range', 'age_range', 'anatomical_region_ccf_score', 'ann_coarse_for_GWAS_and_modeling', 'ann_finest_level', 'ann_level_1', 'ann_level_2', 'ann_level_3', 'ann_level_4', 'ann_level_5', 'cause_of_death', 'dataset', 'entropy_dataset_leiden_3', 'entropy_original_ann_level_1_leiden_3', 'entropy_original_ann_level_2_clean_leiden_3', 'entropy_original_ann_level_3_clean_leiden_3', 'entropy_subject_ID_leiden_3', 'fresh_or_frozen', 'leiden_1', 'leiden_2', 'leiden_3', 'leiden_4', 'leiden_5', 'log10_total_counts', 'lung_condition', 'mixed_ancestry', 'n_genes_detected', 'original_ann_highest_res', 'original_ann_level_1', 'original_ann_level_2', 'original_ann_level_3', 'original_ann_level_4', 'original_ann_level_5', 'original_ann_nonharmonized', 'reannotation_type', 'reference_genome', 'sample', 'scanvi_label', 'sequencing_platform', 'size_factors', 'smoking_status', 'study', 'subject_type', 'tissue_dissociation_protocol', 'tissue_level_2', 'tissue_level_3', 'tissue_sampling_method', 'cell_type', 'assay', 'disease', 'organism', 'sex', 'tissue', 'self_reported_ethnicity', 'development_stage', 'seed_labels', 'donor', 'cell_states'\n",
       "    var: 'feature_is_filtered', 'feature_name', 'feature_reference', 'feature_biotype', 'n_cells'"
      ]
     },
     "execution_count": 15,
     "metadata": {},
     "output_type": "execute_result"
    }
   ],
   "source": [
    "hlca_epistr_clean"
   ]
  },
  {
   "cell_type": "code",
   "execution_count": 19,
   "metadata": {},
   "outputs": [
    {
     "data": {
      "text/plain": [
       "AnnData object with n_obs × n_vars = 278311 × 27619\n",
       "    obs: 'ann_finest_level', 'sample', 'disease', 'organism', 'sex', 'tissue', 'seed_labels', 'donor', 'cell_states'\n",
       "    var: 'feature_is_filtered', 'feature_name', 'feature_reference', 'feature_biotype', 'n_cells'"
      ]
     },
     "execution_count": 19,
     "metadata": {},
     "output_type": "execute_result"
    }
   ],
   "source": [
    "hlca_epistr_clean.obs = hlca_epistr_clean.obs[['ann_finest_level', 'sample', 'disease', 'organism', 'sex', 'tissue', 'seed_labels', 'donor', 'cell_states']]\n",
    "hlca_epistr_clean"
   ]
  },
  {
   "cell_type": "code",
   "execution_count": 20,
   "metadata": {},
   "outputs": [
    {
     "data": {
      "text/plain": [
       "AnnData object with n_obs × n_vars = 278311 × 27619\n",
       "    obs: 'ann_finest_level', 'sample', 'disease', 'organism', 'sex', 'tissue', 'seed_labels', 'donor', 'cell_states'\n",
       "    var: 'feature_name', 'feature_reference', 'feature_biotype'"
      ]
     },
     "execution_count": 20,
     "metadata": {},
     "output_type": "execute_result"
    }
   ],
   "source": [
    "hlca_epistr_clean.var = hlca_epistr_clean.var[['feature_name', 'feature_reference', 'feature_biotype']]\n",
    "hlca_epistr_clean"
   ]
  },
  {
   "attachments": {},
   "cell_type": "markdown",
   "metadata": {},
   "source": [
    "### Export object"
   ]
  },
  {
   "cell_type": "code",
   "execution_count": 22,
   "metadata": {},
   "outputs": [
    {
     "data": {
      "text/plain": [
       "True"
      ]
     },
     "execution_count": 22,
     "metadata": {},
     "output_type": "execute_result"
    }
   ],
   "source": [
    "X_is_raw(hlca_epistr_clean)"
   ]
  },
  {
   "cell_type": "code",
   "execution_count": 23,
   "metadata": {},
   "outputs": [],
   "source": [
    "hlca_epistr_clean.write('../data/HLCA_Healthy_Epithelial_v1.1.h5ad')"
   ]
  },
  {
   "cell_type": "code",
   "execution_count": null,
   "metadata": {},
   "outputs": [],
   "source": []
  }
 ],
 "metadata": {
  "kernelspec": {
   "display_name": "Python 3.8.14 ('scvi-tools')",
   "language": "python",
   "name": "python3"
  },
  "language_info": {
   "codemirror_mode": {
    "name": "ipython",
    "version": 3
   },
   "file_extension": ".py",
   "mimetype": "text/x-python",
   "name": "python",
   "nbconvert_exporter": "python",
   "pygments_lexer": "ipython3",
   "version": "3.9.16"
  },
  "orig_nbformat": 4,
  "vscode": {
   "interpreter": {
    "hash": "be6e4b2475555bb52a1f9704f3384c4fd38c8454adf16dc700aeb2c29c9568d8"
   }
  }
 },
 "nbformat": 4,
 "nbformat_minor": 2
}
