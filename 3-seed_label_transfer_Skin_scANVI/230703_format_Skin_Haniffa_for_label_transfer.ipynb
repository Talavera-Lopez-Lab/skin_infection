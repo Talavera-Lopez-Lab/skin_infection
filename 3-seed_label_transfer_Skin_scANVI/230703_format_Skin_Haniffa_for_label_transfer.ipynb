{
 "cells": [
  {
   "attachments": {},
   "cell_type": "markdown",
   "metadata": {},
   "source": [
    "### Notebook to reformat the healthy human skin data from [Reynolds 2021](10.1126/science.aba6500) prior label transfer with `scANVI`\n",
    "\n",
    "- **Developed by:** Carlos Talavera-López Ph.D\n",
    "- **Würzburg Institute for Systems Immunology & Julius-Maximilian-Universität Würzburg**\n",
    "- v230704"
   ]
  },
  {
   "attachments": {},
   "cell_type": "markdown",
   "metadata": {},
   "source": [
    "### Import required modules"
   ]
  },
  {
   "cell_type": "code",
   "execution_count": 1,
   "metadata": {},
   "outputs": [],
   "source": [
    "import anndata\n",
    "import numpy as np\n",
    "import scanpy as sc\n",
    "import pandas as pd\n",
    "import matplotlib.pyplot as plt"
   ]
  },
  {
   "attachments": {},
   "cell_type": "markdown",
   "metadata": {},
   "source": [
    "### Set up working environment"
   ]
  },
  {
   "cell_type": "code",
   "execution_count": 2,
   "metadata": {},
   "outputs": [
    {
     "name": "stdout",
     "output_type": "stream",
     "text": [
      "-----\n",
      "anndata     0.8.0\n",
      "scanpy      1.9.3\n",
      "-----\n",
      "PIL                 9.4.0\n",
      "appnope             0.1.3\n",
      "asttokens           NA\n",
      "backcall            0.2.0\n",
      "beta_ufunc          NA\n",
      "binom_ufunc         NA\n",
      "cffi                1.15.1\n",
      "colorama            0.4.6\n",
      "comm                0.1.2\n",
      "cycler              0.10.0\n",
      "cython_runtime      NA\n",
      "dateutil            2.8.2\n",
      "debugpy             1.6.6\n",
      "decorator           5.1.1\n",
      "executing           1.2.0\n",
      "h5py                3.8.0\n",
      "hypergeom_ufunc     NA\n",
      "igraph              0.10.4\n",
      "importlib_resources NA\n",
      "invgauss_ufunc      NA\n",
      "ipykernel           6.21.2\n",
      "jedi                0.18.2\n",
      "joblib              1.2.0\n",
      "kiwisolver          1.4.4\n",
      "leidenalg           0.9.1\n",
      "llvmlite            0.39.1\n",
      "louvain             0.8.0\n",
      "matplotlib          3.7.0\n",
      "mpl_toolkits        NA\n",
      "natsort             8.3.1\n",
      "nbinom_ufunc        NA\n",
      "ncf_ufunc           NA\n",
      "nct_ufunc           NA\n",
      "ncx2_ufunc          NA\n",
      "numba               0.56.4\n",
      "numexpr             2.8.4\n",
      "numpy               1.23.5\n",
      "packaging           23.0\n",
      "pandas              1.5.3\n",
      "parso               0.8.3\n",
      "pexpect             4.8.0\n",
      "pickleshare         0.7.5\n",
      "pkg_resources       NA\n",
      "platformdirs        3.1.0\n",
      "prompt_toolkit      3.0.38\n",
      "psutil              5.9.4\n",
      "ptyprocess          0.7.0\n",
      "pure_eval           0.2.2\n",
      "pydev_ipython       NA\n",
      "pydevconsole        NA\n",
      "pydevd              2.9.5\n",
      "pydevd_file_utils   NA\n",
      "pydevd_plugins      NA\n",
      "pydevd_tracing      NA\n",
      "pygments            2.14.0\n",
      "pyparsing           3.0.9\n",
      "pytz                2022.7.1\n",
      "scipy               1.10.1\n",
      "session_info        1.0.0\n",
      "setuptools          67.5.0\n",
      "setuptools_scm      NA\n",
      "six                 1.16.0\n",
      "skewnorm_ufunc      NA\n",
      "sklearn             1.2.1\n",
      "sphinxcontrib       NA\n",
      "stack_data          0.6.2\n",
      "texttable           1.6.7\n",
      "threadpoolctl       3.1.0\n",
      "tornado             6.2\n",
      "traitlets           5.9.0\n",
      "typing_extensions   NA\n",
      "wcwidth             0.2.6\n",
      "zipp                NA\n",
      "zmq                 25.0.0\n",
      "zoneinfo            NA\n",
      "-----\n",
      "IPython             8.11.0\n",
      "jupyter_client      8.0.3\n",
      "jupyter_core        5.2.0\n",
      "-----\n",
      "Python 3.9.16 | packaged by conda-forge | (main, Feb  1 2023, 21:38:11) [Clang 14.0.6 ]\n",
      "macOS-12.5.1-arm64-arm-64bit\n",
      "-----\n",
      "Session information updated at 2023-07-04 10:25\n"
     ]
    }
   ],
   "source": [
    "sc.settings.verbosity = 3\n",
    "sc.logging.print_versions()\n",
    "sc.settings.set_figure_params(dpi = 180, color_map = 'magma_r', dpi_save = 300, vector_friendly = True, format = 'svg')"
   ]
  },
  {
   "attachments": {},
   "cell_type": "markdown",
   "metadata": {},
   "source": [
    "### Read in Healthy data"
   ]
  },
  {
   "cell_type": "code",
   "execution_count": 3,
   "metadata": {},
   "outputs": [
    {
     "data": {
      "text/plain": [
       "AnnData object with n_obs × n_vars = 195739 × 2219\n",
       "    obs: 'sample_id', 'Status', 'Site', 'Tissue', 'Location', 'donor_id', 'Sex', 'full_clustering'\n",
       "    var: 'gene_ids-SKN8090524', 'feature_types-SKN8090524', 'gene_ids-SKN8090525', 'feature_types-SKN8090525', 'gene_ids-SKN8090526', 'feature_types-SKN8090526', 'gene_ids-SKN8090527', 'feature_types-SKN8090527', 'gene_ids-SKN8090528', 'feature_types-SKN8090528', 'gene_ids-SKN8090529', 'feature_types-SKN8090529', 'gene_ids-SKN8090530', 'feature_types-SKN8090530', 'gene_ids-SKN8090531', 'feature_types-SKN8090531', 'gene_ids-SKN8090536', 'feature_types-SKN8090536', 'gene_ids-SKN8090537', 'feature_types-SKN8090537', 'gene_ids-SKN8090538', 'feature_types-SKN8090538', 'gene_ids-SKN8090539', 'feature_types-SKN8090539', 'gene_ids-SKN8090540', 'feature_types-SKN8090540', 'gene_ids-SKN8090541', 'feature_types-SKN8090541', 'gene_ids-SKN8090542', 'feature_types-SKN8090542', 'gene_ids-SKN8090543', 'feature_types-SKN8090543', 'gene_ids-SKN8090548', 'feature_types-SKN8090548', 'gene_ids-SKN8090549', 'feature_types-SKN8090549', 'gene_ids-SKN8090550', 'feature_types-SKN8090550', 'gene_ids-SKN8090551', 'feature_types-SKN8090551', 'gene_ids-SKN8090552', 'feature_types-SKN8090552', 'gene_ids-SKN8090553', 'feature_types-SKN8090553', 'gene_ids-SKN8090554', 'feature_types-SKN8090554', 'gene_ids-SKN8090555', 'feature_types-SKN8090555', 'gene_ids-SKN8090560', 'feature_types-SKN8090560', 'gene_ids-SKN8090561', 'feature_types-SKN8090561', 'gene_ids-SKN8090562', 'feature_types-SKN8090562', 'gene_ids-SKN8090563', 'feature_types-SKN8090563', 'gene_ids-SKN8090564', 'feature_types-SKN8090564', 'gene_ids-SKN8090565', 'feature_types-SKN8090565', 'gene_ids-SKN8090566', 'feature_types-SKN8090566', 'gene_ids-SKN8090567', 'feature_types-SKN8090567', 'gene_ids-SKN8090576', 'feature_types-SKN8090576', 'gene_ids-SKN8090577', 'feature_types-SKN8090577', 'gene_ids-SKN8090578', 'feature_types-SKN8090578', 'gene_ids-SKN8090579', 'feature_types-SKN8090579', 'gene_ids-SKN8090580', 'feature_types-SKN8090580', 'gene_ids-SKN8090581', 'feature_types-SKN8090581', 'gene_ids-SKN8090582', 'feature_types-SKN8090582', 'gene_ids-SKN8090583', 'feature_types-SKN8090583', 'gene_ids-SKN8090588', 'feature_types-SKN8090588', 'gene_ids-SKN8090589', 'feature_types-SKN8090589', 'gene_ids-SKN8090590', 'feature_types-SKN8090590', 'gene_ids-SKN8090591', 'feature_types-SKN8090591', 'gene_ids-SKN8090592', 'feature_types-SKN8090592', 'gene_ids-SKN8090593', 'feature_types-SKN8090593', 'gene_ids-SKN8090594', 'feature_types-SKN8090594', 'gene_ids-SKN8090595', 'feature_types-SKN8090595', 'gene_ids-SKN8090600', 'feature_types-SKN8090600', 'gene_ids-SKN8090601', 'feature_types-SKN8090601', 'gene_ids-SKN8090602', 'feature_types-SKN8090602', 'gene_ids-SKN8090603', 'feature_types-SKN8090603', 'gene_ids-SKN8090604', 'feature_types-SKN8090604', 'gene_ids-SKN8090605', 'feature_types-SKN8090605', 'gene_ids-SKN8090606', 'feature_types-SKN8090606', 'gene_ids-SKN8090607', 'feature_types-SKN8090607', 'gene_ids-SKN8104894', 'feature_types-SKN8104894', 'gene_ids-SKN8104895', 'feature_types-SKN8104895', 'gene_ids-SKN8104896', 'feature_types-SKN8104896', 'gene_ids-SKN8104897', 'feature_types-SKN8104897', 'gene_ids-SKN8104899', 'feature_types-SKN8104899', 'gene_ids-SKN8104900', 'feature_types-SKN8104900', 'gene_ids-SKN8104901', 'feature_types-SKN8104901', 'gene_ids-SKN8104902', 'feature_types-SKN8104902', 'gene_ids-SKN8105192', 'feature_types-SKN8105192', 'gene_ids-SKN8105193', 'feature_types-SKN8105193', 'gene_ids-SKN8105194', 'feature_types-SKN8105194', 'gene_ids-SKN8105195', 'feature_types-SKN8105195', 'gene_ids-SKN8105197', 'feature_types-SKN8105197', 'gene_ids-SKN8105198', 'feature_types-SKN8105198', 'gene_ids-SKN8105199', 'feature_types-SKN8105199', 'gene_ids-SKN8105200', 'feature_types-SKN8105200', 'gene_ids-4820STDY7388991', 'feature_types-4820STDY7388991', 'gene_ids-4820STDY7388992', 'feature_types-4820STDY7388992', 'gene_ids-4820STDY7388993', 'feature_types-4820STDY7388993', 'gene_ids-4820STDY7388994', 'feature_types-4820STDY7388994', 'gene_ids-4820STDY7388995', 'feature_types-4820STDY7388995', 'gene_ids-4820STDY7388996', 'feature_types-4820STDY7388996', 'gene_ids-4820STDY7388997', 'feature_types-4820STDY7388997', 'gene_ids-4820STDY7388998', 'feature_types-4820STDY7388998', 'gene_ids-4820STDY7388999', 'feature_types-4820STDY7388999', 'gene_ids-4820STDY7389000', 'feature_types-4820STDY7389000', 'gene_ids-4820STDY7389001', 'feature_types-4820STDY7389001', 'gene_ids-4820STDY7389002', 'feature_types-4820STDY7389002', 'gene_ids-4820STDY7389003', 'feature_types-4820STDY7389003', 'gene_ids-4820STDY7389004', 'feature_types-4820STDY7389004', 'gene_ids-4820STDY7389005', 'feature_types-4820STDY7389005', 'gene_ids-4820STDY7389006', 'feature_types-4820STDY7389006', 'gene_ids-4820STDY7389007', 'feature_types-4820STDY7389007', 'gene_ids-4820STDY7389008', 'feature_types-4820STDY7389008', 'gene_ids-4820STDY7389009', 'feature_types-4820STDY7389009', 'gene_ids-4820STDY7389010', 'feature_types-4820STDY7389010', 'gene_ids-4820STDY7389011', 'feature_types-4820STDY7389011', 'gene_ids-4820STDY7389012', 'feature_types-4820STDY7389012', 'gene_ids-4820STDY7389013', 'feature_types-4820STDY7389013', 'gene_ids-4820STDY7389014', 'feature_types-4820STDY7389014', 'n_cells', 'highly_variable', 'means', 'dispersions', 'dispersions_norm'\n",
       "    uns: 'Status_colors', 'anno_colors', 'dendrogram_leiden', 'full_clustering_colors', 'leiden', 'leiden_colors', 'neighbors', 'pca', 'rank_genes_groups'\n",
       "    obsm: 'X_pca', 'X_umap'\n",
       "    varm: 'PCs'\n",
       "    obsp: 'connectivities', 'distances'"
      ]
     },
     "execution_count": 3,
     "metadata": {},
     "output_type": "execute_result"
    }
   ],
   "source": [
    "reynolds_skin_raw = sc.read_h5ad('../data/skin_healthy_adult.h5ad')\n",
    "reynolds_skin_raw"
   ]
  },
  {
   "cell_type": "code",
   "execution_count": 5,
   "metadata": {},
   "outputs": [
    {
     "data": {
      "text/plain": [
       "AnnData object with n_obs × n_vars = 195739 × 28728\n",
       "    obs: 'sample_id', 'Status', 'Site', 'Tissue', 'Location', 'donor_id', 'Sex', 'full_clustering'\n",
       "    var: 'gene_ids-SKN8090524', 'feature_types-SKN8090524', 'gene_ids-SKN8090525', 'feature_types-SKN8090525', 'gene_ids-SKN8090526', 'feature_types-SKN8090526', 'gene_ids-SKN8090527', 'feature_types-SKN8090527', 'gene_ids-SKN8090528', 'feature_types-SKN8090528', 'gene_ids-SKN8090529', 'feature_types-SKN8090529', 'gene_ids-SKN8090530', 'feature_types-SKN8090530', 'gene_ids-SKN8090531', 'feature_types-SKN8090531', 'gene_ids-SKN8090536', 'feature_types-SKN8090536', 'gene_ids-SKN8090537', 'feature_types-SKN8090537', 'gene_ids-SKN8090538', 'feature_types-SKN8090538', 'gene_ids-SKN8090539', 'feature_types-SKN8090539', 'gene_ids-SKN8090540', 'feature_types-SKN8090540', 'gene_ids-SKN8090541', 'feature_types-SKN8090541', 'gene_ids-SKN8090542', 'feature_types-SKN8090542', 'gene_ids-SKN8090543', 'feature_types-SKN8090543', 'gene_ids-SKN8090548', 'feature_types-SKN8090548', 'gene_ids-SKN8090549', 'feature_types-SKN8090549', 'gene_ids-SKN8090550', 'feature_types-SKN8090550', 'gene_ids-SKN8090551', 'feature_types-SKN8090551', 'gene_ids-SKN8090552', 'feature_types-SKN8090552', 'gene_ids-SKN8090553', 'feature_types-SKN8090553', 'gene_ids-SKN8090554', 'feature_types-SKN8090554', 'gene_ids-SKN8090555', 'feature_types-SKN8090555', 'gene_ids-SKN8090560', 'feature_types-SKN8090560', 'gene_ids-SKN8090561', 'feature_types-SKN8090561', 'gene_ids-SKN8090562', 'feature_types-SKN8090562', 'gene_ids-SKN8090563', 'feature_types-SKN8090563', 'gene_ids-SKN8090564', 'feature_types-SKN8090564', 'gene_ids-SKN8090565', 'feature_types-SKN8090565', 'gene_ids-SKN8090566', 'feature_types-SKN8090566', 'gene_ids-SKN8090567', 'feature_types-SKN8090567', 'gene_ids-SKN8090576', 'feature_types-SKN8090576', 'gene_ids-SKN8090577', 'feature_types-SKN8090577', 'gene_ids-SKN8090578', 'feature_types-SKN8090578', 'gene_ids-SKN8090579', 'feature_types-SKN8090579', 'gene_ids-SKN8090580', 'feature_types-SKN8090580', 'gene_ids-SKN8090581', 'feature_types-SKN8090581', 'gene_ids-SKN8090582', 'feature_types-SKN8090582', 'gene_ids-SKN8090583', 'feature_types-SKN8090583', 'gene_ids-SKN8090588', 'feature_types-SKN8090588', 'gene_ids-SKN8090589', 'feature_types-SKN8090589', 'gene_ids-SKN8090590', 'feature_types-SKN8090590', 'gene_ids-SKN8090591', 'feature_types-SKN8090591', 'gene_ids-SKN8090592', 'feature_types-SKN8090592', 'gene_ids-SKN8090593', 'feature_types-SKN8090593', 'gene_ids-SKN8090594', 'feature_types-SKN8090594', 'gene_ids-SKN8090595', 'feature_types-SKN8090595', 'gene_ids-SKN8090600', 'feature_types-SKN8090600', 'gene_ids-SKN8090601', 'feature_types-SKN8090601', 'gene_ids-SKN8090602', 'feature_types-SKN8090602', 'gene_ids-SKN8090603', 'feature_types-SKN8090603', 'gene_ids-SKN8090604', 'feature_types-SKN8090604', 'gene_ids-SKN8090605', 'feature_types-SKN8090605', 'gene_ids-SKN8090606', 'feature_types-SKN8090606', 'gene_ids-SKN8090607', 'feature_types-SKN8090607', 'gene_ids-SKN8104894', 'feature_types-SKN8104894', 'gene_ids-SKN8104895', 'feature_types-SKN8104895', 'gene_ids-SKN8104896', 'feature_types-SKN8104896', 'gene_ids-SKN8104897', 'feature_types-SKN8104897', 'gene_ids-SKN8104899', 'feature_types-SKN8104899', 'gene_ids-SKN8104900', 'feature_types-SKN8104900', 'gene_ids-SKN8104901', 'feature_types-SKN8104901', 'gene_ids-SKN8104902', 'feature_types-SKN8104902', 'gene_ids-SKN8105192', 'feature_types-SKN8105192', 'gene_ids-SKN8105193', 'feature_types-SKN8105193', 'gene_ids-SKN8105194', 'feature_types-SKN8105194', 'gene_ids-SKN8105195', 'feature_types-SKN8105195', 'gene_ids-SKN8105197', 'feature_types-SKN8105197', 'gene_ids-SKN8105198', 'feature_types-SKN8105198', 'gene_ids-SKN8105199', 'feature_types-SKN8105199', 'gene_ids-SKN8105200', 'feature_types-SKN8105200', 'gene_ids-4820STDY7388991', 'feature_types-4820STDY7388991', 'gene_ids-4820STDY7388992', 'feature_types-4820STDY7388992', 'gene_ids-4820STDY7388993', 'feature_types-4820STDY7388993', 'gene_ids-4820STDY7388994', 'feature_types-4820STDY7388994', 'gene_ids-4820STDY7388995', 'feature_types-4820STDY7388995', 'gene_ids-4820STDY7388996', 'feature_types-4820STDY7388996', 'gene_ids-4820STDY7388997', 'feature_types-4820STDY7388997', 'gene_ids-4820STDY7388998', 'feature_types-4820STDY7388998', 'gene_ids-4820STDY7388999', 'feature_types-4820STDY7388999', 'gene_ids-4820STDY7389000', 'feature_types-4820STDY7389000', 'gene_ids-4820STDY7389001', 'feature_types-4820STDY7389001', 'gene_ids-4820STDY7389002', 'feature_types-4820STDY7389002', 'gene_ids-4820STDY7389003', 'feature_types-4820STDY7389003', 'gene_ids-4820STDY7389004', 'feature_types-4820STDY7389004', 'gene_ids-4820STDY7389005', 'feature_types-4820STDY7389005', 'gene_ids-4820STDY7389006', 'feature_types-4820STDY7389006', 'gene_ids-4820STDY7389007', 'feature_types-4820STDY7389007', 'gene_ids-4820STDY7389008', 'feature_types-4820STDY7389008', 'gene_ids-4820STDY7389009', 'feature_types-4820STDY7389009', 'gene_ids-4820STDY7389010', 'feature_types-4820STDY7389010', 'gene_ids-4820STDY7389011', 'feature_types-4820STDY7389011', 'gene_ids-4820STDY7389012', 'feature_types-4820STDY7389012', 'gene_ids-4820STDY7389013', 'feature_types-4820STDY7389013', 'gene_ids-4820STDY7389014', 'feature_types-4820STDY7389014', 'n_cells'"
      ]
     },
     "execution_count": 5,
     "metadata": {},
     "output_type": "execute_result"
    }
   ],
   "source": [
    "reynolds_skin = anndata.AnnData(X = reynolds_skin_raw.raw.X, obs = reynolds_skin_raw.obs, var = reynolds_skin_raw.raw.var)\n",
    "reynolds_skin"
   ]
  },
  {
   "cell_type": "code",
   "execution_count": 9,
   "metadata": {},
   "outputs": [
    {
     "data": {
      "text/plain": [
       "Index(['Breast'], dtype='object')"
      ]
     },
     "execution_count": 9,
     "metadata": {},
     "output_type": "execute_result"
    }
   ],
   "source": [
    "reynolds_skin.obs['Location'].cat.categories"
   ]
  },
  {
   "cell_type": "code",
   "execution_count": 10,
   "metadata": {},
   "outputs": [
    {
     "data": {
      "text/plain": [
       "Index(['DC1', 'DC2', 'Differentiated_KC', 'F1', 'F2', 'F3', 'ILC1_3',\n",
       "       'ILC1_NK', 'ILC2', 'Inf_mac', 'LC', 'migLC', 'LE1', 'LE2', 'Macro_1',\n",
       "       'Macro_2', 'Mast_cell', 'Melanocyte', 'MigDC', 'Mono_mac', 'NK',\n",
       "       'Pericyte_1', 'Pericyte_2', 'Plasma', 'Schwann_1', 'Schwann_2', 'Tc',\n",
       "       'Th', 'Treg', 'Undifferentiated_KC', 'VE1', 'VE2', 'VE3', 'moDC'],\n",
       "      dtype='object')"
      ]
     },
     "execution_count": 10,
     "metadata": {},
     "output_type": "execute_result"
    }
   ],
   "source": [
    "reynolds_skin.obs['full_clustering'].cat.categories"
   ]
  },
  {
   "attachments": {},
   "cell_type": "markdown",
   "metadata": {},
   "source": [
    "### Check if data is raw"
   ]
  },
  {
   "cell_type": "code",
   "execution_count": 11,
   "metadata": {},
   "outputs": [],
   "source": [
    "def X_is_raw(adata):\n",
    "    return np.array_equal(adata.X.sum(axis=0).astype(int), adata.X.sum(axis = 0))"
   ]
  },
  {
   "cell_type": "code",
   "execution_count": 12,
   "metadata": {},
   "outputs": [
    {
     "data": {
      "text/plain": [
       "True"
      ]
     },
     "execution_count": 12,
     "metadata": {},
     "output_type": "execute_result"
    }
   ],
   "source": [
    "X_is_raw(reynolds_skin)"
   ]
  },
  {
   "cell_type": "code",
   "execution_count": 13,
   "metadata": {},
   "outputs": [
    {
     "data": {
      "text/plain": [
       "AnnData object with n_obs × n_vars = 195739 × 28728\n",
       "    obs: 'sample_id', 'Status', 'Site', 'Tissue', 'Location', 'donor_id', 'Sex', 'full_clustering', 'seed_labels', 'donor'\n",
       "    var: 'gene_ids-SKN8090524', 'feature_types-SKN8090524', 'gene_ids-SKN8090525', 'feature_types-SKN8090525', 'gene_ids-SKN8090526', 'feature_types-SKN8090526', 'gene_ids-SKN8090527', 'feature_types-SKN8090527', 'gene_ids-SKN8090528', 'feature_types-SKN8090528', 'gene_ids-SKN8090529', 'feature_types-SKN8090529', 'gene_ids-SKN8090530', 'feature_types-SKN8090530', 'gene_ids-SKN8090531', 'feature_types-SKN8090531', 'gene_ids-SKN8090536', 'feature_types-SKN8090536', 'gene_ids-SKN8090537', 'feature_types-SKN8090537', 'gene_ids-SKN8090538', 'feature_types-SKN8090538', 'gene_ids-SKN8090539', 'feature_types-SKN8090539', 'gene_ids-SKN8090540', 'feature_types-SKN8090540', 'gene_ids-SKN8090541', 'feature_types-SKN8090541', 'gene_ids-SKN8090542', 'feature_types-SKN8090542', 'gene_ids-SKN8090543', 'feature_types-SKN8090543', 'gene_ids-SKN8090548', 'feature_types-SKN8090548', 'gene_ids-SKN8090549', 'feature_types-SKN8090549', 'gene_ids-SKN8090550', 'feature_types-SKN8090550', 'gene_ids-SKN8090551', 'feature_types-SKN8090551', 'gene_ids-SKN8090552', 'feature_types-SKN8090552', 'gene_ids-SKN8090553', 'feature_types-SKN8090553', 'gene_ids-SKN8090554', 'feature_types-SKN8090554', 'gene_ids-SKN8090555', 'feature_types-SKN8090555', 'gene_ids-SKN8090560', 'feature_types-SKN8090560', 'gene_ids-SKN8090561', 'feature_types-SKN8090561', 'gene_ids-SKN8090562', 'feature_types-SKN8090562', 'gene_ids-SKN8090563', 'feature_types-SKN8090563', 'gene_ids-SKN8090564', 'feature_types-SKN8090564', 'gene_ids-SKN8090565', 'feature_types-SKN8090565', 'gene_ids-SKN8090566', 'feature_types-SKN8090566', 'gene_ids-SKN8090567', 'feature_types-SKN8090567', 'gene_ids-SKN8090576', 'feature_types-SKN8090576', 'gene_ids-SKN8090577', 'feature_types-SKN8090577', 'gene_ids-SKN8090578', 'feature_types-SKN8090578', 'gene_ids-SKN8090579', 'feature_types-SKN8090579', 'gene_ids-SKN8090580', 'feature_types-SKN8090580', 'gene_ids-SKN8090581', 'feature_types-SKN8090581', 'gene_ids-SKN8090582', 'feature_types-SKN8090582', 'gene_ids-SKN8090583', 'feature_types-SKN8090583', 'gene_ids-SKN8090588', 'feature_types-SKN8090588', 'gene_ids-SKN8090589', 'feature_types-SKN8090589', 'gene_ids-SKN8090590', 'feature_types-SKN8090590', 'gene_ids-SKN8090591', 'feature_types-SKN8090591', 'gene_ids-SKN8090592', 'feature_types-SKN8090592', 'gene_ids-SKN8090593', 'feature_types-SKN8090593', 'gene_ids-SKN8090594', 'feature_types-SKN8090594', 'gene_ids-SKN8090595', 'feature_types-SKN8090595', 'gene_ids-SKN8090600', 'feature_types-SKN8090600', 'gene_ids-SKN8090601', 'feature_types-SKN8090601', 'gene_ids-SKN8090602', 'feature_types-SKN8090602', 'gene_ids-SKN8090603', 'feature_types-SKN8090603', 'gene_ids-SKN8090604', 'feature_types-SKN8090604', 'gene_ids-SKN8090605', 'feature_types-SKN8090605', 'gene_ids-SKN8090606', 'feature_types-SKN8090606', 'gene_ids-SKN8090607', 'feature_types-SKN8090607', 'gene_ids-SKN8104894', 'feature_types-SKN8104894', 'gene_ids-SKN8104895', 'feature_types-SKN8104895', 'gene_ids-SKN8104896', 'feature_types-SKN8104896', 'gene_ids-SKN8104897', 'feature_types-SKN8104897', 'gene_ids-SKN8104899', 'feature_types-SKN8104899', 'gene_ids-SKN8104900', 'feature_types-SKN8104900', 'gene_ids-SKN8104901', 'feature_types-SKN8104901', 'gene_ids-SKN8104902', 'feature_types-SKN8104902', 'gene_ids-SKN8105192', 'feature_types-SKN8105192', 'gene_ids-SKN8105193', 'feature_types-SKN8105193', 'gene_ids-SKN8105194', 'feature_types-SKN8105194', 'gene_ids-SKN8105195', 'feature_types-SKN8105195', 'gene_ids-SKN8105197', 'feature_types-SKN8105197', 'gene_ids-SKN8105198', 'feature_types-SKN8105198', 'gene_ids-SKN8105199', 'feature_types-SKN8105199', 'gene_ids-SKN8105200', 'feature_types-SKN8105200', 'gene_ids-4820STDY7388991', 'feature_types-4820STDY7388991', 'gene_ids-4820STDY7388992', 'feature_types-4820STDY7388992', 'gene_ids-4820STDY7388993', 'feature_types-4820STDY7388993', 'gene_ids-4820STDY7388994', 'feature_types-4820STDY7388994', 'gene_ids-4820STDY7388995', 'feature_types-4820STDY7388995', 'gene_ids-4820STDY7388996', 'feature_types-4820STDY7388996', 'gene_ids-4820STDY7388997', 'feature_types-4820STDY7388997', 'gene_ids-4820STDY7388998', 'feature_types-4820STDY7388998', 'gene_ids-4820STDY7388999', 'feature_types-4820STDY7388999', 'gene_ids-4820STDY7389000', 'feature_types-4820STDY7389000', 'gene_ids-4820STDY7389001', 'feature_types-4820STDY7389001', 'gene_ids-4820STDY7389002', 'feature_types-4820STDY7389002', 'gene_ids-4820STDY7389003', 'feature_types-4820STDY7389003', 'gene_ids-4820STDY7389004', 'feature_types-4820STDY7389004', 'gene_ids-4820STDY7389005', 'feature_types-4820STDY7389005', 'gene_ids-4820STDY7389006', 'feature_types-4820STDY7389006', 'gene_ids-4820STDY7389007', 'feature_types-4820STDY7389007', 'gene_ids-4820STDY7389008', 'feature_types-4820STDY7389008', 'gene_ids-4820STDY7389009', 'feature_types-4820STDY7389009', 'gene_ids-4820STDY7389010', 'feature_types-4820STDY7389010', 'gene_ids-4820STDY7389011', 'feature_types-4820STDY7389011', 'gene_ids-4820STDY7389012', 'feature_types-4820STDY7389012', 'gene_ids-4820STDY7389013', 'feature_types-4820STDY7389013', 'gene_ids-4820STDY7389014', 'feature_types-4820STDY7389014', 'n_cells'"
      ]
     },
     "execution_count": 13,
     "metadata": {},
     "output_type": "execute_result"
    }
   ],
   "source": [
    "reynolds_skin.obs['seed_labels'] = reynolds_skin.obs['full_clustering'].copy()\n",
    "reynolds_skin.obs['donor'] = reynolds_skin.obs['donor_id'].copy()\n",
    "reynolds_skin"
   ]
  },
  {
   "cell_type": "code",
   "execution_count": 14,
   "metadata": {},
   "outputs": [
    {
     "data": {
      "text/plain": [
       "Index(['DC1', 'DC2', 'Differentiated_KC', 'F1', 'F2', 'F3', 'ILC1_3',\n",
       "       'ILC1_NK', 'ILC2', 'Inf_mac', 'LC', 'migLC', 'LE1', 'LE2', 'Macro_1',\n",
       "       'Macro_2', 'Mast_cell', 'Melanocyte', 'MigDC', 'Mono_mac', 'NK',\n",
       "       'Pericyte_1', 'Pericyte_2', 'Plasma', 'Schwann_1', 'Schwann_2', 'Tc',\n",
       "       'Th', 'Treg', 'Undifferentiated_KC', 'VE1', 'VE2', 'VE3', 'moDC'],\n",
       "      dtype='object')"
      ]
     },
     "execution_count": 14,
     "metadata": {},
     "output_type": "execute_result"
    }
   ],
   "source": [
    "reynolds_skin.obs['seed_labels'].cat.categories"
   ]
  },
  {
   "cell_type": "code",
   "execution_count": 15,
   "metadata": {},
   "outputs": [
    {
     "data": {
      "text/plain": [
       "Index(['DC1', 'DC2', 'Differentiated_KC', 'F1', 'F2', 'F3', 'ILC1_3',\n",
       "       'ILC1_NK', 'ILC2', 'Inf_mac', 'LC', 'migLC', 'LE1', 'LE2', 'Macro_1',\n",
       "       'Macro_2', 'Mast_cell', 'Melanocyte', 'MigDC', 'Mono_mac', 'NK',\n",
       "       'Pericyte_1', 'Pericyte_2', 'Plasma', 'Schwann_1', 'Schwann_2', 'Tc',\n",
       "       'Th', 'Treg', 'Undifferentiated_KC', 'VE1', 'VE2', 'VE3', 'moDC'],\n",
       "      dtype='object')"
      ]
     },
     "execution_count": 15,
     "metadata": {},
     "output_type": "execute_result"
    }
   ],
   "source": [
    "reynolds_skin.obs['cell_states'] = reynolds_skin.obs['seed_labels'].copy()\n",
    "reynolds_skin.obs['cell_states'].cat.categories"
   ]
  },
  {
   "attachments": {},
   "cell_type": "markdown",
   "metadata": {},
   "source": [
    "### Export object"
   ]
  },
  {
   "cell_type": "code",
   "execution_count": 16,
   "metadata": {},
   "outputs": [
    {
     "data": {
      "text/plain": [
       "True"
      ]
     },
     "execution_count": 16,
     "metadata": {},
     "output_type": "execute_result"
    }
   ],
   "source": [
    "X_is_raw(reynolds_skin)"
   ]
  },
  {
   "cell_type": "code",
   "execution_count": 17,
   "metadata": {},
   "outputs": [],
   "source": [
    "reynolds_skin.write('../data/skin_healthy_adult_processed.h5ad')"
   ]
  },
  {
   "cell_type": "code",
   "execution_count": null,
   "metadata": {},
   "outputs": [],
   "source": []
  }
 ],
 "metadata": {
  "kernelspec": {
   "display_name": "Python 3.8.14 ('scvi-tools')",
   "language": "python",
   "name": "python3"
  },
  "language_info": {
   "codemirror_mode": {
    "name": "ipython",
    "version": 3
   },
   "file_extension": ".py",
   "mimetype": "text/x-python",
   "name": "python",
   "nbconvert_exporter": "python",
   "pygments_lexer": "ipython3",
   "version": "3.9.16"
  },
  "orig_nbformat": 4,
  "vscode": {
   "interpreter": {
    "hash": "be6e4b2475555bb52a1f9704f3384c4fd38c8454adf16dc700aeb2c29c9568d8"
   }
  }
 },
 "nbformat": 4,
 "nbformat_minor": 2
}
