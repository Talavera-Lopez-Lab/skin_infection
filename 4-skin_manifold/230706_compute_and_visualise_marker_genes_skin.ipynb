{
 "cells": [
  {
   "attachments": {},
   "cell_type": "markdown",
   "metadata": {},
   "source": [
    "### Notebook to identify and visualise gene markers for Epithelial cells \n",
    "\n",
    "- **Developed by**: Carlos Talavera-López Ph.D\n",
    "- **Institute of Computational Biology - Computational Health Centre - Helmholtz Munich**\n",
    "- v230223"
   ]
  },
  {
   "attachments": {},
   "cell_type": "markdown",
   "metadata": {},
   "source": [
    "### Import required modules"
   ]
  },
  {
   "cell_type": "code",
   "execution_count": 1,
   "metadata": {},
   "outputs": [],
   "source": [
    "import anndata\n",
    "import numpy as np\n",
    "import pandas as pd\n",
    "import scanpy as sc\n",
    "import seaborn as sns\n",
    "from bioservices import KEGG\n",
    "import matplotlib.pyplot as plt"
   ]
  },
  {
   "attachments": {},
   "cell_type": "markdown",
   "metadata": {},
   "source": [
    "### Set up working environment"
   ]
  },
  {
   "cell_type": "code",
   "execution_count": 2,
   "metadata": {},
   "outputs": [
    {
     "name": "stdout",
     "output_type": "stream",
     "text": [
      "-----\n",
      "anndata     0.8.0\n",
      "scanpy      1.9.2\n",
      "-----\n",
      "PIL                 9.4.0\n",
      "appdirs             1.4.4\n",
      "appnope             0.1.3\n",
      "asttokens           NA\n",
      "attr                22.2.0\n",
      "backcall            0.2.0\n",
      "bioservices         1.11.2\n",
      "brotli              NA\n",
      "bs4                 4.12.2\n",
      "cattr               NA\n",
      "cattrs              NA\n",
      "certifi             2022.12.07\n",
      "cffi                1.15.1\n",
      "charset_normalizer  2.1.1\n",
      "colorama            0.4.6\n",
      "colorlog            NA\n",
      "comm                0.1.2\n",
      "cycler              0.10.0\n",
      "cython_runtime      NA\n",
      "dateutil            2.8.2\n",
      "debugpy             1.6.6\n",
      "decorator           5.1.1\n",
      "easydev             0.12.1\n",
      "exceptiongroup      1.1.1\n",
      "executing           1.2.0\n",
      "h5py                3.8.0\n",
      "idna                3.4\n",
      "igraph              0.10.4\n",
      "importlib_resources NA\n",
      "ipykernel           6.21.2\n",
      "jedi                0.18.2\n",
      "joblib              1.2.0\n",
      "kiwisolver          1.4.4\n",
      "leidenalg           0.9.1\n",
      "llvmlite            0.39.1\n",
      "louvain             0.8.0\n",
      "lxml                4.9.2\n",
      "matplotlib          3.7.0\n",
      "mpl_toolkits        NA\n",
      "msgpack             1.0.4\n",
      "natsort             8.2.0\n",
      "numba               0.56.4\n",
      "numexpr             2.8.4\n",
      "numpy               1.23.5\n",
      "packaging           23.0\n",
      "pandas              1.5.3\n",
      "parso               0.8.3\n",
      "pexpect             4.8.0\n",
      "pickleshare         0.7.5\n",
      "pkg_resources       NA\n",
      "platformdirs        3.0.0\n",
      "prompt_toolkit      3.0.36\n",
      "psutil              5.9.4\n",
      "ptyprocess          0.7.0\n",
      "pure_eval           0.2.2\n",
      "pydev_ipython       NA\n",
      "pydevconsole        NA\n",
      "pydevd              2.9.5\n",
      "pydevd_file_utils   NA\n",
      "pydevd_plugins      NA\n",
      "pydevd_tracing      NA\n",
      "pygments            2.14.0\n",
      "pylab               NA\n",
      "pyparsing           3.0.9\n",
      "pytz                2022.7.1\n",
      "requests            2.28.2\n",
      "requests_cache      1.0.0\n",
      "scipy               1.10.0\n",
      "seaborn             0.12.2\n",
      "session_info        1.0.0\n",
      "setuptools          67.3.3\n",
      "setuptools_scm      NA\n",
      "six                 1.16.0\n",
      "sklearn             1.2.1\n",
      "socks               1.7.1\n",
      "soupsieve           2.4.1\n",
      "stack_data          0.6.2\n",
      "statsmodels         0.13.5\n",
      "texttable           1.6.7\n",
      "threadpoolctl       3.1.0\n",
      "tornado             6.2\n",
      "tqdm                4.64.1\n",
      "traitlets           5.9.0\n",
      "typing_extensions   NA\n",
      "unicodedata2        NA\n",
      "url_normalize       1.4.3\n",
      "urllib3             1.26.14\n",
      "wcwidth             0.2.6\n",
      "zipp                NA\n",
      "zmq                 25.0.0\n",
      "zoneinfo            NA\n",
      "zope                NA\n",
      "-----\n",
      "IPython             8.10.0\n",
      "jupyter_client      8.0.3\n",
      "jupyter_core        5.2.0\n",
      "-----\n",
      "Python 3.9.16 | packaged by conda-forge | (main, Feb  1 2023, 21:42:20) [Clang 14.0.6 ]\n",
      "macOS-13.4.1-x86_64-i386-64bit\n",
      "-----\n",
      "Session information updated at 2023-07-06 11:36\n"
     ]
    }
   ],
   "source": [
    "sc.settings.verbosity = 3\n",
    "sc.logging.print_versions()\n",
    "sc.settings.set_figure_params(dpi = 180, color_map = 'RdPu', dpi_save = 300, vector_friendly = True, format = 'svg')"
   ]
  },
  {
   "attachments": {},
   "cell_type": "markdown",
   "metadata": {},
   "source": [
    "### Read in skin dataset"
   ]
  },
  {
   "cell_type": "code",
   "execution_count": 3,
   "metadata": {},
   "outputs": [
    {
     "data": {
      "text/plain": [
       "AnnData object with n_obs × n_vars = 7479 × 7000\n",
       "    obs: 'sample_id', 'Status', 'Site', 'Tissue', 'Location', 'donor_id', 'Sex', 'full_clustering', 'seed_labels', 'donor', 'cell_states', 'orig.ident', 'nCount_RNA', 'nFeature_RNA', 'nCount_HTO', 'nFeature_HTO', 'nCount_CITE', 'nFeature_CITE', 'nCount_PROT', 'nFeature_PROT', 'percent.mt', 'sample', 'HTO_maxID', 'HTO_secondID', 'HTO_margin', 'HTO_classification', 'HTO_classification.global', 'hash.ID', 'tissue', 'condition', 'n_genes', 'doublet_scores', 'hashtag', 'unique', 'group', 'batch', 'n_genes_by_counts', 'total_counts', 'total_counts_mt', 'pct_counts_mt', 'total_counts_ribo', 'pct_counts_ribo', 'percent_mt2', 'n_counts', 'percent_chrY', 'S_score', 'G2M_score', '_scvi_batch', '_scvi_labels', 'C_scANVI', 'skin_condition'\n",
       "    var: 'gene_ids-SCC0120_1_skin', 'feature_types-SCC0120_1_skin', 'mt-SCC0120_1_skin', 'ribo-SCC0120_1_skin', 'n_cells_by_counts-SCC0120_1_skin', 'mean_counts-SCC0120_1_skin', 'pct_dropout_by_counts-SCC0120_1_skin', 'total_counts-SCC0120_1_skin', 'gene_ids-SKN8090524-healthy_skin', 'feature_types-SKN8090524-healthy_skin', 'gene_ids-SKN8090525-healthy_skin', 'feature_types-SKN8090525-healthy_skin', 'gene_ids-SKN8090526-healthy_skin', 'feature_types-SKN8090526-healthy_skin', 'gene_ids-SKN8090527-healthy_skin', 'feature_types-SKN8090527-healthy_skin', 'gene_ids-SKN8090528-healthy_skin', 'feature_types-SKN8090528-healthy_skin', 'gene_ids-SKN8090529-healthy_skin', 'feature_types-SKN8090529-healthy_skin', 'gene_ids-SKN8090530-healthy_skin', 'feature_types-SKN8090530-healthy_skin', 'gene_ids-SKN8090531-healthy_skin', 'feature_types-SKN8090531-healthy_skin', 'gene_ids-SKN8090536-healthy_skin', 'feature_types-SKN8090536-healthy_skin', 'gene_ids-SKN8090537-healthy_skin', 'feature_types-SKN8090537-healthy_skin', 'gene_ids-SKN8090538-healthy_skin', 'feature_types-SKN8090538-healthy_skin', 'gene_ids-SKN8090539-healthy_skin', 'feature_types-SKN8090539-healthy_skin', 'gene_ids-SKN8090540-healthy_skin', 'feature_types-SKN8090540-healthy_skin', 'gene_ids-SKN8090541-healthy_skin', 'feature_types-SKN8090541-healthy_skin', 'gene_ids-SKN8090542-healthy_skin', 'feature_types-SKN8090542-healthy_skin', 'gene_ids-SKN8090543-healthy_skin', 'feature_types-SKN8090543-healthy_skin', 'gene_ids-SKN8090548-healthy_skin', 'feature_types-SKN8090548-healthy_skin', 'gene_ids-SKN8090549-healthy_skin', 'feature_types-SKN8090549-healthy_skin', 'gene_ids-SKN8090550-healthy_skin', 'feature_types-SKN8090550-healthy_skin', 'gene_ids-SKN8090551-healthy_skin', 'feature_types-SKN8090551-healthy_skin', 'gene_ids-SKN8090552-healthy_skin', 'feature_types-SKN8090552-healthy_skin', 'gene_ids-SKN8090553-healthy_skin', 'feature_types-SKN8090553-healthy_skin', 'gene_ids-SKN8090554-healthy_skin', 'feature_types-SKN8090554-healthy_skin', 'gene_ids-SKN8090555-healthy_skin', 'feature_types-SKN8090555-healthy_skin', 'gene_ids-SKN8090560-healthy_skin', 'feature_types-SKN8090560-healthy_skin', 'gene_ids-SKN8090561-healthy_skin', 'feature_types-SKN8090561-healthy_skin', 'gene_ids-SKN8090562-healthy_skin', 'feature_types-SKN8090562-healthy_skin', 'gene_ids-SKN8090563-healthy_skin', 'feature_types-SKN8090563-healthy_skin', 'gene_ids-SKN8090564-healthy_skin', 'feature_types-SKN8090564-healthy_skin', 'gene_ids-SKN8090565-healthy_skin', 'feature_types-SKN8090565-healthy_skin', 'gene_ids-SKN8090566-healthy_skin', 'feature_types-SKN8090566-healthy_skin', 'gene_ids-SKN8090567-healthy_skin', 'feature_types-SKN8090567-healthy_skin', 'gene_ids-SKN8090576-healthy_skin', 'feature_types-SKN8090576-healthy_skin', 'gene_ids-SKN8090577-healthy_skin', 'feature_types-SKN8090577-healthy_skin', 'gene_ids-SKN8090578-healthy_skin', 'feature_types-SKN8090578-healthy_skin', 'gene_ids-SKN8090579-healthy_skin', 'feature_types-SKN8090579-healthy_skin', 'gene_ids-SKN8090580-healthy_skin', 'feature_types-SKN8090580-healthy_skin', 'gene_ids-SKN8090581-healthy_skin', 'feature_types-SKN8090581-healthy_skin', 'gene_ids-SKN8090582-healthy_skin', 'feature_types-SKN8090582-healthy_skin', 'gene_ids-SKN8090583-healthy_skin', 'feature_types-SKN8090583-healthy_skin', 'gene_ids-SKN8090588-healthy_skin', 'feature_types-SKN8090588-healthy_skin', 'gene_ids-SKN8090589-healthy_skin', 'feature_types-SKN8090589-healthy_skin', 'gene_ids-SKN8090590-healthy_skin', 'feature_types-SKN8090590-healthy_skin', 'gene_ids-SKN8090591-healthy_skin', 'feature_types-SKN8090591-healthy_skin', 'gene_ids-SKN8090592-healthy_skin', 'feature_types-SKN8090592-healthy_skin', 'gene_ids-SKN8090593-healthy_skin', 'feature_types-SKN8090593-healthy_skin', 'gene_ids-SKN8090594-healthy_skin', 'feature_types-SKN8090594-healthy_skin', 'gene_ids-SKN8090595-healthy_skin', 'feature_types-SKN8090595-healthy_skin', 'gene_ids-SKN8090600-healthy_skin', 'feature_types-SKN8090600-healthy_skin', 'gene_ids-SKN8090601-healthy_skin', 'feature_types-SKN8090601-healthy_skin', 'gene_ids-SKN8090602-healthy_skin', 'feature_types-SKN8090602-healthy_skin', 'gene_ids-SKN8090603-healthy_skin', 'feature_types-SKN8090603-healthy_skin', 'gene_ids-SKN8090604-healthy_skin', 'feature_types-SKN8090604-healthy_skin', 'gene_ids-SKN8090605-healthy_skin', 'feature_types-SKN8090605-healthy_skin', 'gene_ids-SKN8090606-healthy_skin', 'feature_types-SKN8090606-healthy_skin', 'gene_ids-SKN8090607-healthy_skin', 'feature_types-SKN8090607-healthy_skin', 'gene_ids-SKN8104894-healthy_skin', 'feature_types-SKN8104894-healthy_skin', 'gene_ids-SKN8104895-healthy_skin', 'feature_types-SKN8104895-healthy_skin', 'gene_ids-SKN8104896-healthy_skin', 'feature_types-SKN8104896-healthy_skin', 'gene_ids-SKN8104897-healthy_skin', 'feature_types-SKN8104897-healthy_skin', 'gene_ids-SKN8104899-healthy_skin', 'feature_types-SKN8104899-healthy_skin', 'gene_ids-SKN8104900-healthy_skin', 'feature_types-SKN8104900-healthy_skin', 'gene_ids-SKN8104901-healthy_skin', 'feature_types-SKN8104901-healthy_skin', 'gene_ids-SKN8104902-healthy_skin', 'feature_types-SKN8104902-healthy_skin', 'gene_ids-SKN8105192-healthy_skin', 'feature_types-SKN8105192-healthy_skin', 'gene_ids-SKN8105193-healthy_skin', 'feature_types-SKN8105193-healthy_skin', 'gene_ids-SKN8105194-healthy_skin', 'feature_types-SKN8105194-healthy_skin', 'gene_ids-SKN8105195-healthy_skin', 'feature_types-SKN8105195-healthy_skin', 'gene_ids-SKN8105197-healthy_skin', 'feature_types-SKN8105197-healthy_skin', 'gene_ids-SKN8105198-healthy_skin', 'feature_types-SKN8105198-healthy_skin', 'gene_ids-SKN8105199-healthy_skin', 'feature_types-SKN8105199-healthy_skin', 'gene_ids-SKN8105200-healthy_skin', 'feature_types-SKN8105200-healthy_skin', 'gene_ids-4820STDY7388991-healthy_skin', 'feature_types-4820STDY7388991-healthy_skin', 'gene_ids-4820STDY7388992-healthy_skin', 'feature_types-4820STDY7388992-healthy_skin', 'gene_ids-4820STDY7388993-healthy_skin', 'feature_types-4820STDY7388993-healthy_skin', 'gene_ids-4820STDY7388994-healthy_skin', 'feature_types-4820STDY7388994-healthy_skin', 'gene_ids-4820STDY7388995-healthy_skin', 'feature_types-4820STDY7388995-healthy_skin', 'gene_ids-4820STDY7388996-healthy_skin', 'feature_types-4820STDY7388996-healthy_skin', 'gene_ids-4820STDY7388997-healthy_skin', 'feature_types-4820STDY7388997-healthy_skin', 'gene_ids-4820STDY7388998-healthy_skin', 'feature_types-4820STDY7388998-healthy_skin', 'gene_ids-4820STDY7388999-healthy_skin', 'feature_types-4820STDY7388999-healthy_skin', 'gene_ids-4820STDY7389000-healthy_skin', 'feature_types-4820STDY7389000-healthy_skin', 'gene_ids-4820STDY7389001-healthy_skin', 'feature_types-4820STDY7389001-healthy_skin', 'gene_ids-4820STDY7389002-healthy_skin', 'feature_types-4820STDY7389002-healthy_skin', 'gene_ids-4820STDY7389003-healthy_skin', 'feature_types-4820STDY7389003-healthy_skin', 'gene_ids-4820STDY7389004-healthy_skin', 'feature_types-4820STDY7389004-healthy_skin', 'gene_ids-4820STDY7389005-healthy_skin', 'feature_types-4820STDY7389005-healthy_skin', 'gene_ids-4820STDY7389006-healthy_skin', 'feature_types-4820STDY7389006-healthy_skin', 'gene_ids-4820STDY7389007-healthy_skin', 'feature_types-4820STDY7389007-healthy_skin', 'gene_ids-4820STDY7389008-healthy_skin', 'feature_types-4820STDY7389008-healthy_skin', 'gene_ids-4820STDY7389009-healthy_skin', 'feature_types-4820STDY7389009-healthy_skin', 'gene_ids-4820STDY7389010-healthy_skin', 'feature_types-4820STDY7389010-healthy_skin', 'gene_ids-4820STDY7389011-healthy_skin', 'feature_types-4820STDY7389011-healthy_skin', 'gene_ids-4820STDY7389012-healthy_skin', 'feature_types-4820STDY7389012-healthy_skin', 'gene_ids-4820STDY7389013-healthy_skin', 'feature_types-4820STDY7389013-healthy_skin', 'gene_ids-4820STDY7389014-healthy_skin', 'feature_types-4820STDY7389014-healthy_skin', 'n_cells-healthy_skin', 'highly_variable', 'highly_variable_rank', 'means', 'variances', 'variances_norm', 'highly_variable_nbatches'\n",
       "    uns: 'C_scANVI_colors', '_scvi_manager_uuid', '_scvi_uuid', 'batch_colors', 'condition_colors', 'donor_colors', 'hvg', 'neighbors', 'seed_labels_colors', 'umap'\n",
       "    obsm: 'X_scANVI', 'X_umap', '_scvi_extra_categorical_covs', '_scvi_extra_continuous_covs'\n",
       "    layers: 'counts'\n",
       "    obsp: 'connectivities', 'distances'"
      ]
     },
     "execution_count": 3,
     "metadata": {},
     "output_type": "execute_result"
    }
   ],
   "source": [
    "adata_skin = sc.read_h5ad('../data/SCC0120_1_Skin_scANVI_states_ctl230704.h5ad') \n",
    "adata_skin"
   ]
  },
  {
   "attachments": {},
   "cell_type": "markdown",
   "metadata": {},
   "source": [
    "### Visualise manifold with `scANVI` annotation"
   ]
  },
  {
   "cell_type": "code",
   "execution_count": null,
   "metadata": {},
   "outputs": [],
   "source": [
    "sc.pl.umap(BrEpit_ALL, frameon = False, color = ['group', 'disease', 'infection', 'C_scANVI', 'leiden_states', 'IAV_score'], size = 1, legend_fontsize = 5, ncols = 3)"
   ]
  },
  {
   "cell_type": "code",
   "execution_count": null,
   "metadata": {},
   "outputs": [],
   "source": [
    "sc.pl.umap(BrEpit_ALL, frameon = False, color = ['C_scANVI', 'leiden_states', 'IAV_score'], size = 0.5, legend_fontsize = 5, ncols = 3, legend_loc = 'on data')"
   ]
  },
  {
   "attachments": {},
   "cell_type": "markdown",
   "metadata": {},
   "source": [
    "### Calculate marker genes "
   ]
  },
  {
   "cell_type": "code",
   "execution_count": null,
   "metadata": {},
   "outputs": [],
   "source": [
    "adata_log = anndata.AnnData(X = BrEpit_ALL.X,  var = BrEpit_ALL.var, obs = BrEpit_ALL.obs, obsm = BrEpit_ALL.obsm)\n",
    "sc.pp.normalize_total(adata_log, target_sum = 1e6, exclude_highly_expressed = True)\n",
    "sc.pp.log1p(adata_log)\n",
    "adata_log.layers[\"sqrt_norm\"] = np.sqrt(\n",
    "    sc.pp.normalize_total(adata_log, inplace = False)[\"X\"]\n",
    ")"
   ]
  },
  {
   "attachments": {},
   "cell_type": "markdown",
   "metadata": {},
   "source": [
    "### Visualise marker genes"
   ]
  },
  {
   "cell_type": "code",
   "execution_count": null,
   "metadata": {},
   "outputs": [],
   "source": [
    "adata_log.obs['leiden_states'].cat.categories"
   ]
  },
  {
   "cell_type": "code",
   "execution_count": null,
   "metadata": {},
   "outputs": [],
   "source": [
    "markers = ['KRT5', 'KRT17', 'ACTB', 'SCGB1A1']\n",
    "sc.pl.stacked_violin(adata_log, markers, groupby = 'leiden_states', dendrogram = True, cmap = 'magma')"
   ]
  },
  {
   "cell_type": "code",
   "execution_count": null,
   "metadata": {},
   "outputs": [],
   "source": [
    "sc.pl.dotplot(adata_log, markers, groupby = 'leiden_states', layer = 'sqrt_norm', cmap = 'magma')"
   ]
  },
  {
   "cell_type": "code",
   "execution_count": null,
   "metadata": {},
   "outputs": [],
   "source": [
    "sc.pl.umap(adata_log, frameon = False, color = ['leiden_states', 'IAV_score', 'KRT5', 'KRT17', 'ACTB', 'SCGB1A1'], size = 0.5, legend_fontsize = 5, ncols = 3, legend_loc = 'on data', layer = 'sqrt_norm', cmap = 'magma')"
   ]
  },
  {
   "cell_type": "code",
   "execution_count": null,
   "metadata": {},
   "outputs": [],
   "source": [
    "markers = ['SERPINE1', 'SERPINE2', 'PMEPA1', 'AMIGO2', 'LGALS1', 'MYL9', 'DKK3', 'MMP2']\n",
    "sc.pl.stacked_violin(adata_log, markers, groupby = 'group', dendrogram = True, cmap = 'RdPu')"
   ]
  },
  {
   "cell_type": "code",
   "execution_count": null,
   "metadata": {},
   "outputs": [],
   "source": [
    "markers = ['TWIST1', 'FOXC2', 'SNAI1', 'VIM', 'FGFR1']\n",
    "sc.pl.stacked_violin(adata_log, markers, groupby = 'group', dendrogram = True, cmap = 'RdPu')"
   ]
  },
  {
   "cell_type": "code",
   "execution_count": null,
   "metadata": {},
   "outputs": [],
   "source": [
    "markers = ['TWIST1', 'FOXC2', 'SNAI1', 'VIM', 'FGFR1']\n",
    "sc.pl.stacked_violin(adata_log, markers, groupby = 'disease', dendrogram = True, cmap = 'RdPu')"
   ]
  },
  {
   "cell_type": "code",
   "execution_count": null,
   "metadata": {},
   "outputs": [],
   "source": [
    "markers = ['TWIST1', 'FOXC2', 'SNAI1', 'VIM', 'FGFR1']\n",
    "sc.pl.stacked_violin(adata_log, markers, groupby = 'infection', dendrogram = True, cmap = 'RdPu')"
   ]
  },
  {
   "cell_type": "code",
   "execution_count": null,
   "metadata": {},
   "outputs": [],
   "source": [
    "markers = ['TWIST1', 'FOXC2', 'SNAI1', 'VIM', 'FGFR1', 'FN1']\n",
    "sc.pl.stacked_violin(adata_log, markers, groupby = 'leiden_states', dendrogram = True, cmap = 'RdPu')"
   ]
  },
  {
   "attachments": {},
   "cell_type": "markdown",
   "metadata": {},
   "source": [
    "### Calculate expression scores"
   ]
  },
  {
   "attachments": {},
   "cell_type": "markdown",
   "metadata": {},
   "source": [
    "- KEGG Influenza A signature"
   ]
  },
  {
   "cell_type": "code",
   "execution_count": null,
   "metadata": {},
   "outputs": [],
   "source": [
    "kegg = KEGG()\n",
    "pathway = kegg.get('hsa05164')\n",
    "genes = kegg.parse(pathway)\n",
    "\n",
    "gene_list = [desc.split(';')[0] for desc in genes['GENE'].values()]\n",
    "gene_list"
   ]
  },
  {
   "cell_type": "code",
   "execution_count": null,
   "metadata": {},
   "outputs": [],
   "source": [
    "sc.tl.score_genes(BrEpit_ALL, gene_list, score_name = 'KEGG-IAV_Score', use_raw = False)\n",
    "adata_log.obs['KEGG-IAV_Score'] = BrEpit_ALL.obs['KEGG-IAV_Score'].copy()\n",
    "sc.pl.umap(adata_log, frameon = False, color = ['leiden_states', 'IAV_score', 'KEGG-IAV_Score'], size = 0.5, legend_fontsize = 5, ncols = 3, legend_loc = 'on data', layer = 'sqrt_norm', cmap = 'magma')"
   ]
  },
  {
   "attachments": {},
   "cell_type": "markdown",
   "metadata": {},
   "source": [
    "- KEGG Interferon alpha"
   ]
  },
  {
   "cell_type": "code",
   "execution_count": null,
   "metadata": {},
   "outputs": [],
   "source": [
    "kegg = KEGG()\n",
    "pathway = kegg.get('hsa04630')\n",
    "genes = kegg.parse(pathway)\n",
    "\n",
    "gene_list = [desc.split(';')[0] for desc in genes['GENE'].values()]\n",
    "gene_list"
   ]
  },
  {
   "cell_type": "code",
   "execution_count": null,
   "metadata": {},
   "outputs": [],
   "source": [
    "sc.tl.score_genes(BrEpit_ALL, gene_list, score_name = 'IFNab_Score', use_raw = False)\n",
    "adata_log.obs['IFNab_Score'] = BrEpit_ALL.obs['IFNab_Score'].copy()\n",
    "sc.pl.umap(adata_log, frameon = False, color = ['leiden_states', 'IAV_score', 'KEGG-IAV_Score', 'IFNab_Score'], size = 0.5, legend_fontsize = 5, ncols = 3, legend_loc = 'on data', layer = 'sqrt_norm', cmap = 'magma')"
   ]
  },
  {
   "attachments": {},
   "cell_type": "markdown",
   "metadata": {},
   "source": [
    "- KEGG interferon gamma"
   ]
  },
  {
   "cell_type": "code",
   "execution_count": null,
   "metadata": {},
   "outputs": [],
   "source": [
    "kegg = KEGG()\n",
    "pathway = kegg.get('hsa04622')\n",
    "genes = kegg.parse(pathway)\n",
    "\n",
    "gene_list = [desc.split(';')[0] for desc in genes['GENE'].values()]\n",
    "gene_list"
   ]
  },
  {
   "cell_type": "code",
   "execution_count": null,
   "metadata": {},
   "outputs": [],
   "source": [
    "sc.tl.score_genes(BrEpit_ALL, gene_list, score_name = 'IFNg_Score', use_raw = False)\n",
    "adata_log.obs['IFNg_Score'] = BrEpit_ALL.obs['IFNg_Score'].copy()\n",
    "sc.pl.umap(adata_log, frameon = False, color = ['leiden_states', 'IAV_score', 'KEGG-IAV_Score', 'IFNab_Score', 'IFNg_Score'], size = 0.5, legend_fontsize = 5, ncols = 3, legend_loc = 'on data', layer = 'sqrt_norm', cmap = 'magma')"
   ]
  },
  {
   "attachments": {},
   "cell_type": "markdown",
   "metadata": {},
   "source": [
    "- KEGG IL-1"
   ]
  },
  {
   "cell_type": "code",
   "execution_count": null,
   "metadata": {},
   "outputs": [],
   "source": [
    "kegg = KEGG()\n",
    "pathway = kegg.get('hsa04668')\n",
    "genes = kegg.parse(pathway)\n",
    "\n",
    "gene_list = [desc.split(';')[0] for desc in genes['GENE'].values()]\n",
    "gene_list"
   ]
  },
  {
   "cell_type": "code",
   "execution_count": null,
   "metadata": {},
   "outputs": [],
   "source": [
    "sc.tl.score_genes(BrEpit_ALL, gene_list, score_name = 'IL1_Score', use_raw = False)\n",
    "adata_log.obs['IL1_Score'] = BrEpit_ALL.obs['IL1_Score'].copy()\n",
    "sc.pl.umap(adata_log, frameon = False, color = ['leiden_states', 'IAV_score', 'KEGG-IAV_Score', 'IFNab_Score', 'IFNg_Score', 'IL1_Score'], size = 0.5, legend_fontsize = 5, ncols = 3, legend_loc = 'on data', layer = 'sqrt_norm', cmap = 'magma')"
   ]
  },
  {
   "cell_type": "raw",
   "metadata": {},
   "source": [
    "BrEpit_ALL.obs['leiden_states'] = BrEpit_ALL.obs['leiden']\n",
    "BrEpit_ALL.obs['leiden_states'].cat.categories = ['Goblet_0', 'Stromal_1', 'Club_2', 'BasalR_3', 'Goblet_4', 'SupraB_5', 'SupraB_6', 'Basal_7', 'Goblet_8', 'Goblet_9', 'Club_10', 'Club_11', 'MultiC_12',\n",
    "       'MultiC_13', 'Goblet_14', 'Club_15', 'Goblet_16', 'Stromal_17', 'SupraB_18', 'GobletClub_19', 'MultiC_20']\n",
    "sc.pl.umap(BrEpit_ALL, frameon = False, color = ['leiden', 'cell_type', 'leiden_states'], size = 1, legend_fontsize = 5, ncols = 3, legend_loc = 'on data')"
   ]
  },
  {
   "cell_type": "raw",
   "metadata": {},
   "source": [
    "sc.pl.umap(BrEpit_ALL, frameon = False, color = ['cell_type', 'leiden_states'], size = 1, legend_fontsize = 5, ncols = 2)"
   ]
  },
  {
   "attachments": {},
   "cell_type": "markdown",
   "metadata": {},
   "source": [
    "### Calculate cluster-specific marker genes using _Wilcoxon's Rank Sum Test_"
   ]
  },
  {
   "cell_type": "code",
   "execution_count": null,
   "metadata": {},
   "outputs": [],
   "source": [
    "sc.tl.rank_genes_groups(adata_log, 'leiden_states', method = 'wilcoxon', n_genes = 100, use_raw = False)\n",
    "result = adata_log.uns['rank_genes_groups']\n",
    "groups = result['names'].dtype.names\n",
    "wilcox_markers = pd.DataFrame(\n",
    "{group + '_' + key[:1]: result[key][group]\n",
    "    for group in groups for key in ['names','logfoldchanges', 'pvals_adj']})\n",
    "wilcox_markers.head(10)"
   ]
  },
  {
   "attachments": {},
   "cell_type": "markdown",
   "metadata": {},
   "source": [
    "### Visualise marker genes"
   ]
  },
  {
   "cell_type": "code",
   "execution_count": null,
   "metadata": {},
   "outputs": [],
   "source": [
    "sc.pl.rank_genes_groups_dotplot(adata_log, n_genes = 5, cmap = 'magma')"
   ]
  },
  {
   "attachments": {},
   "cell_type": "markdown",
   "metadata": {},
   "source": [
    "### Calculate marker genes per condition"
   ]
  },
  {
   "attachments": {},
   "cell_type": "markdown",
   "metadata": {},
   "source": [
    "- Split dataset by condition"
   ]
  },
  {
   "cell_type": "code",
   "execution_count": null,
   "metadata": {},
   "outputs": [],
   "source": [
    "healthy_ctrl_log = adata_log[adata_log.obs['group'].isin(['healthy_ctrl'])]\n",
    "healthy_ctrl_log "
   ]
  },
  {
   "cell_type": "code",
   "execution_count": null,
   "metadata": {},
   "outputs": [],
   "source": [
    "sc.tl.rank_genes_groups(healthy_ctrl_log, 'leiden_states', method = 'wilcoxon', n_genes = healthy_ctrl_log.shape[1], use_raw = False)\n",
    "result = healthy_ctrl_log.uns['rank_genes_groups']\n",
    "groups = result['names'].dtype.names\n",
    "wilcox_markers = pd.DataFrame(\n",
    "{group + '_' + key[:1]: result[key][group]\n",
    "    for group in groups for key in ['names','logfoldchanges', 'pvals_adj']})\n",
    "wilcox_markers.head(10)"
   ]
  },
  {
   "cell_type": "code",
   "execution_count": null,
   "metadata": {},
   "outputs": [],
   "source": [
    "sc.pl.rank_genes_groups_dotplot(healthy_ctrl_log, n_genes = 5, values_to_plot = 'scores', cmap = 'coolwarm')"
   ]
  },
  {
   "cell_type": "code",
   "execution_count": null,
   "metadata": {},
   "outputs": [],
   "source": [
    "sc.pl.rank_genes_groups_dotplot(healthy_ctrl_log, n_genes = 5, values_to_plot = 'logfoldchanges', cmap = 'coolwarm')"
   ]
  },
  {
   "cell_type": "code",
   "execution_count": null,
   "metadata": {},
   "outputs": [],
   "source": [
    "healthy_iav_log = adata_log[adata_log.obs['group'].isin(['healthy_iav'])]\n",
    "healthy_iav_log "
   ]
  },
  {
   "cell_type": "code",
   "execution_count": null,
   "metadata": {},
   "outputs": [],
   "source": [
    "sc.tl.rank_genes_groups(healthy_iav_log, 'leiden_states', method = 'wilcoxon', n_genes = healthy_iav_log.shape[1], use_raw = False)\n",
    "result = healthy_iav_log.uns['rank_genes_groups']\n",
    "groups = result['names'].dtype.names\n",
    "wilcox_markers = pd.DataFrame(\n",
    "{group + '_' + key[:1]: result[key][group]\n",
    "    for group in groups for key in ['names','logfoldchanges', 'pvals_adj']})\n",
    "wilcox_markers.head(10)"
   ]
  },
  {
   "cell_type": "code",
   "execution_count": null,
   "metadata": {},
   "outputs": [],
   "source": [
    "sc.pl.rank_genes_groups_dotplot(healthy_iav_log, n_genes = 5, values_to_plot = 'scores', cmap = 'coolwarm')"
   ]
  },
  {
   "cell_type": "code",
   "execution_count": null,
   "metadata": {},
   "outputs": [],
   "source": [
    "sc.pl.rank_genes_groups_dotplot(healthy_iav_log, n_genes = 5, values_to_plot = 'logfoldchanges', cmap = 'coolwarm')"
   ]
  },
  {
   "cell_type": "code",
   "execution_count": null,
   "metadata": {},
   "outputs": [],
   "source": [
    "copd_ctrl_log = adata_log[adata_log.obs['group'].isin(['copd_ctrl'])]\n",
    "copd_ctrl_log "
   ]
  },
  {
   "cell_type": "code",
   "execution_count": null,
   "metadata": {},
   "outputs": [],
   "source": [
    "sc.tl.rank_genes_groups(copd_ctrl_log, 'leiden_states', method = 'wilcoxon', n_genes = healthy_iav_log.shape[1], use_raw = False)\n",
    "result = copd_ctrl_log.uns['rank_genes_groups']\n",
    "groups = result['names'].dtype.names\n",
    "wilcox_markers = pd.DataFrame(\n",
    "{group + '_' + key[:1]: result[key][group]\n",
    "    for group in groups for key in ['names','logfoldchanges', 'pvals_adj']})\n",
    "wilcox_markers.head(10)"
   ]
  },
  {
   "cell_type": "code",
   "execution_count": null,
   "metadata": {},
   "outputs": [],
   "source": [
    "sc.pl.rank_genes_groups_dotplot(copd_ctrl_log, n_genes = 5, values_to_plot = 'scores', cmap = 'coolwarm')"
   ]
  },
  {
   "cell_type": "code",
   "execution_count": null,
   "metadata": {},
   "outputs": [],
   "source": [
    "sc.pl.rank_genes_groups_dotplot(copd_ctrl_log, n_genes = 5, values_to_plot = 'logfoldchanges', cmap = 'coolwarm')"
   ]
  },
  {
   "cell_type": "code",
   "execution_count": null,
   "metadata": {},
   "outputs": [],
   "source": [
    "copd_iav_log = adata_log[adata_log.obs['group'].isin(['copd_iav'])]\n",
    "copd_iav_log "
   ]
  },
  {
   "cell_type": "code",
   "execution_count": null,
   "metadata": {},
   "outputs": [],
   "source": [
    "sc.tl.rank_genes_groups(copd_iav_log, 'leiden_states', method = 'wilcoxon', n_genes = healthy_iav_log.shape[1], use_raw = False)\n",
    "result = copd_iav_log.uns['rank_genes_groups']\n",
    "groups = result['names'].dtype.names\n",
    "wilcox_markers = pd.DataFrame(\n",
    "{group + '_' + key[:1]: result[key][group]\n",
    "    for group in groups for key in ['names','logfoldchanges', 'pvals_adj']})\n",
    "wilcox_markers.head(10)"
   ]
  },
  {
   "cell_type": "code",
   "execution_count": null,
   "metadata": {},
   "outputs": [],
   "source": [
    "sc.pl.rank_genes_groups_dotplot(copd_iav_log, n_genes = 5, values_to_plot = 'scores', cmap = 'coolwarm')"
   ]
  },
  {
   "cell_type": "code",
   "execution_count": null,
   "metadata": {},
   "outputs": [],
   "source": [
    "sc.pl.rank_genes_groups_dotplot(copd_iav_log, n_genes = 5, values_to_plot = 'logfoldchanges', cmap = 'coolwarm')"
   ]
  },
  {
   "cell_type": "raw",
   "metadata": {},
   "source": [
    "wilcox_markers.to_csv('/home/cartalop/github/COPD_influenza/4-clustering_of_cell_states/BrEpit_ALL_WilcoxRST_markers.csv', sep = ',', index = False)"
   ]
  },
  {
   "attachments": {},
   "cell_type": "markdown",
   "metadata": {},
   "source": [
    "### Export annotated object"
   ]
  },
  {
   "cell_type": "code",
   "execution_count": null,
   "metadata": {},
   "outputs": [],
   "source": [
    "BrEpit_ALL"
   ]
  },
  {
   "cell_type": "raw",
   "metadata": {},
   "source": [
    "BrEpit_ALL.write('/home/cartalop/data/carlos/single_cell/COPD_IAV/scanvi_annotated/BrEpit_ALL_ctl221212_leiden_states.raw.h5ad')"
   ]
  },
  {
   "cell_type": "code",
   "execution_count": null,
   "metadata": {},
   "outputs": [],
   "source": [
    "sc.pl.umap(BrEpit_ALL, frameon = False, color = ['leiden_states', 'STEAP4', 'CEP55', 'FOXJ1', 'PIGR', 'SERPINE2', 'ADM2', 'WNT10A'], size = 1, legend_fontsize = 5, ncols = 4, legend_loc = 'on data')"
   ]
  },
  {
   "cell_type": "code",
   "execution_count": null,
   "metadata": {},
   "outputs": [],
   "source": []
  }
 ],
 "metadata": {
  "kernelspec": {
   "display_name": "scanpy",
   "language": "python",
   "name": "python3"
  },
  "language_info": {
   "codemirror_mode": {
    "name": "ipython",
    "version": 3
   },
   "file_extension": ".py",
   "mimetype": "text/x-python",
   "name": "python",
   "nbconvert_exporter": "python",
   "pygments_lexer": "ipython3",
   "version": "3.9.16"
  },
  "orig_nbformat": 4,
  "vscode": {
   "interpreter": {
    "hash": "4872569c54efb9f76cf4e832d436e1eb1949715732f7c5070dbaa4d04650f385"
   }
  }
 },
 "nbformat": 4,
 "nbformat_minor": 2
}
