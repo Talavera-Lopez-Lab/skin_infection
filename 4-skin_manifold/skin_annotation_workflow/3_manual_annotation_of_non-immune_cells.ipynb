{
 "cells": [
  {
   "cell_type": "markdown",
   "metadata": {},
   "source": [
    "### Notebook for the manual annotation of cell states for all skin\n",
    "\n",
    "- **Developed by:** Anna Maguza\n",
    "- **Würzburg Institute for Systems Immunology & Julius-Maximilian-Universität Würzburg**\n",
    "- **Date:** 27th of December 2023"
   ]
  },
  {
   "cell_type": "markdown",
   "metadata": {},
   "source": [
    "### Import required modules"
   ]
  },
  {
   "cell_type": "code",
   "execution_count": null,
   "metadata": {},
   "outputs": [],
   "source": [
    "import numpy as np\n",
    "import pandas as pd\n",
    "import scanpy as sc\n",
    "import seaborn as sns\n",
    "import anndata as ad"
   ]
  },
  {
   "cell_type": "markdown",
   "metadata": {},
   "source": [
    "### Set up working environment"
   ]
  },
  {
   "cell_type": "code",
   "execution_count": null,
   "metadata": {},
   "outputs": [],
   "source": [
    "sc.settings.verbosity = 3\n",
    "sc.logging.print_versions()\n",
    "sc.settings.set_figure_params(dpi = 180, color_map = 'RdPu', dpi_save = 300, vector_friendly = True, format = 'svg')"
   ]
  },
  {
   "cell_type": "markdown",
   "metadata": {},
   "source": [
    "### Read in Human skin dataset"
   ]
  },
  {
   "cell_type": "code",
   "execution_count": null,
   "metadata": {},
   "outputs": [],
   "source": [
    "adata= sc.read_h5ad('data_skin/SCC0120_1_Skin_scANVI_leiden_Anna.h5ad') \n",
    "adata"
   ]
  },
  {
   "cell_type": "markdown",
   "metadata": {},
   "source": [
    "### Visualize the manifold"
   ]
  },
  {
   "cell_type": "code",
   "execution_count": null,
   "metadata": {},
   "outputs": [],
   "source": [
    "sc.set_figure_params(dpi=300, figsize=(7, 7))\n",
    "sc.pl.umap(adata, frameon = False, color = ['donor', 'condition', 'n_genes_by_counts', 'total_counts', 'pct_counts_mt', 'pct_counts_ribo'], size =10, legend_fontsize = 8, ncols = 3)"
   ]
  },
  {
   "cell_type": "code",
   "execution_count": null,
   "metadata": {},
   "outputs": [],
   "source": [
    "sc.set_figure_params(dpi=300, figsize=(5, 5))\n",
    "sc.pl.umap(adata, frameon = False, color = ['leiden', 'C_scANVI'], size = 3, legend_fontsize = 8, ncols = 3, legend_loc = 'on data')"
   ]
  },
  {
   "cell_type": "markdown",
   "metadata": {},
   "source": [
    "### Preprocess dataset for marker genes visualization"
   ]
  },
  {
   "cell_type": "markdown",
   "metadata": {},
   "source": [
    "* Normalize and log transform"
   ]
  },
  {
   "cell_type": "code",
   "execution_count": null,
   "metadata": {},
   "outputs": [],
   "source": [
    "adata_log = ad.AnnData(X = adata.X,  var = adata.var, obs = adata.obs, obsm = adata.obsm)\n",
    "sc.pp.normalize_total(adata_log, target_sum = 1e6, exclude_highly_expressed = True)\n",
    "sc.pp.log1p(adata_log)\n",
    "adata_log.layers[\"sqrt_norm\"] = np.sqrt(\n",
    "    sc.pp.normalize_total(adata_log, inplace = False)[\"X\"]\n",
    ")"
   ]
  },
  {
   "cell_type": "markdown",
   "metadata": {},
   "source": [
    "* Identify differentially expressed genes"
   ]
  },
  {
   "cell_type": "code",
   "execution_count": null,
   "metadata": {},
   "outputs": [],
   "source": [
    "sc.tl.rank_genes_groups(adata_log, groupby=\"leiden\", method=\"wilcoxon\", n_genes = 100)\n",
    "df = sc.get.rank_genes_groups_df(adata_log, group=None)"
   ]
  },
  {
   "cell_type": "markdown",
   "metadata": {},
   "source": [
    "* Save DEGs"
   ]
  },
  {
   "cell_type": "code",
   "execution_count": null,
   "metadata": {},
   "outputs": [],
   "source": [
    "df.to_csv('data_skin/SCC0120_1_Skin_leiden_DEG.csv')"
   ]
  },
  {
   "cell_type": "markdown",
   "metadata": {},
   "source": [
    "* Create a column to store annotations"
   ]
  },
  {
   "cell_type": "code",
   "execution_count": null,
   "metadata": {},
   "outputs": [],
   "source": [
    "adata_log.obs['predicted_cell_states'] = adata.obs['leiden'].copy()"
   ]
  },
  {
   "cell_type": "markdown",
   "metadata": {},
   "source": [
    "### Visualize marker genes expression"
   ]
  },
  {
   "cell_type": "markdown",
   "metadata": {},
   "source": [
    "## Epithelial Cells"
   ]
  },
  {
   "cell_type": "markdown",
   "metadata": {},
   "source": [
    "* Keratinocytes"
   ]
  },
  {
   "cell_type": "code",
   "execution_count": null,
   "metadata": {},
   "outputs": [],
   "source": [
    "keratinocyte_genes = ['KRT1', 'KRT5', 'KRT14', 'KRT15', 'ALDH2', 'ATP1B1', 'CD44', 'TFRC', 'DEFB1', \n",
    "                      'FASN', 'GJB2', 'ITGA6', 'KRT10', 'KRT19', 'KRT8', \n",
    "                      'KRT2', 'UBE2C']"
   ]
  },
  {
   "cell_type": "code",
   "execution_count": null,
   "metadata": {},
   "outputs": [],
   "source": [
    "sc.tl.score_genes(adata_log, keratinocyte_genes, score_name = 'keratinocytes_cells_score')"
   ]
  },
  {
   "cell_type": "code",
   "execution_count": null,
   "metadata": {},
   "outputs": [],
   "source": [
    "sc.set_figure_params(dpi=300)\n",
    "sc.pl.umap(adata_log, frameon = False, color = ['KRT1', 'KRT5', 'KRT14', 'KRT15', 'ALDH2', 'ATP1B1', 'CD44', 'TFRC', 'DEFB1', \n",
    "                      'FASN', 'GJB2', 'ITGA6', 'ITGB1', 'KRT10', 'KRT19', 'KRT8', \n",
    "                      'KRT2', 'SPRR2A', 'UBE2C', 'keratinocytes_cells_score'], size = 5, legend_fontsize = 5, ncols = 5, color_map='magma_r')"
   ]
  },
  {
   "cell_type": "code",
   "execution_count": null,
   "metadata": {},
   "outputs": [],
   "source": [
    "adata_log.obs['predicted_cell_states'] = adata_log.obs['predicted_cell_states'].cat.add_categories(['Keratinocytes'])\n",
    "\n",
    "adata_log.obs['predicted_cell_states'][adata_log.obs['keratinocytes_cells_score'] > 1] = 'Keratinocytes'"
   ]
  },
  {
   "cell_type": "code",
   "execution_count": null,
   "metadata": {},
   "outputs": [],
   "source": [
    "adata_log.obs['keratinocytes'] = adata_log.obs['predicted_cell_states'] == 'Keratinocytes'\n",
    "adata_log.obs['keratinocytes'] = adata_log.obs['keratinocytes'].astype(str)\n",
    "sc.set_figure_params(dpi=300)\n",
    "sc.pl.umap(adata_log, frameon = False, color = ['leiden', 'C_scANVI', 'keratinocytes', 'keratinocytes_cells_score'], size = 5, legend_fontsize = 5, ncols = 4, color_map='magma_r')\n",
    "del adata_log.obs['keratinocytes']"
   ]
  },
  {
   "cell_type": "markdown",
   "metadata": {},
   "source": [
    "* Stem cells markers"
   ]
  },
  {
   "cell_type": "code",
   "execution_count": null,
   "metadata": {},
   "outputs": [],
   "source": [
    "stem_cells_genes = ['LGR5', 'LGR6', 'LRIG1', 'ABCB5', 'PRDM1', 'MYC', \n",
    "                    'CD200', 'CD34', 'ITGA6', 'THY1', \n",
    "                    'EZH2', 'GLI1', 'LHX2', 'NFATC1', 'TP63', 'POU5F1',\n",
    "                    'PLET1', 'PROCR', 'SLAMF6', 'SOX2', 'SOX9', 'TCF7']"
   ]
  },
  {
   "cell_type": "code",
   "execution_count": null,
   "metadata": {},
   "outputs": [],
   "source": [
    "sc.tl.score_genes(adata_log, stem_cells_genes, score_name = 'stem_cells_score')"
   ]
  },
  {
   "cell_type": "code",
   "execution_count": null,
   "metadata": {},
   "outputs": [],
   "source": [
    "sc.set_figure_params(dpi=300)\n",
    "sc.pl.umap(adata_log, frameon = False, color = ['LGR5', 'LGR6', 'KRT15', 'LRIG1', 'ABCB5', 'CTNNB1', 'PRDM1', 'MYC', \n",
    "                    'CD200', 'ITGB1', 'CD34', 'CD44', 'ITGA6', 'THY1', 'KRT19', \n",
    "                    'EZH2', 'FOS', 'GLI1', 'LHX2', 'NFATC1', 'TP63', 'POU5F1',\n",
    "                    'PLET1', 'PROCR', 'SLAMF6', 'SOX2', 'SOX9', 'TCF7', 'stem_cells_score'], size = 5, legend_fontsize = 5, ncols = 5, color_map='magma_r')"
   ]
  },
  {
   "cell_type": "code",
   "execution_count": null,
   "metadata": {},
   "outputs": [],
   "source": [
    "adata_log.obs['predicted_cell_states'] = adata_log.obs['predicted_cell_states'].cat.add_categories(['Stem_cells'])\n",
    "\n",
    "adata_log.obs['predicted_cell_states'][adata_log.obs['stem_cells_score'] > 1] = 'Stem_cells'"
   ]
  },
  {
   "cell_type": "code",
   "execution_count": null,
   "metadata": {},
   "outputs": [],
   "source": [
    "adata_log.obs['Stem_cells'] = adata_log.obs['predicted_cell_states'] == 'Stem_cells'\n",
    "adata_log.obs['Stem_cells'] = adata_log.obs['Stem_cells'].astype(str)\n",
    "sc.set_figure_params(dpi=300)\n",
    "sc.pl.umap(adata_log, frameon = False, color = ['leiden', 'C_scANVI', 'Stem_cells', 'stem_cells_score'], size = 5, legend_fontsize = 5, ncols = 4, color_map='magma_r')\n",
    "del adata_log.obs['Stem_cells']"
   ]
  },
  {
   "cell_type": "markdown",
   "metadata": {},
   "source": [
    "* Melanocytes markers"
   ]
  },
  {
   "cell_type": "code",
   "execution_count": null,
   "metadata": {},
   "outputs": [],
   "source": [
    "melanocytes_genes = ['MLANA', 'PMEL', 'DCT', 'MITF', 'APOD', 'ATP1B1', 'KIT',\n",
    "                     'ME1', 'ME2', 'PHLDA1', 'S100A1', 'SOX10', 'TYR', \n",
    "                     'TYRP1', 'DCT']"
   ]
  },
  {
   "cell_type": "code",
   "execution_count": null,
   "metadata": {},
   "outputs": [],
   "source": [
    "sc.tl.score_genes(adata_log, melanocytes_genes, score_name = 'melanocytes_score')"
   ]
  },
  {
   "cell_type": "code",
   "execution_count": null,
   "metadata": {},
   "outputs": [],
   "source": [
    "sc.set_figure_params(dpi=300)\n",
    "sc.pl.umap(adata_log, frameon = False, color = ['MLANA', 'PMEL', 'DCT', 'MITF', 'APOD', 'ATP1B1', 'KIT',\n",
    "                     'ME1', 'ME2', 'CD63', 'PHLDA1', 'S100A1', 'SOX10', 'TYR', \n",
    "                     'TYRP1', 'DCT', 'melanocytes_score'], size = 5, legend_fontsize = 5, ncols = 5, color_map='magma_r')"
   ]
  },
  {
   "cell_type": "code",
   "execution_count": null,
   "metadata": {},
   "outputs": [],
   "source": [
    "adata_log.obs['predicted_cell_states'] = adata_log.obs['predicted_cell_states'].cat.add_categories(['Melanocytes'])"
   ]
  },
  {
   "cell_type": "code",
   "execution_count": null,
   "metadata": {},
   "outputs": [],
   "source": [
    "adata_log.obs.loc[(adata_log.obs['leiden'] == '20'), 'predicted_cell_states'] = 'Melanocytes'\n",
    "\n",
    "adata_log.obs['predicted_cell_states'] = adata_log.obs['predicted_cell_states'].cat.remove_categories(['20'])"
   ]
  },
  {
   "cell_type": "code",
   "execution_count": null,
   "metadata": {},
   "outputs": [],
   "source": [
    "adata_log.obs['Cell_States'] = None\n",
    "# Make column categorical\n",
    "adata_log.obs['Cell_States'] = adata_log.obs['Cell_States'].astype('category')\n",
    "\n",
    "# Copy 'Keratinocytes' to 'Cell_States' if 'predicted_cell_states' == 'Keratinocytes'\n",
    "adata_log.obs['Cell_States'] = adata_log.obs['Cell_States'].cat.add_categories(['Melanocytes'])\n",
    "adata_log.obs['Cell_States'] = adata_log.obs['Cell_States'].cat.add_categories(['Keratinocytes'])\n",
    "adata_log.obs['Cell_States'][adata_log.obs['predicted_cell_states'] == 'Keratinocytes'] = 'Keratinocytes'\n",
    "adata_log.obs['Cell_States'][adata_log.obs['predicted_cell_states'] == 'Melanocytes'] = 'Melanocytes'"
   ]
  },
  {
   "cell_type": "code",
   "execution_count": null,
   "metadata": {},
   "outputs": [],
   "source": [
    "sc.set_figure_params(dpi=500)\n",
    "sc.pl.umap(adata_log, frameon = False, color = ['keratinocytes_cells_score', 'melanocytes_score', 'Cell_States'], size = 5, legend_fontsize = 5, ncols = 5, color_map='magma_r')"
   ]
  },
  {
   "cell_type": "markdown",
   "metadata": {},
   "source": [
    "## Neuronal Cells"
   ]
  },
  {
   "cell_type": "code",
   "execution_count": null,
   "metadata": {},
   "outputs": [],
   "source": [
    "neuronal_genes = ['NRXN1', 'SCN7A', 'ANK3']\n",
    "sc.tl.score_genes(adata_log, neuronal_genes, score_name = 'neuronal_score')"
   ]
  },
  {
   "cell_type": "code",
   "execution_count": null,
   "metadata": {},
   "outputs": [],
   "source": [
    "sc.set_figure_params(dpi=300)\n",
    "sc.pl.umap(adata_log, frameon = False, color = ['NRXN1', 'SCN7A', 'ANK3', 'neuronal_score', 'leiden'], size = 5, legend_fontsize = 5, ncols = 5, color_map='magma_r')"
   ]
  },
  {
   "cell_type": "code",
   "execution_count": null,
   "metadata": {},
   "outputs": [],
   "source": [
    "adata_log.obs['predicted_cell_states'] = adata_log.obs['predicted_cell_states'].cat.add_categories(['Neuronal'])\n",
    "\n",
    "adata_log.obs.loc[(adata_log.obs['leiden'] == '16'), 'predicted_cell_states'] = 'Neuronal'\n",
    "\n",
    "adata_log.obs['predicted_cell_states'] = adata_log.obs['predicted_cell_states'].cat.remove_categories(['16'])"
   ]
  },
  {
   "cell_type": "code",
   "execution_count": null,
   "metadata": {},
   "outputs": [],
   "source": [
    "adata_log.obs['Cell_States'] = None\n",
    "# Make column categorical\n",
    "adata_log.obs['Cell_States'] = adata_log.obs['Cell_States'].astype('category')\n",
    "\n",
    "# Copy 'Keratinocytes' to 'Cell_States' if 'predicted_cell_states' == 'Keratinocytes'\n",
    "adata_log.obs['Cell_States'] = adata_log.obs['Cell_States'].cat.add_categories(['Neuronal'])\n",
    "adata_log.obs['Cell_States'][adata_log.obs['predicted_cell_states'] == 'Neuronal'] = 'Neuronal'"
   ]
  },
  {
   "cell_type": "code",
   "execution_count": null,
   "metadata": {},
   "outputs": [],
   "source": [
    "sc.set_figure_params(dpi=400)\n",
    "sc.pl.umap(adata_log, frameon = False, color = ['NRXN1', 'SCN7A', 'ANK3', 'neuronal_score', 'Cell_States'], size = 5, legend_fontsize = 5, ncols = 3, color_map='magma_r')"
   ]
  },
  {
   "cell_type": "markdown",
   "metadata": {},
   "source": [
    "## Mesenchymal Cells"
   ]
  },
  {
   "cell_type": "markdown",
   "metadata": {},
   "source": [
    "* Vascular endothelium"
   ]
  },
  {
   "cell_type": "code",
   "execution_count": null,
   "metadata": {},
   "outputs": [],
   "source": [
    "ve_genes = ['PECAM1', 'EMCN', 'CDH5', 'VWF', 'KDR', 'FLT1', 'TEK', 'CLDN5']"
   ]
  },
  {
   "cell_type": "code",
   "execution_count": null,
   "metadata": {},
   "outputs": [],
   "source": [
    "sc.tl.score_genes(adata_log, ve_genes, score_name = 've_score')"
   ]
  },
  {
   "cell_type": "code",
   "execution_count": null,
   "metadata": {},
   "outputs": [],
   "source": [
    "sc.set_figure_params(dpi=300)\n",
    "sc.pl.umap(adata_log, frameon = False, color = ['PECAM1', 'EMCN', 'CDH5', 'VWF', 'KDR', 'FLT1', 'TEK', 'CLDN5', 've_score', 'leiden'], size = 5, legend_fontsize = 5, ncols = 5, color_map='magma_r')"
   ]
  },
  {
   "cell_type": "code",
   "execution_count": null,
   "metadata": {},
   "outputs": [],
   "source": [
    "artery_genes = ['GJA4', 'GJA5', 'HEY1', 'GATA2', 'SOX17', 'MECOM']\n",
    "sc.tl.score_genes(adata_log, artery_genes, score_name = 'artery_score')\n",
    "\n",
    "vein_genes = ['ACKR1', 'NR2F2', 'PLVAP']\n",
    "sc.tl.score_genes(adata_log, vein_genes, score_name = 'vein_score')"
   ]
  },
  {
   "cell_type": "code",
   "execution_count": null,
   "metadata": {},
   "outputs": [],
   "source": [
    "sc.set_figure_params(dpi=300)\n",
    "sc.pl.umap(adata_log, frameon = False, color = ['GJA4', 'GJA5', 'HEY1', 'GATA2', 'CXCR4', 'SOX17', 'MECOM', 'artery_score'], size = 5, legend_fontsize = 5, ncols = 5, color_map='magma_r')"
   ]
  },
  {
   "cell_type": "code",
   "execution_count": null,
   "metadata": {},
   "outputs": [],
   "source": [
    "sc.set_figure_params(dpi=300)\n",
    "sc.pl.umap(adata_log, frameon = False, color = ['ACKR1', 'NR2F2', 'PLVAP', 'vein_score'], size = 5, legend_fontsize = 5, ncols = 5, color_map='magma_r')"
   ]
  },
  {
   "cell_type": "code",
   "execution_count": null,
   "metadata": {},
   "outputs": [],
   "source": [
    "adata_log.obs['predicted_cell_states'] = adata_log.obs['predicted_cell_states'].cat.add_categories(['Artery_VE', 'Vein_VE'])\n",
    "adata_log.obs.loc[(adata_log.obs['leiden'] == '9'), 'predicted_cell_states'] = 'Artery_VE'\n",
    "adata_log.obs.loc[(adata_log.obs['leiden'] == '5'), 'predicted_cell_states'] = 'Vein_VE'\n",
    "\n",
    "adata_log.obs['predicted_cell_states'] = adata_log.obs['predicted_cell_states'].cat.remove_categories(['9', '5'])"
   ]
  },
  {
   "cell_type": "markdown",
   "metadata": {},
   "source": [
    "* Lymphatic endothelium genes"
   ]
  },
  {
   "cell_type": "code",
   "execution_count": null,
   "metadata": {},
   "outputs": [],
   "source": [
    "le_genes = ['LYVE1', 'PDPN']"
   ]
  },
  {
   "cell_type": "code",
   "execution_count": null,
   "metadata": {},
   "outputs": [],
   "source": [
    "sc.tl.score_genes(adata_log, le_genes, score_name = 'le_score')"
   ]
  },
  {
   "cell_type": "code",
   "execution_count": null,
   "metadata": {},
   "outputs": [],
   "source": [
    "sc.set_figure_params(dpi=300)\n",
    "sc.pl.umap(adata_log, frameon = False, color = ['LYVE1', 'PDPN', 'le_score'], size = 5, legend_fontsize = 5, ncols = 5, color_map='magma_r')"
   ]
  },
  {
   "cell_type": "code",
   "execution_count": null,
   "metadata": {},
   "outputs": [],
   "source": [
    "adata_log.obs['predicted_cell_states'] = adata_log.obs['predicted_cell_states'].cat.add_categories(['LE'])\n",
    "adata_log.obs.loc[(adata_log.obs['leiden'] == '17'), 'predicted_cell_states'] = 'LE'\n",
    "\n",
    "adata_log.obs['predicted_cell_states'] = adata_log.obs['predicted_cell_states'].cat.remove_categories(['17'])"
   ]
  },
  {
   "cell_type": "code",
   "execution_count": null,
   "metadata": {},
   "outputs": [],
   "source": [
    "adata_log.obs['Cell_States'] = None\n",
    "# Make column categorical\n",
    "adata_log.obs['Cell_States'] = adata_log.obs['Cell_States'].astype('category')\n",
    "\n",
    "# Copy 'Keratinocytes' to 'Cell_States' if 'predicted_cell_states' == 'Keratinocytes'\n",
    "adata_log.obs['Cell_States'] = adata_log.obs['Cell_States'].cat.add_categories(['LE'])\n",
    "adata_log.obs['Cell_States'][adata_log.obs['predicted_cell_states'] == 'LE'] = 'LE'\n",
    "\n",
    "adata_log.obs['Cell_States'] = adata_log.obs['Cell_States'].cat.add_categories(['Artery_VE'])\n",
    "adata_log.obs['Cell_States'][adata_log.obs['predicted_cell_states'] == 'Artery_VE'] = 'Artery_VE'\n",
    "\n",
    "adata_log.obs['Cell_States'] = adata_log.obs['Cell_States'].cat.add_categories(['Vein_VE'])\n",
    "adata_log.obs['Cell_States'][adata_log.obs['predicted_cell_states'] == 'Vein_VE'] = 'Vein_VE'"
   ]
  },
  {
   "cell_type": "code",
   "execution_count": null,
   "metadata": {},
   "outputs": [],
   "source": [
    "sc.set_figure_params(dpi=300)\n",
    "sc.pl.umap(adata_log, frameon = False, color = ['artery_score', 'vein_score', 'le_score', 'Cell_States'], size = 5, legend_fontsize = 5, ncols = 2, color_map='magma_r')"
   ]
  },
  {
   "cell_type": "markdown",
   "metadata": {},
   "source": [
    "* Fibroblasts"
   ]
  },
  {
   "cell_type": "code",
   "execution_count": null,
   "metadata": {},
   "outputs": [],
   "source": [
    "fibroblasts_genes = ['MMP2', 'COL1A1', 'COL1A2', 'NT5E', 'COL6A1']"
   ]
  },
  {
   "cell_type": "code",
   "execution_count": null,
   "metadata": {},
   "outputs": [],
   "source": [
    "sc.tl.score_genes(adata_log, fibroblasts_genes, score_name = 'fibroblasts_score')"
   ]
  },
  {
   "cell_type": "code",
   "execution_count": null,
   "metadata": {},
   "outputs": [],
   "source": [
    "sc.set_figure_params(dpi=300)\n",
    "sc.pl.umap(adata_log, frameon = False, color = ['MMP2', 'COL1A1', 'COL1A2', 'NT5E', 'COL6A1', 'fibroblasts_score'], size = 5, legend_fontsize = 5, ncols = 3, color_map='magma_r')"
   ]
  },
  {
   "cell_type": "markdown",
   "metadata": {},
   "source": [
    "* Mesenchymal Stem Cells"
   ]
  },
  {
   "cell_type": "markdown",
   "metadata": {},
   "source": [
    "Reference 1: CD105+, CD90+, CD73+, CD45−, CD34−, CD19−, HLA-DRA−, and CD11b− (Fan, 2022)"
   ]
  },
  {
   "cell_type": "code",
   "execution_count": null,
   "metadata": {},
   "outputs": [],
   "source": [
    "MSCs_genes1 = ['ENG', 'THY1', 'NT5E']\n",
    "sc.tl.score_genes(adata_log, MSCs_genes1, score_name = 'MSCs_score1')\n",
    "\n",
    "sc.set_figure_params(dpi=300)\n",
    "sc.pl.umap(adata_log, frameon = False, color = ['ENG', 'THY1', 'NT5E', 'MSCs_score1', 'PTPRC', 'CD34', 'HLA-DRA', 'ITGAM'], size = 5, legend_fontsize = 5, ncols = 4, color_map='magma_r')\n"
   ]
  },
  {
   "cell_type": "markdown",
   "metadata": {},
   "source": [
    "Reference 2: CCL13, NGFR, TFP2A, TBX5, IGF1, TMEM176A/B (Wang, 2021)"
   ]
  },
  {
   "cell_type": "code",
   "execution_count": null,
   "metadata": {},
   "outputs": [],
   "source": [
    "MSCs_genes2 = ['CCL13', 'NGFR', 'TFAP2A', 'TBX5', 'IGF1', 'TMEM176A', 'TMEM176B']\n",
    "sc.tl.score_genes(adata_log, MSCs_genes2, score_name = 'MSCs_score2')\n",
    "\n",
    "sc.set_figure_params(dpi=300)\n",
    "sc.pl.umap(adata_log, frameon = False, color = ['CCL13', 'NGFR', 'TFAP2A', 'TBX5', 'IGF1', 'TMEM176A', 'TMEM176B', 'MSCs_score2'], size = 5, legend_fontsize = 5, ncols = 4, color_map='magma_r')"
   ]
  },
  {
   "cell_type": "markdown",
   "metadata": {},
   "source": [
    "Reference 3: CD44+, CD73+, CD90+, CD105+, CD166+, SSEA-4+, Vimentin+, CD34-, CD45-, HLA-DR- (Ullah, 2015)"
   ]
  },
  {
   "cell_type": "code",
   "execution_count": null,
   "metadata": {},
   "outputs": [],
   "source": [
    "MSCs_genes3 = ['CD44', 'NT5E', 'THY1', 'ENG', 'ALCAM', 'POU5F1']\n",
    "sc.tl.score_genes(adata_log, MSCs_genes3, score_name = 'MSCs_score3')\n",
    "\n",
    "sc.set_figure_params(dpi=300)\n",
    "sc.pl.umap(adata_log, frameon = False, color = ['CD44', 'NT5E', 'THY1', 'ENG', 'ALCAM', 'POU5F1', 'MSCs_score3', 'CD34', 'PTPRC', 'HLA-DRA'], size = 5, legend_fontsize = 5, ncols = 5, color_map='magma_r')"
   ]
  },
  {
   "cell_type": "markdown",
   "metadata": {},
   "source": [
    "Reference 4: SOX2, ACTA2, CSPG1 (ACAN), CD200, ITGA8 and PDGFRA, CD34, SCA1 (ATXN1), HIC1, DPP4/CD26, DPT, EN1 (recommended by Samantha Morris)"
   ]
  },
  {
   "cell_type": "code",
   "execution_count": null,
   "metadata": {},
   "outputs": [],
   "source": [
    "MSCs_genes4 = ['SOX2', 'ACTA2', 'ACAN', 'CD200', 'ITGA8', 'PDGFRA', 'CD34', 'ATXN1', 'HIC1', 'DPP4', 'DPT', 'EN1']\n",
    "sc.tl.score_genes(adata_log, MSCs_genes4, score_name = 'MSCs_score4')\n",
    "\n",
    "sc.set_figure_params(dpi=300)\n",
    "sc.pl.umap(adata_log, frameon = False, color = ['SOX2', 'ACTA2', 'ACAN', 'CD200', 'ITGA8', 'PDGFRA', 'CD34', 'ATXN1', 'HIC1', 'DPP4', 'DPT', 'EN1', 'MSCs_score4'], size = 5, legend_fontsize = 5, ncols = 5, color_map='magma_r')"
   ]
  },
  {
   "cell_type": "markdown",
   "metadata": {},
   "source": [
    "* Label cluster 17 as MSCs-like cells"
   ]
  },
  {
   "cell_type": "code",
   "execution_count": null,
   "metadata": {},
   "outputs": [],
   "source": [
    "umap_coordinates = adata.obsm['X_umap']\n",
    "leiden_clusters = adata.obs['leiden']\n",
    "cluster_17_cells = adata[leiden_clusters == '17']\n",
    "umap_coordinates_cluster_17 = umap_coordinates[adata.obs_names.isin(cluster_17_cells.obs_names)]\n"
   ]
  },
  {
   "cell_type": "code",
   "execution_count": null,
   "metadata": {},
   "outputs": [],
   "source": [
    "adata_log.obs['predicted_cell_states'] = adata_log.obs['predicted_cell_states'].cat.add_categories(['Fibroblasts_PRR16+', 'Fibroblasts_ITGA6+', 'MSCs_like'])\n",
    "adata_log.obs.loc[(adata_log.obs['leiden'] == '2'), 'predicted_cell_states'] = 'Fibroblasts_PRR16+'\n",
    "adata_log.obs.loc[(adata_log.obs['leiden'] == '19'), 'predicted_cell_states'] = 'Fibroblasts_ITGA6+'\n",
    "\n",
    "adata_log.obs['predicted_cell_states'] = adata_log.obs['predicted_cell_states'].cat.remove_categories(['2', '19'])"
   ]
  },
  {
   "cell_type": "code",
   "execution_count": null,
   "metadata": {},
   "outputs": [],
   "source": [
    "#Step 1: Access UMAP coordinates and Leiden cluster assignments\n",
    "umap_coordinates = adata_log.obsm['X_umap']\n",
    "leiden_clusters = adata_log.obs['leiden']\n",
    "\n",
    "# Step 2: Identify cells in cluster 2\n",
    "cluster_2_cells = adata_log[leiden_clusters == '2']\n",
    "\n",
    "# Step 3: Identify cells in cluster 2 and located further than 25 on x-coordinate\n",
    "threshold = 25\n",
    "cluster_2_filtered_cells_mask = umap_coordinates[adata_log.obs_names.isin(cluster_2_cells.obs_names), 0] > threshold\n",
    "cluster_2_filtered_cells = cluster_2_cells[cluster_2_filtered_cells_mask]\n",
    "\n",
    "# Step 4: Rename the clusters in 'predicted_cell_states' column\n",
    "adata_log.obs.loc[cluster_2_filtered_cells.obs_names, 'predicted_cell_states'] = 'MSCs_like'"
   ]
  },
  {
   "cell_type": "code",
   "execution_count": null,
   "metadata": {},
   "outputs": [],
   "source": [
    "adata_log.obs['predicted_cell_states'].value_counts()"
   ]
  },
  {
   "cell_type": "code",
   "execution_count": null,
   "metadata": {},
   "outputs": [],
   "source": [
    "adata_log.obs['Cell_States'] = None\n",
    "# Make column categorical\n",
    "adata_log.obs['Cell_States'] = adata_log.obs['Cell_States'].astype('category')\n",
    "\n",
    "# Copy 'Keratinocytes' to 'Cell_States' if 'predicted_cell_states' == 'Keratinocytes'\n",
    "adata_log.obs['Cell_States'] = adata_log.obs['Cell_States'].cat.add_categories(['Fibroblasts_PRR16+'])\n",
    "adata_log.obs['Cell_States'][adata_log.obs['predicted_cell_states'] == 'Fibroblasts_PRR16+'] = 'Fibroblasts_PRR16+'\n",
    "\n",
    "adata_log.obs['Cell_States'] = adata_log.obs['Cell_States'].cat.add_categories(['Fibroblasts_ITGA6+'])\n",
    "adata_log.obs['Cell_States'][adata_log.obs['predicted_cell_states'] == 'Fibroblasts_ITGA6+'] = 'Fibroblasts_ITGA6+'"
   ]
  },
  {
   "cell_type": "code",
   "execution_count": null,
   "metadata": {},
   "outputs": [],
   "source": [
    "sc.set_figure_params(dpi=300)\n",
    "sc.pl.umap(adata_log, frameon = False, color = ['Cell_States'], size = 5, legend_fontsize = 5, ncols = 3, color_map='magma_r')"
   ]
  },
  {
   "cell_type": "code",
   "execution_count": null,
   "metadata": {},
   "outputs": [],
   "source": [
    "sc.set_figure_params(dpi=300)\n",
    "sc.pl.umap(adata_log, frameon = False, color = ['fibroblasts_score', 'leiden'], size = 5, legend_fontsize = 5, ncols = 3, color_map='magma_r')"
   ]
  },
  {
   "cell_type": "markdown",
   "metadata": {},
   "source": [
    "* Adventitial fibroblasts"
   ]
  },
  {
   "cell_type": "markdown",
   "metadata": {},
   "source": [
    "Reference 1: Vimentin, collagen type-1, CD29, CD44, and CD105 (Hoshino 2008)"
   ]
  },
  {
   "cell_type": "code",
   "execution_count": null,
   "metadata": {},
   "outputs": [],
   "source": [
    "adv_fibroblasts_genes = ['VIM', 'COL1A1', 'ITGB1', 'CD44', 'ENG']\n",
    "sc.tl.score_genes(adata_log, adv_fibroblasts_genes, score_name = 'adv_fibroblasts_score1')\n",
    "\n",
    "sc.set_figure_params(dpi=300)\n",
    "sc.pl.umap(adata_log, frameon = False, color = ['VIM', 'COL1A1', 'ITGB1', 'CD44', 'ENG', 'adv_fibroblasts_score1'], size = 5, legend_fontsize = 5, ncols = 5, color_map='magma_r')"
   ]
  },
  {
   "cell_type": "markdown",
   "metadata": {},
   "source": [
    "Reference 2: Collagen type-1, Enolase 2, Fibroblast specific protein 1, Gli1, PDGFRα, Patched-1 and patched-2, Sca1, and Tcf21 (Kuwabara 2017)"
   ]
  },
  {
   "cell_type": "code",
   "execution_count": null,
   "metadata": {},
   "outputs": [],
   "source": [
    "adv_fibroblasts_genes2 = ['COL1A1', 'ENO2', 'AIFM2', 'S100A4', 'GLI1', 'PTCH1', 'PTCH2', 'PDGFRA', 'ATXN1', 'TCF21']\n",
    "sc.tl.score_genes(adata_log, adv_fibroblasts_genes2, score_name = 'adv_fibroblasts_score2')\n",
    "\n",
    "sc.set_figure_params(dpi=300)\n",
    "sc.pl.umap(adata_log, frameon = False, color = ['COL1A1', 'ENO2', 'AIFM2', 'S100A4', 'GLI1', 'PTCH1', 'PTCH2', 'PDGFRA', 'ATXN1', 'TCF21', 'adv_fibroblasts_score2'], size = 5, legend_fontsize = 5, ncols = 5, color_map='magma_r')"
   ]
  },
  {
   "cell_type": "code",
   "execution_count": null,
   "metadata": {},
   "outputs": [],
   "source": [
    "adata_log.obs['predicted_cell_states'].value_counts()"
   ]
  },
  {
   "cell_type": "code",
   "execution_count": null,
   "metadata": {},
   "outputs": [],
   "source": [
    "# Extract MSCs_like cells as a separate AnnData object and save it to a file\n",
    "MSCs_like_cells = adata_log[adata_log.obs['predicted_cell_states'] == 'MSCs_like']\n",
    "MSCs_like_cells.write_h5ad('data_skin/MSCs_like_cells.h5ad')"
   ]
  },
  {
   "cell_type": "markdown",
   "metadata": {},
   "source": [
    "* Vascular Smooth Muscle Cells"
   ]
  },
  {
   "cell_type": "code",
   "execution_count": null,
   "metadata": {},
   "outputs": [],
   "source": [
    "VSMC_genes = ['ACTA2', 'TAGLN', 'MYH11', 'PDGFRB', 'CNN1', 'TAGLN2', 'MYL9', 'RGS5', 'MYLK', 'HHIP', 'GJA4', 'NOX4']\n",
    "sc.tl.score_genes(adata_log, VSMC_genes, score_name = 'vsmc_score')"
   ]
  },
  {
   "cell_type": "code",
   "execution_count": null,
   "metadata": {},
   "outputs": [],
   "source": [
    "sc.set_figure_params(dpi=300)\n",
    "sc.pl.umap(adata_log, frameon = False, color = ['ACTA2', 'TAGLN', 'leiden', 'vsmc_score'], size = 5, legend_fontsize = 5, ncols = 2, color_map='magma_r')"
   ]
  },
  {
   "cell_type": "code",
   "execution_count": null,
   "metadata": {},
   "outputs": [],
   "source": [
    "sc.set_figure_params(dpi=300)\n",
    "sc.pl.umap(adata_log, frameon = False, color = ['ACTA2', 'TAGLN', 'MYH11', 'PDGFRB', 'CNN1', 'TAGLN2', 'MYL9', 'RGS5', 'MYLK', 'HHIP', 'GJA4', 'NOX4', 'vsmc_score'], size = 5, legend_fontsize = 5, ncols = 5, color_map='magma_r')"
   ]
  },
  {
   "cell_type": "markdown",
   "metadata": {},
   "source": [
    "* Compare vSMCs in leiden 0 to vSMCs in leiden 10"
   ]
  },
  {
   "cell_type": "code",
   "execution_count": null,
   "metadata": {},
   "outputs": [],
   "source": [
    "# Specify the two clusters you want to compare\n",
    "cluster_0 = '0'\n",
    "cluster_10 = '10'\n",
    "\n",
    "# Filter the data to include only the cells from the specified clusters\n",
    "adata_filtered = adata_log[(adata_log.obs['leiden'] == cluster_0) | (adata_log.obs['leiden'] == cluster_10)].copy()\n",
    "\n",
    "# Perform the differential gene expression analysis for cluster 2 vs cluster 19 on the filtered data\n",
    "sc.tl.rank_genes_groups(adata_filtered, groupby='leiden', groups=[cluster_0, cluster_10])\n",
    "\n",
    "# Visualize the results for the specific comparison between cluster 2 and cluster 19\n",
    "sc.pl.rank_genes_groups(adata_filtered, groupby='leiden', key='rank_genes_groups')"
   ]
  },
  {
   "cell_type": "code",
   "execution_count": null,
   "metadata": {},
   "outputs": [],
   "source": [
    "sc.set_figure_params(dpi=300)\n",
    "sc.pl.umap(adata_log, frameon = False, color = ['leiden', 'NME2', 'GSTP1', 'FTX', 'UTRN'], size = 5, legend_fontsize = 5, ncols = 5, color_map='magma_r')"
   ]
  },
  {
   "cell_type": "code",
   "execution_count": null,
   "metadata": {},
   "outputs": [],
   "source": [
    "adata_log.obs['predicted_cell_states'] = adata_log.obs['predicted_cell_states'].cat.add_categories(['contractile_vSMCs', 'vSMCs'])\n",
    "adata_log.obs.loc[(adata_log.obs['leiden'] == '0'), 'predicted_cell_states'] = 'contractile_vSMCs'\n",
    "adata_log.obs.loc[(adata_log.obs['leiden'] == '10'), 'predicted_cell_states'] = 'vSMCs'\n",
    "\n",
    "adata_log.obs['predicted_cell_states'] = adata_log.obs['predicted_cell_states'].cat.remove_categories(['0', '10'])"
   ]
  },
  {
   "cell_type": "code",
   "execution_count": null,
   "metadata": {},
   "outputs": [],
   "source": [
    "adata_log.obs['Cell_States'] = None\n",
    "# Make column categorical\n",
    "adata_log.obs['Cell_States'] = adata_log.obs['Cell_States'].astype('category')\n",
    "\n",
    "# Copy 'Keratinocytes' to 'Cell_States' if 'predicted_cell_states' == 'Keratinocytes'\n",
    "adata_log.obs['Cell_States'] = adata_log.obs['Cell_States'].cat.add_categories(['contractile_vSMCs'])\n",
    "adata_log.obs['Cell_States'][adata_log.obs['predicted_cell_states'] == 'contractile_vSMCs'] = 'contractile_vSMCs'\n",
    "\n",
    "adata_log.obs['Cell_States'] = adata_log.obs['Cell_States'].cat.add_categories(['vSMCs'])\n",
    "adata_log.obs['Cell_States'][adata_log.obs['predicted_cell_states'] == 'vSMCs'] = 'vSMCs'"
   ]
  },
  {
   "cell_type": "code",
   "execution_count": null,
   "metadata": {},
   "outputs": [],
   "source": [
    "sc.set_figure_params(dpi=300)\n",
    "sc.pl.umap(adata_log, frameon = False, color = ['Cell_States'], size = 5, legend_fontsize = 5, ncols = 5, color_map='magma_r')"
   ]
  },
  {
   "cell_type": "markdown",
   "metadata": {},
   "source": [
    "* Pericytes"
   ]
  },
  {
   "cell_type": "code",
   "execution_count": null,
   "metadata": {},
   "outputs": [],
   "source": [
    "vSC = ['ANPEP', 'NT5E', 'THY1', 'ITGB1', 'CD44', 'ENG']\n",
    "sc.tl.score_genes(adata_log, vSC, score_name = 'vSC_score')\n",
    "\n",
    "sc.set_figure_params(dpi=300)\n",
    "sc.pl.umap(adata_log, frameon = False, color = ['ANPEP', 'NT5E', 'THY1', 'ITGB1', 'CD44', 'ENG', 'vSC_score'], size = 5, legend_fontsize = 5, ncols = 3, color_map='magma_r')"
   ]
  },
  {
   "cell_type": "code",
   "execution_count": null,
   "metadata": {},
   "outputs": [],
   "source": [
    "sc.set_figure_params(dpi=300)\n",
    "sc.pl.umap(adata_log, frameon = False, color = ['CIDEA', 'PRDM16', 'ZIC1', 'LHX8', 'EVA1A', 'EPSTI1'], size = 5, legend_fontsize = 5, ncols = 3, color_map='magma_r')"
   ]
  },
  {
   "cell_type": "code",
   "execution_count": null,
   "metadata": {},
   "outputs": [],
   "source": [
    "EPCs = ['BMP2', 'BMP4', 'EFNB2', 'NRP1', 'VEGFC', 'NOTCH1', 'PECAM1']\n",
    "\n",
    "sc.tl.score_genes(adata_log, EPCs, score_name = 'EPCs_score')"
   ]
  },
  {
   "cell_type": "code",
   "execution_count": null,
   "metadata": {},
   "outputs": [],
   "source": [
    "sc.set_figure_params(dpi=300)\n",
    "sc.pl.umap(adata_log, frameon = False, color = ['BMP2', 'BMP4', 'EFNB2', 'NRP1', 'VEGFC', 'NOTCH1', 'PECAM1', 'EPCs_score'], size = 5, legend_fontsize = 5, ncols = 3, color_map='magma_r')"
   ]
  },
  {
   "cell_type": "markdown",
   "metadata": {},
   "source": [
    "+ Pericytes"
   ]
  },
  {
   "cell_type": "code",
   "execution_count": null,
   "metadata": {},
   "outputs": [],
   "source": [
    "pericytes_genes = ['KCNJ8', 'ABCC9', 'VTN', 'ANPEP', 'CD248']\n",
    "\n",
    "sc.tl.score_genes(adata_log, pericytes_genes, score_name = 'pericytes_score')"
   ]
  },
  {
   "cell_type": "code",
   "execution_count": null,
   "metadata": {},
   "outputs": [],
   "source": [
    "sc.set_figure_params(dpi=300)\n",
    "sc.pl.umap(adata_log, frameon = False, color = ['KCNJ8', 'ABCC9', 'VTN', 'ANPEP', 'CD248', 'pericytes_score'], size = 5, legend_fontsize = 5, ncols = 3, color_map='magma_r')"
   ]
  },
  {
   "cell_type": "code",
   "execution_count": null,
   "metadata": {},
   "outputs": [],
   "source": [
    "sc.set_figure_params(dpi=300)\n",
    "sc.pl.umap(adata_log, frameon = False, color = ['KCNJ8', 'leiden', 'Cell_States'], size = 5, legend_fontsize = 5, ncols = 3, color_map='magma_r')"
   ]
  },
  {
   "cell_type": "markdown",
   "metadata": {},
   "source": [
    "+ Mixed mesenchymal cells"
   ]
  },
  {
   "cell_type": "code",
   "execution_count": null,
   "metadata": {},
   "outputs": [],
   "source": [
    "# Specify the two clusters you want to compare\n",
    "cluster_1 = '1'\n",
    "cluster_7 = '7'\n",
    "cluster_8 = '8'\n",
    "cluster_18 = '18'\n",
    "\n",
    "# Filter the data to include only the cells from the specified clusters\n",
    "adata_filtered = adata_log[(adata_log.obs['leiden'] == cluster_1) | (adata_log.obs['leiden'] == cluster_7) | \n",
    "                           (adata_log.obs['leiden'] == cluster_8) | (adata_log.obs['leiden'] == cluster_18)].copy()\n",
    "\n",
    "# Perform the differential gene expression analysis for cluster 2 vs cluster 19 on the filtered data\n",
    "sc.tl.rank_genes_groups(adata_filtered, groupby='leiden', groups=[cluster_1, cluster_7, cluster_8, cluster_18])\n",
    "\n",
    "# Visualize the results for the specific comparison between cluster 2 and cluster 19\n",
    "sc.pl.rank_genes_groups(adata_filtered, groupby='leiden', key='rank_genes_groups')"
   ]
  },
  {
   "cell_type": "code",
   "execution_count": null,
   "metadata": {},
   "outputs": [],
   "source": [
    "sc.set_figure_params(dpi=300)\n",
    "sc.pl.umap(adata_log, frameon = False, color = ['CLSTN2', 'APCDD1', 'RGS5', 'C11orf96'], size = 5, legend_fontsize = 5, ncols = 4, color_map='magma_r')"
   ]
  },
  {
   "cell_type": "code",
   "execution_count": null,
   "metadata": {},
   "outputs": [],
   "source": [
    "adata_log.obs['predicted_cell_states'] = adata_log.obs['predicted_cell_states'].cat.add_categories(['Mixed_pericytes_CLSTN2+',\n",
    "                                                                                                    'Mixed_pericytes_APCDD1+', \n",
    "                                                                                                    'Mixed_pericytes_RGS5+',\n",
    "                                                                                                    'Mixed_pericytes_C11orf96+'])\n",
    "                                                                                                    \n",
    "adata_log.obs.loc[(adata_log.obs['leiden'] == '1'), 'predicted_cell_states'] = 'Mixed_pericytes_CLSTN2+'\n",
    "adata_log.obs.loc[(adata_log.obs['leiden'] == '7'), 'predicted_cell_states'] = 'Mixed_pericytes_APCDD1+'\n",
    "adata_log.obs.loc[(adata_log.obs['leiden'] == '8'), 'predicted_cell_states'] = 'Mixed_pericytes_RGS5+'\n",
    "adata_log.obs.loc[(adata_log.obs['leiden'] == '18'), 'predicted_cell_states'] = 'Mixed_pericytes_C11orf96+'"
   ]
  },
  {
   "cell_type": "code",
   "execution_count": null,
   "metadata": {},
   "outputs": [],
   "source": [
    "adata_log.obs['Cell_States'] = None\n",
    "# Make column categorical\n",
    "adata_log.obs['Cell_States'] = adata_log.obs['Cell_States'].astype('category')\n",
    "\n",
    "# Copy 'Keratinocytes' to 'Cell_States' if 'predicted_cell_states' == 'Keratinocytes'\n",
    "adata_log.obs['Cell_States'] = adata_log.obs['Cell_States'].cat.add_categories(['Mixed_pericytes_CLSTN2+',\n",
    "                                                                                                    'Mixed_pericytes_APCDD1+', \n",
    "                                                                                                    'Mixed_pericytes_RGS5+',\n",
    "                                                                                                    'Mixed_pericytes_C11orf96+'])\n",
    "adata_log.obs['Cell_States'][adata_log.obs['predicted_cell_states'] == 'Mixed_pericytes_CLSTN2+'] = 'Mixed_pericytes_CLSTN2+'\n",
    "adata_log.obs['Cell_States'][adata_log.obs['predicted_cell_states'] == 'Mixed_pericytes_APCDD1+'] = 'Mixed_pericytes_APCDD1+'\n",
    "adata_log.obs['Cell_States'][adata_log.obs['predicted_cell_states'] == 'Mixed_pericytes_RGS5+'] = 'Mixed_pericytes_RGS5+'\n",
    "adata_log.obs['Cell_States'][adata_log.obs['predicted_cell_states'] == 'Mixed_pericytes_C11orf96+'] = 'Mixed_pericytes_C11orf96+'"
   ]
  },
  {
   "cell_type": "code",
   "execution_count": null,
   "metadata": {},
   "outputs": [],
   "source": [
    "sc.set_figure_params(dpi=300)\n",
    "sc.pl.umap(adata_log, frameon = False, color = ['KCNJ8', 'Cell_States'], size = 5, legend_fontsize = 5, ncols = 3, color_map='magma_r')"
   ]
  },
  {
   "cell_type": "markdown",
   "metadata": {},
   "source": [
    "+ Compare fibroblasts and mesenchymal clusters between each other"
   ]
  },
  {
   "cell_type": "code",
   "execution_count": null,
   "metadata": {},
   "outputs": [],
   "source": [
    "# Specify the two clusters you want to compare\n",
    "cluster_1 = '1'\n",
    "cluster_2 = '2'\n",
    "cluster_7 = '7'\n",
    "cluster_8 = '8'\n",
    "cluster_18 = '18'\n",
    "cluster_19 = '19'\n",
    "\n",
    "# Filter the data to include only the cells from the specified clusters\n",
    "adata_filtered = adata_log[(adata_log.obs['leiden'] == cluster_1) | (adata_log.obs['leiden'] == cluster_2) |\n",
    "                           (adata_log.obs['leiden'] == cluster_7) | (adata_log.obs['leiden'] == cluster_8) |\n",
    "                           (adata_log.obs['leiden'] == cluster_18) | (adata_log.obs['leiden'] == cluster_19)].copy()\n",
    "\n",
    "# Perform the differential gene expression analysis for cluster 2 vs cluster 19 on the filtered data\n",
    "sc.tl.rank_genes_groups(adata_filtered, groupby='leiden')\n",
    "\n",
    "# Visualize the results for the specific comparison between cluster 2 and cluster 19\n",
    "sc.pl.rank_genes_groups(adata_filtered, groupby='leiden', key='rank_genes_groups')"
   ]
  },
  {
   "cell_type": "code",
   "execution_count": null,
   "metadata": {},
   "outputs": [],
   "source": [
    "# Filter the data to include only the cells from the specified clusters\n",
    "adata_filtered = adata_log[(adata_log.obs['leiden'] == cluster_1) | \n",
    "                           (adata_log.obs['leiden'] == cluster_7) | (adata_log.obs['leiden'] == cluster_8) |\n",
    "                           (adata_log.obs['leiden'] == cluster_18) ].copy()\n",
    "\n",
    "# Perform the differential gene expression analysis for cluster 2 vs cluster 19 on the filtered data\n",
    "sc.tl.rank_genes_groups(adata_filtered, groupby='leiden')\n",
    "\n",
    "# Visualize the results for the specific comparison between cluster 2 and cluster 19\n",
    "sc.pl.rank_genes_groups(adata_filtered, groupby='leiden', key='rank_genes_groups')"
   ]
  }
 ],
 "metadata": {
  "kernelspec": {
   "display_name": "Scanpy",
   "language": "python",
   "name": "scnapy-server"
  },
  "language_info": {
   "codemirror_mode": {
    "name": "ipython",
    "version": 3
   },
   "file_extension": ".py",
   "mimetype": "text/x-python",
   "name": "python",
   "nbconvert_exporter": "python",
   "pygments_lexer": "ipython3",
   "version": "3.11.5"
  }
 },
 "nbformat": 4,
 "nbformat_minor": 2
}
