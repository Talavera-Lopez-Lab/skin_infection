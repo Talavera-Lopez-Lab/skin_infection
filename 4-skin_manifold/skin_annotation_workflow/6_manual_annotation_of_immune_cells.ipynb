{
 "cells": [
  {
   "cell_type": "markdown",
   "metadata": {},
   "source": [
    "### Notebook for the manual annotation of immune cell states for all skin\n",
    "\n",
    "- **Developed by:** Anna Maguza\n",
    "- **Würzburg Institute for Systems Immunology & Julius-Maximilian-Universität Würzburg**\n",
    "- **Date:** 5th of March 2024"
   ]
  },
  {
   "cell_type": "markdown",
   "metadata": {},
   "source": [
    "### Import required modules"
   ]
  },
  {
   "cell_type": "code",
   "execution_count": null,
   "metadata": {},
   "outputs": [],
   "source": [
    "import numpy as np\n",
    "import pandas as pd\n",
    "import scanpy as sc\n",
    "import seaborn as sns\n",
    "import anndata as ad"
   ]
  },
  {
   "cell_type": "markdown",
   "metadata": {},
   "source": [
    "### Set up working environment"
   ]
  },
  {
   "cell_type": "code",
   "execution_count": null,
   "metadata": {},
   "outputs": [],
   "source": [
    "sc.settings.verbosity = 3\n",
    "sc.logging.print_versions()\n",
    "sc.settings.set_figure_params(dpi = 180, color_map = 'RdPu', dpi_save = 300, vector_friendly = True, format = 'svg')"
   ]
  },
  {
   "cell_type": "markdown",
   "metadata": {},
   "source": [
    "### Read in Human skin dataset"
   ]
  },
  {
   "cell_type": "code",
   "execution_count": null,
   "metadata": {},
   "outputs": [],
   "source": [
    "adata= sc.read_h5ad('data_skin/SCC0120_1_Skin_scANVI_leiden_Anna.h5ad') \n",
    "adata"
   ]
  },
  {
   "cell_type": "markdown",
   "metadata": {},
   "source": [
    "* Normalize and log transform"
   ]
  },
  {
   "cell_type": "code",
   "execution_count": null,
   "metadata": {},
   "outputs": [],
   "source": [
    "adata_log = ad.AnnData(X = adata.X,  var = adata.var, obs = adata.obs, obsm = adata.obsm)\n",
    "sc.pp.normalize_total(adata_log, target_sum = 1e6, exclude_highly_expressed = True)\n",
    "sc.pp.log1p(adata_log)\n",
    "adata_log.layers[\"sqrt_norm\"] = np.sqrt(\n",
    "    sc.pp.normalize_total(adata_log, inplace = False)[\"X\"]\n",
    ")"
   ]
  },
  {
   "cell_type": "code",
   "execution_count": null,
   "metadata": {},
   "outputs": [],
   "source": [
    "adata_log.obs['predicted_cell_states'] = adata.obs['leiden'].copy()"
   ]
  },
  {
   "cell_type": "markdown",
   "metadata": {},
   "source": [
    "### Add known annotations"
   ]
  },
  {
   "cell_type": "code",
   "execution_count": null,
   "metadata": {},
   "outputs": [],
   "source": [
    "adata_log.obs['predicted_cell_states'] = adata_log.obs['predicted_cell_states'].cat.add_categories(['Keratinocytes',\n",
    "                                                                                                    'Melanocytes',\n",
    "                                                                                                    'Neuronal', \n",
    "                                                                                                    'Artery_VE', \n",
    "                                                                                                    'Vein_VE',\n",
    "                                                                                                    'LE',\n",
    "                                                                                                    'Fibroblasts_PRR16+', \n",
    "                                                                                                    'Fibroblasts_ITGA6+',\n",
    "                                                                                                    'contractile_vSMCs', \n",
    "                                                                                                    'vSMCs',\n",
    "                                                                                                    'Mixed_pericytes_CLSTN2+',\n",
    "                                                                                                    'Mixed_pericytes_APCDD1+', \n",
    "                                                                                                    'Mixed_pericytes_RGS5+',\n",
    "                                                                                                    'Mixed_pericytes_C11orf96+'\n",
    "                                                                                                    ])"
   ]
  },
  {
   "cell_type": "code",
   "execution_count": null,
   "metadata": {},
   "outputs": [],
   "source": [
    "keratinocyte_genes = ['KRT1', 'KRT5', 'KRT14', 'KRT15', 'ALDH2', 'ATP1B1', 'CD44', 'TFRC', 'DEFB1', \n",
    "                      'FASN', 'GJB2', 'ITGA6', 'KRT10', 'KRT19', 'KRT8', \n",
    "                      'KRT2', 'UBE2C']\n",
    "sc.tl.score_genes(adata_log, keratinocyte_genes, score_name = 'keratinocytes_cells_score')\n",
    "\n",
    "adata_log.obs['predicted_cell_states'][adata_log.obs['keratinocytes_cells_score'] > 1] = 'Keratinocytes'"
   ]
  },
  {
   "cell_type": "code",
   "execution_count": null,
   "metadata": {},
   "outputs": [],
   "source": [
    "melanocytes_genes = ['MLANA', 'PMEL', 'DCT', 'MITF', 'APOD', 'ATP1B1', 'KIT',\n",
    "                     'ME1', 'ME2', 'PHLDA1', 'S100A1', 'SOX10', 'TYR', \n",
    "                     'TYRP1', 'DCT']\n",
    "sc.tl.score_genes(adata_log, melanocytes_genes, score_name = 'melanocytes_score')\n",
    "\n",
    "adata_log.obs.loc[(adata_log.obs['leiden'] == '20'), 'predicted_cell_states'] = 'Melanocytes'\n",
    "\n",
    "condition = (adata_log.obs['leiden'] == '15') & (adata_log.obs['melanocytes_score'] > 2)\n",
    "adata_log.obs.loc[condition, 'predicted_cell_states'] = 'Melanocytes'"
   ]
  },
  {
   "cell_type": "code",
   "execution_count": null,
   "metadata": {},
   "outputs": [],
   "source": [
    "adata_log.obs.loc[(adata_log.obs['leiden'] == '16'), 'predicted_cell_states'] = 'Neuronal'"
   ]
  },
  {
   "cell_type": "code",
   "execution_count": null,
   "metadata": {},
   "outputs": [],
   "source": [
    "adata_log.obs.loc[(adata_log.obs['leiden'] == '9'), 'predicted_cell_states'] = 'Artery_VE'\n",
    "adata_log.obs.loc[(adata_log.obs['leiden'] == '5'), 'predicted_cell_states'] = 'Vein_VE'\n",
    "adata_log.obs.loc[(adata_log.obs['leiden'] == '17'), 'predicted_cell_states'] = 'LE'"
   ]
  },
  {
   "cell_type": "code",
   "execution_count": null,
   "metadata": {},
   "outputs": [],
   "source": [
    "adata_log.obs.loc[(adata_log.obs['leiden'] == '2'), 'predicted_cell_states'] = 'Fibroblasts_PRR16+'\n",
    "adata_log.obs.loc[(adata_log.obs['leiden'] == '19'), 'predicted_cell_states'] = 'Fibroblasts_ITGA6+'"
   ]
  },
  {
   "cell_type": "code",
   "execution_count": null,
   "metadata": {},
   "outputs": [],
   "source": [
    "adata_log.obs.loc[(adata_log.obs['leiden'] == '0'), 'predicted_cell_states'] = 'contractile_vSMCs'\n",
    "adata_log.obs.loc[(adata_log.obs['leiden'] == '10'), 'predicted_cell_states'] = 'vSMCs'"
   ]
  },
  {
   "cell_type": "code",
   "execution_count": null,
   "metadata": {},
   "outputs": [],
   "source": [
    "adata_log.obs.loc[(adata_log.obs['leiden'] == '1'), 'predicted_cell_states'] = 'Mixed_pericytes_CLSTN2+'\n",
    "adata_log.obs.loc[(adata_log.obs['leiden'] == '7'), 'predicted_cell_states'] = 'Mixed_pericytes_APCDD1+'\n",
    "adata_log.obs.loc[(adata_log.obs['leiden'] == '8'), 'predicted_cell_states'] = 'Mixed_pericytes_RGS5+'\n",
    "adata_log.obs.loc[(adata_log.obs['leiden'] == '18'), 'predicted_cell_states'] = 'Mixed_pericytes_C11orf96+'"
   ]
  },
  {
   "cell_type": "code",
   "execution_count": null,
   "metadata": {},
   "outputs": [],
   "source": [
    "adata_log.obs['predicted_cell_states'] = adata_log.obs['predicted_cell_states'].cat.remove_categories(['8', '7', '18', '1', '0', '20',\n",
    "                                                                                                       '16', '9', '5', '17', '2', '19', '10'])"
   ]
  },
  {
   "cell_type": "code",
   "execution_count": null,
   "metadata": {},
   "outputs": [],
   "source": [
    "adata_log.obs['predicted_cell_states'].value_counts()"
   ]
  },
  {
   "cell_type": "code",
   "execution_count": null,
   "metadata": {},
   "outputs": [],
   "source": [
    "sc.set_figure_params(dpi=300)\n",
    "sc.pl.umap(adata_log, frameon = False, color = ['predicted_cell_states' ], size = 5, legend_fontsize = 5, ncols = 4, color_map='magma_r')"
   ]
  },
  {
   "cell_type": "markdown",
   "metadata": {},
   "source": [
    "### Add immune cells"
   ]
  },
  {
   "cell_type": "markdown",
   "metadata": {},
   "source": [
    "* Cytotoxic T cells"
   ]
  },
  {
   "cell_type": "code",
   "execution_count": null,
   "metadata": {},
   "outputs": [],
   "source": [
    "ct_genes = ['CD8A', 'CD8B']\n",
    "th_genes = ['CD4', 'CD40LG']\n",
    "\n",
    "sc.tl.score_genes(adata_log, ct_genes, score_name = 'Tc_score')\n",
    "sc.tl.score_genes(adata_log, th_genes, score_name = 'Th_score')"
   ]
  },
  {
   "cell_type": "code",
   "execution_count": null,
   "metadata": {},
   "outputs": [],
   "source": [
    "sc.set_figure_params(dpi=300)\n",
    "sc.pl.umap(adata_log, frameon = False, color = ['CD8A', 'CD8B', 'Tc_score', 'CD4', 'CD40LG', 'Th_score'], size = 5, legend_fontsize = 5, ncols = 3, color_map='magma_r')"
   ]
  },
  {
   "cell_type": "code",
   "execution_count": null,
   "metadata": {},
   "outputs": [],
   "source": [
    "adata_log.obs['predicted_cell_states'] = adata_log.obs['predicted_cell_states'].cat.add_categories(['Tc', 'Th'])\n",
    "adata_log.obs.loc[(adata_log.obs['leiden'] == '4'), 'predicted_cell_states'] = 'Tc'\n",
    "adata_log.obs.loc[(adata_log.obs['leiden'] == '3'), 'predicted_cell_states'] = 'Th'\n",
    "\n",
    "adata_log.obs['predicted_cell_states'] = adata_log.obs['predicted_cell_states'].cat.remove_categories(['4', '3'])"
   ]
  },
  {
   "cell_type": "markdown",
   "metadata": {},
   "source": [
    "+ Divide cluster 11 into Tc and Th"
   ]
  },
  {
   "cell_type": "code",
   "execution_count": null,
   "metadata": {},
   "outputs": [],
   "source": [
    "sc.set_figure_params(dpi=300)\n",
    "sc.pl.umap(adata_log, frameon = False, color = ['predicted_cell_states' ], size = 5, legend_fontsize = 5, ncols = 4, color_map='magma_r')"
   ]
  },
  {
   "cell_type": "code",
   "execution_count": null,
   "metadata": {},
   "outputs": [],
   "source": [
    "umap_coordinates = adata.obsm['X_umap']\n",
    "leiden_clusters = adata.obs['leiden']\n",
    "cluster_14_cells = adata[leiden_clusters == '14']\n",
    "umap_coordinates_cluster_14 = umap_coordinates[adata.obs_names.isin(cluster_14_cells.obs_names)]"
   ]
  },
  {
   "cell_type": "code",
   "execution_count": null,
   "metadata": {},
   "outputs": [],
   "source": [
    "cluster_6_cells = adata[leiden_clusters == '6']\n",
    "umap_coordinates_cluster_6 = umap_coordinates[adata.obs_names.isin(cluster_6_cells.obs_names)]"
   ]
  },
  {
   "cell_type": "code",
   "execution_count": null,
   "metadata": {},
   "outputs": [],
   "source": [
    "# Step 1: Access UMAP coordinates and Leiden cluster assignments\n",
    "umap_coordinates = adata_log.obsm['X_umap']\n",
    "leiden_clusters = adata_log.obs['leiden']\n",
    "\n",
    "# Step 2: Identify cells in cluster 11\n",
    "cluster_11_cells = adata_log[leiden_clusters == '11']\n",
    "\n",
    "# Step 3: Identify cells in cluster 11 that are higher than 14 on the y-coordinate and label them as 'Tc'\n",
    "threshold = 16\n",
    "# Mask for cells higher than the threshold on the y-coordinate\n",
    "cluster_11_higher_y_mask = umap_coordinates[adata_log.obs_names.isin(cluster_11_cells.obs_names), 1] > threshold\n",
    "adata_log.obs.loc[cluster_11_cells.obs_names[cluster_11_higher_y_mask], 'predicted_cell_states'] = 'Tc'\n",
    "\n",
    "# Step 4: Label all other cells in cluster 11 as 'Th'\n",
    "# Now checking if they're labeled as '11' (their default state) and not as 'Tc'\n",
    "cluster_11_remaining_mask = (leiden_clusters == '11') & (adata_log.obs['predicted_cell_states'] != 'Tc')\n",
    "adata_log.obs.loc[cluster_11_remaining_mask, 'predicted_cell_states'] = 'Th'"
   ]
  },
  {
   "cell_type": "code",
   "execution_count": null,
   "metadata": {},
   "outputs": [],
   "source": [
    "condition = (adata_log.obs['leiden'] == '11') & (adata_log.obs['Tc_score'] > 2)\n",
    "adata_log.obs.loc[condition, 'predicted_cell_states'] = 'Tc'\n",
    "\n",
    "condition = (adata_log.obs['leiden'] == '11') & (adata_log.obs['Th_score'] > 2)\n",
    "adata_log.obs.loc[condition, 'predicted_cell_states'] = 'Th'"
   ]
  },
  {
   "cell_type": "code",
   "execution_count": null,
   "metadata": {},
   "outputs": [],
   "source": [
    "sc.set_figure_params(dpi=300)\n",
    "sc.pl.umap(adata_log, frameon = False, color = ['predicted_cell_states' ], size = 5, legend_fontsize = 5, ncols = 4, color_map='magma_r')"
   ]
  },
  {
   "cell_type": "markdown",
   "metadata": {},
   "source": [
    "* Natural Killers"
   ]
  },
  {
   "cell_type": "code",
   "execution_count": null,
   "metadata": {},
   "outputs": [],
   "source": [
    "nk_genes = ['KLRD1', 'GNLY', 'PRF1', 'GZMB', 'FCGR3A']\n",
    "sc.tl.score_genes(adata_log, nk_genes, score_name = 'nk_score')"
   ]
  },
  {
   "cell_type": "code",
   "execution_count": null,
   "metadata": {},
   "outputs": [],
   "source": [
    "sc.set_figure_params(dpi=300)\n",
    "sc.pl.umap(adata_log, frameon = False, color = ['KLRD1', 'GNLY', 'PRF1', 'GZMB', 'FCGR3A', 'nk_score'], size = 5, legend_fontsize = 5, ncols = 5, color_map='magma_r')"
   ]
  },
  {
   "cell_type": "code",
   "execution_count": null,
   "metadata": {},
   "outputs": [],
   "source": [
    "adata_log.obs['predicted_cell_states'] = adata_log.obs['predicted_cell_states'].cat.add_categories(['NK_cells'])\n",
    "adata_log.obs.loc[(adata_log.obs['leiden'] == '6'), 'predicted_cell_states'] = 'NK_cells'\n",
    "\n",
    "adata_log.obs['predicted_cell_states'] = adata_log.obs['predicted_cell_states'].cat.remove_categories(['6'])"
   ]
  },
  {
   "cell_type": "code",
   "execution_count": null,
   "metadata": {},
   "outputs": [],
   "source": [
    "condition = (adata_log.obs['leiden'] == '4') & (adata_log.obs['nk_score'] > 4)\n",
    "\n",
    "adata_log.obs.loc[condition, 'predicted_cell_states'] = 'NK_cells'\n",
    "\n",
    "condition = (adata_log.obs['leiden'] == '11') & (adata_log.obs['nk_score'] > 4)\n",
    "adata_log.obs.loc[condition, 'predicted_cell_states'] = 'NK_cells'"
   ]
  },
  {
   "cell_type": "markdown",
   "metadata": {},
   "source": [
    "* T-regulatory"
   ]
  },
  {
   "cell_type": "code",
   "execution_count": null,
   "metadata": {},
   "outputs": [],
   "source": [
    "t_reg = ['FOXP3', 'TIGIT', 'CTLA4']"
   ]
  },
  {
   "cell_type": "code",
   "execution_count": null,
   "metadata": {},
   "outputs": [],
   "source": [
    "sc.tl.score_genes(adata_log, t_reg, score_name = 't_reg_score')"
   ]
  },
  {
   "cell_type": "code",
   "execution_count": null,
   "metadata": {},
   "outputs": [],
   "source": [
    "sc.set_figure_params(dpi=300)\n",
    "sc.pl.umap(adata_log, frameon = False, color = ['FOXP3', 'TIGIT', 'CTLA4', 't_reg_score'], size = 5, legend_fontsize = 5, ncols = 5, color_map='magma_r')"
   ]
  },
  {
   "cell_type": "code",
   "execution_count": null,
   "metadata": {},
   "outputs": [],
   "source": [
    "adata_log.obs['predicted_cell_states'] = adata_log.obs['predicted_cell_states'].cat.add_categories(['T_reg'])\n",
    "adata_log.obs.loc[(adata_log.obs['leiden'] == '13'), 'predicted_cell_states'] = 'T_reg'\n",
    "adata_log.obs['predicted_cell_states'] = adata_log.obs['predicted_cell_states'].cat.remove_categories(['13'])"
   ]
  },
  {
   "cell_type": "markdown",
   "metadata": {},
   "source": [
    "* NKT"
   ]
  },
  {
   "cell_type": "code",
   "execution_count": null,
   "metadata": {},
   "outputs": [],
   "source": [
    "nkt_genes = ['NKG7', 'GNLY', 'CD8A']\n",
    "sc.tl.score_genes(adata_log, nkt_genes, score_name = 'nkt_score')"
   ]
  },
  {
   "cell_type": "code",
   "execution_count": null,
   "metadata": {},
   "outputs": [],
   "source": [
    "sc.set_figure_params(dpi=300)\n",
    "sc.pl.umap(adata_log, frameon = False, color = ['NKG7', 'GNLY', 'CD8A', 'nkt_score'], size = 5, legend_fontsize = 5, ncols = 5, color_map='magma_r')"
   ]
  },
  {
   "cell_type": "code",
   "execution_count": null,
   "metadata": {},
   "outputs": [],
   "source": [
    "adata_log.obs['predicted_cell_states'] = adata_log.obs['predicted_cell_states'].cat.add_categories(['NKT'])\n",
    "condition = (adata_log.obs['leiden'] == '4') & (adata_log.obs['nkt_score'] > 4)\n",
    "adata_log.obs.loc[condition, 'predicted_cell_states'] = 'NKT'\n",
    "\n",
    "condition = (adata_log.obs['leiden'] == '11') & (adata_log.obs['nkt_score'] > 4)\n",
    "adata_log.obs.loc[condition, 'predicted_cell_states'] = 'NKT'"
   ]
  },
  {
   "cell_type": "markdown",
   "metadata": {},
   "source": [
    "* Plasma cells"
   ]
  },
  {
   "cell_type": "code",
   "execution_count": null,
   "metadata": {},
   "outputs": [],
   "source": [
    "plasma_genes = ['CD79A', 'JCHAIN', 'IGKC']\n",
    "\n",
    "sc.tl.score_genes(adata_log, plasma_genes, score_name = 'plasma_score')"
   ]
  },
  {
   "cell_type": "code",
   "execution_count": null,
   "metadata": {},
   "outputs": [],
   "source": [
    "sc.set_figure_params(dpi=300)\n",
    "sc.pl.umap(adata_log, frameon = False, color = ['CD79A', 'JCHAIN', 'IGKC', 'leiden', 'plasma_score'], size = 5, legend_fontsize = 5, ncols = 4, color_map='magma_r')"
   ]
  },
  {
   "cell_type": "code",
   "execution_count": null,
   "metadata": {},
   "outputs": [],
   "source": [
    "#adata_log.obs['predicted_cell_states'] = adata_log.obs['predicted_cell_states'].cat.add_categories(['Plasma_cells'])\n",
    "#condition = (adata_log.obs['leiden'] == '15') & (adata_log.obs['plasma_score'] > 2)\n",
    "\n",
    "#adata_log.obs.loc[condition, 'predicted_cell_states'] = 'Plasma_cells'"
   ]
  },
  {
   "cell_type": "code",
   "execution_count": null,
   "metadata": {},
   "outputs": [],
   "source": [
    "adata_log.obs['predicted_cell_states'].value_counts()"
   ]
  },
  {
   "cell_type": "code",
   "execution_count": null,
   "metadata": {},
   "outputs": [],
   "source": [
    "adata_log.obs['Cell_States'] = None\n",
    "# Make column categorical\n",
    "adata_log.obs['Cell_States'] = adata_log.obs['Cell_States'].astype('category')\n",
    "\n",
    "# Copy 'Keratinocytes' to 'Cell_States' if 'predicted_cell_states' == 'Keratinocytes'\n",
    "adata_log.obs['Cell_States'] = adata_log.obs['Cell_States'].cat.add_categories(['Plasma_cells'])\n",
    "adata_log.obs['Cell_States'][adata_log.obs['predicted_cell_states'] == 'Plasma_cells'] = 'Plasma_cells'"
   ]
  },
  {
   "cell_type": "code",
   "execution_count": null,
   "metadata": {},
   "outputs": [],
   "source": [
    "sc.set_figure_params(dpi=300)\n",
    "sc.pl.umap(adata_log, frameon = False, color = ['plasma_score', 'Cell_States'], size = 5, legend_fontsize = 5, ncols = 4, color_map='magma_r')"
   ]
  },
  {
   "cell_type": "markdown",
   "metadata": {},
   "source": [
    "* ILC"
   ]
  },
  {
   "cell_type": "code",
   "execution_count": null,
   "metadata": {},
   "outputs": [],
   "source": [
    "ilc_genes = ['S100A13', 'TLE1', 'AREG']"
   ]
  },
  {
   "cell_type": "code",
   "execution_count": null,
   "metadata": {},
   "outputs": [],
   "source": [
    "sc.tl.score_genes(adata_log, ilc_genes, score_name = 'ilc_score')"
   ]
  },
  {
   "cell_type": "code",
   "execution_count": null,
   "metadata": {},
   "outputs": [],
   "source": [
    "sc.set_figure_params(dpi=300)\n",
    "sc.pl.umap(adata_log, frameon = False, color = ['S100A13', 'TLE1', 'AREG', 'ilc_score'], size = 5, legend_fontsize = 5, ncols = 5, color_map='magma_r')"
   ]
  },
  {
   "cell_type": "markdown",
   "metadata": {},
   "source": [
    "* ILC1"
   ]
  },
  {
   "cell_type": "code",
   "execution_count": null,
   "metadata": {},
   "outputs": [],
   "source": [
    "ilc1_genes = ['CXCR3', 'CD3D', 'IKZF3']\n",
    "sc.tl.score_genes(adata_log, ilc1_genes, score_name = 'ilc1_score')\n",
    "\n",
    "sc.set_figure_params(dpi=300)\n",
    "sc.pl.umap(adata_log, frameon = False, color = ['CXCR3', 'CD3D', 'IKZF3', 'ilc1_score'], size = 5, legend_fontsize = 5, ncols = 5, color_map='magma_r')"
   ]
  },
  {
   "cell_type": "markdown",
   "metadata": {},
   "source": [
    "* ILC2"
   ]
  },
  {
   "cell_type": "code",
   "execution_count": null,
   "metadata": {},
   "outputs": [],
   "source": [
    "ilc2_genes = ['GATA3', 'KLRG1', 'HPGDS']\n",
    "sc.tl.score_genes(adata_log, ilc2_genes, score_name = 'ilc2_score')\n",
    "\n",
    "sc.set_figure_params(dpi=300)\n",
    "sc.pl.umap(adata_log, frameon = False, color = ['GATA3', 'KLRG1', 'HPGDS', 'ilc2_score'], size = 5, legend_fontsize = 5, ncols = 5, color_map='magma_r')"
   ]
  },
  {
   "cell_type": "markdown",
   "metadata": {},
   "source": [
    "* ILC3"
   ]
  },
  {
   "cell_type": "code",
   "execution_count": null,
   "metadata": {},
   "outputs": [],
   "source": [
    "ilc3_genes = ['IL4I1', 'RORC', 'KIT']\n",
    "sc.tl.score_genes(adata_log, ilc3_genes, score_name = 'ilc3_score')\n",
    "\n",
    "sc.set_figure_params(dpi=300)\n",
    "sc.pl.umap(adata_log, frameon = False, color = ['IL4I1', 'RORC', 'KIT', 'ilc3_score'], size = 5, legend_fontsize = 5, ncols = 5, color_map='magma_r')"
   ]
  },
  {
   "cell_type": "code",
   "execution_count": null,
   "metadata": {},
   "outputs": [],
   "source": [
    "adata_log.obs['predicted_cell_states'] = adata_log.obs['predicted_cell_states'].cat.add_categories(['ILC3'])\n",
    "adata_log.obs.loc[(adata_log.obs['leiden'] == '14'), 'predicted_cell_states'] = 'ILC3'\n",
    "adata_log.obs['predicted_cell_states'] = adata_log.obs['predicted_cell_states'].cat.remove_categories(['14'])"
   ]
  },
  {
   "cell_type": "markdown",
   "metadata": {},
   "source": [
    "* Mast cells\n"
   ]
  },
  {
   "cell_type": "code",
   "execution_count": null,
   "metadata": {},
   "outputs": [],
   "source": [
    "mast_genes = ['TPSAB1', 'TPSB2', 'CPA3']\n",
    "sc.tl.score_genes(adata_log, mast_genes, score_name = 'mast_score')\n",
    "\n",
    "sc.set_figure_params(dpi=300)\n",
    "sc.pl.umap(adata_log, frameon = False, color = ['TPSAB1', 'TPSB2', 'CPA3', 'mast_score'], size = 5, legend_fontsize = 5, ncols = 5, color_map='magma_r')"
   ]
  },
  {
   "cell_type": "code",
   "execution_count": null,
   "metadata": {},
   "outputs": [],
   "source": [
    "adata_log.obs['predicted_cell_states'] = adata_log.obs['predicted_cell_states'].cat.add_categories(['Mast_cells'])\n",
    "condition = (adata_log.obs['leiden'] == '12') & (adata_log.obs['mast_score'] > 2)\n",
    "adata_log.obs.loc[condition, 'predicted_cell_states'] = 'Mast_cells'"
   ]
  },
  {
   "cell_type": "markdown",
   "metadata": {},
   "source": [
    "* gamma delta T cells"
   ]
  },
  {
   "cell_type": "code",
   "execution_count": null,
   "metadata": {},
   "outputs": [],
   "source": [
    "gamma_delta_t_cells = ['TRDC', 'TRGC1', 'CCL5']"
   ]
  },
  {
   "cell_type": "code",
   "execution_count": null,
   "metadata": {},
   "outputs": [],
   "source": [
    "sc.tl.score_genes(adata_log, gamma_delta_t_cells, score_name = 'gamma_delta_t_cells_score')"
   ]
  },
  {
   "cell_type": "code",
   "execution_count": null,
   "metadata": {},
   "outputs": [],
   "source": [
    "sc.set_figure_params(dpi=300)\n",
    "sc.pl.umap(adata_log, frameon = False, color = ['TRDC', 'TRGC1', 'CCL5', 'gamma_delta_t_cells_score'], size = 5, legend_fontsize = 5, ncols = 5, color_map='magma_r')"
   ]
  },
  {
   "cell_type": "markdown",
   "metadata": {},
   "source": [
    "+ B cells"
   ]
  },
  {
   "cell_type": "code",
   "execution_count": null,
   "metadata": {},
   "outputs": [],
   "source": [
    "b_genes = ['CD79A', 'MS4A1', 'CD19']\n",
    "sc.tl.score_genes(adata_log, b_genes, score_name = 'b_score')\n",
    "\n",
    "sc.set_figure_params(dpi=300)\n",
    "sc.pl.umap(adata_log, frameon = False, color = ['CD79A', 'MS4A1', 'CD19', 'b_score'], size = 5, legend_fontsize = 5, ncols = 5, color_map='magma_r')"
   ]
  },
  {
   "cell_type": "code",
   "execution_count": null,
   "metadata": {},
   "outputs": [],
   "source": [
    "adata_log.obs['predicted_cell_states'] = adata_log.obs['predicted_cell_states'].cat.add_categories(['B_cells'])\n",
    "condition = (adata_log.obs['leiden'] == '15') & (adata_log.obs['b_score'] > 2)\n",
    "adata_log.obs.loc[condition, 'predicted_cell_states'] = 'B_cells'"
   ]
  },
  {
   "cell_type": "code",
   "execution_count": null,
   "metadata": {},
   "outputs": [],
   "source": [
    "adata_log.obs['predicted_cell_states'].value_counts()"
   ]
  },
  {
   "cell_type": "code",
   "execution_count": null,
   "metadata": {},
   "outputs": [],
   "source": [
    "adata_log.obs['Cell_States'] = None\n",
    "# Make column categorical\n",
    "adata_log.obs['Cell_States'] = adata_log.obs['Cell_States'].astype('category')\n",
    "\n",
    "# Copy 'Keratinocytes' to 'Cell_States' if 'predicted_cell_states' == 'Keratinocytes'\n",
    "adata_log.obs['Cell_States'] = adata_log.obs['Cell_States'].cat.add_categories(['Tc', 'Th', 'NK_cells', 'T_reg', 'NKT', 'ILC3', 'Mast_cells', 'B_cells'])\n",
    "adata_log.obs['Cell_States'][adata_log.obs['predicted_cell_states'] == 'Tc'] = 'Tc'\n",
    "adata_log.obs['Cell_States'][adata_log.obs['predicted_cell_states'] == 'Th'] = 'Th'\n",
    "adata_log.obs['Cell_States'][adata_log.obs['predicted_cell_states'] == 'NK_cells'] = 'NK_cells'\n",
    "adata_log.obs['Cell_States'][adata_log.obs['predicted_cell_states'] == 'T_reg'] = 'T_reg'\n",
    "adata_log.obs['Cell_States'][adata_log.obs['predicted_cell_states'] == 'NKT'] = 'NKT'\n",
    "adata_log.obs['Cell_States'][adata_log.obs['predicted_cell_states'] == 'ILC3'] = 'ILC3'\n",
    "adata_log.obs['Cell_States'][adata_log.obs['predicted_cell_states'] == 'Mast_cells'] = 'Mast_cells'\n",
    "adata_log.obs['Cell_States'][adata_log.obs['predicted_cell_states'] == 'B_cells'] = 'B_cells'"
   ]
  },
  {
   "cell_type": "code",
   "execution_count": null,
   "metadata": {},
   "outputs": [],
   "source": [
    "sc.set_figure_params(dpi=300)\n",
    "sc.pl.umap(adata_log, frameon = False, color = ['Tc_score', 'Th_score', 't_reg_score', 'nk_score',\n",
    "                                                'nkt_score', 'ilc_score', 'ilc3_score', 'mast_score', 'b_score', 'Cell_States'], size = 5, legend_fontsize = 5, ncols = 5, color_map='magma_r')"
   ]
  },
  {
   "cell_type": "code",
   "execution_count": null,
   "metadata": {},
   "outputs": [],
   "source": [
    "sc.set_figure_params(dpi=300)\n",
    "sc.pl.umap(adata_log, frameon = False, color = ['CD8A', 'CD8B', 'CD4', 'CD40LG',\n",
    "                                                'FOXP3', 'TIGIT', 'CTLA4', 'KLRD1', 'GNLY', 'PRF1', 'GZMB', 'FCGR3A',\n",
    "                                                'NKG7', 'CD79A', 'JCHAIN', 'IGKC', 'MS4A1', 'CD19', 'IL4I1', 'RORC', 'KIT', 'S100A13', 'TLE1', 'AREG'], size = 5, legend_fontsize = 5, ncols = 6, color_map='magma_r')"
   ]
  },
  {
   "cell_type": "markdown",
   "metadata": {},
   "source": [
    "### APCs"
   ]
  },
  {
   "cell_type": "markdown",
   "metadata": {},
   "source": [
    "+ Macrophages"
   ]
  },
  {
   "cell_type": "code",
   "execution_count": null,
   "metadata": {},
   "outputs": [],
   "source": [
    "macrophage_genes = ['C1QA', 'CD68', 'TREM2']\n",
    "sc.tl.score_genes(adata_log, macrophage_genes, score_name = 'macrophage_score')\n",
    "\n",
    "sc.set_figure_params(dpi=300)\n",
    "sc.pl.umap(adata_log, frameon = False, color = ['C1QA', 'CD68', 'TREM2', 'macrophage_score'], size = 5, legend_fontsize = 5, ncols = 5, color_map='magma_r')"
   ]
  },
  {
   "cell_type": "markdown",
   "metadata": {},
   "source": [
    "+ Monocyte"
   ]
  },
  {
   "cell_type": "code",
   "execution_count": null,
   "metadata": {},
   "outputs": [],
   "source": [
    "monocyte_genes = ['S100A9', 'LYZ', 'FCN1']\n",
    "sc.tl.score_genes(adata_log, monocyte_genes, score_name = 'monocyte_score')\n",
    "\n",
    "sc.set_figure_params(dpi=300)\n",
    "sc.pl.umap(adata_log, frameon = False, color = ['S100A9', 'LYZ', 'FCN1', 'monocyte_score'], size = 5, legend_fontsize = 5, ncols = 5, color_map='magma_r')"
   ]
  },
  {
   "cell_type": "markdown",
   "metadata": {},
   "source": [
    "+ Mono-mac cells"
   ]
  },
  {
   "cell_type": "code",
   "execution_count": null,
   "metadata": {},
   "outputs": [],
   "source": [
    "monomac = ['TYROBP', 'C1QA', 'HMOX1']\n",
    "sc.tl.score_genes(adata_log, monomac, score_name = 'monomac_score')\n",
    "\n",
    "sc.set_figure_params(dpi=300)\n",
    "sc.pl.umap(adata_log, frameon = False, color = ['TYROBP', 'C1QA', 'HMOX1', 'monomac_score'], size = 5, legend_fontsize = 5, ncols = 5, color_map='magma_r')"
   ]
  },
  {
   "cell_type": "markdown",
   "metadata": {},
   "source": [
    "+ cycling DC"
   ]
  },
  {
   "cell_type": "code",
   "execution_count": null,
   "metadata": {},
   "outputs": [],
   "source": [
    "cycling_DC = ['MKI67', 'TOP2A', 'CLEC10A']\n",
    "sc.tl.score_genes(adata_log, cycling_DC, score_name = 'cycling_DC_score')\n",
    "\n",
    "sc.set_figure_params(dpi=300)\n",
    "sc.pl.umap(adata_log, frameon = False, color = ['MKI67', 'TOP2A', 'CLEC10A', 'cycling_DC_score'], size = 5, legend_fontsize = 5, ncols = 5, color_map='magma_r')"
   ]
  },
  {
   "cell_type": "markdown",
   "metadata": {},
   "source": [
    "+ DC"
   ]
  },
  {
   "cell_type": "code",
   "execution_count": null,
   "metadata": {},
   "outputs": [],
   "source": [
    "DC = ['CD1C', 'FCER1A', 'CLEC10A']\n",
    "sc.tl.score_genes(adata_log, DC, score_name = 'DC_score')\n",
    "\n",
    "sc.set_figure_params(dpi=300)\n",
    "sc.pl.umap(adata_log, frameon = False, color = ['CD1C', 'FCER1A', 'CLEC10A', 'DC_score'], size = 5, legend_fontsize = 5, ncols = 5, color_map='magma_r')"
   ]
  },
  {
   "cell_type": "code",
   "execution_count": null,
   "metadata": {},
   "outputs": [],
   "source": [
    "adata_log.obs['predicted_cell_states'].value_counts()   "
   ]
  },
  {
   "cell_type": "code",
   "execution_count": null,
   "metadata": {},
   "outputs": [],
   "source": [
    "adata_log.obs['predicted_cell_states'] = adata_log.obs['predicted_cell_states'].cat.add_categories(['Monocytes', 'Macrophages', 'DCs'])\n",
    "cluster_12_remaining_mask = (leiden_clusters == '12') & (adata_log.obs['predicted_cell_states'] != 'Mast_cells')\n",
    "adata_log.obs.loc[cluster_12_remaining_mask, 'predicted_cell_states'] = 'Monocytes'"
   ]
  },
  {
   "cell_type": "code",
   "execution_count": null,
   "metadata": {},
   "outputs": [],
   "source": [
    "condition = (adata_log.obs['leiden'] == '12') & (adata_log.obs['macrophage_score'] > 4)\n",
    "adata_log.obs.loc[condition, 'predicted_cell_states'] = 'Macrophages'\n",
    "\n",
    "condition = (adata_log.obs['leiden'] == '12') & (adata_log.obs['DC_score'] > 4)\n",
    "adata_log.obs.loc[condition, 'predicted_cell_states'] = 'DCs'"
   ]
  },
  {
   "cell_type": "code",
   "execution_count": null,
   "metadata": {},
   "outputs": [],
   "source": [
    "# remove categories 12 and 11\n",
    "adata_log.obs['predicted_cell_states'] = adata_log.obs['predicted_cell_states'].cat.remove_categories(['12', '11'])"
   ]
  },
  {
   "cell_type": "code",
   "execution_count": null,
   "metadata": {},
   "outputs": [],
   "source": [
    "adata_log.obs['Cell_States'] = None\n",
    "# Make column categorical\n",
    "adata_log.obs['Cell_States'] = adata_log.obs['Cell_States'].astype('category')\n",
    "\n",
    "# Copy 'Keratinocytes' to 'Cell_States' if 'predicted_cell_states' == 'Keratinocytes'\n",
    "adata_log.obs['Cell_States'] = adata_log.obs['Cell_States'].cat.add_categories(['Monocytes', 'Macrophages', 'DCs'])\n",
    "adata_log.obs['Cell_States'][adata_log.obs['predicted_cell_states'] == 'Monocytes'] = 'Monocytes'\n",
    "adata_log.obs['Cell_States'][adata_log.obs['predicted_cell_states'] == 'Macrophages'] = 'Macrophages'\n",
    "adata_log.obs['Cell_States'][adata_log.obs['predicted_cell_states'] == 'DCs'] = 'DCs'"
   ]
  },
  {
   "cell_type": "code",
   "execution_count": null,
   "metadata": {},
   "outputs": [],
   "source": [
    "adata_log.obs"
   ]
  },
  {
   "cell_type": "code",
   "execution_count": null,
   "metadata": {},
   "outputs": [],
   "source": [
    "sc.set_figure_params(dpi=300)\n",
    "sc.pl.umap(adata_log, frameon = False, color = ['macrophage_score', 'monocyte_score', 'DC_score', 'Cell_States'], size = 5, legend_fontsize = 5, ncols = 5, color_map='magma_r')"
   ]
  },
  {
   "cell_type": "code",
   "execution_count": null,
   "metadata": {},
   "outputs": [],
   "source": [
    "sc.set_figure_params(dpi=300)\n",
    "sc.pl.umap(adata_log, frameon = False, color = ['C1QA', 'CD68', 'TREM2', 'S100A9', 'LYZ', 'FCN1', 'CD1C', 'FCER1A', 'CLEC10A'], size = 5, legend_fontsize = 5, ncols = 5, color_map='magma_r')"
   ]
  },
  {
   "cell_type": "code",
   "execution_count": null,
   "metadata": {},
   "outputs": [],
   "source": [
    "# Copy predicted_cell_states to Cell_States\n",
    "adata_log.obs['Cell_States'] = adata_log.obs['predicted_cell_states']\n",
    "\n",
    "#delete cells with predicted_cell_states == 25\n",
    "adata_log = adata_log[adata_log.obs['predicted_cell_states'] != '15']"
   ]
  },
  {
   "cell_type": "code",
   "execution_count": null,
   "metadata": {},
   "outputs": [],
   "source": [
    "sc.set_figure_params(dpi=300)\n",
    "sc.pl.umap(adata_log, frameon = False, color = ['Cell_States'], size = 5, legend_fontsize = 5, ncols = 5, color_map='magma_r')"
   ]
  },
  {
   "cell_type": "code",
   "execution_count": null,
   "metadata": {},
   "outputs": [],
   "source": [
    "# create a barplot of the cell states in each condition \n",
    "adata_log.obs['Cell_States'].value_counts().plot(kind='bar', color = 'purple', figsize=(10, 6))"
   ]
  },
  {
   "cell_type": "code",
   "execution_count": null,
   "metadata": {},
   "outputs": [],
   "source": [
    "adata_log.obs['condition'].value_counts()"
   ]
  },
  {
   "cell_type": "code",
   "execution_count": null,
   "metadata": {},
   "outputs": [],
   "source": [
    "import pandas as pd\n",
    "import matplotlib.pyplot as plt\n",
    "\n",
    "# Assume 'Infected' is a condition indicating if a cell is infected or not\n",
    "# We prepare the data by calculating the proportion of infected vs. non-infected cells within each Cell_State\n",
    "\n",
    "# Counting the occurrences of each condition within each Cell_State\n",
    "data_counts = adata_log.obs.groupby(['Cell_States', 'condition']).size().unstack(fill_value=0)\n",
    "\n",
    "# Convert counts to proportions within each Cell_State\n",
    "data_proportions = data_counts.div(data_counts.sum(axis=1), axis=0)\n",
    "\n",
    "# Plotting\n",
    "data_proportions.plot(kind='bar', stacked=True, figsize=(10, 7), color=['#1f77b4', '#ff7f0e'])  # Adjust colors as needed\n",
    "plt.xticks(rotation=90)\n",
    "plt.tight_layout()\n",
    "plt.show()"
   ]
  },
  {
   "cell_type": "markdown",
   "metadata": {},
   "source": [
    "+ Markers visualization"
   ]
  },
  {
   "cell_type": "code",
   "execution_count": null,
   "metadata": {},
   "outputs": [],
   "source": [
    "stem_cells_markers = ['KRT1', 'KRT5', 'KRT14', 'KRT15', 'ALDH2', 'ATP1B1', 'CD44', 'TFRC', 'DEFB1', \n",
    "                      'FASN', 'GJB2', 'ITGA6', 'KRT10', 'KRT19', 'KRT8', \n",
    "                      'KRT2', 'UBE2C', 'MLANA', 'PMEL', 'DCT', 'MITF', 'APOD', 'ATP1B1', 'KIT',\n",
    "                     'ME1', 'ME2', 'PHLDA1', 'S100A1', 'SOX10', 'TYR', \n",
    "                     'TYRP1', 'DCT', 'NRXN1', 'SCN7A', 'ANK3', 'PECAM1', 'EMCN', 'CDH5', 'VWF', 'KDR', 'FLT1', 'TEK', 'CLDN5', 'GJA4', 'GJA5', 'HEY1', 'GATA2', 'SOX17', 'MECOM',\n",
    "                     'ACKR1', 'NR2F2', 'PLVAP', 'LYVE1', 'PDPN', 'MMP2', 'COL1A1', 'COL1A2', 'NT5E', 'COL6A1',\n",
    "                     'ACTA2', 'TAGLN', 'MYH11', 'PDGFRB', 'CNN1', 'TAGLN2', 'MYL9', 'RGS5', 'MYLK', 'HHIP', 'GJA4', 'NOX4',\n",
    "                     'KCNJ8', 'ABCC9', 'VTN', 'ANPEP', 'CD248']\n",
    "\n",
    "sc.pl.dotplot(adata_log, stem_cells_markers, groupby='Cell_States')"
   ]
  },
  {
   "cell_type": "code",
   "execution_count": null,
   "metadata": {},
   "outputs": [],
   "source": [
    "stem_cells_markers = ['CD8A', 'CD8B', 'CD4', 'CD40LG',\n",
    "                    'FOXP3', 'TIGIT', 'CTLA4', 'KLRD1', 'GNLY', 'PRF1', 'GZMB', 'FCGR3A',\n",
    "                    'NKG7', 'CD79A', 'JCHAIN', 'IGKC', 'MS4A1', 'CD19', 'IL4I1', 'RORC', 'KIT', 'S100A13', 'TLE1', 'AREG', 'C1QA', 'CD68', 'TREM2', 'S100A9', 'LYZ', 'FCN1', 'CD1C', 'FCER1A', 'CLEC10A']\n",
    "\n",
    "sc.pl.dotplot(adata_log, stem_cells_markers, groupby='Cell_States')"
   ]
  }
 ],
 "metadata": {
  "kernelspec": {
   "display_name": "Scanpy",
   "language": "python",
   "name": "scnapy-server"
  },
  "language_info": {
   "codemirror_mode": {
    "name": "ipython",
    "version": 3
   },
   "file_extension": ".py",
   "mimetype": "text/x-python",
   "name": "python",
   "nbconvert_exporter": "python",
   "pygments_lexer": "ipython3",
   "version": "3.11.5"
  }
 },
 "nbformat": 4,
 "nbformat_minor": 2
}
