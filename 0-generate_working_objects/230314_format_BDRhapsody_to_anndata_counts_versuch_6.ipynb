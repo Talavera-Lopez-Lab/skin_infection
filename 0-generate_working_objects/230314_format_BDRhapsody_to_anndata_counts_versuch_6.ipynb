{
 "cells": [
  {
   "attachments": {},
   "cell_type": "markdown",
   "metadata": {},
   "source": [
    "### Notebook to format the BDRhapsody data from Seven Bridges into an `anndata` object with raw counts in `adata.X`\n",
    "\n",
    "- **Developed by:** Carlos Talavera-López Ph.D\n",
    "- **Institute of Computational Biology - Computational Health Centre - Helmholtz Munich**\n",
    "- v230314"
   ]
  },
  {
   "cell_type": "markdown",
   "metadata": {},
   "source": [
    "### Import required modules"
   ]
  },
  {
   "cell_type": "code",
   "execution_count": 1,
   "metadata": {},
   "outputs": [
    {
     "data": {
      "text/html": [
       "<style type='text/css'>\n",
       ".datatable table.frame { margin-bottom: 0; }\n",
       ".datatable table.frame thead { border-bottom: none; }\n",
       ".datatable table.frame tr.coltypes td {  color: #FFFFFF;  line-height: 6px;  padding: 0 0.5em;}\n",
       ".datatable .bool    { background: #DDDD99; }\n",
       ".datatable .object  { background: #565656; }\n",
       ".datatable .int     { background: #5D9E5D; }\n",
       ".datatable .float   { background: #4040CC; }\n",
       ".datatable .str     { background: #CC4040; }\n",
       ".datatable .time    { background: #40CC40; }\n",
       ".datatable .row_index {  background: var(--jp-border-color3);  border-right: 1px solid var(--jp-border-color0);  color: var(--jp-ui-font-color3);  font-size: 9px;}\n",
       ".datatable .frame tbody td { text-align: left; }\n",
       ".datatable .frame tr.coltypes .row_index {  background: var(--jp-border-color0);}\n",
       ".datatable th:nth-child(2) { padding-left: 12px; }\n",
       ".datatable .hellipsis {  color: var(--jp-cell-editor-border-color);}\n",
       ".datatable .vellipsis {  background: var(--jp-layout-color0);  color: var(--jp-cell-editor-border-color);}\n",
       ".datatable .na {  color: var(--jp-cell-editor-border-color);  font-size: 80%;}\n",
       ".datatable .sp {  opacity: 0.25;}\n",
       ".datatable .footer { font-size: 9px; }\n",
       ".datatable .frame_dimensions {  background: var(--jp-border-color3);  border-top: 1px solid var(--jp-border-color0);  color: var(--jp-ui-font-color3);  display: inline-block;  opacity: 0.6;  padding: 1px 10px 1px 5px;}\n",
       "</style>\n"
      ],
      "text/plain": [
       "<IPython.core.display.HTML object>"
      ]
     },
     "metadata": {},
     "output_type": "display_data"
    }
   ],
   "source": [
    "import anndata\n",
    "import pandas as pd\n",
    "import scanpy as sc\n",
    "import datatable as dt"
   ]
  },
  {
   "cell_type": "markdown",
   "metadata": {},
   "source": [
    "### Set up working environment"
   ]
  },
  {
   "cell_type": "code",
   "execution_count": 2,
   "metadata": {},
   "outputs": [],
   "source": [
    "BDdata = '/Volumes/A7V/nobackup/raw_data/single_cell/COPD_IAV/sevenbridges_raw/grch38-iav/'"
   ]
  },
  {
   "cell_type": "markdown",
   "metadata": {},
   "source": [
    "### Read in _BD Rhapsody_ files for Versuch_1\n",
    "\n",
    "- UMIs are called _Raw_Molecules_\n",
    "- Genes/Features are called _Bioproduct_\n",
    "- Sample Tag Version: hs | Sample Tag Names: 7-CSE_CTRL ; 8-GnR_CTRL ; 9-CSE_IAV ; 10-GnR_IAV"
   ]
  },
  {
   "cell_type": "code",
   "execution_count": 3,
   "metadata": {},
   "outputs": [
    {
     "name": "stderr",
     "output_type": "stream",
     "text": [
      "/Users/cartalop/mambaforge/envs/scanpy/lib/python3.9/site-packages/anndata/_core/anndata.py:121: ImplicitModificationWarning: Transforming to str index.\n",
      "  warnings.warn(\"Transforming to str index.\", ImplicitModificationWarning)\n"
     ]
    },
    {
     "data": {
      "text/plain": [
       "AnnData object with n_obs × n_vars = 3960 × 31656"
      ]
     },
     "execution_count": 3,
     "metadata": {},
     "output_type": "execute_result"
    }
   ],
   "source": [
    "BDr_1 = dt.fread(BDdata + 'Versuch_6/V6-newref_SampleTag05_hs_GER02_CTRL/V6-newref_SampleTag05_hs_GER02_CTRL_RSEC_ReadsPerCell.csv', header = True, skip_to_line = 8).to_pandas().T\n",
    "BDr_1.columns = BDr_1.iloc[0]\n",
    "BDr_1 = BDr_1.iloc[1:]\n",
    "adata_1 = sc.AnnData(BDr_1.T, dtype = 'int64')\n",
    "adata_1"
   ]
  },
  {
   "cell_type": "code",
   "execution_count": 4,
   "metadata": {},
   "outputs": [
    {
     "data": {
      "text/html": [
       "<div>\n",
       "<style scoped>\n",
       "    .dataframe tbody tr th:only-of-type {\n",
       "        vertical-align: middle;\n",
       "    }\n",
       "\n",
       "    .dataframe tbody tr th {\n",
       "        vertical-align: top;\n",
       "    }\n",
       "\n",
       "    .dataframe thead th {\n",
       "        text-align: right;\n",
       "    }\n",
       "</style>\n",
       "<table border=\"1\" class=\"dataframe\">\n",
       "  <thead>\n",
       "    <tr style=\"text-align: right;\">\n",
       "      <th></th>\n",
       "      <th>sex</th>\n",
       "      <th>age</th>\n",
       "      <th>condition</th>\n",
       "      <th>ethnicity</th>\n",
       "      <th>PaCO2</th>\n",
       "      <th>donor</th>\n",
       "      <th>infection</th>\n",
       "      <th>disease</th>\n",
       "      <th>SMK</th>\n",
       "      <th>illumina_stimunr</th>\n",
       "      <th>bd_rhapsody</th>\n",
       "    </tr>\n",
       "    <tr>\n",
       "      <th>Cell_Index</th>\n",
       "      <th></th>\n",
       "      <th></th>\n",
       "      <th></th>\n",
       "      <th></th>\n",
       "      <th></th>\n",
       "      <th></th>\n",
       "      <th></th>\n",
       "      <th></th>\n",
       "      <th></th>\n",
       "      <th></th>\n",
       "      <th></th>\n",
       "    </tr>\n",
       "  </thead>\n",
       "  <tbody>\n",
       "    <tr>\n",
       "      <th>7374397</th>\n",
       "      <td>male</td>\n",
       "      <td>53</td>\n",
       "      <td>CTRL</td>\n",
       "      <td>caucasian</td>\n",
       "      <td>71.1</td>\n",
       "      <td>GER-02</td>\n",
       "      <td>CTRL</td>\n",
       "      <td>healthy</td>\n",
       "      <td>5</td>\n",
       "      <td>21_0507</td>\n",
       "      <td>6</td>\n",
       "    </tr>\n",
       "    <tr>\n",
       "      <th>11954012</th>\n",
       "      <td>male</td>\n",
       "      <td>53</td>\n",
       "      <td>CTRL</td>\n",
       "      <td>caucasian</td>\n",
       "      <td>71.1</td>\n",
       "      <td>GER-02</td>\n",
       "      <td>CTRL</td>\n",
       "      <td>healthy</td>\n",
       "      <td>5</td>\n",
       "      <td>21_0507</td>\n",
       "      <td>6</td>\n",
       "    </tr>\n",
       "    <tr>\n",
       "      <th>12996872</th>\n",
       "      <td>male</td>\n",
       "      <td>53</td>\n",
       "      <td>CTRL</td>\n",
       "      <td>caucasian</td>\n",
       "      <td>71.1</td>\n",
       "      <td>GER-02</td>\n",
       "      <td>CTRL</td>\n",
       "      <td>healthy</td>\n",
       "      <td>5</td>\n",
       "      <td>21_0507</td>\n",
       "      <td>6</td>\n",
       "    </tr>\n",
       "    <tr>\n",
       "      <th>9889623</th>\n",
       "      <td>male</td>\n",
       "      <td>53</td>\n",
       "      <td>CTRL</td>\n",
       "      <td>caucasian</td>\n",
       "      <td>71.1</td>\n",
       "      <td>GER-02</td>\n",
       "      <td>CTRL</td>\n",
       "      <td>healthy</td>\n",
       "      <td>5</td>\n",
       "      <td>21_0507</td>\n",
       "      <td>6</td>\n",
       "    </tr>\n",
       "    <tr>\n",
       "      <th>9586579</th>\n",
       "      <td>male</td>\n",
       "      <td>53</td>\n",
       "      <td>CTRL</td>\n",
       "      <td>caucasian</td>\n",
       "      <td>71.1</td>\n",
       "      <td>GER-02</td>\n",
       "      <td>CTRL</td>\n",
       "      <td>healthy</td>\n",
       "      <td>5</td>\n",
       "      <td>21_0507</td>\n",
       "      <td>6</td>\n",
       "    </tr>\n",
       "  </tbody>\n",
       "</table>\n",
       "</div>"
      ],
      "text/plain": [
       "             sex age condition  ethnicity PaCO2   donor infection  disease  \\\n",
       "Cell_Index                                                                   \n",
       "7374397     male  53      CTRL  caucasian  71.1  GER-02      CTRL  healthy   \n",
       "11954012    male  53      CTRL  caucasian  71.1  GER-02      CTRL  healthy   \n",
       "12996872    male  53      CTRL  caucasian  71.1  GER-02      CTRL  healthy   \n",
       "9889623     male  53      CTRL  caucasian  71.1  GER-02      CTRL  healthy   \n",
       "9586579     male  53      CTRL  caucasian  71.1  GER-02      CTRL  healthy   \n",
       "\n",
       "           SMK illumina_stimunr bd_rhapsody  \n",
       "Cell_Index                                   \n",
       "7374397      5          21_0507           6  \n",
       "11954012     5          21_0507           6  \n",
       "12996872     5          21_0507           6  \n",
       "9889623      5          21_0507           6  \n",
       "9586579      5          21_0507           6  "
      ]
     },
     "execution_count": 4,
     "metadata": {},
     "output_type": "execute_result"
    }
   ],
   "source": [
    "adata_1.obs['sex'] = 'male'\n",
    "adata_1.obs['age'] = '53'\n",
    "adata_1.obs['condition'] = 'CTRL'\n",
    "adata_1.obs['ethnicity'] = 'caucasian'\n",
    "adata_1.obs['PaCO2'] = '71.1'\n",
    "adata_1.obs['donor'] = 'GER-02'\n",
    "adata_1.obs['infection'] = 'CTRL'\n",
    "adata_1.obs['disease'] = 'healthy'\n",
    "adata_1.obs['SMK'] = '5'\n",
    "adata_1.obs['illumina_stimunr'] = '21_0507'\n",
    "adata_1.obs['bd_rhapsody'] = '6'\n",
    "adata_1.obs.head()"
   ]
  },
  {
   "cell_type": "code",
   "execution_count": 5,
   "metadata": {},
   "outputs": [
    {
     "name": "stderr",
     "output_type": "stream",
     "text": [
      "/Users/cartalop/mambaforge/envs/scanpy/lib/python3.9/site-packages/anndata/_core/anndata.py:121: ImplicitModificationWarning: Transforming to str index.\n",
      "  warnings.warn(\"Transforming to str index.\", ImplicitModificationWarning)\n"
     ]
    },
    {
     "data": {
      "text/plain": [
       "AnnData object with n_obs × n_vars = 4526 × 31656"
      ]
     },
     "execution_count": 5,
     "metadata": {},
     "output_type": "execute_result"
    }
   ],
   "source": [
    "BDr_2 = dt.fread(BDdata + 'Versuch_6/V6-newref_SampleTag06_hs_GER02_IAV/V6-newref_SampleTag06_hs_GER02_IAV_RSEC_ReadsPerCell.csv', header = True, skip_to_line = 8).to_pandas().T\n",
    "BDr_2.columns = BDr_2.iloc[0]\n",
    "BDr_2 = BDr_2.iloc[1:]\n",
    "adata_2 = sc.AnnData(BDr_2.T, dtype = 'int64')\n",
    "adata_2"
   ]
  },
  {
   "cell_type": "code",
   "execution_count": 6,
   "metadata": {},
   "outputs": [
    {
     "data": {
      "text/html": [
       "<div>\n",
       "<style scoped>\n",
       "    .dataframe tbody tr th:only-of-type {\n",
       "        vertical-align: middle;\n",
       "    }\n",
       "\n",
       "    .dataframe tbody tr th {\n",
       "        vertical-align: top;\n",
       "    }\n",
       "\n",
       "    .dataframe thead th {\n",
       "        text-align: right;\n",
       "    }\n",
       "</style>\n",
       "<table border=\"1\" class=\"dataframe\">\n",
       "  <thead>\n",
       "    <tr style=\"text-align: right;\">\n",
       "      <th></th>\n",
       "      <th>sex</th>\n",
       "      <th>age</th>\n",
       "      <th>condition</th>\n",
       "      <th>ethnicity</th>\n",
       "      <th>PaCO2</th>\n",
       "      <th>donor</th>\n",
       "      <th>infection</th>\n",
       "      <th>disease</th>\n",
       "      <th>SMK</th>\n",
       "      <th>illumina_stimunr</th>\n",
       "      <th>bd_rhapsody</th>\n",
       "    </tr>\n",
       "    <tr>\n",
       "      <th>Cell_Index</th>\n",
       "      <th></th>\n",
       "      <th></th>\n",
       "      <th></th>\n",
       "      <th></th>\n",
       "      <th></th>\n",
       "      <th></th>\n",
       "      <th></th>\n",
       "      <th></th>\n",
       "      <th></th>\n",
       "      <th></th>\n",
       "      <th></th>\n",
       "    </tr>\n",
       "  </thead>\n",
       "  <tbody>\n",
       "    <tr>\n",
       "      <th>3268311</th>\n",
       "      <td>male</td>\n",
       "      <td>53</td>\n",
       "      <td>IAV</td>\n",
       "      <td>caucasian</td>\n",
       "      <td>71.1</td>\n",
       "      <td>GER-02</td>\n",
       "      <td>IAV</td>\n",
       "      <td>healthy</td>\n",
       "      <td>6</td>\n",
       "      <td>21_0507</td>\n",
       "      <td>6</td>\n",
       "    </tr>\n",
       "    <tr>\n",
       "      <th>3861189</th>\n",
       "      <td>male</td>\n",
       "      <td>53</td>\n",
       "      <td>IAV</td>\n",
       "      <td>caucasian</td>\n",
       "      <td>71.1</td>\n",
       "      <td>GER-02</td>\n",
       "      <td>IAV</td>\n",
       "      <td>healthy</td>\n",
       "      <td>6</td>\n",
       "      <td>21_0507</td>\n",
       "      <td>6</td>\n",
       "    </tr>\n",
       "    <tr>\n",
       "      <th>5341488</th>\n",
       "      <td>male</td>\n",
       "      <td>53</td>\n",
       "      <td>IAV</td>\n",
       "      <td>caucasian</td>\n",
       "      <td>71.1</td>\n",
       "      <td>GER-02</td>\n",
       "      <td>IAV</td>\n",
       "      <td>healthy</td>\n",
       "      <td>6</td>\n",
       "      <td>21_0507</td>\n",
       "      <td>6</td>\n",
       "    </tr>\n",
       "    <tr>\n",
       "      <th>2966840</th>\n",
       "      <td>male</td>\n",
       "      <td>53</td>\n",
       "      <td>IAV</td>\n",
       "      <td>caucasian</td>\n",
       "      <td>71.1</td>\n",
       "      <td>GER-02</td>\n",
       "      <td>IAV</td>\n",
       "      <td>healthy</td>\n",
       "      <td>6</td>\n",
       "      <td>21_0507</td>\n",
       "      <td>6</td>\n",
       "    </tr>\n",
       "    <tr>\n",
       "      <th>2392356</th>\n",
       "      <td>male</td>\n",
       "      <td>53</td>\n",
       "      <td>IAV</td>\n",
       "      <td>caucasian</td>\n",
       "      <td>71.1</td>\n",
       "      <td>GER-02</td>\n",
       "      <td>IAV</td>\n",
       "      <td>healthy</td>\n",
       "      <td>6</td>\n",
       "      <td>21_0507</td>\n",
       "      <td>6</td>\n",
       "    </tr>\n",
       "  </tbody>\n",
       "</table>\n",
       "</div>"
      ],
      "text/plain": [
       "             sex age condition  ethnicity PaCO2   donor infection  disease  \\\n",
       "Cell_Index                                                                   \n",
       "3268311     male  53       IAV  caucasian  71.1  GER-02       IAV  healthy   \n",
       "3861189     male  53       IAV  caucasian  71.1  GER-02       IAV  healthy   \n",
       "5341488     male  53       IAV  caucasian  71.1  GER-02       IAV  healthy   \n",
       "2966840     male  53       IAV  caucasian  71.1  GER-02       IAV  healthy   \n",
       "2392356     male  53       IAV  caucasian  71.1  GER-02       IAV  healthy   \n",
       "\n",
       "           SMK illumina_stimunr bd_rhapsody  \n",
       "Cell_Index                                   \n",
       "3268311      6          21_0507           6  \n",
       "3861189      6          21_0507           6  \n",
       "5341488      6          21_0507           6  \n",
       "2966840      6          21_0507           6  \n",
       "2392356      6          21_0507           6  "
      ]
     },
     "execution_count": 6,
     "metadata": {},
     "output_type": "execute_result"
    }
   ],
   "source": [
    "adata_2.obs['sex'] = 'male'\n",
    "adata_2.obs['age'] = '53'\n",
    "adata_2.obs['condition'] = 'IAV'\n",
    "adata_2.obs['ethnicity'] = 'caucasian'\n",
    "adata_2.obs['PaCO2'] = '71.1'\n",
    "adata_2.obs['donor'] = 'GER-02'\n",
    "adata_2.obs['infection'] = 'IAV'\n",
    "adata_2.obs['disease'] = 'healthy'\n",
    "adata_2.obs['SMK'] = '6'\n",
    "adata_2.obs['illumina_stimunr'] = '21_0507'\n",
    "adata_2.obs['bd_rhapsody'] = '6'\n",
    "adata_2.obs.head()"
   ]
  },
  {
   "cell_type": "code",
   "execution_count": 7,
   "metadata": {},
   "outputs": [
    {
     "name": "stderr",
     "output_type": "stream",
     "text": [
      "/Users/cartalop/mambaforge/envs/scanpy/lib/python3.9/site-packages/anndata/_core/anndata.py:121: ImplicitModificationWarning: Transforming to str index.\n",
      "  warnings.warn(\"Transforming to str index.\", ImplicitModificationWarning)\n"
     ]
    },
    {
     "data": {
      "text/plain": [
       "AnnData object with n_obs × n_vars = 5553 × 31656"
      ]
     },
     "execution_count": 7,
     "metadata": {},
     "output_type": "execute_result"
    }
   ],
   "source": [
    "BDr_3 = dt.fread(BDdata + 'Versuch_6/V6-newref_SampleTag07_hs_CSE03_CTRL/V6-newref_SampleTag07_hs_CSE03_CTRL_RSEC_ReadsPerCell.csv', header = True, skip_to_line = 8).to_pandas().T\n",
    "BDr_3.columns = BDr_3.iloc[0]\n",
    "BDr_3 = BDr_3.iloc[1:]\n",
    "adata_3 = sc.AnnData(BDr_3.T, dtype = 'int64')\n",
    "adata_3"
   ]
  },
  {
   "cell_type": "code",
   "execution_count": 8,
   "metadata": {},
   "outputs": [
    {
     "data": {
      "text/html": [
       "<div>\n",
       "<style scoped>\n",
       "    .dataframe tbody tr th:only-of-type {\n",
       "        vertical-align: middle;\n",
       "    }\n",
       "\n",
       "    .dataframe tbody tr th {\n",
       "        vertical-align: top;\n",
       "    }\n",
       "\n",
       "    .dataframe thead th {\n",
       "        text-align: right;\n",
       "    }\n",
       "</style>\n",
       "<table border=\"1\" class=\"dataframe\">\n",
       "  <thead>\n",
       "    <tr style=\"text-align: right;\">\n",
       "      <th></th>\n",
       "      <th>sex</th>\n",
       "      <th>age</th>\n",
       "      <th>condition</th>\n",
       "      <th>ethnicity</th>\n",
       "      <th>PaCO2</th>\n",
       "      <th>donor</th>\n",
       "      <th>infection</th>\n",
       "      <th>disease</th>\n",
       "      <th>SMK</th>\n",
       "      <th>illumina_stimunr</th>\n",
       "      <th>bd_rhapsody</th>\n",
       "    </tr>\n",
       "    <tr>\n",
       "      <th>Cell_Index</th>\n",
       "      <th></th>\n",
       "      <th></th>\n",
       "      <th></th>\n",
       "      <th></th>\n",
       "      <th></th>\n",
       "      <th></th>\n",
       "      <th></th>\n",
       "      <th></th>\n",
       "      <th></th>\n",
       "      <th></th>\n",
       "      <th></th>\n",
       "    </tr>\n",
       "  </thead>\n",
       "  <tbody>\n",
       "    <tr>\n",
       "      <th>5336088</th>\n",
       "      <td>male</td>\n",
       "      <td>66</td>\n",
       "      <td>CTRL</td>\n",
       "      <td>caucasian</td>\n",
       "      <td>76.8</td>\n",
       "      <td>CSE-03</td>\n",
       "      <td>CTRL</td>\n",
       "      <td>COPD</td>\n",
       "      <td>7</td>\n",
       "      <td>21_0507</td>\n",
       "      <td>6</td>\n",
       "    </tr>\n",
       "    <tr>\n",
       "      <th>2522891</th>\n",
       "      <td>male</td>\n",
       "      <td>66</td>\n",
       "      <td>CTRL</td>\n",
       "      <td>caucasian</td>\n",
       "      <td>76.8</td>\n",
       "      <td>CSE-03</td>\n",
       "      <td>CTRL</td>\n",
       "      <td>COPD</td>\n",
       "      <td>7</td>\n",
       "      <td>21_0507</td>\n",
       "      <td>6</td>\n",
       "    </tr>\n",
       "    <tr>\n",
       "      <th>2369338</th>\n",
       "      <td>male</td>\n",
       "      <td>66</td>\n",
       "      <td>CTRL</td>\n",
       "      <td>caucasian</td>\n",
       "      <td>76.8</td>\n",
       "      <td>CSE-03</td>\n",
       "      <td>CTRL</td>\n",
       "      <td>COPD</td>\n",
       "      <td>7</td>\n",
       "      <td>21_0507</td>\n",
       "      <td>6</td>\n",
       "    </tr>\n",
       "    <tr>\n",
       "      <th>6362913</th>\n",
       "      <td>male</td>\n",
       "      <td>66</td>\n",
       "      <td>CTRL</td>\n",
       "      <td>caucasian</td>\n",
       "      <td>76.8</td>\n",
       "      <td>CSE-03</td>\n",
       "      <td>CTRL</td>\n",
       "      <td>COPD</td>\n",
       "      <td>7</td>\n",
       "      <td>21_0507</td>\n",
       "      <td>6</td>\n",
       "    </tr>\n",
       "    <tr>\n",
       "      <th>4129234</th>\n",
       "      <td>male</td>\n",
       "      <td>66</td>\n",
       "      <td>CTRL</td>\n",
       "      <td>caucasian</td>\n",
       "      <td>76.8</td>\n",
       "      <td>CSE-03</td>\n",
       "      <td>CTRL</td>\n",
       "      <td>COPD</td>\n",
       "      <td>7</td>\n",
       "      <td>21_0507</td>\n",
       "      <td>6</td>\n",
       "    </tr>\n",
       "  </tbody>\n",
       "</table>\n",
       "</div>"
      ],
      "text/plain": [
       "             sex age condition  ethnicity PaCO2   donor infection disease SMK  \\\n",
       "Cell_Index                                                                      \n",
       "5336088     male  66      CTRL  caucasian  76.8  CSE-03      CTRL    COPD   7   \n",
       "2522891     male  66      CTRL  caucasian  76.8  CSE-03      CTRL    COPD   7   \n",
       "2369338     male  66      CTRL  caucasian  76.8  CSE-03      CTRL    COPD   7   \n",
       "6362913     male  66      CTRL  caucasian  76.8  CSE-03      CTRL    COPD   7   \n",
       "4129234     male  66      CTRL  caucasian  76.8  CSE-03      CTRL    COPD   7   \n",
       "\n",
       "           illumina_stimunr bd_rhapsody  \n",
       "Cell_Index                               \n",
       "5336088             21_0507           6  \n",
       "2522891             21_0507           6  \n",
       "2369338             21_0507           6  \n",
       "6362913             21_0507           6  \n",
       "4129234             21_0507           6  "
      ]
     },
     "execution_count": 8,
     "metadata": {},
     "output_type": "execute_result"
    }
   ],
   "source": [
    "adata_3.obs['sex'] = 'male'\n",
    "adata_3.obs['age'] = '66'\n",
    "adata_3.obs['condition'] = 'CTRL'\n",
    "adata_3.obs['ethnicity'] = 'caucasian'\n",
    "adata_3.obs['PaCO2'] = '76.8'\n",
    "adata_3.obs['donor'] = 'CSE-03'\n",
    "adata_3.obs['infection'] = 'CTRL'\n",
    "adata_3.obs['disease'] = 'COPD'\n",
    "adata_3.obs['SMK'] = '7'\n",
    "adata_3.obs['illumina_stimunr'] = '21_0507'\n",
    "adata_3.obs['bd_rhapsody'] = '6'\n",
    "adata_3.obs.head()"
   ]
  },
  {
   "cell_type": "code",
   "execution_count": 9,
   "metadata": {},
   "outputs": [
    {
     "name": "stderr",
     "output_type": "stream",
     "text": [
      "/Users/cartalop/mambaforge/envs/scanpy/lib/python3.9/site-packages/anndata/_core/anndata.py:121: ImplicitModificationWarning: Transforming to str index.\n",
      "  warnings.warn(\"Transforming to str index.\", ImplicitModificationWarning)\n"
     ]
    },
    {
     "data": {
      "text/plain": [
       "AnnData object with n_obs × n_vars = 5785 × 31656"
      ]
     },
     "execution_count": 9,
     "metadata": {},
     "output_type": "execute_result"
    }
   ],
   "source": [
    "BDr_4 = dt.fread(BDdata + 'Versuch_6/V6-newref_SampleTag08_hs_CSE03_IAV/V6-newref_SampleTag08_hs_CSE03_IAV_RSEC_ReadsPerCell.csv', header = True, skip_to_line = 8).to_pandas().T\n",
    "BDr_4.columns = BDr_4.iloc[0]\n",
    "BDr_4 = BDr_4.iloc[1:]\n",
    "adata_4 = sc.AnnData(BDr_4.T, dtype = 'int64')\n",
    "adata_4"
   ]
  },
  {
   "cell_type": "code",
   "execution_count": 10,
   "metadata": {},
   "outputs": [
    {
     "data": {
      "text/html": [
       "<div>\n",
       "<style scoped>\n",
       "    .dataframe tbody tr th:only-of-type {\n",
       "        vertical-align: middle;\n",
       "    }\n",
       "\n",
       "    .dataframe tbody tr th {\n",
       "        vertical-align: top;\n",
       "    }\n",
       "\n",
       "    .dataframe thead th {\n",
       "        text-align: right;\n",
       "    }\n",
       "</style>\n",
       "<table border=\"1\" class=\"dataframe\">\n",
       "  <thead>\n",
       "    <tr style=\"text-align: right;\">\n",
       "      <th></th>\n",
       "      <th>sex</th>\n",
       "      <th>age</th>\n",
       "      <th>condition</th>\n",
       "      <th>ethnicity</th>\n",
       "      <th>PaCO2</th>\n",
       "      <th>donor</th>\n",
       "      <th>infection</th>\n",
       "      <th>disease</th>\n",
       "      <th>SMK</th>\n",
       "      <th>illumina_stimunr</th>\n",
       "      <th>bd_rhapsody</th>\n",
       "    </tr>\n",
       "    <tr>\n",
       "      <th>Cell_Index</th>\n",
       "      <th></th>\n",
       "      <th></th>\n",
       "      <th></th>\n",
       "      <th></th>\n",
       "      <th></th>\n",
       "      <th></th>\n",
       "      <th></th>\n",
       "      <th></th>\n",
       "      <th></th>\n",
       "      <th></th>\n",
       "      <th></th>\n",
       "    </tr>\n",
       "  </thead>\n",
       "  <tbody>\n",
       "    <tr>\n",
       "      <th>898201</th>\n",
       "      <td>male</td>\n",
       "      <td>66</td>\n",
       "      <td>IAV</td>\n",
       "      <td>caucasian</td>\n",
       "      <td>76.8</td>\n",
       "      <td>CSE-03</td>\n",
       "      <td>IAV</td>\n",
       "      <td>COPD</td>\n",
       "      <td>8</td>\n",
       "      <td>21_0507</td>\n",
       "      <td>6</td>\n",
       "    </tr>\n",
       "    <tr>\n",
       "      <th>6082243</th>\n",
       "      <td>male</td>\n",
       "      <td>66</td>\n",
       "      <td>IAV</td>\n",
       "      <td>caucasian</td>\n",
       "      <td>76.8</td>\n",
       "      <td>CSE-03</td>\n",
       "      <td>IAV</td>\n",
       "      <td>COPD</td>\n",
       "      <td>8</td>\n",
       "      <td>21_0507</td>\n",
       "      <td>6</td>\n",
       "    </tr>\n",
       "    <tr>\n",
       "      <th>6517337</th>\n",
       "      <td>male</td>\n",
       "      <td>66</td>\n",
       "      <td>IAV</td>\n",
       "      <td>caucasian</td>\n",
       "      <td>76.8</td>\n",
       "      <td>CSE-03</td>\n",
       "      <td>IAV</td>\n",
       "      <td>COPD</td>\n",
       "      <td>8</td>\n",
       "      <td>21_0507</td>\n",
       "      <td>6</td>\n",
       "    </tr>\n",
       "    <tr>\n",
       "      <th>4607253</th>\n",
       "      <td>male</td>\n",
       "      <td>66</td>\n",
       "      <td>IAV</td>\n",
       "      <td>caucasian</td>\n",
       "      <td>76.8</td>\n",
       "      <td>CSE-03</td>\n",
       "      <td>IAV</td>\n",
       "      <td>COPD</td>\n",
       "      <td>8</td>\n",
       "      <td>21_0507</td>\n",
       "      <td>6</td>\n",
       "    </tr>\n",
       "    <tr>\n",
       "      <th>9458367</th>\n",
       "      <td>male</td>\n",
       "      <td>66</td>\n",
       "      <td>IAV</td>\n",
       "      <td>caucasian</td>\n",
       "      <td>76.8</td>\n",
       "      <td>CSE-03</td>\n",
       "      <td>IAV</td>\n",
       "      <td>COPD</td>\n",
       "      <td>8</td>\n",
       "      <td>21_0507</td>\n",
       "      <td>6</td>\n",
       "    </tr>\n",
       "  </tbody>\n",
       "</table>\n",
       "</div>"
      ],
      "text/plain": [
       "             sex age condition  ethnicity PaCO2   donor infection disease SMK  \\\n",
       "Cell_Index                                                                      \n",
       "898201      male  66       IAV  caucasian  76.8  CSE-03       IAV    COPD   8   \n",
       "6082243     male  66       IAV  caucasian  76.8  CSE-03       IAV    COPD   8   \n",
       "6517337     male  66       IAV  caucasian  76.8  CSE-03       IAV    COPD   8   \n",
       "4607253     male  66       IAV  caucasian  76.8  CSE-03       IAV    COPD   8   \n",
       "9458367     male  66       IAV  caucasian  76.8  CSE-03       IAV    COPD   8   \n",
       "\n",
       "           illumina_stimunr bd_rhapsody  \n",
       "Cell_Index                               \n",
       "898201              21_0507           6  \n",
       "6082243             21_0507           6  \n",
       "6517337             21_0507           6  \n",
       "4607253             21_0507           6  \n",
       "9458367             21_0507           6  "
      ]
     },
     "execution_count": 10,
     "metadata": {},
     "output_type": "execute_result"
    }
   ],
   "source": [
    "adata_4.obs['sex'] = 'male'\n",
    "adata_4.obs['age'] = '66'\n",
    "adata_4.obs['condition'] = 'IAV'\n",
    "adata_4.obs['ethnicity'] = 'caucasian'\n",
    "adata_4.obs['PaCO2'] = '76.8'\n",
    "adata_4.obs['donor'] = 'CSE-03'\n",
    "adata_4.obs['infection'] = 'IAV'\n",
    "adata_4.obs['disease'] = 'COPD'\n",
    "adata_4.obs['SMK'] = '8'\n",
    "adata_4.obs['illumina_stimunr'] = '21_0507'\n",
    "adata_4.obs['bd_rhapsody'] = '6'\n",
    "adata_4.obs.head()"
   ]
  },
  {
   "cell_type": "markdown",
   "metadata": {},
   "source": [
    "### Save individual objects"
   ]
  },
  {
   "cell_type": "code",
   "execution_count": 11,
   "metadata": {},
   "outputs": [],
   "source": [
    "adata_1.write('/Volumes/A7V/nobackup/raw_data/single_cell/COPD_IAV/sevenbridges_raw/grch38-iav/Versuch_6/Versuch_6_grch38-iav_GER02_CTRL_GEX.h5ad')\n",
    "adata_2.write('/Volumes/A7V/nobackup/raw_data/single_cell/COPD_IAV/sevenbridges_raw/grch38-iav/Versuch_6/Versuch_6_grch38-iav_GER02_IAV_GEX.h5ad')\n",
    "adata_3.write('/Volumes/A7V/nobackup/raw_data/single_cell/COPD_IAV/sevenbridges_raw/grch38-iav/Versuch_6/Versuch_6_grch38-iav_CSE03_CTRL_GEX.h5ad')\n",
    "adata_4.write('/Volumes/A7V/nobackup/raw_data/single_cell/COPD_IAV/sevenbridges_raw/grch38-iav/Versuch_6/Versuch_6_grch38-iav_CSE03_IAV_GEX.h5ad')"
   ]
  },
  {
   "cell_type": "code",
   "execution_count": 12,
   "metadata": {},
   "outputs": [
    {
     "data": {
      "text/plain": [
       "array([[ 0,  1,  0, ...,  0, 29,  0],\n",
       "       [ 0,  0,  0, ...,  4, 49,  0],\n",
       "       [ 0,  2,  0, ...,  1,  7,  0],\n",
       "       ...,\n",
       "       [ 0,  0,  0, ...,  0,  4,  0],\n",
       "       [ 0,  0,  0, ...,  0,  2,  1],\n",
       "       [ 0,  0,  0, ...,  0,  3,  0]])"
      ]
     },
     "execution_count": 12,
     "metadata": {},
     "output_type": "execute_result"
    }
   ],
   "source": [
    "adata_1.X"
   ]
  },
  {
   "cell_type": "code",
   "execution_count": null,
   "metadata": {},
   "outputs": [],
   "source": []
  }
 ],
 "metadata": {
  "kernelspec": {
   "display_name": "Python 3.9.7 ('base')",
   "language": "python",
   "name": "python3"
  },
  "language_info": {
   "codemirror_mode": {
    "name": "ipython",
    "version": 3
   },
   "file_extension": ".py",
   "mimetype": "text/x-python",
   "name": "python",
   "nbconvert_exporter": "python",
   "pygments_lexer": "ipython3",
   "version": "3.9.16"
  },
  "orig_nbformat": 4,
  "vscode": {
   "interpreter": {
    "hash": "ed18ba783afa68584f89c0e1dc87cd5f0dbea19d03cc696bd28b7f836af058ef"
   }
  }
 },
 "nbformat": 4,
 "nbformat_minor": 2
}
