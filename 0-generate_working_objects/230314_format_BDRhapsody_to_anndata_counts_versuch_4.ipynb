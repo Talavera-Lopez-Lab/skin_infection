{
 "cells": [
  {
   "attachments": {},
   "cell_type": "markdown",
   "metadata": {},
   "source": [
    "### Notebook to format the BDRhapsody data from Seven Bridges into an `anndata` object with raw counts in `adata.X`\n",
    "\n",
    "- **Developed by:** Carlos Talavera-López Ph.D\n",
    "- **Institute of Computational Biology - Computational Health Centre - Helmholtz Munich**\n",
    "- v230314"
   ]
  },
  {
   "cell_type": "markdown",
   "metadata": {},
   "source": [
    "### Import required modules"
   ]
  },
  {
   "cell_type": "code",
   "execution_count": 1,
   "metadata": {},
   "outputs": [
    {
     "data": {
      "text/html": [
       "<style type='text/css'>\n",
       ".datatable table.frame { margin-bottom: 0; }\n",
       ".datatable table.frame thead { border-bottom: none; }\n",
       ".datatable table.frame tr.coltypes td {  color: #FFFFFF;  line-height: 6px;  padding: 0 0.5em;}\n",
       ".datatable .bool    { background: #DDDD99; }\n",
       ".datatable .object  { background: #565656; }\n",
       ".datatable .int     { background: #5D9E5D; }\n",
       ".datatable .float   { background: #4040CC; }\n",
       ".datatable .str     { background: #CC4040; }\n",
       ".datatable .time    { background: #40CC40; }\n",
       ".datatable .row_index {  background: var(--jp-border-color3);  border-right: 1px solid var(--jp-border-color0);  color: var(--jp-ui-font-color3);  font-size: 9px;}\n",
       ".datatable .frame tbody td { text-align: left; }\n",
       ".datatable .frame tr.coltypes .row_index {  background: var(--jp-border-color0);}\n",
       ".datatable th:nth-child(2) { padding-left: 12px; }\n",
       ".datatable .hellipsis {  color: var(--jp-cell-editor-border-color);}\n",
       ".datatable .vellipsis {  background: var(--jp-layout-color0);  color: var(--jp-cell-editor-border-color);}\n",
       ".datatable .na {  color: var(--jp-cell-editor-border-color);  font-size: 80%;}\n",
       ".datatable .sp {  opacity: 0.25;}\n",
       ".datatable .footer { font-size: 9px; }\n",
       ".datatable .frame_dimensions {  background: var(--jp-border-color3);  border-top: 1px solid var(--jp-border-color0);  color: var(--jp-ui-font-color3);  display: inline-block;  opacity: 0.6;  padding: 1px 10px 1px 5px;}\n",
       "</style>\n"
      ],
      "text/plain": [
       "<IPython.core.display.HTML object>"
      ]
     },
     "metadata": {},
     "output_type": "display_data"
    }
   ],
   "source": [
    "import anndata\n",
    "import pandas as pd\n",
    "import scanpy as sc\n",
    "import datatable as dt"
   ]
  },
  {
   "cell_type": "markdown",
   "metadata": {},
   "source": [
    "### Set up working environment"
   ]
  },
  {
   "cell_type": "code",
   "execution_count": 2,
   "metadata": {},
   "outputs": [],
   "source": [
    "BDdata = '/Volumes/A7V/nobackup/raw_data/single_cell/COPD_IAV/sevenbridges_raw/grch38-iav/'"
   ]
  },
  {
   "cell_type": "markdown",
   "metadata": {},
   "source": [
    "### Read in _BD Rhapsody_ files for Versuch_1\n",
    "\n",
    "- UMIs are called _Raw_Molecules_\n",
    "- Genes/Features are called _Bioproduct_\n",
    "- Sample Tag Version: hs | Sample Tag Names: 7-CSE_CTRL ; 8-GnR_CTRL ; 9-CSE_IAV ; 10-GnR_IAV"
   ]
  },
  {
   "cell_type": "code",
   "execution_count": 3,
   "metadata": {},
   "outputs": [
    {
     "name": "stderr",
     "output_type": "stream",
     "text": [
      "/Users/cartalop/mambaforge/envs/scanpy/lib/python3.9/site-packages/anndata/_core/anndata.py:121: ImplicitModificationWarning: Transforming to str index.\n",
      "  warnings.warn(\"Transforming to str index.\", ImplicitModificationWarning)\n"
     ]
    },
    {
     "data": {
      "text/plain": [
       "AnnData object with n_obs × n_vars = 3251 × 31864"
      ]
     },
     "execution_count": 3,
     "metadata": {},
     "output_type": "execute_result"
    }
   ],
   "source": [
    "BDr_1 = dt.fread(BDdata + 'Versuch_4/V4-newref_SampleTag09_hs/V4-newref_SampleTag09_hs_RSEC_ReadsPerCell.csv', header = True, skip_to_line = 8).to_pandas().T\n",
    "BDr_1.columns = BDr_1.iloc[0]\n",
    "BDr_1 = BDr_1.iloc[1:]\n",
    "adata_1 = sc.AnnData(BDr_1.T, dtype = 'int64')\n",
    "adata_1"
   ]
  },
  {
   "cell_type": "code",
   "execution_count": 4,
   "metadata": {},
   "outputs": [
    {
     "data": {
      "text/html": [
       "<div>\n",
       "<style scoped>\n",
       "    .dataframe tbody tr th:only-of-type {\n",
       "        vertical-align: middle;\n",
       "    }\n",
       "\n",
       "    .dataframe tbody tr th {\n",
       "        vertical-align: top;\n",
       "    }\n",
       "\n",
       "    .dataframe thead th {\n",
       "        text-align: right;\n",
       "    }\n",
       "</style>\n",
       "<table border=\"1\" class=\"dataframe\">\n",
       "  <thead>\n",
       "    <tr style=\"text-align: right;\">\n",
       "      <th></th>\n",
       "      <th>sex</th>\n",
       "      <th>age</th>\n",
       "      <th>condition</th>\n",
       "      <th>ethnicity</th>\n",
       "      <th>PaCO2</th>\n",
       "      <th>donor</th>\n",
       "      <th>infection</th>\n",
       "      <th>disease</th>\n",
       "      <th>SMK</th>\n",
       "      <th>illumina_stimunr</th>\n",
       "      <th>bd_rhapsody</th>\n",
       "    </tr>\n",
       "    <tr>\n",
       "      <th>Cell_Index</th>\n",
       "      <th></th>\n",
       "      <th></th>\n",
       "      <th></th>\n",
       "      <th></th>\n",
       "      <th></th>\n",
       "      <th></th>\n",
       "      <th></th>\n",
       "      <th></th>\n",
       "      <th></th>\n",
       "      <th></th>\n",
       "      <th></th>\n",
       "    </tr>\n",
       "  </thead>\n",
       "  <tbody>\n",
       "    <tr>\n",
       "      <th>2526729</th>\n",
       "      <td>male</td>\n",
       "      <td>55</td>\n",
       "      <td>CTRL</td>\n",
       "      <td>caucasian</td>\n",
       "      <td>94.5</td>\n",
       "      <td>GNR-08</td>\n",
       "      <td>CTRL</td>\n",
       "      <td>healthy</td>\n",
       "      <td>9</td>\n",
       "      <td>21_0397</td>\n",
       "      <td>4</td>\n",
       "    </tr>\n",
       "    <tr>\n",
       "      <th>5344606</th>\n",
       "      <td>male</td>\n",
       "      <td>55</td>\n",
       "      <td>CTRL</td>\n",
       "      <td>caucasian</td>\n",
       "      <td>94.5</td>\n",
       "      <td>GNR-08</td>\n",
       "      <td>CTRL</td>\n",
       "      <td>healthy</td>\n",
       "      <td>9</td>\n",
       "      <td>21_0397</td>\n",
       "      <td>4</td>\n",
       "    </tr>\n",
       "    <tr>\n",
       "      <th>8114358</th>\n",
       "      <td>male</td>\n",
       "      <td>55</td>\n",
       "      <td>CTRL</td>\n",
       "      <td>caucasian</td>\n",
       "      <td>94.5</td>\n",
       "      <td>GNR-08</td>\n",
       "      <td>CTRL</td>\n",
       "      <td>healthy</td>\n",
       "      <td>9</td>\n",
       "      <td>21_0397</td>\n",
       "      <td>4</td>\n",
       "    </tr>\n",
       "    <tr>\n",
       "      <th>9737117</th>\n",
       "      <td>male</td>\n",
       "      <td>55</td>\n",
       "      <td>CTRL</td>\n",
       "      <td>caucasian</td>\n",
       "      <td>94.5</td>\n",
       "      <td>GNR-08</td>\n",
       "      <td>CTRL</td>\n",
       "      <td>healthy</td>\n",
       "      <td>9</td>\n",
       "      <td>21_0397</td>\n",
       "      <td>4</td>\n",
       "    </tr>\n",
       "    <tr>\n",
       "      <th>2834689</th>\n",
       "      <td>male</td>\n",
       "      <td>55</td>\n",
       "      <td>CTRL</td>\n",
       "      <td>caucasian</td>\n",
       "      <td>94.5</td>\n",
       "      <td>GNR-08</td>\n",
       "      <td>CTRL</td>\n",
       "      <td>healthy</td>\n",
       "      <td>9</td>\n",
       "      <td>21_0397</td>\n",
       "      <td>4</td>\n",
       "    </tr>\n",
       "  </tbody>\n",
       "</table>\n",
       "</div>"
      ],
      "text/plain": [
       "             sex age condition  ethnicity PaCO2   donor infection  disease  \\\n",
       "Cell_Index                                                                   \n",
       "2526729     male  55      CTRL  caucasian  94.5  GNR-08      CTRL  healthy   \n",
       "5344606     male  55      CTRL  caucasian  94.5  GNR-08      CTRL  healthy   \n",
       "8114358     male  55      CTRL  caucasian  94.5  GNR-08      CTRL  healthy   \n",
       "9737117     male  55      CTRL  caucasian  94.5  GNR-08      CTRL  healthy   \n",
       "2834689     male  55      CTRL  caucasian  94.5  GNR-08      CTRL  healthy   \n",
       "\n",
       "           SMK illumina_stimunr bd_rhapsody  \n",
       "Cell_Index                                   \n",
       "2526729      9          21_0397           4  \n",
       "5344606      9          21_0397           4  \n",
       "8114358      9          21_0397           4  \n",
       "9737117      9          21_0397           4  \n",
       "2834689      9          21_0397           4  "
      ]
     },
     "execution_count": 4,
     "metadata": {},
     "output_type": "execute_result"
    }
   ],
   "source": [
    "adata_1.obs['sex'] = 'male'\n",
    "adata_1.obs['age'] = '55'\n",
    "adata_1.obs['condition'] = 'CTRL'\n",
    "adata_1.obs['ethnicity'] = 'caucasian'\n",
    "adata_1.obs['PaCO2'] = '94.5'\n",
    "adata_1.obs['donor'] = 'GNR-08'\n",
    "adata_1.obs['infection'] = 'CTRL'\n",
    "adata_1.obs['disease'] = 'healthy'\n",
    "adata_1.obs['SMK'] = '9'\n",
    "adata_1.obs['illumina_stimunr'] = '21_0397'\n",
    "adata_1.obs['bd_rhapsody'] = '4'\n",
    "adata_1.obs.head()"
   ]
  },
  {
   "cell_type": "code",
   "execution_count": 5,
   "metadata": {},
   "outputs": [
    {
     "name": "stderr",
     "output_type": "stream",
     "text": [
      "/Users/cartalop/mambaforge/envs/scanpy/lib/python3.9/site-packages/anndata/_core/anndata.py:121: ImplicitModificationWarning: Transforming to str index.\n",
      "  warnings.warn(\"Transforming to str index.\", ImplicitModificationWarning)\n"
     ]
    },
    {
     "data": {
      "text/plain": [
       "AnnData object with n_obs × n_vars = 3671 × 31864"
      ]
     },
     "execution_count": 5,
     "metadata": {},
     "output_type": "execute_result"
    }
   ],
   "source": [
    "BDr_2 = dt.fread(BDdata + 'Versuch_4/V4-newref_SampleTag10_hs/V4-newref_SampleTag10_hs_RSEC_ReadsPerCell.csv', header = True, skip_to_line = 8).to_pandas().T\n",
    "BDr_2.columns = BDr_2.iloc[0]\n",
    "BDr_2 = BDr_2.iloc[1:]\n",
    "adata_2 = sc.AnnData(BDr_2.T, dtype = 'int64')\n",
    "adata_2"
   ]
  },
  {
   "cell_type": "code",
   "execution_count": 6,
   "metadata": {},
   "outputs": [
    {
     "data": {
      "text/html": [
       "<div>\n",
       "<style scoped>\n",
       "    .dataframe tbody tr th:only-of-type {\n",
       "        vertical-align: middle;\n",
       "    }\n",
       "\n",
       "    .dataframe tbody tr th {\n",
       "        vertical-align: top;\n",
       "    }\n",
       "\n",
       "    .dataframe thead th {\n",
       "        text-align: right;\n",
       "    }\n",
       "</style>\n",
       "<table border=\"1\" class=\"dataframe\">\n",
       "  <thead>\n",
       "    <tr style=\"text-align: right;\">\n",
       "      <th></th>\n",
       "      <th>sex</th>\n",
       "      <th>age</th>\n",
       "      <th>condition</th>\n",
       "      <th>ethnicity</th>\n",
       "      <th>PaCO2</th>\n",
       "      <th>donor</th>\n",
       "      <th>infection</th>\n",
       "      <th>disease</th>\n",
       "      <th>SMK</th>\n",
       "      <th>illumina_stimunr</th>\n",
       "      <th>bd_rhapsody</th>\n",
       "    </tr>\n",
       "    <tr>\n",
       "      <th>Cell_Index</th>\n",
       "      <th></th>\n",
       "      <th></th>\n",
       "      <th></th>\n",
       "      <th></th>\n",
       "      <th></th>\n",
       "      <th></th>\n",
       "      <th></th>\n",
       "      <th></th>\n",
       "      <th></th>\n",
       "      <th></th>\n",
       "      <th></th>\n",
       "    </tr>\n",
       "  </thead>\n",
       "  <tbody>\n",
       "    <tr>\n",
       "      <th>8716083</th>\n",
       "      <td>male</td>\n",
       "      <td>55</td>\n",
       "      <td>IAV</td>\n",
       "      <td>caucasian</td>\n",
       "      <td>84.5</td>\n",
       "      <td>GNR-08</td>\n",
       "      <td>IAV</td>\n",
       "      <td>healthy</td>\n",
       "      <td>10</td>\n",
       "      <td>21_0397</td>\n",
       "      <td>4</td>\n",
       "    </tr>\n",
       "    <tr>\n",
       "      <th>14036011</th>\n",
       "      <td>male</td>\n",
       "      <td>55</td>\n",
       "      <td>IAV</td>\n",
       "      <td>caucasian</td>\n",
       "      <td>84.5</td>\n",
       "      <td>GNR-08</td>\n",
       "      <td>IAV</td>\n",
       "      <td>healthy</td>\n",
       "      <td>10</td>\n",
       "      <td>21_0397</td>\n",
       "      <td>4</td>\n",
       "    </tr>\n",
       "    <tr>\n",
       "      <th>6809136</th>\n",
       "      <td>male</td>\n",
       "      <td>55</td>\n",
       "      <td>IAV</td>\n",
       "      <td>caucasian</td>\n",
       "      <td>84.5</td>\n",
       "      <td>GNR-08</td>\n",
       "      <td>IAV</td>\n",
       "      <td>healthy</td>\n",
       "      <td>10</td>\n",
       "      <td>21_0397</td>\n",
       "      <td>4</td>\n",
       "    </tr>\n",
       "    <tr>\n",
       "      <th>6791468</th>\n",
       "      <td>male</td>\n",
       "      <td>55</td>\n",
       "      <td>IAV</td>\n",
       "      <td>caucasian</td>\n",
       "      <td>84.5</td>\n",
       "      <td>GNR-08</td>\n",
       "      <td>IAV</td>\n",
       "      <td>healthy</td>\n",
       "      <td>10</td>\n",
       "      <td>21_0397</td>\n",
       "      <td>4</td>\n",
       "    </tr>\n",
       "    <tr>\n",
       "      <th>9157679</th>\n",
       "      <td>male</td>\n",
       "      <td>55</td>\n",
       "      <td>IAV</td>\n",
       "      <td>caucasian</td>\n",
       "      <td>84.5</td>\n",
       "      <td>GNR-08</td>\n",
       "      <td>IAV</td>\n",
       "      <td>healthy</td>\n",
       "      <td>10</td>\n",
       "      <td>21_0397</td>\n",
       "      <td>4</td>\n",
       "    </tr>\n",
       "  </tbody>\n",
       "</table>\n",
       "</div>"
      ],
      "text/plain": [
       "             sex age condition  ethnicity PaCO2   donor infection  disease  \\\n",
       "Cell_Index                                                                   \n",
       "8716083     male  55       IAV  caucasian  84.5  GNR-08       IAV  healthy   \n",
       "14036011    male  55       IAV  caucasian  84.5  GNR-08       IAV  healthy   \n",
       "6809136     male  55       IAV  caucasian  84.5  GNR-08       IAV  healthy   \n",
       "6791468     male  55       IAV  caucasian  84.5  GNR-08       IAV  healthy   \n",
       "9157679     male  55       IAV  caucasian  84.5  GNR-08       IAV  healthy   \n",
       "\n",
       "           SMK illumina_stimunr bd_rhapsody  \n",
       "Cell_Index                                   \n",
       "8716083     10          21_0397           4  \n",
       "14036011    10          21_0397           4  \n",
       "6809136     10          21_0397           4  \n",
       "6791468     10          21_0397           4  \n",
       "9157679     10          21_0397           4  "
      ]
     },
     "execution_count": 6,
     "metadata": {},
     "output_type": "execute_result"
    }
   ],
   "source": [
    "adata_2.obs['sex'] = 'male'\n",
    "adata_2.obs['age'] = '55'\n",
    "adata_2.obs['condition'] = 'IAV'\n",
    "adata_2.obs['ethnicity'] = 'caucasian'\n",
    "adata_2.obs['PaCO2'] = '84.5'\n",
    "adata_2.obs['donor'] = 'GNR-08'\n",
    "adata_2.obs['infection'] = 'IAV'\n",
    "adata_2.obs['disease'] = 'healthy'\n",
    "adata_2.obs['SMK'] = '10'\n",
    "adata_2.obs['illumina_stimunr'] = '21_0397'\n",
    "adata_2.obs['bd_rhapsody'] = '4'\n",
    "adata_2.obs.head()"
   ]
  },
  {
   "cell_type": "code",
   "execution_count": 7,
   "metadata": {},
   "outputs": [
    {
     "name": "stderr",
     "output_type": "stream",
     "text": [
      "/Users/cartalop/mambaforge/envs/scanpy/lib/python3.9/site-packages/anndata/_core/anndata.py:121: ImplicitModificationWarning: Transforming to str index.\n",
      "  warnings.warn(\"Transforming to str index.\", ImplicitModificationWarning)\n"
     ]
    },
    {
     "data": {
      "text/plain": [
       "AnnData object with n_obs × n_vars = 4105 × 31864"
      ]
     },
     "execution_count": 7,
     "metadata": {},
     "output_type": "execute_result"
    }
   ],
   "source": [
    "BDr_3 = dt.fread(BDdata + 'Versuch_4/V4-newref_SampleTag11_hs_GnR_07_CTRL/V4-newref_SampleTag11_hs_GnR_07_CTRL_RSEC_ReadsPerCell.csv', header = True, skip_to_line = 8).to_pandas().T\n",
    "BDr_3.columns = BDr_3.iloc[0]\n",
    "BDr_3 = BDr_3.iloc[1:]\n",
    "adata_3 = sc.AnnData(BDr_3.T, dtype = 'int64')\n",
    "adata_3"
   ]
  },
  {
   "cell_type": "code",
   "execution_count": 8,
   "metadata": {},
   "outputs": [
    {
     "data": {
      "text/html": [
       "<div>\n",
       "<style scoped>\n",
       "    .dataframe tbody tr th:only-of-type {\n",
       "        vertical-align: middle;\n",
       "    }\n",
       "\n",
       "    .dataframe tbody tr th {\n",
       "        vertical-align: top;\n",
       "    }\n",
       "\n",
       "    .dataframe thead th {\n",
       "        text-align: right;\n",
       "    }\n",
       "</style>\n",
       "<table border=\"1\" class=\"dataframe\">\n",
       "  <thead>\n",
       "    <tr style=\"text-align: right;\">\n",
       "      <th></th>\n",
       "      <th>sex</th>\n",
       "      <th>age</th>\n",
       "      <th>condition</th>\n",
       "      <th>ethnicity</th>\n",
       "      <th>PaCO2</th>\n",
       "      <th>donor</th>\n",
       "      <th>infection</th>\n",
       "      <th>disease</th>\n",
       "      <th>SMK</th>\n",
       "      <th>illumina_stimunr</th>\n",
       "      <th>bd_rhapsody</th>\n",
       "    </tr>\n",
       "    <tr>\n",
       "      <th>Cell_Index</th>\n",
       "      <th></th>\n",
       "      <th></th>\n",
       "      <th></th>\n",
       "      <th></th>\n",
       "      <th></th>\n",
       "      <th></th>\n",
       "      <th></th>\n",
       "      <th></th>\n",
       "      <th></th>\n",
       "      <th></th>\n",
       "      <th></th>\n",
       "    </tr>\n",
       "  </thead>\n",
       "  <tbody>\n",
       "    <tr>\n",
       "      <th>9295491</th>\n",
       "      <td>male</td>\n",
       "      <td>69</td>\n",
       "      <td>CTRL</td>\n",
       "      <td>caucasian</td>\n",
       "      <td>66.2</td>\n",
       "      <td>CHE-02</td>\n",
       "      <td>CTRL</td>\n",
       "      <td>COPD</td>\n",
       "      <td>11</td>\n",
       "      <td>21_0397</td>\n",
       "      <td>4</td>\n",
       "    </tr>\n",
       "    <tr>\n",
       "      <th>5312699</th>\n",
       "      <td>male</td>\n",
       "      <td>69</td>\n",
       "      <td>CTRL</td>\n",
       "      <td>caucasian</td>\n",
       "      <td>66.2</td>\n",
       "      <td>CHE-02</td>\n",
       "      <td>CTRL</td>\n",
       "      <td>COPD</td>\n",
       "      <td>11</td>\n",
       "      <td>21_0397</td>\n",
       "      <td>4</td>\n",
       "    </tr>\n",
       "    <tr>\n",
       "      <th>2529041</th>\n",
       "      <td>male</td>\n",
       "      <td>69</td>\n",
       "      <td>CTRL</td>\n",
       "      <td>caucasian</td>\n",
       "      <td>66.2</td>\n",
       "      <td>CHE-02</td>\n",
       "      <td>CTRL</td>\n",
       "      <td>COPD</td>\n",
       "      <td>11</td>\n",
       "      <td>21_0397</td>\n",
       "      <td>4</td>\n",
       "    </tr>\n",
       "    <tr>\n",
       "      <th>10349585</th>\n",
       "      <td>male</td>\n",
       "      <td>69</td>\n",
       "      <td>CTRL</td>\n",
       "      <td>caucasian</td>\n",
       "      <td>66.2</td>\n",
       "      <td>CHE-02</td>\n",
       "      <td>CTRL</td>\n",
       "      <td>COPD</td>\n",
       "      <td>11</td>\n",
       "      <td>21_0397</td>\n",
       "      <td>4</td>\n",
       "    </tr>\n",
       "    <tr>\n",
       "      <th>7246123</th>\n",
       "      <td>male</td>\n",
       "      <td>69</td>\n",
       "      <td>CTRL</td>\n",
       "      <td>caucasian</td>\n",
       "      <td>66.2</td>\n",
       "      <td>CHE-02</td>\n",
       "      <td>CTRL</td>\n",
       "      <td>COPD</td>\n",
       "      <td>11</td>\n",
       "      <td>21_0397</td>\n",
       "      <td>4</td>\n",
       "    </tr>\n",
       "  </tbody>\n",
       "</table>\n",
       "</div>"
      ],
      "text/plain": [
       "             sex age condition  ethnicity PaCO2   donor infection disease SMK  \\\n",
       "Cell_Index                                                                      \n",
       "9295491     male  69      CTRL  caucasian  66.2  CHE-02      CTRL    COPD  11   \n",
       "5312699     male  69      CTRL  caucasian  66.2  CHE-02      CTRL    COPD  11   \n",
       "2529041     male  69      CTRL  caucasian  66.2  CHE-02      CTRL    COPD  11   \n",
       "10349585    male  69      CTRL  caucasian  66.2  CHE-02      CTRL    COPD  11   \n",
       "7246123     male  69      CTRL  caucasian  66.2  CHE-02      CTRL    COPD  11   \n",
       "\n",
       "           illumina_stimunr bd_rhapsody  \n",
       "Cell_Index                               \n",
       "9295491             21_0397           4  \n",
       "5312699             21_0397           4  \n",
       "2529041             21_0397           4  \n",
       "10349585            21_0397           4  \n",
       "7246123             21_0397           4  "
      ]
     },
     "execution_count": 8,
     "metadata": {},
     "output_type": "execute_result"
    }
   ],
   "source": [
    "adata_3.obs['sex'] = 'male'\n",
    "adata_3.obs['age'] = '69'\n",
    "adata_3.obs['condition'] = 'CTRL'\n",
    "adata_3.obs['ethnicity'] = 'caucasian'\n",
    "adata_3.obs['PaCO2'] = '66.2'\n",
    "adata_3.obs['donor'] = 'CHE-02'\n",
    "adata_3.obs['infection'] = 'CTRL'\n",
    "adata_3.obs['disease'] = 'COPD'\n",
    "adata_3.obs['SMK'] = '11'\n",
    "adata_3.obs['illumina_stimunr'] = '21_0397'\n",
    "adata_3.obs['bd_rhapsody'] = '4'\n",
    "adata_3.obs.head()"
   ]
  },
  {
   "cell_type": "code",
   "execution_count": 9,
   "metadata": {},
   "outputs": [
    {
     "name": "stderr",
     "output_type": "stream",
     "text": [
      "/Users/cartalop/mambaforge/envs/scanpy/lib/python3.9/site-packages/anndata/_core/anndata.py:121: ImplicitModificationWarning: Transforming to str index.\n",
      "  warnings.warn(\"Transforming to str index.\", ImplicitModificationWarning)\n"
     ]
    },
    {
     "data": {
      "text/plain": [
       "AnnData object with n_obs × n_vars = 3812 × 31864"
      ]
     },
     "execution_count": 9,
     "metadata": {},
     "output_type": "execute_result"
    }
   ],
   "source": [
    "BDr_4 = dt.fread(BDdata + 'Versuch_4/V4-newref_SampleTag12_hs_GnR_07_IAV/V4-newref_SampleTag12_hs_GnR_07_IAV_RSEC_ReadsPerCell.csv', header = True, skip_to_line = 8).to_pandas().T\n",
    "BDr_4.columns = BDr_4.iloc[0]\n",
    "BDr_4 = BDr_4.iloc[1:]\n",
    "adata_4 = sc.AnnData(BDr_4.T, dtype = 'int64')\n",
    "adata_4"
   ]
  },
  {
   "cell_type": "code",
   "execution_count": 10,
   "metadata": {},
   "outputs": [
    {
     "data": {
      "text/html": [
       "<div>\n",
       "<style scoped>\n",
       "    .dataframe tbody tr th:only-of-type {\n",
       "        vertical-align: middle;\n",
       "    }\n",
       "\n",
       "    .dataframe tbody tr th {\n",
       "        vertical-align: top;\n",
       "    }\n",
       "\n",
       "    .dataframe thead th {\n",
       "        text-align: right;\n",
       "    }\n",
       "</style>\n",
       "<table border=\"1\" class=\"dataframe\">\n",
       "  <thead>\n",
       "    <tr style=\"text-align: right;\">\n",
       "      <th></th>\n",
       "      <th>sex</th>\n",
       "      <th>age</th>\n",
       "      <th>condition</th>\n",
       "      <th>ethnicity</th>\n",
       "      <th>PaCO2</th>\n",
       "      <th>donor</th>\n",
       "      <th>infection</th>\n",
       "      <th>disease</th>\n",
       "      <th>SMK</th>\n",
       "      <th>illumina_stimunr</th>\n",
       "      <th>bd_rhapsody</th>\n",
       "    </tr>\n",
       "    <tr>\n",
       "      <th>Cell_Index</th>\n",
       "      <th></th>\n",
       "      <th></th>\n",
       "      <th></th>\n",
       "      <th></th>\n",
       "      <th></th>\n",
       "      <th></th>\n",
       "      <th></th>\n",
       "      <th></th>\n",
       "      <th></th>\n",
       "      <th></th>\n",
       "      <th></th>\n",
       "    </tr>\n",
       "  </thead>\n",
       "  <tbody>\n",
       "    <tr>\n",
       "      <th>11060769</th>\n",
       "      <td>male</td>\n",
       "      <td>69</td>\n",
       "      <td>IAV</td>\n",
       "      <td>caucasian</td>\n",
       "      <td>66.2</td>\n",
       "      <td>CHE-02</td>\n",
       "      <td>IAV</td>\n",
       "      <td>COPD</td>\n",
       "      <td>12</td>\n",
       "      <td>21_0397</td>\n",
       "      <td>4</td>\n",
       "    </tr>\n",
       "    <tr>\n",
       "      <th>4575376</th>\n",
       "      <td>male</td>\n",
       "      <td>69</td>\n",
       "      <td>IAV</td>\n",
       "      <td>caucasian</td>\n",
       "      <td>66.2</td>\n",
       "      <td>CHE-02</td>\n",
       "      <td>IAV</td>\n",
       "      <td>COPD</td>\n",
       "      <td>12</td>\n",
       "      <td>21_0397</td>\n",
       "      <td>4</td>\n",
       "    </tr>\n",
       "    <tr>\n",
       "      <th>8865811</th>\n",
       "      <td>male</td>\n",
       "      <td>69</td>\n",
       "      <td>IAV</td>\n",
       "      <td>caucasian</td>\n",
       "      <td>66.2</td>\n",
       "      <td>CHE-02</td>\n",
       "      <td>IAV</td>\n",
       "      <td>COPD</td>\n",
       "      <td>12</td>\n",
       "      <td>21_0397</td>\n",
       "      <td>4</td>\n",
       "    </tr>\n",
       "    <tr>\n",
       "      <th>6198913</th>\n",
       "      <td>male</td>\n",
       "      <td>69</td>\n",
       "      <td>IAV</td>\n",
       "      <td>caucasian</td>\n",
       "      <td>66.2</td>\n",
       "      <td>CHE-02</td>\n",
       "      <td>IAV</td>\n",
       "      <td>COPD</td>\n",
       "      <td>12</td>\n",
       "      <td>21_0397</td>\n",
       "      <td>4</td>\n",
       "    </tr>\n",
       "    <tr>\n",
       "      <th>1797906</th>\n",
       "      <td>male</td>\n",
       "      <td>69</td>\n",
       "      <td>IAV</td>\n",
       "      <td>caucasian</td>\n",
       "      <td>66.2</td>\n",
       "      <td>CHE-02</td>\n",
       "      <td>IAV</td>\n",
       "      <td>COPD</td>\n",
       "      <td>12</td>\n",
       "      <td>21_0397</td>\n",
       "      <td>4</td>\n",
       "    </tr>\n",
       "  </tbody>\n",
       "</table>\n",
       "</div>"
      ],
      "text/plain": [
       "             sex age condition  ethnicity PaCO2   donor infection disease SMK  \\\n",
       "Cell_Index                                                                      \n",
       "11060769    male  69       IAV  caucasian  66.2  CHE-02       IAV    COPD  12   \n",
       "4575376     male  69       IAV  caucasian  66.2  CHE-02       IAV    COPD  12   \n",
       "8865811     male  69       IAV  caucasian  66.2  CHE-02       IAV    COPD  12   \n",
       "6198913     male  69       IAV  caucasian  66.2  CHE-02       IAV    COPD  12   \n",
       "1797906     male  69       IAV  caucasian  66.2  CHE-02       IAV    COPD  12   \n",
       "\n",
       "           illumina_stimunr bd_rhapsody  \n",
       "Cell_Index                               \n",
       "11060769            21_0397           4  \n",
       "4575376             21_0397           4  \n",
       "8865811             21_0397           4  \n",
       "6198913             21_0397           4  \n",
       "1797906             21_0397           4  "
      ]
     },
     "execution_count": 10,
     "metadata": {},
     "output_type": "execute_result"
    }
   ],
   "source": [
    "adata_4.obs['sex'] = 'male'\n",
    "adata_4.obs['age'] = '69'\n",
    "adata_4.obs['condition'] = 'IAV'\n",
    "adata_4.obs['ethnicity'] = 'caucasian'\n",
    "adata_4.obs['PaCO2'] = '66.2'\n",
    "adata_4.obs['donor'] = 'CHE-02'\n",
    "adata_4.obs['infection'] = 'IAV'\n",
    "adata_4.obs['disease'] = 'COPD'\n",
    "adata_4.obs['SMK'] = '12'\n",
    "adata_4.obs['illumina_stimunr'] = '21_0397'\n",
    "adata_4.obs['bd_rhapsody'] = '4'\n",
    "adata_4.obs.head()"
   ]
  },
  {
   "cell_type": "markdown",
   "metadata": {},
   "source": [
    "### Save individual objects"
   ]
  },
  {
   "cell_type": "code",
   "execution_count": 11,
   "metadata": {},
   "outputs": [],
   "source": [
    "adata_1.write('/Volumes/A7V/nobackup/raw_data/single_cell/COPD_IAV/sevenbridges_raw/grch38-iav/Versuch_4/Versuch_4_grch38-iav_GnR08_CTRL_GEX.h5ad')\n",
    "adata_2.write('/Volumes/A7V/nobackup/raw_data/single_cell/COPD_IAV/sevenbridges_raw/grch38-iav/Versuch_4/Versuch_4_grch38-iav_GnR08_IAV_GEX.h5ad')\n",
    "adata_3.write('/Volumes/A7V/nobackup/raw_data/single_cell/COPD_IAV/sevenbridges_raw/grch38-iav/Versuch_4/Versuch_4_grch38-iav_CHE02_CTRL_GEX.h5ad')\n",
    "adata_4.write('/Volumes/A7V/nobackup/raw_data/single_cell/COPD_IAV/sevenbridges_raw/grch38-iav/Versuch_4/Versuch_4_grch38-iav_CHE02_IAV_GEX.h5ad')"
   ]
  },
  {
   "cell_type": "code",
   "execution_count": 12,
   "metadata": {},
   "outputs": [
    {
     "data": {
      "text/plain": [
       "array([[  0,   0,   0, ...,   0, 183,   2],\n",
       "       [  0,   0,   0, ...,   2, 108,   2],\n",
       "       [  0,   0,   1, ...,   6,  52,   4],\n",
       "       ...,\n",
       "       [  0,   0,   0, ...,   0,   6,   0],\n",
       "       [  0,   0,   0, ...,   3,   1,   0],\n",
       "       [  0,   0,   0, ...,   0,   9,   0]])"
      ]
     },
     "execution_count": 12,
     "metadata": {},
     "output_type": "execute_result"
    }
   ],
   "source": [
    "adata_1.X"
   ]
  },
  {
   "cell_type": "code",
   "execution_count": null,
   "metadata": {},
   "outputs": [],
   "source": []
  }
 ],
 "metadata": {
  "kernelspec": {
   "display_name": "Python 3.9.7 ('base')",
   "language": "python",
   "name": "python3"
  },
  "language_info": {
   "codemirror_mode": {
    "name": "ipython",
    "version": 3
   },
   "file_extension": ".py",
   "mimetype": "text/x-python",
   "name": "python",
   "nbconvert_exporter": "python",
   "pygments_lexer": "ipython3",
   "version": "3.9.16"
  },
  "orig_nbformat": 4,
  "vscode": {
   "interpreter": {
    "hash": "ed18ba783afa68584f89c0e1dc87cd5f0dbea19d03cc696bd28b7f836af058ef"
   }
  }
 },
 "nbformat": 4,
 "nbformat_minor": 2
}
