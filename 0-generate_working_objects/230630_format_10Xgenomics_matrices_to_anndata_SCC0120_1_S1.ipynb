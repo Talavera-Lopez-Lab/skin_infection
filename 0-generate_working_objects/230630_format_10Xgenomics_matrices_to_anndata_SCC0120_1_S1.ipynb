{
 "cells": [
  {
   "attachments": {},
   "cell_type": "markdown",
   "metadata": {},
   "source": [
    "### Notebook to format the 10X Genomics HTO data from SCC0120_1_S1 into an `anndata` object with raw counts in `adata.X`\n",
    "\n",
    "- **Developed by:** Carlos Talavera-López Ph.D\n",
    "- **Würzburg Institute for Systems Immunology - JMU-Würzburg**\n",
    "- v230701"
   ]
  },
  {
   "attachments": {},
   "cell_type": "markdown",
   "metadata": {},
   "source": [
    "### Import required modules"
   ]
  },
  {
   "cell_type": "code",
   "execution_count": 1,
   "metadata": {},
   "outputs": [],
   "source": [
    "import anndata\n",
    "import numpy as np\n",
    "import pandas as pd\n",
    "import scanpy as sc"
   ]
  },
  {
   "attachments": {},
   "cell_type": "markdown",
   "metadata": {},
   "source": [
    "### Set up working environment"
   ]
  },
  {
   "cell_type": "code",
   "execution_count": 2,
   "metadata": {},
   "outputs": [
    {
     "name": "stdout",
     "output_type": "stream",
     "text": [
      "-----\n",
      "anndata     0.8.0\n",
      "scanpy      1.9.2\n",
      "-----\n",
      "PIL                 9.4.0\n",
      "appnope             0.1.3\n",
      "asttokens           NA\n",
      "backcall            0.2.0\n",
      "cffi                1.15.1\n",
      "colorama            0.4.6\n",
      "comm                0.1.2\n",
      "cycler              0.10.0\n",
      "cython_runtime      NA\n",
      "dateutil            2.8.2\n",
      "debugpy             1.6.6\n",
      "decorator           5.1.1\n",
      "executing           1.2.0\n",
      "h5py                3.8.0\n",
      "igraph              0.10.4\n",
      "importlib_resources NA\n",
      "ipykernel           6.21.2\n",
      "jedi                0.18.2\n",
      "joblib              1.2.0\n",
      "kiwisolver          1.4.4\n",
      "leidenalg           0.9.1\n",
      "llvmlite            0.39.1\n",
      "louvain             0.8.0\n",
      "matplotlib          3.7.0\n",
      "mpl_toolkits        NA\n",
      "natsort             8.2.0\n",
      "numba               0.56.4\n",
      "numexpr             2.8.4\n",
      "numpy               1.23.5\n",
      "packaging           23.0\n",
      "pandas              1.5.3\n",
      "parso               0.8.3\n",
      "pexpect             4.8.0\n",
      "pickleshare         0.7.5\n",
      "pkg_resources       NA\n",
      "platformdirs        3.0.0\n",
      "prompt_toolkit      3.0.36\n",
      "psutil              5.9.4\n",
      "ptyprocess          0.7.0\n",
      "pure_eval           0.2.2\n",
      "pydev_ipython       NA\n",
      "pydevconsole        NA\n",
      "pydevd              2.9.5\n",
      "pydevd_file_utils   NA\n",
      "pydevd_plugins      NA\n",
      "pydevd_tracing      NA\n",
      "pygments            2.14.0\n",
      "pyparsing           3.0.9\n",
      "pytz                2022.7.1\n",
      "scipy               1.10.0\n",
      "session_info        1.0.0\n",
      "setuptools          67.3.3\n",
      "setuptools_scm      NA\n",
      "six                 1.16.0\n",
      "sklearn             1.2.1\n",
      "stack_data          0.6.2\n",
      "texttable           1.6.7\n",
      "threadpoolctl       3.1.0\n",
      "tornado             6.2\n",
      "traitlets           5.9.0\n",
      "typing_extensions   NA\n",
      "wcwidth             0.2.6\n",
      "zipp                NA\n",
      "zmq                 25.0.0\n",
      "zoneinfo            NA\n",
      "zope                NA\n",
      "-----\n",
      "IPython             8.10.0\n",
      "jupyter_client      8.0.3\n",
      "jupyter_core        5.2.0\n",
      "-----\n",
      "Python 3.9.16 | packaged by conda-forge | (main, Feb  1 2023, 21:42:20) [Clang 14.0.6 ]\n",
      "macOS-13.4.1-x86_64-i386-64bit\n",
      "-----\n",
      "Session information updated at 2023-07-02 18:31\n"
     ]
    }
   ],
   "source": [
    "sc.settings.verbosity = 3\n",
    "sc.logging.print_versions()\n",
    "sc.settings.set_figure_params(dpi = 160, color_map = 'RdPu', dpi_save = 180, vector_friendly = True, format = 'svg')"
   ]
  },
  {
   "attachments": {},
   "cell_type": "markdown",
   "metadata": {},
   "source": [
    "### Read in 10X Genomics files for SCC0120_1_Sample_1"
   ]
  },
  {
   "cell_type": "code",
   "execution_count": 3,
   "metadata": {},
   "outputs": [
    {
     "name": "stdout",
     "output_type": "stream",
     "text": [
      "... reading from cache file cache/..-data-SCC0120_1_Sample_1-outs-filtered_feature_bc_matrix-matrix.h5ad\n"
     ]
    },
    {
     "data": {
      "text/plain": [
       "AnnData object with n_obs × n_vars = 8952 × 36611\n",
       "    var: 'gene_ids', 'feature_types'"
      ]
     },
     "execution_count": 3,
     "metadata": {},
     "output_type": "execute_result"
    }
   ],
   "source": [
    "adata_raw = sc.read_10x_mtx('../data/SCC0120_1_Sample_1/outs/filtered_feature_bc_matrix/', cache = True, gex_only = False) \n",
    "adata_raw"
   ]
  },
  {
   "cell_type": "code",
   "execution_count": 4,
   "metadata": {},
   "outputs": [
    {
     "data": {
      "text/plain": [
       "Gene Expression     36601\n",
       "Antibody Capture       10\n",
       "Name: feature_types, dtype: int64"
      ]
     },
     "execution_count": 4,
     "metadata": {},
     "output_type": "execute_result"
    }
   ],
   "source": [
    "adata_raw.var['feature_types'].value_counts()"
   ]
  },
  {
   "cell_type": "code",
   "execution_count": 5,
   "metadata": {},
   "outputs": [
    {
     "data": {
      "text/html": [
       "<div>\n",
       "<style scoped>\n",
       "    .dataframe tbody tr th:only-of-type {\n",
       "        vertical-align: middle;\n",
       "    }\n",
       "\n",
       "    .dataframe tbody tr th {\n",
       "        vertical-align: top;\n",
       "    }\n",
       "\n",
       "    .dataframe thead th {\n",
       "        text-align: right;\n",
       "    }\n",
       "</style>\n",
       "<table border=\"1\" class=\"dataframe\">\n",
       "  <thead>\n",
       "    <tr style=\"text-align: right;\">\n",
       "      <th></th>\n",
       "    </tr>\n",
       "  </thead>\n",
       "  <tbody>\n",
       "    <tr>\n",
       "      <th>AAACCCAAGATAGTCA-1</th>\n",
       "    </tr>\n",
       "    <tr>\n",
       "      <th>AAACCCAAGGAATCGC-1</th>\n",
       "    </tr>\n",
       "    <tr>\n",
       "      <th>AAACCCAAGTGATGGC-1</th>\n",
       "    </tr>\n",
       "    <tr>\n",
       "      <th>AAACCCACAAATGGTA-1</th>\n",
       "    </tr>\n",
       "    <tr>\n",
       "      <th>AAACCCACATCTAACG-1</th>\n",
       "    </tr>\n",
       "    <tr>\n",
       "      <th>...</th>\n",
       "    </tr>\n",
       "    <tr>\n",
       "      <th>TTTGTTGAGTGTACCT-1</th>\n",
       "    </tr>\n",
       "    <tr>\n",
       "      <th>TTTGTTGCACGCGTGT-1</th>\n",
       "    </tr>\n",
       "    <tr>\n",
       "      <th>TTTGTTGCAGGTGTTT-1</th>\n",
       "    </tr>\n",
       "    <tr>\n",
       "      <th>TTTGTTGGTAGATCGG-1</th>\n",
       "    </tr>\n",
       "    <tr>\n",
       "      <th>TTTGTTGTCAGATTGC-1</th>\n",
       "    </tr>\n",
       "  </tbody>\n",
       "</table>\n",
       "<p>8952 rows × 0 columns</p>\n",
       "</div>"
      ],
      "text/plain": [
       "Empty DataFrame\n",
       "Columns: []\n",
       "Index: [AAACCCAAGATAGTCA-1, AAACCCAAGGAATCGC-1, AAACCCAAGTGATGGC-1, AAACCCACAAATGGTA-1, AAACCCACATCTAACG-1, AAACCCAGTAAGTTAG-1, AAACCCAGTCGCGTTG-1, AAACGAAAGACTTGTC-1, AAACGAAAGGCAGGGA-1, AAACGAAAGTAGTGCG-1, AAACGAACAAGAAATC-1, AAACGAACACAGTCCG-1, AAACGAACAGAGGCTA-1, AAACGAACAGGAGGTT-1, AAACGAAGTTGCCGAC-1, AAACGAATCTCAACCC-1, AAACGAATCTGGGATT-1, AAACGAATCTTGGATG-1, AAACGCTAGATGCAGC-1, AAACGCTAGTCACGAG-1, AAACGCTCAAACTAAG-1, AAACGCTCAATGCTCA-1, AAACGCTCAGCCGTTG-1, AAACGCTCATCAGTCA-1, AAACGCTGTCTTCTAT-1, AAACGCTGTGGCACTC-1, AAAGAACAGGGTGGGA-1, AAAGAACAGTCAGAGC-1, AAAGAACCAATTTCTC-1, AAAGAACCAGAATTCC-1, AAAGAACCATATAGCC-1, AAAGAACCATTGCTGA-1, AAAGGATAGACGAGCT-1, AAAGGATAGGCACCAA-1, AAAGGATAGGCAGGTT-1, AAAGGATAGGCATCAG-1, AAAGGATCACAATCTG-1, AAAGGATCAGACCTAT-1, AAAGGATCAGCTCTGG-1, AAAGGATCATGAATAG-1, AAAGGATGTAAGCAAT-1, AAAGGATGTGGCCCAT-1, AAAGGATGTGTCCGTG-1, AAAGGATGTGTTAGCT-1, AAAGGATTCCATGCAA-1, AAAGGGCAGTGGTGAC-1, AAAGGGCCAACGGCTC-1, AAAGGGCCAAGACCTT-1, AAAGGGCCATCCTCAC-1, AAAGGGCCATTGGCAT-1, AAAGGGCCATTGGGAG-1, AAAGGGCGTAGAGACC-1, AAAGGGCGTATACCTG-1, AAAGGGCGTGTACGCC-1, AAAGGGCGTGTATACC-1, AAAGGGCTCACGGTCG-1, AAAGGGCTCGATACTG-1, AAAGGTAAGAGGCCAT-1, AAAGGTACAAGACCTT-1, AAAGGTAGTAGTTACC-1, AAAGGTAGTCACGTGC-1, AAAGGTAGTCCTGTTC-1, AAAGGTAGTTAGGAGC-1, AAAGGTATCTAAGAAG-1, AAAGGTATCTTTGCAT-1, AAAGTCCCAATAGTGA-1, AAAGTCCCACGCGTCA-1, AAAGTCCCAGAGAAAG-1, AAAGTCCCATCGGCCA-1, AAAGTCCCATCTCATT-1, AAAGTCCGTAGACAGC-1, AAAGTCCGTAGCCAGA-1, AAAGTCCTCACACGAT-1, AAAGTCCTCAGCAGAG-1, AAAGTCCTCATGGCCG-1, AAAGTCCTCCGATAAC-1, AAAGTGAAGGCGTCCT-1, AAAGTGACAACGACTT-1, AAAGTGACAAGATGTA-1, AAAGTGACAATTCTCT-1, AAAGTGACACTCCTGT-1, AAAGTGACACTGTGAT-1, AAAGTGACAGTCGAGA-1, AAAGTGACATTCTGTT-1, AAAGTGAGTAATGATG-1, AAAGTGAGTCAACCAT-1, AAAGTGAGTCGCCTAG-1, AAAGTGATCCGCGGAT-1, AAAGTGATCTCTATGT-1, AAAGTGATCTGTCCGT-1, AAAGTGATCTTCCCGA-1, AAATGGAAGACATGCG-1, AAATGGACAGAGTGAC-1, AAATGGACATACCGTA-1, AAATGGAGTAACAGTA-1, AAATGGAGTAGACAGC-1, AAATGGAGTCTACTGA-1, AAATGGATCATTTGCT-1, AACAAAGAGCCATTGT-1, AACAAAGAGGATCATA-1, ...]\n",
       "\n",
       "[8952 rows x 0 columns]"
      ]
     },
     "execution_count": 5,
     "metadata": {},
     "output_type": "execute_result"
    }
   ],
   "source": [
    "adata_raw.obs"
   ]
  },
  {
   "attachments": {},
   "cell_type": "markdown",
   "metadata": {},
   "source": [
    "### Read in processed metadata"
   ]
  },
  {
   "cell_type": "code",
   "execution_count": 6,
   "metadata": {},
   "outputs": [
    {
     "data": {
      "text/html": [
       "<div>\n",
       "<style scoped>\n",
       "    .dataframe tbody tr th:only-of-type {\n",
       "        vertical-align: middle;\n",
       "    }\n",
       "\n",
       "    .dataframe tbody tr th {\n",
       "        vertical-align: top;\n",
       "    }\n",
       "\n",
       "    .dataframe thead th {\n",
       "        text-align: right;\n",
       "    }\n",
       "</style>\n",
       "<table border=\"1\" class=\"dataframe\">\n",
       "  <thead>\n",
       "    <tr style=\"text-align: right;\">\n",
       "      <th></th>\n",
       "      <th>orig.ident</th>\n",
       "      <th>nCount_RNA</th>\n",
       "      <th>nFeature_RNA</th>\n",
       "      <th>nCount_HTO</th>\n",
       "      <th>nFeature_HTO</th>\n",
       "      <th>nCount_CITE</th>\n",
       "      <th>nFeature_CITE</th>\n",
       "      <th>nCount_PROT</th>\n",
       "      <th>nFeature_PROT</th>\n",
       "      <th>percent.mt</th>\n",
       "      <th>sample</th>\n",
       "      <th>HTO_maxID</th>\n",
       "      <th>HTO_secondID</th>\n",
       "      <th>HTO_margin</th>\n",
       "      <th>HTO_classification</th>\n",
       "      <th>HTO_classification.global</th>\n",
       "      <th>hash.ID</th>\n",
       "    </tr>\n",
       "  </thead>\n",
       "  <tbody>\n",
       "    <tr>\n",
       "      <th>AAACCCAAGATAGTCA-1</th>\n",
       "      <td>SeuratProject</td>\n",
       "      <td>16444</td>\n",
       "      <td>4149</td>\n",
       "      <td>1599</td>\n",
       "      <td>8</td>\n",
       "      <td>32</td>\n",
       "      <td>2</td>\n",
       "      <td>1631</td>\n",
       "      <td>10</td>\n",
       "      <td>4.044028</td>\n",
       "      <td>SCC0120_1_Sample_1</td>\n",
       "      <td>Hashtag8-TotalA</td>\n",
       "      <td>Hashtag4-TotalA</td>\n",
       "      <td>4.668267</td>\n",
       "      <td>Hashtag8-TotalA</td>\n",
       "      <td>Singlet</td>\n",
       "      <td>Hashtag8-TotalA</td>\n",
       "    </tr>\n",
       "    <tr>\n",
       "      <th>AAACCCAAGGAATCGC-1</th>\n",
       "      <td>SeuratProject</td>\n",
       "      <td>4148</td>\n",
       "      <td>1918</td>\n",
       "      <td>46</td>\n",
       "      <td>8</td>\n",
       "      <td>25</td>\n",
       "      <td>2</td>\n",
       "      <td>71</td>\n",
       "      <td>10</td>\n",
       "      <td>4.435873</td>\n",
       "      <td>SCC0120_1_Sample_1</td>\n",
       "      <td>Hashtag1-TotalA</td>\n",
       "      <td>Hashtag6-TotalA</td>\n",
       "      <td>0.267751</td>\n",
       "      <td>Negative</td>\n",
       "      <td>Negative</td>\n",
       "      <td>Negative</td>\n",
       "    </tr>\n",
       "    <tr>\n",
       "      <th>AAACCCAAGTGATGGC-1</th>\n",
       "      <td>SeuratProject</td>\n",
       "      <td>11661</td>\n",
       "      <td>3337</td>\n",
       "      <td>2110</td>\n",
       "      <td>7</td>\n",
       "      <td>992</td>\n",
       "      <td>2</td>\n",
       "      <td>3102</td>\n",
       "      <td>9</td>\n",
       "      <td>2.092445</td>\n",
       "      <td>SCC0120_1_Sample_1</td>\n",
       "      <td>Hashtag4-TotalA</td>\n",
       "      <td>Hashtag8-TotalA</td>\n",
       "      <td>3.616330</td>\n",
       "      <td>Hashtag4-TotalA</td>\n",
       "      <td>Singlet</td>\n",
       "      <td>Hashtag4-TotalA</td>\n",
       "    </tr>\n",
       "    <tr>\n",
       "      <th>AAACCCACATCTAACG-1</th>\n",
       "      <td>SeuratProject</td>\n",
       "      <td>8344</td>\n",
       "      <td>3190</td>\n",
       "      <td>1432</td>\n",
       "      <td>8</td>\n",
       "      <td>434</td>\n",
       "      <td>2</td>\n",
       "      <td>1866</td>\n",
       "      <td>10</td>\n",
       "      <td>2.229147</td>\n",
       "      <td>SCC0120_1_Sample_1</td>\n",
       "      <td>Hashtag4-TotalA</td>\n",
       "      <td>Hashtag8-TotalA</td>\n",
       "      <td>3.371058</td>\n",
       "      <td>Hashtag4-TotalA</td>\n",
       "      <td>Singlet</td>\n",
       "      <td>Hashtag4-TotalA</td>\n",
       "    </tr>\n",
       "    <tr>\n",
       "      <th>AAACCCAGTAAGTTAG-1</th>\n",
       "      <td>SeuratProject</td>\n",
       "      <td>10131</td>\n",
       "      <td>2983</td>\n",
       "      <td>755</td>\n",
       "      <td>8</td>\n",
       "      <td>20</td>\n",
       "      <td>2</td>\n",
       "      <td>775</td>\n",
       "      <td>10</td>\n",
       "      <td>3.681769</td>\n",
       "      <td>SCC0120_1_Sample_1</td>\n",
       "      <td>Hashtag6-TotalA</td>\n",
       "      <td>Hashtag8-TotalA</td>\n",
       "      <td>4.110901</td>\n",
       "      <td>Hashtag6-TotalA</td>\n",
       "      <td>Singlet</td>\n",
       "      <td>Hashtag6-TotalA</td>\n",
       "    </tr>\n",
       "  </tbody>\n",
       "</table>\n",
       "</div>"
      ],
      "text/plain": [
       "                       orig.ident  nCount_RNA  nFeature_RNA  nCount_HTO  \\\n",
       "AAACCCAAGATAGTCA-1  SeuratProject       16444          4149        1599   \n",
       "AAACCCAAGGAATCGC-1  SeuratProject        4148          1918          46   \n",
       "AAACCCAAGTGATGGC-1  SeuratProject       11661          3337        2110   \n",
       "AAACCCACATCTAACG-1  SeuratProject        8344          3190        1432   \n",
       "AAACCCAGTAAGTTAG-1  SeuratProject       10131          2983         755   \n",
       "\n",
       "                    nFeature_HTO  nCount_CITE  nFeature_CITE  nCount_PROT  \\\n",
       "AAACCCAAGATAGTCA-1             8           32              2         1631   \n",
       "AAACCCAAGGAATCGC-1             8           25              2           71   \n",
       "AAACCCAAGTGATGGC-1             7          992              2         3102   \n",
       "AAACCCACATCTAACG-1             8          434              2         1866   \n",
       "AAACCCAGTAAGTTAG-1             8           20              2          775   \n",
       "\n",
       "                    nFeature_PROT  percent.mt              sample  \\\n",
       "AAACCCAAGATAGTCA-1             10    4.044028  SCC0120_1_Sample_1   \n",
       "AAACCCAAGGAATCGC-1             10    4.435873  SCC0120_1_Sample_1   \n",
       "AAACCCAAGTGATGGC-1              9    2.092445  SCC0120_1_Sample_1   \n",
       "AAACCCACATCTAACG-1             10    2.229147  SCC0120_1_Sample_1   \n",
       "AAACCCAGTAAGTTAG-1             10    3.681769  SCC0120_1_Sample_1   \n",
       "\n",
       "                          HTO_maxID     HTO_secondID  HTO_margin  \\\n",
       "AAACCCAAGATAGTCA-1  Hashtag8-TotalA  Hashtag4-TotalA    4.668267   \n",
       "AAACCCAAGGAATCGC-1  Hashtag1-TotalA  Hashtag6-TotalA    0.267751   \n",
       "AAACCCAAGTGATGGC-1  Hashtag4-TotalA  Hashtag8-TotalA    3.616330   \n",
       "AAACCCACATCTAACG-1  Hashtag4-TotalA  Hashtag8-TotalA    3.371058   \n",
       "AAACCCAGTAAGTTAG-1  Hashtag6-TotalA  Hashtag8-TotalA    4.110901   \n",
       "\n",
       "                   HTO_classification HTO_classification.global  \\\n",
       "AAACCCAAGATAGTCA-1    Hashtag8-TotalA                   Singlet   \n",
       "AAACCCAAGGAATCGC-1           Negative                  Negative   \n",
       "AAACCCAAGTGATGGC-1    Hashtag4-TotalA                   Singlet   \n",
       "AAACCCACATCTAACG-1    Hashtag4-TotalA                   Singlet   \n",
       "AAACCCAGTAAGTTAG-1    Hashtag6-TotalA                   Singlet   \n",
       "\n",
       "                            hash.ID  \n",
       "AAACCCAAGATAGTCA-1  Hashtag8-TotalA  \n",
       "AAACCCAAGGAATCGC-1         Negative  \n",
       "AAACCCAAGTGATGGC-1  Hashtag4-TotalA  \n",
       "AAACCCACATCTAACG-1  Hashtag4-TotalA  \n",
       "AAACCCAGTAAGTTAG-1  Hashtag6-TotalA  "
      ]
     },
     "execution_count": 6,
     "metadata": {},
     "output_type": "execute_result"
    }
   ],
   "source": [
    "adata_metadata = pd.read_csv('../data/SCC0120_1_Sample_1_metadata.csv', sep = ',', index_col = 0)\n",
    "adata_metadata.head()"
   ]
  },
  {
   "cell_type": "code",
   "execution_count": 7,
   "metadata": {},
   "outputs": [
    {
     "data": {
      "text/plain": [
       "(6988, 17)"
      ]
     },
     "execution_count": 7,
     "metadata": {},
     "output_type": "execute_result"
    }
   ],
   "source": [
    "adata_metadata.shape"
   ]
  },
  {
   "cell_type": "code",
   "execution_count": 8,
   "metadata": {},
   "outputs": [
    {
     "data": {
      "text/plain": [
       "AnnData object with n_obs × n_vars = 8952 × 36611\n",
       "    obs: 'orig.ident', 'nCount_RNA', 'nFeature_RNA', 'nCount_HTO', 'nFeature_HTO', 'nCount_CITE', 'nFeature_CITE', 'nCount_PROT', 'nFeature_PROT', 'percent.mt', 'sample', 'HTO_maxID', 'HTO_secondID', 'HTO_margin', 'HTO_classification', 'HTO_classification.global', 'hash.ID'\n",
       "    var: 'gene_ids', 'feature_types'"
      ]
     },
     "execution_count": 8,
     "metadata": {},
     "output_type": "execute_result"
    }
   ],
   "source": [
    "adata_raw.obs.index = adata_raw.obs.index.astype(str)\n",
    "adata_metadata.index = adata_metadata.index.astype(str)\n",
    "merged = adata_raw.obs.join(adata_metadata, how = 'left')\n",
    "adata_raw.obs = merged\n",
    "adata_raw"
   ]
  },
  {
   "cell_type": "code",
   "execution_count": 9,
   "metadata": {},
   "outputs": [
    {
     "data": {
      "text/plain": [
       "Doublet            1294\n",
       "Hashtag4-TotalA     928\n",
       "Hashtag3-TotalA     833\n",
       "Hashtag5-TotalA     829\n",
       "Hashtag2-TotalA     737\n",
       "Negative            568\n",
       "Hashtag6-TotalA     527\n",
       "Hashtag8-TotalA     520\n",
       "Hashtag7-TotalA     469\n",
       "Hashtag1-TotalA     283\n",
       "Name: hash.ID, dtype: int64"
      ]
     },
     "execution_count": 9,
     "metadata": {},
     "output_type": "execute_result"
    }
   ],
   "source": [
    "adata_raw.obs['hash.ID'].value_counts()"
   ]
  },
  {
   "attachments": {},
   "cell_type": "markdown",
   "metadata": {},
   "source": [
    "### Create a dictionary to map the samples with their identity"
   ]
  },
  {
   "cell_type": "code",
   "execution_count": 10,
   "metadata": {},
   "outputs": [],
   "source": [
    "mapping_dict = {\n",
    "    \"Hashtag1-TotalA\": {\"sample\": \"hs_1\", \"tissue\": \"skin\", \"condition\": \"healthy\"},\n",
    "    \"Hashtag4-TotalA\": {\"sample\": \"hs_2\", \"tissue\": \"skin\", \"condition\": \"healthy\"},\n",
    "    \"Hashtag7-TotalA\": {\"sample\": \"hs_3\", \"tissue\": \"skin\", \"condition\": \"healthy\"},\n",
    "    \"Hashtag2-TotalA\": {\"sample\": \"is_1\", \"tissue\": \"skin\", \"condition\": \"infected\"},\n",
    "    \"Hashtag5-TotalA\": {\"sample\": \"is_2\", \"tissue\": \"skin\", \"condition\": \"infected\"},\n",
    "    \"Hashtag8-TotalA\": {\"sample\": \"is_3\", \"tissue\": \"skin\", \"condition\": \"infected\"},\n",
    "    \"Hashtag3-TotalA\": {\"sample\": \"pbmc_1\", \"tissue\": \"pbmc\", \"condition\": \"blood\"},\n",
    "    \"Hashtag6-TotalA\": {\"sample\": \"pbmc_2\", \"tissue\": \"pbmc\", \"condition\": \"blood\"}\n",
    "}\n"
   ]
  },
  {
   "cell_type": "code",
   "execution_count": 11,
   "metadata": {},
   "outputs": [
    {
     "data": {
      "text/plain": [
       "AnnData object with n_obs × n_vars = 8952 × 36611\n",
       "    obs: 'orig.ident', 'nCount_RNA', 'nFeature_RNA', 'nCount_HTO', 'nFeature_HTO', 'nCount_CITE', 'nFeature_CITE', 'nCount_PROT', 'nFeature_PROT', 'percent.mt', 'sample', 'HTO_maxID', 'HTO_secondID', 'HTO_margin', 'HTO_classification', 'HTO_classification.global', 'hash.ID', 'tissue', 'condition'\n",
       "    var: 'gene_ids', 'feature_types'"
      ]
     },
     "execution_count": 11,
     "metadata": {},
     "output_type": "execute_result"
    }
   ],
   "source": [
    "for hash_ID, mapping in mapping_dict.items():\n",
    "    if hash_ID in adata_raw.obs['hash.ID'].values:\n",
    "        for column, value in mapping.items():\n",
    "            if column not in adata_raw.obs.columns:\n",
    "                adata_raw.obs[column] = np.nan\n",
    "            idx = adata_raw.obs[adata_raw.obs['hash.ID'] == hash_ID].index\n",
    "            adata_raw.obs.loc[idx, column] = value\n",
    "adata_raw"
   ]
  },
  {
   "cell_type": "code",
   "execution_count": 12,
   "metadata": {},
   "outputs": [
    {
     "data": {
      "text/plain": [
       "infected    2086\n",
       "healthy     1680\n",
       "blood       1360\n",
       "Name: condition, dtype: int64"
      ]
     },
     "execution_count": 12,
     "metadata": {},
     "output_type": "execute_result"
    }
   ],
   "source": [
    "adata_raw.obs['condition'].value_counts()"
   ]
  },
  {
   "cell_type": "code",
   "execution_count": 13,
   "metadata": {},
   "outputs": [
    {
     "data": {
      "text/plain": [
       "skin    3766\n",
       "pbmc    1360\n",
       "Name: tissue, dtype: int64"
      ]
     },
     "execution_count": 13,
     "metadata": {},
     "output_type": "execute_result"
    }
   ],
   "source": [
    "adata_raw.obs['tissue'].value_counts()"
   ]
  },
  {
   "cell_type": "code",
   "execution_count": 14,
   "metadata": {},
   "outputs": [
    {
     "data": {
      "text/plain": [
       "SCC0120_1_Sample_1    1862\n",
       "hs_2                   928\n",
       "pbmc_1                 833\n",
       "is_2                   829\n",
       "is_1                   737\n",
       "pbmc_2                 527\n",
       "is_3                   520\n",
       "hs_3                   469\n",
       "hs_1                   283\n",
       "Name: sample, dtype: int64"
      ]
     },
     "execution_count": 14,
     "metadata": {},
     "output_type": "execute_result"
    }
   ],
   "source": [
    "adata_raw.obs['sample'].value_counts()"
   ]
  },
  {
   "attachments": {},
   "cell_type": "markdown",
   "metadata": {},
   "source": [
    "### Remove cells that have _Doublet_ or _Negative assigned_"
   ]
  },
  {
   "cell_type": "code",
   "execution_count": 15,
   "metadata": {},
   "outputs": [
    {
     "data": {
      "text/plain": [
       "Singlet     5126\n",
       "Doublet     1294\n",
       "Negative     568\n",
       "Name: HTO_classification.global, dtype: int64"
      ]
     },
     "execution_count": 15,
     "metadata": {},
     "output_type": "execute_result"
    }
   ],
   "source": [
    "adata_raw.obs['HTO_classification.global'].value_counts()"
   ]
  },
  {
   "cell_type": "code",
   "execution_count": 16,
   "metadata": {},
   "outputs": [
    {
     "data": {
      "text/plain": [
       "View of AnnData object with n_obs × n_vars = 5126 × 36611\n",
       "    obs: 'orig.ident', 'nCount_RNA', 'nFeature_RNA', 'nCount_HTO', 'nFeature_HTO', 'nCount_CITE', 'nFeature_CITE', 'nCount_PROT', 'nFeature_PROT', 'percent.mt', 'sample', 'HTO_maxID', 'HTO_secondID', 'HTO_margin', 'HTO_classification', 'HTO_classification.global', 'hash.ID', 'tissue', 'condition'\n",
       "    var: 'gene_ids', 'feature_types'"
      ]
     },
     "execution_count": 16,
     "metadata": {},
     "output_type": "execute_result"
    }
   ],
   "source": [
    "adata_raw_sc = adata_raw[adata_raw.obs['HTO_classification.global'].isin(['Singlet'])]\n",
    "adata_raw_sc"
   ]
  },
  {
   "attachments": {},
   "cell_type": "markdown",
   "metadata": {},
   "source": [
    "### Save object"
   ]
  },
  {
   "cell_type": "code",
   "execution_count": 17,
   "metadata": {},
   "outputs": [
    {
     "name": "stderr",
     "output_type": "stream",
     "text": [
      "/Users/cartalop/mambaforge/envs/scanpy/lib/python3.9/site-packages/anndata/_core/anndata.py:1235: ImplicitModificationWarning: Trying to modify attribute `.obs` of view, initializing view as actual.\n",
      "  df[key] = c\n",
      "/Users/cartalop/mambaforge/envs/scanpy/lib/python3.9/site-packages/anndata/_core/anndata.py:1235: ImplicitModificationWarning: Trying to modify attribute `.obs` of view, initializing view as actual.\n",
      "  df[key] = c\n",
      "/Users/cartalop/mambaforge/envs/scanpy/lib/python3.9/site-packages/anndata/_core/anndata.py:1235: ImplicitModificationWarning: Trying to modify attribute `.obs` of view, initializing view as actual.\n",
      "  df[key] = c\n",
      "/Users/cartalop/mambaforge/envs/scanpy/lib/python3.9/site-packages/anndata/_core/anndata.py:1235: ImplicitModificationWarning: Trying to modify attribute `.obs` of view, initializing view as actual.\n",
      "  df[key] = c\n",
      "/Users/cartalop/mambaforge/envs/scanpy/lib/python3.9/site-packages/anndata/_core/anndata.py:1235: ImplicitModificationWarning: Trying to modify attribute `.obs` of view, initializing view as actual.\n",
      "  df[key] = c\n",
      "/Users/cartalop/mambaforge/envs/scanpy/lib/python3.9/site-packages/anndata/_core/anndata.py:1235: ImplicitModificationWarning: Trying to modify attribute `.obs` of view, initializing view as actual.\n",
      "  df[key] = c\n",
      "/Users/cartalop/mambaforge/envs/scanpy/lib/python3.9/site-packages/anndata/_core/anndata.py:1235: ImplicitModificationWarning: Trying to modify attribute `.obs` of view, initializing view as actual.\n",
      "  df[key] = c\n",
      "/Users/cartalop/mambaforge/envs/scanpy/lib/python3.9/site-packages/anndata/_core/anndata.py:1235: ImplicitModificationWarning: Trying to modify attribute `.obs` of view, initializing view as actual.\n",
      "  df[key] = c\n",
      "/Users/cartalop/mambaforge/envs/scanpy/lib/python3.9/site-packages/anndata/_core/anndata.py:1235: ImplicitModificationWarning: Trying to modify attribute `.obs` of view, initializing view as actual.\n",
      "  df[key] = c\n",
      "/Users/cartalop/mambaforge/envs/scanpy/lib/python3.9/site-packages/anndata/_core/anndata.py:1235: ImplicitModificationWarning: Trying to modify attribute `.var` of view, initializing view as actual.\n",
      "  df[key] = c\n"
     ]
    }
   ],
   "source": [
    "adata_raw_sc.write('../data/SCC0120_1_Sample_1/SCC0120_1_Sample_1.raw.ctl230701.h5ad')"
   ]
  },
  {
   "cell_type": "code",
   "execution_count": null,
   "metadata": {},
   "outputs": [],
   "source": []
  }
 ],
 "metadata": {
  "kernelspec": {
   "display_name": "Python 3.9.7 ('base')",
   "language": "python",
   "name": "python3"
  },
  "language_info": {
   "codemirror_mode": {
    "name": "ipython",
    "version": 3
   },
   "file_extension": ".py",
   "mimetype": "text/x-python",
   "name": "python",
   "nbconvert_exporter": "python",
   "pygments_lexer": "ipython3",
   "version": "3.9.16"
  },
  "orig_nbformat": 4,
  "vscode": {
   "interpreter": {
    "hash": "ed18ba783afa68584f89c0e1dc87cd5f0dbea19d03cc696bd28b7f836af058ef"
   }
  }
 },
 "nbformat": 4,
 "nbformat_minor": 2
}
