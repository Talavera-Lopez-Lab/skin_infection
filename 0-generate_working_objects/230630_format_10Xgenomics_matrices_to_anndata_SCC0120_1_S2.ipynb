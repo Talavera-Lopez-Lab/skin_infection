{
 "cells": [
  {
   "attachments": {},
   "cell_type": "markdown",
   "metadata": {},
   "source": [
    "### Notebook to format the 10X Genomics HTO data from SCC0120_1_S2 into an `anndata` object with raw counts in `adata.X`\n",
    "\n",
    "- **Developed by:** Carlos Talavera-López Ph.D\n",
    "- **Würzburg Institute for Systems Immunology - JMU-Würzburg**\n",
    "- v230701"
   ]
  },
  {
   "attachments": {},
   "cell_type": "markdown",
   "metadata": {},
   "source": [
    "### Import required modules"
   ]
  },
  {
   "cell_type": "code",
   "execution_count": 1,
   "metadata": {},
   "outputs": [],
   "source": [
    "import anndata\n",
    "import numpy as np\n",
    "import pandas as pd\n",
    "import scanpy as sc"
   ]
  },
  {
   "attachments": {},
   "cell_type": "markdown",
   "metadata": {},
   "source": [
    "### Set up working environment"
   ]
  },
  {
   "cell_type": "code",
   "execution_count": 2,
   "metadata": {},
   "outputs": [
    {
     "name": "stdout",
     "output_type": "stream",
     "text": [
      "-----\n",
      "anndata     0.8.0\n",
      "scanpy      1.9.2\n",
      "-----\n",
      "PIL                 9.4.0\n",
      "appnope             0.1.3\n",
      "asttokens           NA\n",
      "backcall            0.2.0\n",
      "cffi                1.15.1\n",
      "colorama            0.4.6\n",
      "comm                0.1.2\n",
      "cycler              0.10.0\n",
      "cython_runtime      NA\n",
      "dateutil            2.8.2\n",
      "debugpy             1.6.6\n",
      "decorator           5.1.1\n",
      "executing           1.2.0\n",
      "h5py                3.8.0\n",
      "igraph              0.10.4\n",
      "importlib_resources NA\n",
      "ipykernel           6.21.2\n",
      "jedi                0.18.2\n",
      "joblib              1.2.0\n",
      "kiwisolver          1.4.4\n",
      "leidenalg           0.9.1\n",
      "llvmlite            0.39.1\n",
      "louvain             0.8.0\n",
      "matplotlib          3.7.0\n",
      "mpl_toolkits        NA\n",
      "natsort             8.2.0\n",
      "numba               0.56.4\n",
      "numexpr             2.8.4\n",
      "numpy               1.23.5\n",
      "packaging           23.0\n",
      "pandas              1.5.3\n",
      "parso               0.8.3\n",
      "pexpect             4.8.0\n",
      "pickleshare         0.7.5\n",
      "pkg_resources       NA\n",
      "platformdirs        3.0.0\n",
      "prompt_toolkit      3.0.36\n",
      "psutil              5.9.4\n",
      "ptyprocess          0.7.0\n",
      "pure_eval           0.2.2\n",
      "pydev_ipython       NA\n",
      "pydevconsole        NA\n",
      "pydevd              2.9.5\n",
      "pydevd_file_utils   NA\n",
      "pydevd_plugins      NA\n",
      "pydevd_tracing      NA\n",
      "pygments            2.14.0\n",
      "pyparsing           3.0.9\n",
      "pytz                2022.7.1\n",
      "scipy               1.10.0\n",
      "session_info        1.0.0\n",
      "setuptools          67.3.3\n",
      "setuptools_scm      NA\n",
      "six                 1.16.0\n",
      "sklearn             1.2.1\n",
      "stack_data          0.6.2\n",
      "texttable           1.6.7\n",
      "threadpoolctl       3.1.0\n",
      "tornado             6.2\n",
      "traitlets           5.9.0\n",
      "typing_extensions   NA\n",
      "wcwidth             0.2.6\n",
      "zipp                NA\n",
      "zmq                 25.0.0\n",
      "zoneinfo            NA\n",
      "zope                NA\n",
      "-----\n",
      "IPython             8.10.0\n",
      "jupyter_client      8.0.3\n",
      "jupyter_core        5.2.0\n",
      "-----\n",
      "Python 3.9.16 | packaged by conda-forge | (main, Feb  1 2023, 21:42:20) [Clang 14.0.6 ]\n",
      "macOS-13.4.1-x86_64-i386-64bit\n",
      "-----\n",
      "Session information updated at 2023-07-02 18:49\n"
     ]
    }
   ],
   "source": [
    "sc.settings.verbosity = 3\n",
    "sc.logging.print_versions()\n",
    "sc.settings.set_figure_params(dpi = 160, color_map = 'RdPu', dpi_save = 180, vector_friendly = True, format = 'svg')"
   ]
  },
  {
   "attachments": {},
   "cell_type": "markdown",
   "metadata": {},
   "source": [
    "### Read in 10X Genomics files for SCC0120_1_Sample_1"
   ]
  },
  {
   "cell_type": "code",
   "execution_count": 3,
   "metadata": {},
   "outputs": [
    {
     "name": "stdout",
     "output_type": "stream",
     "text": [
      "... writing an h5ad cache file to speedup reading next time\n"
     ]
    },
    {
     "data": {
      "text/plain": [
       "AnnData object with n_obs × n_vars = 8142 × 36611\n",
       "    var: 'gene_ids', 'feature_types'"
      ]
     },
     "execution_count": 3,
     "metadata": {},
     "output_type": "execute_result"
    }
   ],
   "source": [
    "adata_raw = sc.read_10x_mtx('../data/SCC0120_1_Sample_2/outs/filtered_feature_bc_matrix/', cache = True, gex_only = False) \n",
    "adata_raw"
   ]
  },
  {
   "cell_type": "code",
   "execution_count": 4,
   "metadata": {},
   "outputs": [
    {
     "data": {
      "text/plain": [
       "Gene Expression     36601\n",
       "Antibody Capture       10\n",
       "Name: feature_types, dtype: int64"
      ]
     },
     "execution_count": 4,
     "metadata": {},
     "output_type": "execute_result"
    }
   ],
   "source": [
    "adata_raw.var['feature_types'].value_counts()"
   ]
  },
  {
   "cell_type": "code",
   "execution_count": 5,
   "metadata": {},
   "outputs": [
    {
     "data": {
      "text/html": [
       "<div>\n",
       "<style scoped>\n",
       "    .dataframe tbody tr th:only-of-type {\n",
       "        vertical-align: middle;\n",
       "    }\n",
       "\n",
       "    .dataframe tbody tr th {\n",
       "        vertical-align: top;\n",
       "    }\n",
       "\n",
       "    .dataframe thead th {\n",
       "        text-align: right;\n",
       "    }\n",
       "</style>\n",
       "<table border=\"1\" class=\"dataframe\">\n",
       "  <thead>\n",
       "    <tr style=\"text-align: right;\">\n",
       "      <th></th>\n",
       "    </tr>\n",
       "  </thead>\n",
       "  <tbody>\n",
       "    <tr>\n",
       "      <th>AAACCCAAGCAGTCTT-1</th>\n",
       "    </tr>\n",
       "    <tr>\n",
       "      <th>AAACCCAAGCGGTATG-1</th>\n",
       "    </tr>\n",
       "    <tr>\n",
       "      <th>AAACCCACAATAGGGC-1</th>\n",
       "    </tr>\n",
       "    <tr>\n",
       "      <th>AAACCCACAATTGAGA-1</th>\n",
       "    </tr>\n",
       "    <tr>\n",
       "      <th>AAACCCACATTCTCTA-1</th>\n",
       "    </tr>\n",
       "    <tr>\n",
       "      <th>...</th>\n",
       "    </tr>\n",
       "    <tr>\n",
       "      <th>TTTGTTGGTATGTGTC-1</th>\n",
       "    </tr>\n",
       "    <tr>\n",
       "      <th>TTTGTTGTCAAGTAAG-1</th>\n",
       "    </tr>\n",
       "    <tr>\n",
       "      <th>TTTGTTGTCACCCTTG-1</th>\n",
       "    </tr>\n",
       "    <tr>\n",
       "      <th>TTTGTTGTCACTTGTT-1</th>\n",
       "    </tr>\n",
       "    <tr>\n",
       "      <th>TTTGTTGTCCCATACC-1</th>\n",
       "    </tr>\n",
       "  </tbody>\n",
       "</table>\n",
       "<p>8142 rows × 0 columns</p>\n",
       "</div>"
      ],
      "text/plain": [
       "Empty DataFrame\n",
       "Columns: []\n",
       "Index: [AAACCCAAGCAGTCTT-1, AAACCCAAGCGGTATG-1, AAACCCACAATAGGGC-1, AAACCCACAATTGAGA-1, AAACCCACATTCTCTA-1, AAACCCAGTATCGGTT-1, AAACCCAGTCAAAGTA-1, AAACCCATCGCCAGAC-1, AAACCCATCGGTATGT-1, AAACGAAAGATCGCTT-1, AAACGAAAGGAAAGAC-1, AAACGAAAGGTAGATT-1, AAACGAAAGTGGAATT-1, AAACGAACACAGAGAC-1, AAACGAACACAGCGCT-1, AAACGAACACTAGAGG-1, AAACGAACAGCTACCG-1, AAACGAACATCCGGTG-1, AAACGAACATGTCTAG-1, AAACGAAGTCAGGAGT-1, AAACGAAGTTGAGTCT-1, AAACGAATCTACTGAG-1, AAACGCTCACCAGCGT-1, AAACGCTCACTGTGTA-1, AAACGCTCAGACCCGT-1, AAACGCTCATGAATCC-1, AAACGCTGTTCCGCTT-1, AAACGCTGTTGGATCT-1, AAACGCTTCAACGTGT-1, AAAGAACAGCAACTCT-1, AAAGAACCAGCTGAAG-1, AAAGAACCAGTTCACA-1, AAAGAACCATGAGAAT-1, AAAGAACCATTGTAGC-1, AAAGAACGTCGAAGCA-1, AAAGAACGTCGGTAAG-1, AAAGAACTCAGACCTA-1, AAAGAACTCAGCTCTC-1, AAAGAACTCGGACCAC-1, AAAGGATAGTCCCGGT-1, AAAGGATCAGCAGAAC-1, AAAGGATCAGTAACAA-1, AAAGGATCAGTTGTCA-1, AAAGGATGTACGATTC-1, AAAGGATGTCAAGGCA-1, AAAGGATGTGGTTTGT-1, AAAGGATTCGAACCTA-1, AAAGGATTCGAGTTGT-1, AAAGGATTCTTACTGT-1, AAAGGGCAGCGCAATG-1, AAAGGGCAGGCAGGGA-1, AAAGGGCCACCGTACG-1, AAAGGGCCAGCAGGAT-1, AAAGGGCCATCCGGCA-1, AAAGGGCGTGAATGAT-1, AAAGGGCGTGACCGTC-1, AAAGGGCGTTGCATGT-1, AAAGGGCTCAATGCAC-1, AAAGGGCTCTCCCAAC-1, AAAGGTAAGTTGGAGC-1, AAAGGTACAGAGTGAC-1, AAAGGTAGTACCTATG-1, AAAGGTAGTAGGAAAG-1, AAAGGTAGTCCAAGAG-1, AAAGGTAGTCTGTCCT-1, AAAGGTATCTCCTACG-1, AAAGTCCCAAAGCAAT-1, AAAGTCCCACTTGGCG-1, AAAGTCCGTACCCAGC-1, AAAGTCCGTAGCTGCC-1, AAAGTCCGTTCCATTT-1, AAAGTCCGTTGAGGAC-1, AAAGTCCTCAGCAGAG-1, AAAGTCCTCCAAGCCG-1, AAAGTCCTCCGCACGA-1, AAAGTCCTCTGCGGAC-1, AAAGTGAAGAAGAGCA-1, AAAGTGAAGCGCGTTC-1, AAAGTGAAGCTAATCC-1, AAAGTGAAGGTAAGAG-1, AAAGTGAAGGTCTACT-1, AAAGTGAAGTCAGCCC-1, AAAGTGACAAGACCGA-1, AAAGTGACACACCTAA-1, AAAGTGACACATACTG-1, AAAGTGAGTATCGCTA-1, AAAGTGAGTCGAGTGA-1, AAAGTGAGTTCGGTAT-1, AAAGTGATCCATAAGC-1, AAAGTGATCCGGACTG-1, AAAGTGATCTTACCGC-1, AAATGGAAGGAGAGTA-1, AAATGGACACGACAGA-1, AAATGGACACTTGACA-1, AAATGGACACTTGGCG-1, AAATGGACAGGTGTGA-1, AAATGGAGTAACGGTG-1, AAATGGAGTTCGGCGT-1, AAATGGATCCAATGCA-1, AAATGGATCCCAGGCA-1, ...]\n",
       "\n",
       "[8142 rows x 0 columns]"
      ]
     },
     "execution_count": 5,
     "metadata": {},
     "output_type": "execute_result"
    }
   ],
   "source": [
    "adata_raw.obs"
   ]
  },
  {
   "attachments": {},
   "cell_type": "markdown",
   "metadata": {},
   "source": [
    "### Read in processed metadata"
   ]
  },
  {
   "cell_type": "code",
   "execution_count": 7,
   "metadata": {},
   "outputs": [
    {
     "data": {
      "text/html": [
       "<div>\n",
       "<style scoped>\n",
       "    .dataframe tbody tr th:only-of-type {\n",
       "        vertical-align: middle;\n",
       "    }\n",
       "\n",
       "    .dataframe tbody tr th {\n",
       "        vertical-align: top;\n",
       "    }\n",
       "\n",
       "    .dataframe thead th {\n",
       "        text-align: right;\n",
       "    }\n",
       "</style>\n",
       "<table border=\"1\" class=\"dataframe\">\n",
       "  <thead>\n",
       "    <tr style=\"text-align: right;\">\n",
       "      <th></th>\n",
       "      <th>orig.ident</th>\n",
       "      <th>nCount_RNA</th>\n",
       "      <th>nFeature_RNA</th>\n",
       "      <th>nCount_HTO</th>\n",
       "      <th>nFeature_HTO</th>\n",
       "      <th>nCount_CITE</th>\n",
       "      <th>nFeature_CITE</th>\n",
       "      <th>nCount_PROT</th>\n",
       "      <th>nFeature_PROT</th>\n",
       "      <th>percent.mt</th>\n",
       "      <th>sample</th>\n",
       "      <th>HTO_maxID</th>\n",
       "      <th>HTO_secondID</th>\n",
       "      <th>HTO_margin</th>\n",
       "      <th>HTO_classification</th>\n",
       "      <th>HTO_classification.global</th>\n",
       "      <th>hash.ID</th>\n",
       "      <th>hashtag</th>\n",
       "      <th>unique</th>\n",
       "      <th>group</th>\n",
       "    </tr>\n",
       "  </thead>\n",
       "  <tbody>\n",
       "    <tr>\n",
       "      <th>AAACCCAAGCAGTCTT-1</th>\n",
       "      <td>SeuratProject</td>\n",
       "      <td>7223</td>\n",
       "      <td>3068</td>\n",
       "      <td>887</td>\n",
       "      <td>7</td>\n",
       "      <td>375</td>\n",
       "      <td>2</td>\n",
       "      <td>1262</td>\n",
       "      <td>9</td>\n",
       "      <td>7.254603</td>\n",
       "      <td>SCC0120_1_Sample_2</td>\n",
       "      <td>Hashtag7-TotalA</td>\n",
       "      <td>Hashtag5-TotalA</td>\n",
       "      <td>3.144635</td>\n",
       "      <td>Hashtag7-TotalA</td>\n",
       "      <td>Singlet</td>\n",
       "      <td>Hashtag7-TotalA</td>\n",
       "      <td>Hashtag7-TotalA</td>\n",
       "      <td>hs_3</td>\n",
       "      <td>hs</td>\n",
       "    </tr>\n",
       "    <tr>\n",
       "      <th>AAACCCAAGCGGTATG-1</th>\n",
       "      <td>SeuratProject</td>\n",
       "      <td>20749</td>\n",
       "      <td>5992</td>\n",
       "      <td>582</td>\n",
       "      <td>6</td>\n",
       "      <td>205</td>\n",
       "      <td>2</td>\n",
       "      <td>787</td>\n",
       "      <td>8</td>\n",
       "      <td>3.026652</td>\n",
       "      <td>SCC0120_1_Sample_2</td>\n",
       "      <td>Hashtag5-TotalA</td>\n",
       "      <td>Hashtag4-TotalA</td>\n",
       "      <td>0.454770</td>\n",
       "      <td>Hashtag4-TotalA_Hashtag5-TotalA</td>\n",
       "      <td>Doublet</td>\n",
       "      <td>Doublet</td>\n",
       "      <td>Doublet</td>\n",
       "      <td>Doublet</td>\n",
       "      <td>Doublet</td>\n",
       "    </tr>\n",
       "    <tr>\n",
       "      <th>AAACCCACAATAGGGC-1</th>\n",
       "      <td>SeuratProject</td>\n",
       "      <td>2514</td>\n",
       "      <td>1293</td>\n",
       "      <td>1546</td>\n",
       "      <td>6</td>\n",
       "      <td>20</td>\n",
       "      <td>2</td>\n",
       "      <td>1566</td>\n",
       "      <td>8</td>\n",
       "      <td>3.221957</td>\n",
       "      <td>SCC0120_1_Sample_2</td>\n",
       "      <td>Hashtag5-TotalA</td>\n",
       "      <td>Hashtag7-TotalA</td>\n",
       "      <td>3.528118</td>\n",
       "      <td>Hashtag5-TotalA</td>\n",
       "      <td>Singlet</td>\n",
       "      <td>Hashtag5-TotalA</td>\n",
       "      <td>Hashtag5-TotalA</td>\n",
       "      <td>is_2</td>\n",
       "      <td>is</td>\n",
       "    </tr>\n",
       "    <tr>\n",
       "      <th>AAACCCACAATTGAGA-1</th>\n",
       "      <td>SeuratProject</td>\n",
       "      <td>13347</td>\n",
       "      <td>4268</td>\n",
       "      <td>1301</td>\n",
       "      <td>6</td>\n",
       "      <td>828</td>\n",
       "      <td>2</td>\n",
       "      <td>2129</td>\n",
       "      <td>8</td>\n",
       "      <td>2.337604</td>\n",
       "      <td>SCC0120_1_Sample_2</td>\n",
       "      <td>Hashtag4-TotalA</td>\n",
       "      <td>Hashtag7-TotalA</td>\n",
       "      <td>2.287189</td>\n",
       "      <td>Hashtag4-TotalA</td>\n",
       "      <td>Singlet</td>\n",
       "      <td>Hashtag4-TotalA</td>\n",
       "      <td>Hashtag4-TotalA</td>\n",
       "      <td>hs_2</td>\n",
       "      <td>hs</td>\n",
       "    </tr>\n",
       "    <tr>\n",
       "      <th>AAACCCACATTCTCTA-1</th>\n",
       "      <td>SeuratProject</td>\n",
       "      <td>9256</td>\n",
       "      <td>3491</td>\n",
       "      <td>2390</td>\n",
       "      <td>6</td>\n",
       "      <td>41</td>\n",
       "      <td>2</td>\n",
       "      <td>2431</td>\n",
       "      <td>8</td>\n",
       "      <td>2.776577</td>\n",
       "      <td>SCC0120_1_Sample_2</td>\n",
       "      <td>Hashtag5-TotalA</td>\n",
       "      <td>Hashtag1-TotalA</td>\n",
       "      <td>3.669243</td>\n",
       "      <td>Hashtag5-TotalA</td>\n",
       "      <td>Singlet</td>\n",
       "      <td>Hashtag5-TotalA</td>\n",
       "      <td>Hashtag5-TotalA</td>\n",
       "      <td>is_2</td>\n",
       "      <td>is</td>\n",
       "    </tr>\n",
       "  </tbody>\n",
       "</table>\n",
       "</div>"
      ],
      "text/plain": [
       "                       orig.ident  nCount_RNA  nFeature_RNA  nCount_HTO  \\\n",
       "AAACCCAAGCAGTCTT-1  SeuratProject        7223          3068         887   \n",
       "AAACCCAAGCGGTATG-1  SeuratProject       20749          5992         582   \n",
       "AAACCCACAATAGGGC-1  SeuratProject        2514          1293        1546   \n",
       "AAACCCACAATTGAGA-1  SeuratProject       13347          4268        1301   \n",
       "AAACCCACATTCTCTA-1  SeuratProject        9256          3491        2390   \n",
       "\n",
       "                    nFeature_HTO  nCount_CITE  nFeature_CITE  nCount_PROT  \\\n",
       "AAACCCAAGCAGTCTT-1             7          375              2         1262   \n",
       "AAACCCAAGCGGTATG-1             6          205              2          787   \n",
       "AAACCCACAATAGGGC-1             6           20              2         1566   \n",
       "AAACCCACAATTGAGA-1             6          828              2         2129   \n",
       "AAACCCACATTCTCTA-1             6           41              2         2431   \n",
       "\n",
       "                    nFeature_PROT  percent.mt              sample  \\\n",
       "AAACCCAAGCAGTCTT-1              9    7.254603  SCC0120_1_Sample_2   \n",
       "AAACCCAAGCGGTATG-1              8    3.026652  SCC0120_1_Sample_2   \n",
       "AAACCCACAATAGGGC-1              8    3.221957  SCC0120_1_Sample_2   \n",
       "AAACCCACAATTGAGA-1              8    2.337604  SCC0120_1_Sample_2   \n",
       "AAACCCACATTCTCTA-1              8    2.776577  SCC0120_1_Sample_2   \n",
       "\n",
       "                          HTO_maxID     HTO_secondID  HTO_margin  \\\n",
       "AAACCCAAGCAGTCTT-1  Hashtag7-TotalA  Hashtag5-TotalA    3.144635   \n",
       "AAACCCAAGCGGTATG-1  Hashtag5-TotalA  Hashtag4-TotalA    0.454770   \n",
       "AAACCCACAATAGGGC-1  Hashtag5-TotalA  Hashtag7-TotalA    3.528118   \n",
       "AAACCCACAATTGAGA-1  Hashtag4-TotalA  Hashtag7-TotalA    2.287189   \n",
       "AAACCCACATTCTCTA-1  Hashtag5-TotalA  Hashtag1-TotalA    3.669243   \n",
       "\n",
       "                                 HTO_classification HTO_classification.global  \\\n",
       "AAACCCAAGCAGTCTT-1                  Hashtag7-TotalA                   Singlet   \n",
       "AAACCCAAGCGGTATG-1  Hashtag4-TotalA_Hashtag5-TotalA                   Doublet   \n",
       "AAACCCACAATAGGGC-1                  Hashtag5-TotalA                   Singlet   \n",
       "AAACCCACAATTGAGA-1                  Hashtag4-TotalA                   Singlet   \n",
       "AAACCCACATTCTCTA-1                  Hashtag5-TotalA                   Singlet   \n",
       "\n",
       "                            hash.ID          hashtag   unique    group  \n",
       "AAACCCAAGCAGTCTT-1  Hashtag7-TotalA  Hashtag7-TotalA     hs_3       hs  \n",
       "AAACCCAAGCGGTATG-1          Doublet          Doublet  Doublet  Doublet  \n",
       "AAACCCACAATAGGGC-1  Hashtag5-TotalA  Hashtag5-TotalA     is_2       is  \n",
       "AAACCCACAATTGAGA-1  Hashtag4-TotalA  Hashtag4-TotalA     hs_2       hs  \n",
       "AAACCCACATTCTCTA-1  Hashtag5-TotalA  Hashtag5-TotalA     is_2       is  "
      ]
     },
     "execution_count": 7,
     "metadata": {},
     "output_type": "execute_result"
    }
   ],
   "source": [
    "adata_metadata = pd.read_csv('../data/SCC0120_1_Sample_2_metadata.csv', sep = ',', index_col = 0)\n",
    "adata_metadata.head()"
   ]
  },
  {
   "cell_type": "code",
   "execution_count": 8,
   "metadata": {},
   "outputs": [
    {
     "data": {
      "text/plain": [
       "(4969, 20)"
      ]
     },
     "execution_count": 8,
     "metadata": {},
     "output_type": "execute_result"
    }
   ],
   "source": [
    "adata_metadata.shape"
   ]
  },
  {
   "cell_type": "code",
   "execution_count": 9,
   "metadata": {},
   "outputs": [
    {
     "data": {
      "text/plain": [
       "AnnData object with n_obs × n_vars = 8142 × 36611\n",
       "    obs: 'orig.ident', 'nCount_RNA', 'nFeature_RNA', 'nCount_HTO', 'nFeature_HTO', 'nCount_CITE', 'nFeature_CITE', 'nCount_PROT', 'nFeature_PROT', 'percent.mt', 'sample', 'HTO_maxID', 'HTO_secondID', 'HTO_margin', 'HTO_classification', 'HTO_classification.global', 'hash.ID', 'hashtag', 'unique', 'group'\n",
       "    var: 'gene_ids', 'feature_types'"
      ]
     },
     "execution_count": 9,
     "metadata": {},
     "output_type": "execute_result"
    }
   ],
   "source": [
    "adata_raw.obs.index = adata_raw.obs.index.astype(str)\n",
    "adata_metadata.index = adata_metadata.index.astype(str)\n",
    "merged = adata_raw.obs.join(adata_metadata, how = 'left')\n",
    "adata_raw.obs = merged\n",
    "adata_raw"
   ]
  },
  {
   "cell_type": "code",
   "execution_count": 10,
   "metadata": {},
   "outputs": [
    {
     "data": {
      "text/plain": [
       "Doublet            1113\n",
       "Hashtag4-TotalA    1087\n",
       "Hashtag5-TotalA     734\n",
       "Hashtag8-TotalA     652\n",
       "Hashtag7-TotalA     562\n",
       "Hashtag2-TotalA     475\n",
       "Hashtag1-TotalA     203\n",
       "Negative            143\n",
       "Name: hash.ID, dtype: int64"
      ]
     },
     "execution_count": 10,
     "metadata": {},
     "output_type": "execute_result"
    }
   ],
   "source": [
    "adata_raw.obs['hash.ID'].value_counts()"
   ]
  },
  {
   "attachments": {},
   "cell_type": "markdown",
   "metadata": {},
   "source": [
    "### Create a dictionary to map the samples with their identity"
   ]
  },
  {
   "cell_type": "code",
   "execution_count": 11,
   "metadata": {},
   "outputs": [],
   "source": [
    "mapping_dict = {\n",
    "    \"Hashtag1-TotalA\": {\"sample\": \"hs_1\", \"tissue\": \"skin\", \"condition\": \"healthy\"},\n",
    "    \"Hashtag4-TotalA\": {\"sample\": \"hs_2\", \"tissue\": \"skin\", \"condition\": \"healthy\"},\n",
    "    \"Hashtag7-TotalA\": {\"sample\": \"hs_3\", \"tissue\": \"skin\", \"condition\": \"healthy\"},\n",
    "    \"Hashtag2-TotalA\": {\"sample\": \"is_1\", \"tissue\": \"skin\", \"condition\": \"infected\"},\n",
    "    \"Hashtag5-TotalA\": {\"sample\": \"is_2\", \"tissue\": \"skin\", \"condition\": \"infected\"},\n",
    "    \"Hashtag8-TotalA\": {\"sample\": \"is_3\", \"tissue\": \"skin\", \"condition\": \"infected\"},\n",
    "    \"Hashtag3-TotalA\": {\"sample\": \"pbmc_1\", \"tissue\": \"pbmc\", \"condition\": \"blood\"},\n",
    "    \"Hashtag6-TotalA\": {\"sample\": \"pbmc_2\", \"tissue\": \"pbmc\", \"condition\": \"blood\"}\n",
    "}\n"
   ]
  },
  {
   "cell_type": "code",
   "execution_count": 12,
   "metadata": {},
   "outputs": [
    {
     "data": {
      "text/plain": [
       "AnnData object with n_obs × n_vars = 8142 × 36611\n",
       "    obs: 'orig.ident', 'nCount_RNA', 'nFeature_RNA', 'nCount_HTO', 'nFeature_HTO', 'nCount_CITE', 'nFeature_CITE', 'nCount_PROT', 'nFeature_PROT', 'percent.mt', 'sample', 'HTO_maxID', 'HTO_secondID', 'HTO_margin', 'HTO_classification', 'HTO_classification.global', 'hash.ID', 'hashtag', 'unique', 'group', 'tissue', 'condition'\n",
       "    var: 'gene_ids', 'feature_types'"
      ]
     },
     "execution_count": 12,
     "metadata": {},
     "output_type": "execute_result"
    }
   ],
   "source": [
    "for hash_ID, mapping in mapping_dict.items():\n",
    "    if hash_ID in adata_raw.obs['hash.ID'].values:\n",
    "        for column, value in mapping.items():\n",
    "            if column not in adata_raw.obs.columns:\n",
    "                adata_raw.obs[column] = np.nan\n",
    "            idx = adata_raw.obs[adata_raw.obs['hash.ID'] == hash_ID].index\n",
    "            adata_raw.obs.loc[idx, column] = value\n",
    "adata_raw"
   ]
  },
  {
   "cell_type": "code",
   "execution_count": 13,
   "metadata": {},
   "outputs": [
    {
     "data": {
      "text/plain": [
       "infected    1861\n",
       "healthy     1852\n",
       "Name: condition, dtype: int64"
      ]
     },
     "execution_count": 13,
     "metadata": {},
     "output_type": "execute_result"
    }
   ],
   "source": [
    "adata_raw.obs['condition'].value_counts()"
   ]
  },
  {
   "cell_type": "code",
   "execution_count": 14,
   "metadata": {},
   "outputs": [
    {
     "data": {
      "text/plain": [
       "skin    3713\n",
       "Name: tissue, dtype: int64"
      ]
     },
     "execution_count": 14,
     "metadata": {},
     "output_type": "execute_result"
    }
   ],
   "source": [
    "adata_raw.obs['tissue'].value_counts()"
   ]
  },
  {
   "cell_type": "code",
   "execution_count": 15,
   "metadata": {},
   "outputs": [
    {
     "data": {
      "text/plain": [
       "SCC0120_1_Sample_2    1256\n",
       "hs_2                  1087\n",
       "is_2                   734\n",
       "is_3                   652\n",
       "hs_3                   562\n",
       "is_1                   475\n",
       "hs_1                   203\n",
       "Name: sample, dtype: int64"
      ]
     },
     "execution_count": 15,
     "metadata": {},
     "output_type": "execute_result"
    }
   ],
   "source": [
    "adata_raw.obs['sample'].value_counts()"
   ]
  },
  {
   "attachments": {},
   "cell_type": "markdown",
   "metadata": {},
   "source": [
    "### Remove cells that have _Doublet_ or _Negative assigned_"
   ]
  },
  {
   "cell_type": "code",
   "execution_count": 16,
   "metadata": {},
   "outputs": [
    {
     "data": {
      "text/plain": [
       "Singlet     3713\n",
       "Doublet     1113\n",
       "Negative     143\n",
       "Name: HTO_classification.global, dtype: int64"
      ]
     },
     "execution_count": 16,
     "metadata": {},
     "output_type": "execute_result"
    }
   ],
   "source": [
    "adata_raw.obs['HTO_classification.global'].value_counts()"
   ]
  },
  {
   "cell_type": "code",
   "execution_count": 17,
   "metadata": {},
   "outputs": [
    {
     "data": {
      "text/plain": [
       "View of AnnData object with n_obs × n_vars = 3713 × 36611\n",
       "    obs: 'orig.ident', 'nCount_RNA', 'nFeature_RNA', 'nCount_HTO', 'nFeature_HTO', 'nCount_CITE', 'nFeature_CITE', 'nCount_PROT', 'nFeature_PROT', 'percent.mt', 'sample', 'HTO_maxID', 'HTO_secondID', 'HTO_margin', 'HTO_classification', 'HTO_classification.global', 'hash.ID', 'hashtag', 'unique', 'group', 'tissue', 'condition'\n",
       "    var: 'gene_ids', 'feature_types'"
      ]
     },
     "execution_count": 17,
     "metadata": {},
     "output_type": "execute_result"
    }
   ],
   "source": [
    "adata_raw_sc = adata_raw[adata_raw.obs['HTO_classification.global'].isin(['Singlet'])]\n",
    "adata_raw_sc"
   ]
  },
  {
   "attachments": {},
   "cell_type": "markdown",
   "metadata": {},
   "source": [
    "### Save object"
   ]
  },
  {
   "cell_type": "code",
   "execution_count": 18,
   "metadata": {},
   "outputs": [
    {
     "name": "stderr",
     "output_type": "stream",
     "text": [
      "/Users/cartalop/mambaforge/envs/scanpy/lib/python3.9/site-packages/anndata/_core/anndata.py:1235: ImplicitModificationWarning: Trying to modify attribute `.obs` of view, initializing view as actual.\n",
      "  df[key] = c\n",
      "/Users/cartalop/mambaforge/envs/scanpy/lib/python3.9/site-packages/anndata/_core/anndata.py:1235: ImplicitModificationWarning: Trying to modify attribute `.obs` of view, initializing view as actual.\n",
      "  df[key] = c\n",
      "/Users/cartalop/mambaforge/envs/scanpy/lib/python3.9/site-packages/anndata/_core/anndata.py:1235: ImplicitModificationWarning: Trying to modify attribute `.obs` of view, initializing view as actual.\n",
      "  df[key] = c\n",
      "/Users/cartalop/mambaforge/envs/scanpy/lib/python3.9/site-packages/anndata/_core/anndata.py:1235: ImplicitModificationWarning: Trying to modify attribute `.obs` of view, initializing view as actual.\n",
      "  df[key] = c\n",
      "/Users/cartalop/mambaforge/envs/scanpy/lib/python3.9/site-packages/anndata/_core/anndata.py:1235: ImplicitModificationWarning: Trying to modify attribute `.obs` of view, initializing view as actual.\n",
      "  df[key] = c\n",
      "/Users/cartalop/mambaforge/envs/scanpy/lib/python3.9/site-packages/anndata/_core/anndata.py:1235: ImplicitModificationWarning: Trying to modify attribute `.obs` of view, initializing view as actual.\n",
      "  df[key] = c\n",
      "/Users/cartalop/mambaforge/envs/scanpy/lib/python3.9/site-packages/anndata/_core/anndata.py:1235: ImplicitModificationWarning: Trying to modify attribute `.obs` of view, initializing view as actual.\n",
      "  df[key] = c\n",
      "/Users/cartalop/mambaforge/envs/scanpy/lib/python3.9/site-packages/anndata/_core/anndata.py:1235: ImplicitModificationWarning: Trying to modify attribute `.obs` of view, initializing view as actual.\n",
      "  df[key] = c\n",
      "/Users/cartalop/mambaforge/envs/scanpy/lib/python3.9/site-packages/anndata/_core/anndata.py:1235: ImplicitModificationWarning: Trying to modify attribute `.obs` of view, initializing view as actual.\n",
      "  df[key] = c\n",
      "/Users/cartalop/mambaforge/envs/scanpy/lib/python3.9/site-packages/anndata/_core/anndata.py:1235: ImplicitModificationWarning: Trying to modify attribute `.obs` of view, initializing view as actual.\n",
      "  df[key] = c\n",
      "/Users/cartalop/mambaforge/envs/scanpy/lib/python3.9/site-packages/anndata/_core/anndata.py:1235: ImplicitModificationWarning: Trying to modify attribute `.obs` of view, initializing view as actual.\n",
      "  df[key] = c\n",
      "/Users/cartalop/mambaforge/envs/scanpy/lib/python3.9/site-packages/anndata/_core/anndata.py:1235: ImplicitModificationWarning: Trying to modify attribute `.obs` of view, initializing view as actual.\n",
      "  df[key] = c\n",
      "/Users/cartalop/mambaforge/envs/scanpy/lib/python3.9/site-packages/anndata/_core/anndata.py:1235: ImplicitModificationWarning: Trying to modify attribute `.var` of view, initializing view as actual.\n",
      "  df[key] = c\n"
     ]
    }
   ],
   "source": [
    "adata_raw_sc.write('../data/SCC0120_1_Sample_2/SCC0120_1_Sample_2.raw.ctl230701.h5ad')"
   ]
  },
  {
   "cell_type": "code",
   "execution_count": null,
   "metadata": {},
   "outputs": [],
   "source": []
  }
 ],
 "metadata": {
  "kernelspec": {
   "display_name": "Python 3.9.7 ('base')",
   "language": "python",
   "name": "python3"
  },
  "language_info": {
   "codemirror_mode": {
    "name": "ipython",
    "version": 3
   },
   "file_extension": ".py",
   "mimetype": "text/x-python",
   "name": "python",
   "nbconvert_exporter": "python",
   "pygments_lexer": "ipython3",
   "version": "3.9.16"
  },
  "orig_nbformat": 4,
  "vscode": {
   "interpreter": {
    "hash": "ed18ba783afa68584f89c0e1dc87cd5f0dbea19d03cc696bd28b7f836af058ef"
   }
  }
 },
 "nbformat": 4,
 "nbformat_minor": 2
}
