{
 "cells": [
  {
   "attachments": {},
   "cell_type": "markdown",
   "metadata": {},
   "source": [
    "### Notebook to format the BDRhapsody data from Seven Bridges into an `anndata` object with raw counts in `adata.X`\n",
    "\n",
    "- **Developed by:** Carlos Talavera-López Ph.D\n",
    "- **Institute of Computational Biology - Computational Health Centre - Helmholtz Munich**\n",
    "- v230314"
   ]
  },
  {
   "cell_type": "markdown",
   "metadata": {},
   "source": [
    "### Import required modules"
   ]
  },
  {
   "cell_type": "code",
   "execution_count": 1,
   "metadata": {},
   "outputs": [
    {
     "data": {
      "text/html": [
       "<style type='text/css'>\n",
       ".datatable table.frame { margin-bottom: 0; }\n",
       ".datatable table.frame thead { border-bottom: none; }\n",
       ".datatable table.frame tr.coltypes td {  color: #FFFFFF;  line-height: 6px;  padding: 0 0.5em;}\n",
       ".datatable .bool    { background: #DDDD99; }\n",
       ".datatable .object  { background: #565656; }\n",
       ".datatable .int     { background: #5D9E5D; }\n",
       ".datatable .float   { background: #4040CC; }\n",
       ".datatable .str     { background: #CC4040; }\n",
       ".datatable .time    { background: #40CC40; }\n",
       ".datatable .row_index {  background: var(--jp-border-color3);  border-right: 1px solid var(--jp-border-color0);  color: var(--jp-ui-font-color3);  font-size: 9px;}\n",
       ".datatable .frame tbody td { text-align: left; }\n",
       ".datatable .frame tr.coltypes .row_index {  background: var(--jp-border-color0);}\n",
       ".datatable th:nth-child(2) { padding-left: 12px; }\n",
       ".datatable .hellipsis {  color: var(--jp-cell-editor-border-color);}\n",
       ".datatable .vellipsis {  background: var(--jp-layout-color0);  color: var(--jp-cell-editor-border-color);}\n",
       ".datatable .na {  color: var(--jp-cell-editor-border-color);  font-size: 80%;}\n",
       ".datatable .sp {  opacity: 0.25;}\n",
       ".datatable .footer { font-size: 9px; }\n",
       ".datatable .frame_dimensions {  background: var(--jp-border-color3);  border-top: 1px solid var(--jp-border-color0);  color: var(--jp-ui-font-color3);  display: inline-block;  opacity: 0.6;  padding: 1px 10px 1px 5px;}\n",
       "</style>\n"
      ],
      "text/plain": [
       "<IPython.core.display.HTML object>"
      ]
     },
     "metadata": {},
     "output_type": "display_data"
    }
   ],
   "source": [
    "import anndata\n",
    "import pandas as pd\n",
    "import scanpy as sc\n",
    "import datatable as dt"
   ]
  },
  {
   "cell_type": "markdown",
   "metadata": {},
   "source": [
    "### Set up working environment"
   ]
  },
  {
   "cell_type": "code",
   "execution_count": 2,
   "metadata": {},
   "outputs": [],
   "source": [
    "BDdata = '/Volumes/A7V/nobackup/raw_data/single_cell/COPD_IAV/sevenbridges_raw/grch38-iav/'"
   ]
  },
  {
   "cell_type": "markdown",
   "metadata": {},
   "source": [
    "### Read in _BD Rhapsody_ files for Versuch_1\n",
    "\n",
    "- UMIs are called _Raw_Molecules_\n",
    "- Genes/Features are called _Bioproduct_\n",
    "- Sample Tag Version: hs | Sample Tag Names: 7-CSE_CTRL ; 8-GnR_CTRL ; 9-CSE_IAV ; 10-GnR_IAV"
   ]
  },
  {
   "cell_type": "code",
   "execution_count": 3,
   "metadata": {},
   "outputs": [
    {
     "name": "stderr",
     "output_type": "stream",
     "text": [
      "/Users/cartalop/mambaforge/envs/scanpy/lib/python3.9/site-packages/anndata/_core/anndata.py:121: ImplicitModificationWarning: Transforming to str index.\n",
      "  warnings.warn(\"Transforming to str index.\", ImplicitModificationWarning)\n"
     ]
    },
    {
     "data": {
      "text/plain": [
       "AnnData object with n_obs × n_vars = 6056 × 28388"
      ]
     },
     "execution_count": 3,
     "metadata": {},
     "output_type": "execute_result"
    }
   ],
   "source": [
    "BDr_1 = dt.fread(BDdata + 'Versuch_1/V1-newref_SampleTag07_hs_CSE_CTRL/V1-newref_SampleTag07_hs_CSE_CTRL_RSEC_ReadsPerCell.csv', header = True, skip_to_line = 8).to_pandas().T\n",
    "BDr_1.columns = BDr_1.iloc[0]\n",
    "BDr_1 = BDr_1.iloc[1:]\n",
    "adata_1 = sc.AnnData(BDr_1.T, dtype = 'int64')\n",
    "adata_1"
   ]
  },
  {
   "cell_type": "code",
   "execution_count": 4,
   "metadata": {},
   "outputs": [
    {
     "data": {
      "text/html": [
       "<div>\n",
       "<style scoped>\n",
       "    .dataframe tbody tr th:only-of-type {\n",
       "        vertical-align: middle;\n",
       "    }\n",
       "\n",
       "    .dataframe tbody tr th {\n",
       "        vertical-align: top;\n",
       "    }\n",
       "\n",
       "    .dataframe thead th {\n",
       "        text-align: right;\n",
       "    }\n",
       "</style>\n",
       "<table border=\"1\" class=\"dataframe\">\n",
       "  <thead>\n",
       "    <tr style=\"text-align: right;\">\n",
       "      <th></th>\n",
       "      <th>sex</th>\n",
       "      <th>age</th>\n",
       "      <th>ethnicity</th>\n",
       "      <th>PaCO2</th>\n",
       "      <th>donor</th>\n",
       "      <th>infection</th>\n",
       "      <th>disease</th>\n",
       "      <th>SMK</th>\n",
       "      <th>illumina_stimunr</th>\n",
       "      <th>bd_rhapsody</th>\n",
       "    </tr>\n",
       "    <tr>\n",
       "      <th>Cell_Index</th>\n",
       "      <th></th>\n",
       "      <th></th>\n",
       "      <th></th>\n",
       "      <th></th>\n",
       "      <th></th>\n",
       "      <th></th>\n",
       "      <th></th>\n",
       "      <th></th>\n",
       "      <th></th>\n",
       "      <th></th>\n",
       "    </tr>\n",
       "  </thead>\n",
       "  <tbody>\n",
       "    <tr>\n",
       "      <th>80307</th>\n",
       "      <td>male</td>\n",
       "      <td>67</td>\n",
       "      <td>caucasian</td>\n",
       "      <td>88.8</td>\n",
       "      <td>GNR-06</td>\n",
       "      <td>CTRL</td>\n",
       "      <td>healthy</td>\n",
       "      <td>7</td>\n",
       "      <td>21_0017</td>\n",
       "      <td>1</td>\n",
       "    </tr>\n",
       "    <tr>\n",
       "      <th>339288</th>\n",
       "      <td>male</td>\n",
       "      <td>67</td>\n",
       "      <td>caucasian</td>\n",
       "      <td>88.8</td>\n",
       "      <td>GNR-06</td>\n",
       "      <td>CTRL</td>\n",
       "      <td>healthy</td>\n",
       "      <td>7</td>\n",
       "      <td>21_0017</td>\n",
       "      <td>1</td>\n",
       "    </tr>\n",
       "    <tr>\n",
       "      <th>460986</th>\n",
       "      <td>male</td>\n",
       "      <td>67</td>\n",
       "      <td>caucasian</td>\n",
       "      <td>88.8</td>\n",
       "      <td>GNR-06</td>\n",
       "      <td>CTRL</td>\n",
       "      <td>healthy</td>\n",
       "      <td>7</td>\n",
       "      <td>21_0017</td>\n",
       "      <td>1</td>\n",
       "    </tr>\n",
       "    <tr>\n",
       "      <th>401039</th>\n",
       "      <td>male</td>\n",
       "      <td>67</td>\n",
       "      <td>caucasian</td>\n",
       "      <td>88.8</td>\n",
       "      <td>GNR-06</td>\n",
       "      <td>CTRL</td>\n",
       "      <td>healthy</td>\n",
       "      <td>7</td>\n",
       "      <td>21_0017</td>\n",
       "      <td>1</td>\n",
       "    </tr>\n",
       "    <tr>\n",
       "      <th>312661</th>\n",
       "      <td>male</td>\n",
       "      <td>67</td>\n",
       "      <td>caucasian</td>\n",
       "      <td>88.8</td>\n",
       "      <td>GNR-06</td>\n",
       "      <td>CTRL</td>\n",
       "      <td>healthy</td>\n",
       "      <td>7</td>\n",
       "      <td>21_0017</td>\n",
       "      <td>1</td>\n",
       "    </tr>\n",
       "  </tbody>\n",
       "</table>\n",
       "</div>"
      ],
      "text/plain": [
       "             sex age  ethnicity PaCO2   donor infection  disease SMK  \\\n",
       "Cell_Index                                                             \n",
       "80307       male  67  caucasian  88.8  GNR-06      CTRL  healthy   7   \n",
       "339288      male  67  caucasian  88.8  GNR-06      CTRL  healthy   7   \n",
       "460986      male  67  caucasian  88.8  GNR-06      CTRL  healthy   7   \n",
       "401039      male  67  caucasian  88.8  GNR-06      CTRL  healthy   7   \n",
       "312661      male  67  caucasian  88.8  GNR-06      CTRL  healthy   7   \n",
       "\n",
       "           illumina_stimunr bd_rhapsody  \n",
       "Cell_Index                               \n",
       "80307               21_0017           1  \n",
       "339288              21_0017           1  \n",
       "460986              21_0017           1  \n",
       "401039              21_0017           1  \n",
       "312661              21_0017           1  "
      ]
     },
     "execution_count": 4,
     "metadata": {},
     "output_type": "execute_result"
    }
   ],
   "source": [
    "adata_1.obs['sex'] = 'male'\n",
    "adata_1.obs['age'] = '67'\n",
    "adata_1.obs['ethnicity'] = 'caucasian'\n",
    "adata_1.obs['PaCO2'] = '88.8'\n",
    "adata_1.obs['donor'] = 'GNR-06'\n",
    "adata_1.obs['infection'] = 'CTRL'\n",
    "adata_1.obs['disease'] = 'healthy'\n",
    "adata_1.obs['SMK'] = '7'\n",
    "adata_1.obs['illumina_stimunr'] = '21_0017'\n",
    "adata_1.obs['bd_rhapsody'] = '1'\n",
    "adata_1.obs.head()"
   ]
  },
  {
   "cell_type": "code",
   "execution_count": 5,
   "metadata": {},
   "outputs": [
    {
     "name": "stderr",
     "output_type": "stream",
     "text": [
      "/Users/cartalop/mambaforge/envs/scanpy/lib/python3.9/site-packages/anndata/_core/anndata.py:121: ImplicitModificationWarning: Transforming to str index.\n",
      "  warnings.warn(\"Transforming to str index.\", ImplicitModificationWarning)\n"
     ]
    },
    {
     "data": {
      "text/plain": [
       "AnnData object with n_obs × n_vars = 5268 × 28388"
      ]
     },
     "execution_count": 5,
     "metadata": {},
     "output_type": "execute_result"
    }
   ],
   "source": [
    "BDr_2 = dt.fread(BDdata + 'Versuch_1/V1-newref_SampleTag08_hs_GnR_CTRL/V1-newref_SampleTag08_hs_GnR_CTRL_RSEC_ReadsPerCell.csv', header = True, skip_to_line = 8).to_pandas().T\n",
    "BDr_2.columns = BDr_2.iloc[0]\n",
    "BDr_2 = BDr_2.iloc[1:]\n",
    "adata_2 = sc.AnnData(BDr_2.T, dtype = 'int64')\n",
    "adata_2"
   ]
  },
  {
   "cell_type": "code",
   "execution_count": 6,
   "metadata": {},
   "outputs": [
    {
     "data": {
      "text/html": [
       "<div>\n",
       "<style scoped>\n",
       "    .dataframe tbody tr th:only-of-type {\n",
       "        vertical-align: middle;\n",
       "    }\n",
       "\n",
       "    .dataframe tbody tr th {\n",
       "        vertical-align: top;\n",
       "    }\n",
       "\n",
       "    .dataframe thead th {\n",
       "        text-align: right;\n",
       "    }\n",
       "</style>\n",
       "<table border=\"1\" class=\"dataframe\">\n",
       "  <thead>\n",
       "    <tr style=\"text-align: right;\">\n",
       "      <th></th>\n",
       "      <th>sex</th>\n",
       "      <th>age</th>\n",
       "      <th>ethnicity</th>\n",
       "      <th>PaCO2</th>\n",
       "      <th>donor</th>\n",
       "      <th>infection</th>\n",
       "      <th>disease</th>\n",
       "      <th>SMK</th>\n",
       "      <th>illumina_stimunr</th>\n",
       "      <th>bd_rhapsody</th>\n",
       "    </tr>\n",
       "    <tr>\n",
       "      <th>Cell_Index</th>\n",
       "      <th></th>\n",
       "      <th></th>\n",
       "      <th></th>\n",
       "      <th></th>\n",
       "      <th></th>\n",
       "      <th></th>\n",
       "      <th></th>\n",
       "      <th></th>\n",
       "      <th></th>\n",
       "      <th></th>\n",
       "    </tr>\n",
       "  </thead>\n",
       "  <tbody>\n",
       "    <tr>\n",
       "      <th>40194</th>\n",
       "      <td>male</td>\n",
       "      <td>67</td>\n",
       "      <td>caucasian</td>\n",
       "      <td>88.8</td>\n",
       "      <td>GNR-06</td>\n",
       "      <td>IAV</td>\n",
       "      <td>healthy</td>\n",
       "      <td>8</td>\n",
       "      <td>21_0017</td>\n",
       "      <td>1</td>\n",
       "    </tr>\n",
       "    <tr>\n",
       "      <th>445567</th>\n",
       "      <td>male</td>\n",
       "      <td>67</td>\n",
       "      <td>caucasian</td>\n",
       "      <td>88.8</td>\n",
       "      <td>GNR-06</td>\n",
       "      <td>IAV</td>\n",
       "      <td>healthy</td>\n",
       "      <td>8</td>\n",
       "      <td>21_0017</td>\n",
       "      <td>1</td>\n",
       "    </tr>\n",
       "    <tr>\n",
       "      <th>810483</th>\n",
       "      <td>male</td>\n",
       "      <td>67</td>\n",
       "      <td>caucasian</td>\n",
       "      <td>88.8</td>\n",
       "      <td>GNR-06</td>\n",
       "      <td>IAV</td>\n",
       "      <td>healthy</td>\n",
       "      <td>8</td>\n",
       "      <td>21_0017</td>\n",
       "      <td>1</td>\n",
       "    </tr>\n",
       "    <tr>\n",
       "      <th>605493</th>\n",
       "      <td>male</td>\n",
       "      <td>67</td>\n",
       "      <td>caucasian</td>\n",
       "      <td>88.8</td>\n",
       "      <td>GNR-06</td>\n",
       "      <td>IAV</td>\n",
       "      <td>healthy</td>\n",
       "      <td>8</td>\n",
       "      <td>21_0017</td>\n",
       "      <td>1</td>\n",
       "    </tr>\n",
       "    <tr>\n",
       "      <th>220116</th>\n",
       "      <td>male</td>\n",
       "      <td>67</td>\n",
       "      <td>caucasian</td>\n",
       "      <td>88.8</td>\n",
       "      <td>GNR-06</td>\n",
       "      <td>IAV</td>\n",
       "      <td>healthy</td>\n",
       "      <td>8</td>\n",
       "      <td>21_0017</td>\n",
       "      <td>1</td>\n",
       "    </tr>\n",
       "  </tbody>\n",
       "</table>\n",
       "</div>"
      ],
      "text/plain": [
       "             sex age  ethnicity PaCO2   donor infection  disease SMK  \\\n",
       "Cell_Index                                                             \n",
       "40194       male  67  caucasian  88.8  GNR-06       IAV  healthy   8   \n",
       "445567      male  67  caucasian  88.8  GNR-06       IAV  healthy   8   \n",
       "810483      male  67  caucasian  88.8  GNR-06       IAV  healthy   8   \n",
       "605493      male  67  caucasian  88.8  GNR-06       IAV  healthy   8   \n",
       "220116      male  67  caucasian  88.8  GNR-06       IAV  healthy   8   \n",
       "\n",
       "           illumina_stimunr bd_rhapsody  \n",
       "Cell_Index                               \n",
       "40194               21_0017           1  \n",
       "445567              21_0017           1  \n",
       "810483              21_0017           1  \n",
       "605493              21_0017           1  \n",
       "220116              21_0017           1  "
      ]
     },
     "execution_count": 6,
     "metadata": {},
     "output_type": "execute_result"
    }
   ],
   "source": [
    "adata_2.obs['sex'] = 'male'\n",
    "adata_2.obs['age'] = '67'\n",
    "adata_2.obs['ethnicity'] = 'caucasian'\n",
    "adata_2.obs['PaCO2'] = '88.8'\n",
    "adata_2.obs['donor'] = 'GNR-06'\n",
    "adata_2.obs['infection'] = 'IAV'\n",
    "adata_2.obs['disease'] = 'healthy'\n",
    "adata_2.obs['SMK'] = '8'\n",
    "adata_2.obs['illumina_stimunr'] = '21_0017'\n",
    "adata_2.obs['bd_rhapsody'] = '1'\n",
    "adata_2.obs.head()"
   ]
  },
  {
   "cell_type": "code",
   "execution_count": 7,
   "metadata": {},
   "outputs": [
    {
     "name": "stderr",
     "output_type": "stream",
     "text": [
      "/Users/cartalop/mambaforge/envs/scanpy/lib/python3.9/site-packages/anndata/_core/anndata.py:121: ImplicitModificationWarning: Transforming to str index.\n",
      "  warnings.warn(\"Transforming to str index.\", ImplicitModificationWarning)\n"
     ]
    },
    {
     "data": {
      "text/plain": [
       "AnnData object with n_obs × n_vars = 5237 × 28388"
      ]
     },
     "execution_count": 7,
     "metadata": {},
     "output_type": "execute_result"
    }
   ],
   "source": [
    "BDr_3 = dt.fread(BDdata + 'Versuch_1/V1-newref_SampleTag09_hs_CSE_IAV/V1-newref_SampleTag09_hs_CSE_IAV_RSEC_ReadsPerCell.csv', header = True, skip_to_line = 8).to_pandas().T\n",
    "BDr_3.columns = BDr_3.iloc[0]\n",
    "BDr_3 = BDr_3.iloc[1:]\n",
    "adata_3 = sc.AnnData(BDr_3.T, dtype = 'int64')\n",
    "adata_3"
   ]
  },
  {
   "cell_type": "code",
   "execution_count": 8,
   "metadata": {},
   "outputs": [
    {
     "data": {
      "text/html": [
       "<div>\n",
       "<style scoped>\n",
       "    .dataframe tbody tr th:only-of-type {\n",
       "        vertical-align: middle;\n",
       "    }\n",
       "\n",
       "    .dataframe tbody tr th {\n",
       "        vertical-align: top;\n",
       "    }\n",
       "\n",
       "    .dataframe thead th {\n",
       "        text-align: right;\n",
       "    }\n",
       "</style>\n",
       "<table border=\"1\" class=\"dataframe\">\n",
       "  <thead>\n",
       "    <tr style=\"text-align: right;\">\n",
       "      <th></th>\n",
       "      <th>sex</th>\n",
       "      <th>age</th>\n",
       "      <th>ethnicity</th>\n",
       "      <th>PaCO2</th>\n",
       "      <th>donor</th>\n",
       "      <th>infection</th>\n",
       "      <th>disease</th>\n",
       "      <th>SMK</th>\n",
       "      <th>illumina_stimunr</th>\n",
       "      <th>bd_rhapsody</th>\n",
       "    </tr>\n",
       "    <tr>\n",
       "      <th>Cell_Index</th>\n",
       "      <th></th>\n",
       "      <th></th>\n",
       "      <th></th>\n",
       "      <th></th>\n",
       "      <th></th>\n",
       "      <th></th>\n",
       "      <th></th>\n",
       "      <th></th>\n",
       "      <th></th>\n",
       "      <th></th>\n",
       "    </tr>\n",
       "  </thead>\n",
       "  <tbody>\n",
       "    <tr>\n",
       "      <th>276878</th>\n",
       "      <td>male</td>\n",
       "      <td>79</td>\n",
       "      <td>caucasian</td>\n",
       "      <td>73.3</td>\n",
       "      <td>CSE-07</td>\n",
       "      <td>CTRL</td>\n",
       "      <td>COPD</td>\n",
       "      <td>9</td>\n",
       "      <td>21_0017</td>\n",
       "      <td>1</td>\n",
       "    </tr>\n",
       "    <tr>\n",
       "      <th>205994</th>\n",
       "      <td>male</td>\n",
       "      <td>79</td>\n",
       "      <td>caucasian</td>\n",
       "      <td>73.3</td>\n",
       "      <td>CSE-07</td>\n",
       "      <td>CTRL</td>\n",
       "      <td>COPD</td>\n",
       "      <td>9</td>\n",
       "      <td>21_0017</td>\n",
       "      <td>1</td>\n",
       "    </tr>\n",
       "    <tr>\n",
       "      <th>849686</th>\n",
       "      <td>male</td>\n",
       "      <td>79</td>\n",
       "      <td>caucasian</td>\n",
       "      <td>73.3</td>\n",
       "      <td>CSE-07</td>\n",
       "      <td>CTRL</td>\n",
       "      <td>COPD</td>\n",
       "      <td>9</td>\n",
       "      <td>21_0017</td>\n",
       "      <td>1</td>\n",
       "    </tr>\n",
       "    <tr>\n",
       "      <th>31680</th>\n",
       "      <td>male</td>\n",
       "      <td>79</td>\n",
       "      <td>caucasian</td>\n",
       "      <td>73.3</td>\n",
       "      <td>CSE-07</td>\n",
       "      <td>CTRL</td>\n",
       "      <td>COPD</td>\n",
       "      <td>9</td>\n",
       "      <td>21_0017</td>\n",
       "      <td>1</td>\n",
       "    </tr>\n",
       "    <tr>\n",
       "      <th>662579</th>\n",
       "      <td>male</td>\n",
       "      <td>79</td>\n",
       "      <td>caucasian</td>\n",
       "      <td>73.3</td>\n",
       "      <td>CSE-07</td>\n",
       "      <td>CTRL</td>\n",
       "      <td>COPD</td>\n",
       "      <td>9</td>\n",
       "      <td>21_0017</td>\n",
       "      <td>1</td>\n",
       "    </tr>\n",
       "  </tbody>\n",
       "</table>\n",
       "</div>"
      ],
      "text/plain": [
       "             sex age  ethnicity PaCO2   donor infection disease SMK  \\\n",
       "Cell_Index                                                            \n",
       "276878      male  79  caucasian  73.3  CSE-07      CTRL    COPD   9   \n",
       "205994      male  79  caucasian  73.3  CSE-07      CTRL    COPD   9   \n",
       "849686      male  79  caucasian  73.3  CSE-07      CTRL    COPD   9   \n",
       "31680       male  79  caucasian  73.3  CSE-07      CTRL    COPD   9   \n",
       "662579      male  79  caucasian  73.3  CSE-07      CTRL    COPD   9   \n",
       "\n",
       "           illumina_stimunr bd_rhapsody  \n",
       "Cell_Index                               \n",
       "276878              21_0017           1  \n",
       "205994              21_0017           1  \n",
       "849686              21_0017           1  \n",
       "31680               21_0017           1  \n",
       "662579              21_0017           1  "
      ]
     },
     "execution_count": 8,
     "metadata": {},
     "output_type": "execute_result"
    }
   ],
   "source": [
    "adata_3.obs['sex'] = 'male'\n",
    "adata_3.obs['age'] = '79'\n",
    "adata_3.obs['ethnicity'] = 'caucasian'\n",
    "adata_3.obs['PaCO2'] = '73.3'\n",
    "adata_3.obs['donor'] = 'CSE-07'\n",
    "adata_3.obs['infection'] = 'CTRL'\n",
    "adata_3.obs['disease'] = 'COPD'\n",
    "adata_3.obs['SMK'] = '9'\n",
    "adata_3.obs['illumina_stimunr'] = '21_0017'\n",
    "adata_3.obs['bd_rhapsody'] = '1'\n",
    "adata_3.obs.head()"
   ]
  },
  {
   "cell_type": "code",
   "execution_count": 9,
   "metadata": {},
   "outputs": [
    {
     "name": "stderr",
     "output_type": "stream",
     "text": [
      "/Users/cartalop/mambaforge/envs/scanpy/lib/python3.9/site-packages/anndata/_core/anndata.py:121: ImplicitModificationWarning: Transforming to str index.\n",
      "  warnings.warn(\"Transforming to str index.\", ImplicitModificationWarning)\n"
     ]
    },
    {
     "data": {
      "text/plain": [
       "AnnData object with n_obs × n_vars = 4910 × 28388"
      ]
     },
     "execution_count": 9,
     "metadata": {},
     "output_type": "execute_result"
    }
   ],
   "source": [
    "BDr_4 = dt.fread(BDdata + 'Versuch_1/V1-newref_SampleTag10_hs_GnR_IAV/V1-newref_SampleTag10_hs_GnR_IAV_RSEC_ReadsPerCell.csv', header = True, skip_to_line = 8).to_pandas().T\n",
    "BDr_4.columns = BDr_4.iloc[0]\n",
    "BDr_4 = BDr_4.iloc[1:]\n",
    "adata_4 = sc.AnnData(BDr_4.T, dtype = 'int64')\n",
    "adata_4"
   ]
  },
  {
   "cell_type": "code",
   "execution_count": 10,
   "metadata": {},
   "outputs": [
    {
     "data": {
      "text/html": [
       "<div>\n",
       "<style scoped>\n",
       "    .dataframe tbody tr th:only-of-type {\n",
       "        vertical-align: middle;\n",
       "    }\n",
       "\n",
       "    .dataframe tbody tr th {\n",
       "        vertical-align: top;\n",
       "    }\n",
       "\n",
       "    .dataframe thead th {\n",
       "        text-align: right;\n",
       "    }\n",
       "</style>\n",
       "<table border=\"1\" class=\"dataframe\">\n",
       "  <thead>\n",
       "    <tr style=\"text-align: right;\">\n",
       "      <th></th>\n",
       "      <th>sex</th>\n",
       "      <th>age</th>\n",
       "      <th>ethnicity</th>\n",
       "      <th>PaCO2</th>\n",
       "      <th>donor</th>\n",
       "      <th>infection</th>\n",
       "      <th>disease</th>\n",
       "      <th>SMK</th>\n",
       "      <th>illumina_stimunr</th>\n",
       "      <th>bd_rhapsody</th>\n",
       "    </tr>\n",
       "    <tr>\n",
       "      <th>Cell_Index</th>\n",
       "      <th></th>\n",
       "      <th></th>\n",
       "      <th></th>\n",
       "      <th></th>\n",
       "      <th></th>\n",
       "      <th></th>\n",
       "      <th></th>\n",
       "      <th></th>\n",
       "      <th></th>\n",
       "      <th></th>\n",
       "    </tr>\n",
       "  </thead>\n",
       "  <tbody>\n",
       "    <tr>\n",
       "      <th>72869</th>\n",
       "      <td>male</td>\n",
       "      <td>79</td>\n",
       "      <td>caucasian</td>\n",
       "      <td>73.3</td>\n",
       "      <td>CSE-07</td>\n",
       "      <td>IAV</td>\n",
       "      <td>COPD</td>\n",
       "      <td>10</td>\n",
       "      <td>21_0017</td>\n",
       "      <td>1</td>\n",
       "    </tr>\n",
       "    <tr>\n",
       "      <th>649229</th>\n",
       "      <td>male</td>\n",
       "      <td>79</td>\n",
       "      <td>caucasian</td>\n",
       "      <td>73.3</td>\n",
       "      <td>CSE-07</td>\n",
       "      <td>IAV</td>\n",
       "      <td>COPD</td>\n",
       "      <td>10</td>\n",
       "      <td>21_0017</td>\n",
       "      <td>1</td>\n",
       "    </tr>\n",
       "    <tr>\n",
       "      <th>56046</th>\n",
       "      <td>male</td>\n",
       "      <td>79</td>\n",
       "      <td>caucasian</td>\n",
       "      <td>73.3</td>\n",
       "      <td>CSE-07</td>\n",
       "      <td>IAV</td>\n",
       "      <td>COPD</td>\n",
       "      <td>10</td>\n",
       "      <td>21_0017</td>\n",
       "      <td>1</td>\n",
       "    </tr>\n",
       "    <tr>\n",
       "      <th>415760</th>\n",
       "      <td>male</td>\n",
       "      <td>79</td>\n",
       "      <td>caucasian</td>\n",
       "      <td>73.3</td>\n",
       "      <td>CSE-07</td>\n",
       "      <td>IAV</td>\n",
       "      <td>COPD</td>\n",
       "      <td>10</td>\n",
       "      <td>21_0017</td>\n",
       "      <td>1</td>\n",
       "    </tr>\n",
       "    <tr>\n",
       "      <th>22823</th>\n",
       "      <td>male</td>\n",
       "      <td>79</td>\n",
       "      <td>caucasian</td>\n",
       "      <td>73.3</td>\n",
       "      <td>CSE-07</td>\n",
       "      <td>IAV</td>\n",
       "      <td>COPD</td>\n",
       "      <td>10</td>\n",
       "      <td>21_0017</td>\n",
       "      <td>1</td>\n",
       "    </tr>\n",
       "  </tbody>\n",
       "</table>\n",
       "</div>"
      ],
      "text/plain": [
       "             sex age  ethnicity PaCO2   donor infection disease SMK  \\\n",
       "Cell_Index                                                            \n",
       "72869       male  79  caucasian  73.3  CSE-07       IAV    COPD  10   \n",
       "649229      male  79  caucasian  73.3  CSE-07       IAV    COPD  10   \n",
       "56046       male  79  caucasian  73.3  CSE-07       IAV    COPD  10   \n",
       "415760      male  79  caucasian  73.3  CSE-07       IAV    COPD  10   \n",
       "22823       male  79  caucasian  73.3  CSE-07       IAV    COPD  10   \n",
       "\n",
       "           illumina_stimunr bd_rhapsody  \n",
       "Cell_Index                               \n",
       "72869               21_0017           1  \n",
       "649229              21_0017           1  \n",
       "56046               21_0017           1  \n",
       "415760              21_0017           1  \n",
       "22823               21_0017           1  "
      ]
     },
     "execution_count": 10,
     "metadata": {},
     "output_type": "execute_result"
    }
   ],
   "source": [
    "adata_4.obs['sex'] = 'male'\n",
    "adata_4.obs['age'] = '79'\n",
    "adata_4.obs['ethnicity'] = 'caucasian'\n",
    "adata_4.obs['PaCO2'] = '73.3'\n",
    "adata_4.obs['donor'] = 'CSE-07'\n",
    "adata_4.obs['infection'] = 'IAV'\n",
    "adata_4.obs['disease'] = 'COPD'\n",
    "adata_4.obs['SMK'] = '10'\n",
    "adata_4.obs['illumina_stimunr'] = '21_0017'\n",
    "adata_4.obs['bd_rhapsody'] = '1'\n",
    "adata_4.obs.head()"
   ]
  },
  {
   "cell_type": "markdown",
   "metadata": {},
   "source": [
    "### Save individual objects"
   ]
  },
  {
   "cell_type": "code",
   "execution_count": 11,
   "metadata": {},
   "outputs": [],
   "source": [
    "adata_1.write('/Volumes/A7V/nobackup/raw_data/single_cell/COPD_IAV/sevenbridges_raw/grch38-iav/Versuch_1/Versuch_1_grch38-iav_ST07_CSE_CTRL_GEX.h5ad')\n",
    "adata_2.write('/Volumes/A7V/nobackup/raw_data/single_cell/COPD_IAV/sevenbridges_raw/grch38-iav/Versuch_1/Versuch_1_grch38-iav_ST08_GnR_CTRL_GEX.h5ad')\n",
    "adata_3.write('/Volumes/A7V/nobackup/raw_data/single_cell/COPD_IAV/sevenbridges_raw/grch38-iav/Versuch_1/Versuch_1_grch38-iav_ST09_CSE_IAV_GEX.h5ad')\n",
    "adata_4.write('/Volumes/A7V/nobackup/raw_data/single_cell/COPD_IAV/sevenbridges_raw/grch38-iav/Versuch_1/Versuch_1_grch38-iav_ST10_GnR_IAV_GEX.h5ad')"
   ]
  },
  {
   "cell_type": "code",
   "execution_count": 12,
   "metadata": {},
   "outputs": [
    {
     "data": {
      "text/plain": [
       "array([[  0,   0,   0, ...,   4, 122,   0],\n",
       "       [  0,   0,   0, ...,   7,  36,   1],\n",
       "       [  0,   0,   0, ...,   0,  20,   0],\n",
       "       ...,\n",
       "       [  0,   0,   0, ...,   0,   0,   0],\n",
       "       [  0,   0,   0, ...,   0,   0,   0],\n",
       "       [  0,   0,   0, ...,   0,   0,   0]])"
      ]
     },
     "execution_count": 12,
     "metadata": {},
     "output_type": "execute_result"
    }
   ],
   "source": [
    "adata_1.X"
   ]
  },
  {
   "cell_type": "code",
   "execution_count": null,
   "metadata": {},
   "outputs": [],
   "source": []
  }
 ],
 "metadata": {
  "kernelspec": {
   "display_name": "Python 3.9.7 ('base')",
   "language": "python",
   "name": "python3"
  },
  "language_info": {
   "codemirror_mode": {
    "name": "ipython",
    "version": 3
   },
   "file_extension": ".py",
   "mimetype": "text/x-python",
   "name": "python",
   "nbconvert_exporter": "python",
   "pygments_lexer": "ipython3",
   "version": "3.9.16"
  },
  "orig_nbformat": 4,
  "vscode": {
   "interpreter": {
    "hash": "ed18ba783afa68584f89c0e1dc87cd5f0dbea19d03cc696bd28b7f836af058ef"
   }
  }
 },
 "nbformat": 4,
 "nbformat_minor": 2
}
