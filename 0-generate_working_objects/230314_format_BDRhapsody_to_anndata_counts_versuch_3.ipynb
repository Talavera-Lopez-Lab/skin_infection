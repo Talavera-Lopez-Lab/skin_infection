{
 "cells": [
  {
   "attachments": {},
   "cell_type": "markdown",
   "metadata": {},
   "source": [
    "### Notebook to format the BDRhapsody data from Seven Bridges into an `anndata` object with raw counts in `adata.X`\n",
    "\n",
    "- **Developed by:** Carlos Talavera-López Ph.D\n",
    "- **Institute of Computational Biology - Computational Health Centre - Helmholtz Munich**\n",
    "- v230314"
   ]
  },
  {
   "cell_type": "markdown",
   "metadata": {},
   "source": [
    "### Import required modules"
   ]
  },
  {
   "cell_type": "code",
   "execution_count": 1,
   "metadata": {},
   "outputs": [
    {
     "data": {
      "text/html": [
       "<style type='text/css'>\n",
       ".datatable table.frame { margin-bottom: 0; }\n",
       ".datatable table.frame thead { border-bottom: none; }\n",
       ".datatable table.frame tr.coltypes td {  color: #FFFFFF;  line-height: 6px;  padding: 0 0.5em;}\n",
       ".datatable .bool    { background: #DDDD99; }\n",
       ".datatable .object  { background: #565656; }\n",
       ".datatable .int     { background: #5D9E5D; }\n",
       ".datatable .float   { background: #4040CC; }\n",
       ".datatable .str     { background: #CC4040; }\n",
       ".datatable .time    { background: #40CC40; }\n",
       ".datatable .row_index {  background: var(--jp-border-color3);  border-right: 1px solid var(--jp-border-color0);  color: var(--jp-ui-font-color3);  font-size: 9px;}\n",
       ".datatable .frame tbody td { text-align: left; }\n",
       ".datatable .frame tr.coltypes .row_index {  background: var(--jp-border-color0);}\n",
       ".datatable th:nth-child(2) { padding-left: 12px; }\n",
       ".datatable .hellipsis {  color: var(--jp-cell-editor-border-color);}\n",
       ".datatable .vellipsis {  background: var(--jp-layout-color0);  color: var(--jp-cell-editor-border-color);}\n",
       ".datatable .na {  color: var(--jp-cell-editor-border-color);  font-size: 80%;}\n",
       ".datatable .sp {  opacity: 0.25;}\n",
       ".datatable .footer { font-size: 9px; }\n",
       ".datatable .frame_dimensions {  background: var(--jp-border-color3);  border-top: 1px solid var(--jp-border-color0);  color: var(--jp-ui-font-color3);  display: inline-block;  opacity: 0.6;  padding: 1px 10px 1px 5px;}\n",
       "</style>\n"
      ],
      "text/plain": [
       "<IPython.core.display.HTML object>"
      ]
     },
     "metadata": {},
     "output_type": "display_data"
    }
   ],
   "source": [
    "import anndata\n",
    "import pandas as pd\n",
    "import scanpy as sc\n",
    "import datatable as dt"
   ]
  },
  {
   "cell_type": "markdown",
   "metadata": {},
   "source": [
    "### Set up working environment"
   ]
  },
  {
   "cell_type": "code",
   "execution_count": 2,
   "metadata": {},
   "outputs": [],
   "source": [
    "BDdata = '/Volumes/A7V/nobackup/raw_data/single_cell/COPD_IAV/sevenbridges_raw/grch38-iav/'"
   ]
  },
  {
   "cell_type": "markdown",
   "metadata": {},
   "source": [
    "### Read in _BD Rhapsody_ files for Versuch_1\n",
    "\n",
    "- UMIs are called _Raw_Molecules_\n",
    "- Genes/Features are called _Bioproduct_\n",
    "- Sample Tag Version: hs | Sample Tag Names: 7-CSE_CTRL ; 8-GnR_CTRL ; 9-CSE_IAV ; 10-GnR_IAV"
   ]
  },
  {
   "cell_type": "code",
   "execution_count": 3,
   "metadata": {},
   "outputs": [
    {
     "name": "stderr",
     "output_type": "stream",
     "text": [
      "/Users/cartalop/mambaforge/envs/scanpy/lib/python3.9/site-packages/anndata/_core/anndata.py:121: ImplicitModificationWarning: Transforming to str index.\n",
      "  warnings.warn(\"Transforming to str index.\", ImplicitModificationWarning)\n"
     ]
    },
    {
     "data": {
      "text/plain": [
       "AnnData object with n_obs × n_vars = 4538 × 31521"
      ]
     },
     "execution_count": 3,
     "metadata": {},
     "output_type": "execute_result"
    }
   ],
   "source": [
    "BDr_1 = dt.fread(BDdata + 'Versuch_3/V3-newref_SampleTag09_hs_GER14_CRTL/V3-newref_SampleTag09_hs_GER14_CRTL_RSEC_ReadsPerCell.csv', header = True, skip_to_line = 8).to_pandas().T\n",
    "BDr_1.columns = BDr_1.iloc[0]\n",
    "BDr_1 = BDr_1.iloc[1:]\n",
    "adata_1 = sc.AnnData(BDr_1.T, dtype = 'int64')\n",
    "adata_1"
   ]
  },
  {
   "cell_type": "code",
   "execution_count": 4,
   "metadata": {},
   "outputs": [
    {
     "data": {
      "text/html": [
       "<div>\n",
       "<style scoped>\n",
       "    .dataframe tbody tr th:only-of-type {\n",
       "        vertical-align: middle;\n",
       "    }\n",
       "\n",
       "    .dataframe tbody tr th {\n",
       "        vertical-align: top;\n",
       "    }\n",
       "\n",
       "    .dataframe thead th {\n",
       "        text-align: right;\n",
       "    }\n",
       "</style>\n",
       "<table border=\"1\" class=\"dataframe\">\n",
       "  <thead>\n",
       "    <tr style=\"text-align: right;\">\n",
       "      <th></th>\n",
       "      <th>sex</th>\n",
       "      <th>age</th>\n",
       "      <th>condition</th>\n",
       "      <th>ethnicity</th>\n",
       "      <th>PaCO2</th>\n",
       "      <th>donor</th>\n",
       "      <th>infection</th>\n",
       "      <th>disease</th>\n",
       "      <th>SMK</th>\n",
       "      <th>illumina_stimunr</th>\n",
       "      <th>bd_rhapsody</th>\n",
       "    </tr>\n",
       "    <tr>\n",
       "      <th>Cell_Index</th>\n",
       "      <th></th>\n",
       "      <th></th>\n",
       "      <th></th>\n",
       "      <th></th>\n",
       "      <th></th>\n",
       "      <th></th>\n",
       "      <th></th>\n",
       "      <th></th>\n",
       "      <th></th>\n",
       "      <th></th>\n",
       "      <th></th>\n",
       "    </tr>\n",
       "  </thead>\n",
       "  <tbody>\n",
       "    <tr>\n",
       "      <th>10939010</th>\n",
       "      <td>male</td>\n",
       "      <td>58</td>\n",
       "      <td>CTRL</td>\n",
       "      <td>caucasian</td>\n",
       "      <td>86.4</td>\n",
       "      <td>GER-14</td>\n",
       "      <td>CTRL</td>\n",
       "      <td>healthy</td>\n",
       "      <td>9</td>\n",
       "      <td>21_0395</td>\n",
       "      <td>3</td>\n",
       "    </tr>\n",
       "    <tr>\n",
       "      <th>2077841</th>\n",
       "      <td>male</td>\n",
       "      <td>58</td>\n",
       "      <td>CTRL</td>\n",
       "      <td>caucasian</td>\n",
       "      <td>86.4</td>\n",
       "      <td>GER-14</td>\n",
       "      <td>CTRL</td>\n",
       "      <td>healthy</td>\n",
       "      <td>9</td>\n",
       "      <td>21_0395</td>\n",
       "      <td>3</td>\n",
       "    </tr>\n",
       "    <tr>\n",
       "      <th>8290197</th>\n",
       "      <td>male</td>\n",
       "      <td>58</td>\n",
       "      <td>CTRL</td>\n",
       "      <td>caucasian</td>\n",
       "      <td>86.4</td>\n",
       "      <td>GER-14</td>\n",
       "      <td>CTRL</td>\n",
       "      <td>healthy</td>\n",
       "      <td>9</td>\n",
       "      <td>21_0395</td>\n",
       "      <td>3</td>\n",
       "    </tr>\n",
       "    <tr>\n",
       "      <th>12556426</th>\n",
       "      <td>male</td>\n",
       "      <td>58</td>\n",
       "      <td>CTRL</td>\n",
       "      <td>caucasian</td>\n",
       "      <td>86.4</td>\n",
       "      <td>GER-14</td>\n",
       "      <td>CTRL</td>\n",
       "      <td>healthy</td>\n",
       "      <td>9</td>\n",
       "      <td>21_0395</td>\n",
       "      <td>3</td>\n",
       "    </tr>\n",
       "    <tr>\n",
       "      <th>9457988</th>\n",
       "      <td>male</td>\n",
       "      <td>58</td>\n",
       "      <td>CTRL</td>\n",
       "      <td>caucasian</td>\n",
       "      <td>86.4</td>\n",
       "      <td>GER-14</td>\n",
       "      <td>CTRL</td>\n",
       "      <td>healthy</td>\n",
       "      <td>9</td>\n",
       "      <td>21_0395</td>\n",
       "      <td>3</td>\n",
       "    </tr>\n",
       "  </tbody>\n",
       "</table>\n",
       "</div>"
      ],
      "text/plain": [
       "             sex age condition  ethnicity PaCO2   donor infection  disease  \\\n",
       "Cell_Index                                                                   \n",
       "10939010    male  58      CTRL  caucasian  86.4  GER-14      CTRL  healthy   \n",
       "2077841     male  58      CTRL  caucasian  86.4  GER-14      CTRL  healthy   \n",
       "8290197     male  58      CTRL  caucasian  86.4  GER-14      CTRL  healthy   \n",
       "12556426    male  58      CTRL  caucasian  86.4  GER-14      CTRL  healthy   \n",
       "9457988     male  58      CTRL  caucasian  86.4  GER-14      CTRL  healthy   \n",
       "\n",
       "           SMK illumina_stimunr bd_rhapsody  \n",
       "Cell_Index                                   \n",
       "10939010     9          21_0395           3  \n",
       "2077841      9          21_0395           3  \n",
       "8290197      9          21_0395           3  \n",
       "12556426     9          21_0395           3  \n",
       "9457988      9          21_0395           3  "
      ]
     },
     "execution_count": 4,
     "metadata": {},
     "output_type": "execute_result"
    }
   ],
   "source": [
    "adata_1.obs['sex'] = 'male'\n",
    "adata_1.obs['age'] = '58'\n",
    "adata_1.obs['condition'] = 'CTRL'\n",
    "adata_1.obs['ethnicity'] = 'caucasian'\n",
    "adata_1.obs['PaCO2'] = '86.4'\n",
    "adata_1.obs['donor'] = 'GER-14'\n",
    "adata_1.obs['infection'] = 'CTRL'\n",
    "adata_1.obs['disease'] = 'healthy'\n",
    "adata_1.obs['SMK'] = '9'\n",
    "adata_1.obs['illumina_stimunr'] = '21_0395'\n",
    "adata_1.obs['bd_rhapsody'] = '3'\n",
    "adata_1.obs.head()"
   ]
  },
  {
   "cell_type": "code",
   "execution_count": 5,
   "metadata": {},
   "outputs": [
    {
     "name": "stderr",
     "output_type": "stream",
     "text": [
      "/Users/cartalop/mambaforge/envs/scanpy/lib/python3.9/site-packages/anndata/_core/anndata.py:121: ImplicitModificationWarning: Transforming to str index.\n",
      "  warnings.warn(\"Transforming to str index.\", ImplicitModificationWarning)\n"
     ]
    },
    {
     "data": {
      "text/plain": [
       "AnnData object with n_obs × n_vars = 3931 × 31521"
      ]
     },
     "execution_count": 5,
     "metadata": {},
     "output_type": "execute_result"
    }
   ],
   "source": [
    "BDr_2 = dt.fread(BDdata + 'Versuch_3/V3-newref_SampleTag10_hs_GER14_IAV/V3-newref_SampleTag10_hs_GER14_IAV_RSEC_ReadsPerCell.csv', header = True, skip_to_line = 8).to_pandas().T\n",
    "BDr_2.columns = BDr_2.iloc[0]\n",
    "BDr_2 = BDr_2.iloc[1:]\n",
    "adata_2 = sc.AnnData(BDr_2.T, dtype = 'int64')\n",
    "adata_2"
   ]
  },
  {
   "cell_type": "code",
   "execution_count": 6,
   "metadata": {},
   "outputs": [
    {
     "data": {
      "text/html": [
       "<div>\n",
       "<style scoped>\n",
       "    .dataframe tbody tr th:only-of-type {\n",
       "        vertical-align: middle;\n",
       "    }\n",
       "\n",
       "    .dataframe tbody tr th {\n",
       "        vertical-align: top;\n",
       "    }\n",
       "\n",
       "    .dataframe thead th {\n",
       "        text-align: right;\n",
       "    }\n",
       "</style>\n",
       "<table border=\"1\" class=\"dataframe\">\n",
       "  <thead>\n",
       "    <tr style=\"text-align: right;\">\n",
       "      <th></th>\n",
       "      <th>sex</th>\n",
       "      <th>age</th>\n",
       "      <th>condition</th>\n",
       "      <th>ethnicity</th>\n",
       "      <th>PaCO2</th>\n",
       "      <th>donor</th>\n",
       "      <th>infection</th>\n",
       "      <th>disease</th>\n",
       "      <th>SMK</th>\n",
       "      <th>illumina_stimunr</th>\n",
       "      <th>bd_rhapsody</th>\n",
       "    </tr>\n",
       "    <tr>\n",
       "      <th>Cell_Index</th>\n",
       "      <th></th>\n",
       "      <th></th>\n",
       "      <th></th>\n",
       "      <th></th>\n",
       "      <th></th>\n",
       "      <th></th>\n",
       "      <th></th>\n",
       "      <th></th>\n",
       "      <th></th>\n",
       "      <th></th>\n",
       "      <th></th>\n",
       "    </tr>\n",
       "  </thead>\n",
       "  <tbody>\n",
       "    <tr>\n",
       "      <th>4133083</th>\n",
       "      <td>male</td>\n",
       "      <td>58</td>\n",
       "      <td>IAV</td>\n",
       "      <td>caucasian</td>\n",
       "      <td>86.4</td>\n",
       "      <td>GER-14</td>\n",
       "      <td>IAV</td>\n",
       "      <td>healthy</td>\n",
       "      <td>10</td>\n",
       "      <td>21_0395</td>\n",
       "      <td>3</td>\n",
       "    </tr>\n",
       "    <tr>\n",
       "      <th>11680530</th>\n",
       "      <td>male</td>\n",
       "      <td>58</td>\n",
       "      <td>IAV</td>\n",
       "      <td>caucasian</td>\n",
       "      <td>86.4</td>\n",
       "      <td>GER-14</td>\n",
       "      <td>IAV</td>\n",
       "      <td>healthy</td>\n",
       "      <td>10</td>\n",
       "      <td>21_0395</td>\n",
       "      <td>3</td>\n",
       "    </tr>\n",
       "    <tr>\n",
       "      <th>5344575</th>\n",
       "      <td>male</td>\n",
       "      <td>58</td>\n",
       "      <td>IAV</td>\n",
       "      <td>caucasian</td>\n",
       "      <td>86.4</td>\n",
       "      <td>GER-14</td>\n",
       "      <td>IAV</td>\n",
       "      <td>healthy</td>\n",
       "      <td>10</td>\n",
       "      <td>21_0395</td>\n",
       "      <td>3</td>\n",
       "    </tr>\n",
       "    <tr>\n",
       "      <th>4440961</th>\n",
       "      <td>male</td>\n",
       "      <td>58</td>\n",
       "      <td>IAV</td>\n",
       "      <td>caucasian</td>\n",
       "      <td>86.4</td>\n",
       "      <td>GER-14</td>\n",
       "      <td>IAV</td>\n",
       "      <td>healthy</td>\n",
       "      <td>10</td>\n",
       "      <td>21_0395</td>\n",
       "      <td>3</td>\n",
       "    </tr>\n",
       "    <tr>\n",
       "      <th>3393821</th>\n",
       "      <td>male</td>\n",
       "      <td>58</td>\n",
       "      <td>IAV</td>\n",
       "      <td>caucasian</td>\n",
       "      <td>86.4</td>\n",
       "      <td>GER-14</td>\n",
       "      <td>IAV</td>\n",
       "      <td>healthy</td>\n",
       "      <td>10</td>\n",
       "      <td>21_0395</td>\n",
       "      <td>3</td>\n",
       "    </tr>\n",
       "  </tbody>\n",
       "</table>\n",
       "</div>"
      ],
      "text/plain": [
       "             sex age condition  ethnicity PaCO2   donor infection  disease  \\\n",
       "Cell_Index                                                                   \n",
       "4133083     male  58       IAV  caucasian  86.4  GER-14       IAV  healthy   \n",
       "11680530    male  58       IAV  caucasian  86.4  GER-14       IAV  healthy   \n",
       "5344575     male  58       IAV  caucasian  86.4  GER-14       IAV  healthy   \n",
       "4440961     male  58       IAV  caucasian  86.4  GER-14       IAV  healthy   \n",
       "3393821     male  58       IAV  caucasian  86.4  GER-14       IAV  healthy   \n",
       "\n",
       "           SMK illumina_stimunr bd_rhapsody  \n",
       "Cell_Index                                   \n",
       "4133083     10          21_0395           3  \n",
       "11680530    10          21_0395           3  \n",
       "5344575     10          21_0395           3  \n",
       "4440961     10          21_0395           3  \n",
       "3393821     10          21_0395           3  "
      ]
     },
     "execution_count": 6,
     "metadata": {},
     "output_type": "execute_result"
    }
   ],
   "source": [
    "adata_2.obs['sex'] = 'male'\n",
    "adata_2.obs['age'] = '58'\n",
    "adata_2.obs['condition'] = 'IAV'\n",
    "adata_2.obs['ethnicity'] = 'caucasian'\n",
    "adata_2.obs['PaCO2'] = '86.4'\n",
    "adata_2.obs['donor'] = 'GER-14'\n",
    "adata_2.obs['infection'] = 'IAV'\n",
    "adata_2.obs['disease'] = 'healthy'\n",
    "adata_2.obs['SMK'] = '10'\n",
    "adata_2.obs['illumina_stimunr'] = '21_0395'\n",
    "adata_2.obs['bd_rhapsody'] = '3'\n",
    "adata_2.obs.head()"
   ]
  },
  {
   "cell_type": "code",
   "execution_count": 7,
   "metadata": {},
   "outputs": [
    {
     "name": "stderr",
     "output_type": "stream",
     "text": [
      "/Users/cartalop/mambaforge/envs/scanpy/lib/python3.9/site-packages/anndata/_core/anndata.py:121: ImplicitModificationWarning: Transforming to str index.\n",
      "  warnings.warn(\"Transforming to str index.\", ImplicitModificationWarning)\n"
     ]
    },
    {
     "data": {
      "text/plain": [
       "AnnData object with n_obs × n_vars = 4618 × 31521"
      ]
     },
     "execution_count": 7,
     "metadata": {},
     "output_type": "execute_result"
    }
   ],
   "source": [
    "BDr_3 = dt.fread(BDdata + 'Versuch_3/V3-newref_SampleTag11_hs_CHE01_CTRL/V3-newref_SampleTag11_hs_CHE01_CTRL_RSEC_ReadsPerCell.csv', header = True, skip_to_line = 8).to_pandas().T\n",
    "BDr_3.columns = BDr_3.iloc[0]\n",
    "BDr_3 = BDr_3.iloc[1:]\n",
    "adata_3 = sc.AnnData(BDr_3.T, dtype = 'int64')\n",
    "adata_3"
   ]
  },
  {
   "cell_type": "code",
   "execution_count": 8,
   "metadata": {},
   "outputs": [
    {
     "data": {
      "text/html": [
       "<div>\n",
       "<style scoped>\n",
       "    .dataframe tbody tr th:only-of-type {\n",
       "        vertical-align: middle;\n",
       "    }\n",
       "\n",
       "    .dataframe tbody tr th {\n",
       "        vertical-align: top;\n",
       "    }\n",
       "\n",
       "    .dataframe thead th {\n",
       "        text-align: right;\n",
       "    }\n",
       "</style>\n",
       "<table border=\"1\" class=\"dataframe\">\n",
       "  <thead>\n",
       "    <tr style=\"text-align: right;\">\n",
       "      <th></th>\n",
       "      <th>sex</th>\n",
       "      <th>age</th>\n",
       "      <th>condition</th>\n",
       "      <th>ethnicity</th>\n",
       "      <th>PaCO2</th>\n",
       "      <th>donor</th>\n",
       "      <th>infection</th>\n",
       "      <th>disease</th>\n",
       "      <th>SMK</th>\n",
       "      <th>illumina_stimunr</th>\n",
       "      <th>bd_rhapsody</th>\n",
       "    </tr>\n",
       "    <tr>\n",
       "      <th>Cell_Index</th>\n",
       "      <th></th>\n",
       "      <th></th>\n",
       "      <th></th>\n",
       "      <th></th>\n",
       "      <th></th>\n",
       "      <th></th>\n",
       "      <th></th>\n",
       "      <th></th>\n",
       "      <th></th>\n",
       "      <th></th>\n",
       "      <th></th>\n",
       "    </tr>\n",
       "  </thead>\n",
       "  <tbody>\n",
       "    <tr>\n",
       "      <th>1210834</th>\n",
       "      <td>male</td>\n",
       "      <td>54</td>\n",
       "      <td>CTRL</td>\n",
       "      <td>caucasian</td>\n",
       "      <td>76.8</td>\n",
       "      <td>CHE-01</td>\n",
       "      <td>CTRL</td>\n",
       "      <td>COPD</td>\n",
       "      <td>11</td>\n",
       "      <td>21_0395</td>\n",
       "      <td>3</td>\n",
       "    </tr>\n",
       "    <tr>\n",
       "      <th>1925451</th>\n",
       "      <td>male</td>\n",
       "      <td>54</td>\n",
       "      <td>CTRL</td>\n",
       "      <td>caucasian</td>\n",
       "      <td>76.8</td>\n",
       "      <td>CHE-01</td>\n",
       "      <td>CTRL</td>\n",
       "      <td>COPD</td>\n",
       "      <td>11</td>\n",
       "      <td>21_0395</td>\n",
       "      <td>3</td>\n",
       "    </tr>\n",
       "    <tr>\n",
       "      <th>3252159</th>\n",
       "      <td>male</td>\n",
       "      <td>54</td>\n",
       "      <td>CTRL</td>\n",
       "      <td>caucasian</td>\n",
       "      <td>76.8</td>\n",
       "      <td>CHE-01</td>\n",
       "      <td>CTRL</td>\n",
       "      <td>COPD</td>\n",
       "      <td>11</td>\n",
       "      <td>21_0395</td>\n",
       "      <td>3</td>\n",
       "    </tr>\n",
       "    <tr>\n",
       "      <th>3265577</th>\n",
       "      <td>male</td>\n",
       "      <td>54</td>\n",
       "      <td>CTRL</td>\n",
       "      <td>caucasian</td>\n",
       "      <td>76.8</td>\n",
       "      <td>CHE-01</td>\n",
       "      <td>CTRL</td>\n",
       "      <td>COPD</td>\n",
       "      <td>11</td>\n",
       "      <td>21_0395</td>\n",
       "      <td>3</td>\n",
       "    </tr>\n",
       "    <tr>\n",
       "      <th>1639363</th>\n",
       "      <td>male</td>\n",
       "      <td>54</td>\n",
       "      <td>CTRL</td>\n",
       "      <td>caucasian</td>\n",
       "      <td>76.8</td>\n",
       "      <td>CHE-01</td>\n",
       "      <td>CTRL</td>\n",
       "      <td>COPD</td>\n",
       "      <td>11</td>\n",
       "      <td>21_0395</td>\n",
       "      <td>3</td>\n",
       "    </tr>\n",
       "  </tbody>\n",
       "</table>\n",
       "</div>"
      ],
      "text/plain": [
       "             sex age condition  ethnicity PaCO2   donor infection disease SMK  \\\n",
       "Cell_Index                                                                      \n",
       "1210834     male  54      CTRL  caucasian  76.8  CHE-01      CTRL    COPD  11   \n",
       "1925451     male  54      CTRL  caucasian  76.8  CHE-01      CTRL    COPD  11   \n",
       "3252159     male  54      CTRL  caucasian  76.8  CHE-01      CTRL    COPD  11   \n",
       "3265577     male  54      CTRL  caucasian  76.8  CHE-01      CTRL    COPD  11   \n",
       "1639363     male  54      CTRL  caucasian  76.8  CHE-01      CTRL    COPD  11   \n",
       "\n",
       "           illumina_stimunr bd_rhapsody  \n",
       "Cell_Index                               \n",
       "1210834             21_0395           3  \n",
       "1925451             21_0395           3  \n",
       "3252159             21_0395           3  \n",
       "3265577             21_0395           3  \n",
       "1639363             21_0395           3  "
      ]
     },
     "execution_count": 8,
     "metadata": {},
     "output_type": "execute_result"
    }
   ],
   "source": [
    "adata_3.obs['sex'] = 'male'\n",
    "adata_3.obs['age'] = '54'\n",
    "adata_3.obs['condition'] = 'CTRL'\n",
    "adata_3.obs['ethnicity'] = 'caucasian'\n",
    "adata_3.obs['PaCO2'] = '76.8'\n",
    "adata_3.obs['donor'] = 'CHE-01'\n",
    "adata_3.obs['infection'] = 'CTRL'\n",
    "adata_3.obs['disease'] = 'COPD'\n",
    "adata_3.obs['SMK'] = '11'\n",
    "adata_3.obs['illumina_stimunr'] = '21_0395'\n",
    "adata_3.obs['bd_rhapsody'] = '3'\n",
    "adata_3.obs.head()"
   ]
  },
  {
   "cell_type": "code",
   "execution_count": 9,
   "metadata": {},
   "outputs": [
    {
     "name": "stderr",
     "output_type": "stream",
     "text": [
      "/Users/cartalop/mambaforge/envs/scanpy/lib/python3.9/site-packages/anndata/_core/anndata.py:121: ImplicitModificationWarning: Transforming to str index.\n",
      "  warnings.warn(\"Transforming to str index.\", ImplicitModificationWarning)\n"
     ]
    },
    {
     "data": {
      "text/plain": [
       "AnnData object with n_obs × n_vars = 3855 × 31521"
      ]
     },
     "execution_count": 9,
     "metadata": {},
     "output_type": "execute_result"
    }
   ],
   "source": [
    "BDr_4 = dt.fread(BDdata + 'Versuch_3/V3-newref_SampleTag12_hs_CHE01_IAV/V3-newref_SampleTag12_hs_CHE01_IAV_RSEC_ReadsPerCell.csv', header = True, skip_to_line = 8).to_pandas().T\n",
    "BDr_4.columns = BDr_4.iloc[0]\n",
    "BDr_4 = BDr_4.iloc[1:]\n",
    "adata_4 = sc.AnnData(BDr_4.T, dtype = 'int64')\n",
    "adata_4"
   ]
  },
  {
   "cell_type": "code",
   "execution_count": 10,
   "metadata": {},
   "outputs": [
    {
     "data": {
      "text/html": [
       "<div>\n",
       "<style scoped>\n",
       "    .dataframe tbody tr th:only-of-type {\n",
       "        vertical-align: middle;\n",
       "    }\n",
       "\n",
       "    .dataframe tbody tr th {\n",
       "        vertical-align: top;\n",
       "    }\n",
       "\n",
       "    .dataframe thead th {\n",
       "        text-align: right;\n",
       "    }\n",
       "</style>\n",
       "<table border=\"1\" class=\"dataframe\">\n",
       "  <thead>\n",
       "    <tr style=\"text-align: right;\">\n",
       "      <th></th>\n",
       "      <th>sex</th>\n",
       "      <th>age</th>\n",
       "      <th>condition</th>\n",
       "      <th>ethnicity</th>\n",
       "      <th>PaCO2</th>\n",
       "      <th>donor</th>\n",
       "      <th>infection</th>\n",
       "      <th>disease</th>\n",
       "      <th>SMK</th>\n",
       "      <th>illumina_stimunr</th>\n",
       "      <th>bd_rhapsody</th>\n",
       "    </tr>\n",
       "    <tr>\n",
       "      <th>Cell_Index</th>\n",
       "      <th></th>\n",
       "      <th></th>\n",
       "      <th></th>\n",
       "      <th></th>\n",
       "      <th></th>\n",
       "      <th></th>\n",
       "      <th></th>\n",
       "      <th></th>\n",
       "      <th></th>\n",
       "      <th></th>\n",
       "      <th></th>\n",
       "    </tr>\n",
       "  </thead>\n",
       "  <tbody>\n",
       "    <tr>\n",
       "      <th>4009769</th>\n",
       "      <td>male</td>\n",
       "      <td>54</td>\n",
       "      <td>IAV</td>\n",
       "      <td>caucasian</td>\n",
       "      <td>76.8</td>\n",
       "      <td>CHE-01</td>\n",
       "      <td>IAV</td>\n",
       "      <td>COPD</td>\n",
       "      <td>12</td>\n",
       "      <td>21_0395</td>\n",
       "      <td>3</td>\n",
       "    </tr>\n",
       "    <tr>\n",
       "      <th>3843114</th>\n",
       "      <td>male</td>\n",
       "      <td>54</td>\n",
       "      <td>IAV</td>\n",
       "      <td>caucasian</td>\n",
       "      <td>76.8</td>\n",
       "      <td>CHE-01</td>\n",
       "      <td>IAV</td>\n",
       "      <td>COPD</td>\n",
       "      <td>12</td>\n",
       "      <td>21_0395</td>\n",
       "      <td>3</td>\n",
       "    </tr>\n",
       "    <tr>\n",
       "      <th>12692370</th>\n",
       "      <td>male</td>\n",
       "      <td>54</td>\n",
       "      <td>IAV</td>\n",
       "      <td>caucasian</td>\n",
       "      <td>76.8</td>\n",
       "      <td>CHE-01</td>\n",
       "      <td>IAV</td>\n",
       "      <td>COPD</td>\n",
       "      <td>12</td>\n",
       "      <td>21_0395</td>\n",
       "      <td>3</td>\n",
       "    </tr>\n",
       "    <tr>\n",
       "      <th>6362154</th>\n",
       "      <td>male</td>\n",
       "      <td>54</td>\n",
       "      <td>IAV</td>\n",
       "      <td>caucasian</td>\n",
       "      <td>76.8</td>\n",
       "      <td>CHE-01</td>\n",
       "      <td>IAV</td>\n",
       "      <td>COPD</td>\n",
       "      <td>12</td>\n",
       "      <td>21_0395</td>\n",
       "      <td>3</td>\n",
       "    </tr>\n",
       "    <tr>\n",
       "      <th>7535640</th>\n",
       "      <td>male</td>\n",
       "      <td>54</td>\n",
       "      <td>IAV</td>\n",
       "      <td>caucasian</td>\n",
       "      <td>76.8</td>\n",
       "      <td>CHE-01</td>\n",
       "      <td>IAV</td>\n",
       "      <td>COPD</td>\n",
       "      <td>12</td>\n",
       "      <td>21_0395</td>\n",
       "      <td>3</td>\n",
       "    </tr>\n",
       "  </tbody>\n",
       "</table>\n",
       "</div>"
      ],
      "text/plain": [
       "             sex age condition  ethnicity PaCO2   donor infection disease SMK  \\\n",
       "Cell_Index                                                                      \n",
       "4009769     male  54       IAV  caucasian  76.8  CHE-01       IAV    COPD  12   \n",
       "3843114     male  54       IAV  caucasian  76.8  CHE-01       IAV    COPD  12   \n",
       "12692370    male  54       IAV  caucasian  76.8  CHE-01       IAV    COPD  12   \n",
       "6362154     male  54       IAV  caucasian  76.8  CHE-01       IAV    COPD  12   \n",
       "7535640     male  54       IAV  caucasian  76.8  CHE-01       IAV    COPD  12   \n",
       "\n",
       "           illumina_stimunr bd_rhapsody  \n",
       "Cell_Index                               \n",
       "4009769             21_0395           3  \n",
       "3843114             21_0395           3  \n",
       "12692370            21_0395           3  \n",
       "6362154             21_0395           3  \n",
       "7535640             21_0395           3  "
      ]
     },
     "execution_count": 10,
     "metadata": {},
     "output_type": "execute_result"
    }
   ],
   "source": [
    "adata_4.obs['sex'] = 'male'\n",
    "adata_4.obs['age'] = '54'\n",
    "adata_4.obs['condition'] = 'IAV'\n",
    "adata_4.obs['ethnicity'] = 'caucasian'\n",
    "adata_4.obs['PaCO2'] = '76.8'\n",
    "adata_4.obs['donor'] = 'CHE-01'\n",
    "adata_4.obs['infection'] = 'IAV'\n",
    "adata_4.obs['disease'] = 'COPD'\n",
    "adata_4.obs['SMK'] = '12'\n",
    "adata_4.obs['illumina_stimunr'] = '21_0395'\n",
    "adata_4.obs['bd_rhapsody'] = '3'\n",
    "adata_4.obs.head()"
   ]
  },
  {
   "cell_type": "markdown",
   "metadata": {},
   "source": [
    "### Save individual objects"
   ]
  },
  {
   "cell_type": "code",
   "execution_count": 11,
   "metadata": {},
   "outputs": [],
   "source": [
    "adata_1.write('/Volumes/A7V/nobackup/raw_data/single_cell/COPD_IAV/sevenbridges_raw/grch38-iav/Versuch_3/Versuch_3_grch38-iav_GER14_CRTL_GEX.h5ad')\n",
    "adata_2.write('/Volumes/A7V/nobackup/raw_data/single_cell/COPD_IAV/sevenbridges_raw/grch38-iav/Versuch_3/Versuch_3_grch38-iav_GER14_IAV_GEX.h5ad')\n",
    "adata_3.write('/Volumes/A7V/nobackup/raw_data/single_cell/COPD_IAV/sevenbridges_raw/grch38-iav/Versuch_3/Versuch_3_grch38-iav_CHE01_CTRL_GEX.h5ad')\n",
    "adata_4.write('/Volumes/A7V/nobackup/raw_data/single_cell/COPD_IAV/sevenbridges_raw/grch38-iav/Versuch_3/Versuch_3_grch38-iav_CHE01_IAV_GEX.h5ad')"
   ]
  },
  {
   "cell_type": "code",
   "execution_count": 12,
   "metadata": {},
   "outputs": [
    {
     "data": {
      "text/plain": [
       "array([[ 0,  0,  0, ..., 35,  0,  0],\n",
       "       [ 0,  0,  0, ..., 28,  0,  0],\n",
       "       [ 0,  0,  0, ...,  2,  4,  0],\n",
       "       ...,\n",
       "       [ 0,  0,  0, ...,  4,  0,  0],\n",
       "       [ 0,  0,  0, ...,  7,  0,  0],\n",
       "       [ 0,  0,  0, ...,  1,  0,  0]])"
      ]
     },
     "execution_count": 12,
     "metadata": {},
     "output_type": "execute_result"
    }
   ],
   "source": [
    "adata_1.X"
   ]
  },
  {
   "cell_type": "code",
   "execution_count": null,
   "metadata": {},
   "outputs": [],
   "source": []
  }
 ],
 "metadata": {
  "kernelspec": {
   "display_name": "Python 3.9.7 ('base')",
   "language": "python",
   "name": "python3"
  },
  "language_info": {
   "codemirror_mode": {
    "name": "ipython",
    "version": 3
   },
   "file_extension": ".py",
   "mimetype": "text/x-python",
   "name": "python",
   "nbconvert_exporter": "python",
   "pygments_lexer": "ipython3",
   "version": "3.9.16"
  },
  "orig_nbformat": 4,
  "vscode": {
   "interpreter": {
    "hash": "ed18ba783afa68584f89c0e1dc87cd5f0dbea19d03cc696bd28b7f836af058ef"
   }
  }
 },
 "nbformat": 4,
 "nbformat_minor": 2
}
